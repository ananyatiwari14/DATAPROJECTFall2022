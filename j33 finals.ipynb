{
 "cells": [
  {
   "cell_type": "code",
   "execution_count": 1,
   "metadata": {},
   "outputs": [],
   "source": [
    "import pandas as pd\n",
    "import numpy as np\n",
    "import altair as alt\n",
    "import matplotlib as plt"
   ]
  },
  {
   "cell_type": "code",
   "execution_count": 2,
   "metadata": {},
   "outputs": [
    {
     "data": {
      "text/plain": [
       "RendererRegistry.enable('mimetype')"
      ]
     },
     "execution_count": 2,
     "metadata": {},
     "output_type": "execute_result"
    }
   ],
   "source": [
    "alt.renderers.enable('mimetype')"
   ]
  },
  {
   "cell_type": "code",
   "execution_count": 3,
   "metadata": {},
   "outputs": [],
   "source": [
    "df = pd.read_csv('/Users/ananyatiwari/Desktop/India Agriculture Crop Production.csv')"
   ]
  },
  {
   "cell_type": "code",
   "execution_count": 4,
   "metadata": {},
   "outputs": [],
   "source": [
    "df.to_csv('Agricultural production since 1997 in India') ## To "
   ]
  },
  {
   "cell_type": "markdown",
   "metadata": {},
   "source": [
    "After discussing the other datasets with you during office hours, I realized that I should try to find data from more legitimate sources. Unfortunately, I was unsuccessful in reaching the US Foreign Agricultural Service for data. However, I found a great Indian government data website where I was able to find a great dataset which was similar to what I found on Kaggle. \n",
    "\n",
    "This dataset is available here: https://aps.dac.gov.in/APY/Public_Report1.aspx\n",
    "\n",
    "I had to go on the Ministry of Agriculture and Farmers Welfare website and in particular, here: https://aps.dac.gov.in/Home.aspx?ReturnUrl=%2f where I chose APY. This led me to this page -https://aps.dac.gov.in/APY/Index.htm where I chose District wise crop production statistics. And then I could generate my report from these selections - https://aps.dac.gov.in/APY/Public_Report1.aspx . I chose to check all the boxes in every field. \n",
    "\n",
    "It was downloaded as an Excel file. "
   ]
  },
  {
   "cell_type": "code",
   "execution_count": 5,
   "metadata": {},
   "outputs": [
    {
     "name": "stdout",
     "output_type": "stream",
     "text": [
      "<class 'pandas.core.frame.DataFrame'>\n",
      "RangeIndex: 344208 entries, 0 to 344207\n",
      "Data columns (total 11 columns):\n",
      " #   Column            Non-Null Count   Dtype  \n",
      "---  ------            --------------   -----  \n",
      " 0   Unnamed: 0        344208 non-null  int64  \n",
      " 1   State             344208 non-null  object \n",
      " 2   District          344208 non-null  object \n",
      " 3   Crop              344099 non-null  object \n",
      " 4   Year              344208 non-null  object \n",
      " 5   Season            344208 non-null  object \n",
      " 6   Area              344099 non-null  float64\n",
      " 7   Area Units        344208 non-null  object \n",
      " 8   Production        339187 non-null  float64\n",
      " 9   Production Units  344208 non-null  object \n",
      " 10  Yield             344099 non-null  float64\n",
      "dtypes: float64(3), int64(1), object(7)\n",
      "memory usage: 28.9+ MB\n"
     ]
    }
   ],
   "source": [
    "df.info()"
   ]
  },
  {
   "cell_type": "code",
   "execution_count": 6,
   "metadata": {},
   "outputs": [],
   "source": [
    "del df['Unnamed: 0']"
   ]
  },
  {
   "cell_type": "code",
   "execution_count": 7,
   "metadata": {},
   "outputs": [
    {
     "data": {
      "text/html": [
       "<div>\n",
       "<style scoped>\n",
       "    .dataframe tbody tr th:only-of-type {\n",
       "        vertical-align: middle;\n",
       "    }\n",
       "\n",
       "    .dataframe tbody tr th {\n",
       "        vertical-align: top;\n",
       "    }\n",
       "\n",
       "    .dataframe thead th {\n",
       "        text-align: right;\n",
       "    }\n",
       "</style>\n",
       "<table border=\"1\" class=\"dataframe\">\n",
       "  <thead>\n",
       "    <tr style=\"text-align: right;\">\n",
       "      <th></th>\n",
       "      <th>State</th>\n",
       "      <th>District</th>\n",
       "      <th>Crop</th>\n",
       "      <th>Year</th>\n",
       "      <th>Season</th>\n",
       "      <th>Area</th>\n",
       "      <th>Area Units</th>\n",
       "      <th>Production</th>\n",
       "      <th>Production Units</th>\n",
       "      <th>Yield</th>\n",
       "    </tr>\n",
       "  </thead>\n",
       "  <tbody>\n",
       "    <tr>\n",
       "      <th>0</th>\n",
       "      <td>Andaman and Nicobar Islands</td>\n",
       "      <td>NICOBARS</td>\n",
       "      <td>Arecanut</td>\n",
       "      <td>2001-02</td>\n",
       "      <td>Kharif</td>\n",
       "      <td>1254.0</td>\n",
       "      <td>Hectare</td>\n",
       "      <td>2061.0</td>\n",
       "      <td>Tonnes</td>\n",
       "      <td>1.643541</td>\n",
       "    </tr>\n",
       "    <tr>\n",
       "      <th>1</th>\n",
       "      <td>Andaman and Nicobar Islands</td>\n",
       "      <td>NICOBARS</td>\n",
       "      <td>Arecanut</td>\n",
       "      <td>2002-03</td>\n",
       "      <td>Whole Year</td>\n",
       "      <td>1258.0</td>\n",
       "      <td>Hectare</td>\n",
       "      <td>2083.0</td>\n",
       "      <td>Tonnes</td>\n",
       "      <td>1.655803</td>\n",
       "    </tr>\n",
       "    <tr>\n",
       "      <th>2</th>\n",
       "      <td>Andaman and Nicobar Islands</td>\n",
       "      <td>NICOBARS</td>\n",
       "      <td>Arecanut</td>\n",
       "      <td>2003-04</td>\n",
       "      <td>Whole Year</td>\n",
       "      <td>1261.0</td>\n",
       "      <td>Hectare</td>\n",
       "      <td>1525.0</td>\n",
       "      <td>Tonnes</td>\n",
       "      <td>1.209358</td>\n",
       "    </tr>\n",
       "    <tr>\n",
       "      <th>3</th>\n",
       "      <td>Andaman and Nicobar Islands</td>\n",
       "      <td>NORTH AND MIDDLE ANDAMAN</td>\n",
       "      <td>Arecanut</td>\n",
       "      <td>2001-02</td>\n",
       "      <td>Kharif</td>\n",
       "      <td>3100.0</td>\n",
       "      <td>Hectare</td>\n",
       "      <td>5239.0</td>\n",
       "      <td>Tonnes</td>\n",
       "      <td>1.690000</td>\n",
       "    </tr>\n",
       "    <tr>\n",
       "      <th>4</th>\n",
       "      <td>Andaman and Nicobar Islands</td>\n",
       "      <td>SOUTH ANDAMANS</td>\n",
       "      <td>Arecanut</td>\n",
       "      <td>2002-03</td>\n",
       "      <td>Whole Year</td>\n",
       "      <td>3105.0</td>\n",
       "      <td>Hectare</td>\n",
       "      <td>5267.0</td>\n",
       "      <td>Tonnes</td>\n",
       "      <td>1.696296</td>\n",
       "    </tr>\n",
       "    <tr>\n",
       "      <th>5</th>\n",
       "      <td>Andaman and Nicobar Islands</td>\n",
       "      <td>SOUTH ANDAMANS</td>\n",
       "      <td>Arecanut</td>\n",
       "      <td>2003-04</td>\n",
       "      <td>Whole Year</td>\n",
       "      <td>3118.0</td>\n",
       "      <td>Hectare</td>\n",
       "      <td>5182.0</td>\n",
       "      <td>Tonnes</td>\n",
       "      <td>1.661963</td>\n",
       "    </tr>\n",
       "    <tr>\n",
       "      <th>6</th>\n",
       "      <td>Andaman and Nicobar Islands</td>\n",
       "      <td>NICOBARS</td>\n",
       "      <td>Banana</td>\n",
       "      <td>2002-03</td>\n",
       "      <td>Whole Year</td>\n",
       "      <td>213.0</td>\n",
       "      <td>Hectare</td>\n",
       "      <td>1278.0</td>\n",
       "      <td>Tonnes</td>\n",
       "      <td>6.000000</td>\n",
       "    </tr>\n",
       "    <tr>\n",
       "      <th>7</th>\n",
       "      <td>Andaman and Nicobar Islands</td>\n",
       "      <td>NICOBARS</td>\n",
       "      <td>Banana</td>\n",
       "      <td>2003-04</td>\n",
       "      <td>Whole Year</td>\n",
       "      <td>266.0</td>\n",
       "      <td>Hectare</td>\n",
       "      <td>1763.0</td>\n",
       "      <td>Tonnes</td>\n",
       "      <td>6.627820</td>\n",
       "    </tr>\n",
       "    <tr>\n",
       "      <th>8</th>\n",
       "      <td>Andaman and Nicobar Islands</td>\n",
       "      <td>SOUTH ANDAMANS</td>\n",
       "      <td>Banana</td>\n",
       "      <td>2002-03</td>\n",
       "      <td>Whole Year</td>\n",
       "      <td>1524.0</td>\n",
       "      <td>Hectare</td>\n",
       "      <td>10882.0</td>\n",
       "      <td>Tonnes</td>\n",
       "      <td>7.140420</td>\n",
       "    </tr>\n",
       "    <tr>\n",
       "      <th>9</th>\n",
       "      <td>Andaman and Nicobar Islands</td>\n",
       "      <td>SOUTH ANDAMANS</td>\n",
       "      <td>Banana</td>\n",
       "      <td>2003-04</td>\n",
       "      <td>Whole Year</td>\n",
       "      <td>1530.0</td>\n",
       "      <td>Hectare</td>\n",
       "      <td>11558.0</td>\n",
       "      <td>Tonnes</td>\n",
       "      <td>7.554248</td>\n",
       "    </tr>\n",
       "  </tbody>\n",
       "</table>\n",
       "</div>"
      ],
      "text/plain": [
       "                         State                  District      Crop     Year  \\\n",
       "0  Andaman and Nicobar Islands                  NICOBARS  Arecanut  2001-02   \n",
       "1  Andaman and Nicobar Islands                  NICOBARS  Arecanut  2002-03   \n",
       "2  Andaman and Nicobar Islands                  NICOBARS  Arecanut  2003-04   \n",
       "3  Andaman and Nicobar Islands  NORTH AND MIDDLE ANDAMAN  Arecanut  2001-02   \n",
       "4  Andaman and Nicobar Islands            SOUTH ANDAMANS  Arecanut  2002-03   \n",
       "5  Andaman and Nicobar Islands            SOUTH ANDAMANS  Arecanut  2003-04   \n",
       "6  Andaman and Nicobar Islands                  NICOBARS    Banana  2002-03   \n",
       "7  Andaman and Nicobar Islands                  NICOBARS    Banana  2003-04   \n",
       "8  Andaman and Nicobar Islands            SOUTH ANDAMANS    Banana  2002-03   \n",
       "9  Andaman and Nicobar Islands            SOUTH ANDAMANS    Banana  2003-04   \n",
       "\n",
       "       Season    Area Area Units  Production Production Units     Yield  \n",
       "0      Kharif  1254.0    Hectare      2061.0           Tonnes  1.643541  \n",
       "1  Whole Year  1258.0    Hectare      2083.0           Tonnes  1.655803  \n",
       "2  Whole Year  1261.0    Hectare      1525.0           Tonnes  1.209358  \n",
       "3      Kharif  3100.0    Hectare      5239.0           Tonnes  1.690000  \n",
       "4  Whole Year  3105.0    Hectare      5267.0           Tonnes  1.696296  \n",
       "5  Whole Year  3118.0    Hectare      5182.0           Tonnes  1.661963  \n",
       "6  Whole Year   213.0    Hectare      1278.0           Tonnes  6.000000  \n",
       "7  Whole Year   266.0    Hectare      1763.0           Tonnes  6.627820  \n",
       "8  Whole Year  1524.0    Hectare     10882.0           Tonnes  7.140420  \n",
       "9  Whole Year  1530.0    Hectare     11558.0           Tonnes  7.554248  "
      ]
     },
     "execution_count": 7,
     "metadata": {},
     "output_type": "execute_result"
    }
   ],
   "source": [
    "df.head(10)"
   ]
  },
  {
   "cell_type": "markdown",
   "metadata": {},
   "source": [
    "This dataset has detailed information on the various districts in each state and union territory, and the crop production for various seasons. Rabi is the winter season, and kharif is the summer season. Rabi crops are sown in the winter around November, and harvested in the spring. Kharif crops are sown in the summer around May and harvested in autumn in around October/November. For my purposes, I will choose to stick to these two seasons as they are the main cropping seasons. \n",
    "\n",
    "Since I am interested in how the crop production of various yields has progressed over time, I will choose specific states-districts for my analysis. This is because in India certain areas are more vulnerable to climatic stresses or unpredictable weather than other places. I am still doing my research on which areas are more prone to such changes. But, I will use this dataset to see if there are some irregular patterns in certain crops/fruits too. It will be a repetitive process of selecting various kinds of datasets and creating line charts to see the trends over the decades from 1997-2020."
   ]
  },
  {
   "cell_type": "markdown",
   "metadata": {},
   "source": [
    "I noticed that the year column is formatted in YYYY-YY and I wish to make it simpler, into a YYYY format. This will help later in the data vizualizations. I will convert the column to string dtype, and strip it. "
   ]
  },
  {
   "cell_type": "code",
   "execution_count": 8,
   "metadata": {},
   "outputs": [
    {
     "name": "stdout",
     "output_type": "stream",
     "text": [
      "State                object\n",
      "District             object\n",
      "Crop                 object\n",
      "Year                 string\n",
      "Season               object\n",
      "Area                float64\n",
      "Area Units           object\n",
      "Production          float64\n",
      "Production Units     object\n",
      "Yield               float64\n",
      "dtype: object\n"
     ]
    }
   ],
   "source": [
    "df[\"Year\"]=df[\"Year\"].astype('string')\n",
    "print(df.dtypes)"
   ]
  },
  {
   "cell_type": "code",
   "execution_count": 9,
   "metadata": {},
   "outputs": [
    {
     "data": {
      "text/html": [
       "<div>\n",
       "<style scoped>\n",
       "    .dataframe tbody tr th:only-of-type {\n",
       "        vertical-align: middle;\n",
       "    }\n",
       "\n",
       "    .dataframe tbody tr th {\n",
       "        vertical-align: top;\n",
       "    }\n",
       "\n",
       "    .dataframe thead th {\n",
       "        text-align: right;\n",
       "    }\n",
       "</style>\n",
       "<table border=\"1\" class=\"dataframe\">\n",
       "  <thead>\n",
       "    <tr style=\"text-align: right;\">\n",
       "      <th></th>\n",
       "      <th>State</th>\n",
       "      <th>District</th>\n",
       "      <th>Crop</th>\n",
       "      <th>Year</th>\n",
       "      <th>Season</th>\n",
       "      <th>Area</th>\n",
       "      <th>Area Units</th>\n",
       "      <th>Production</th>\n",
       "      <th>Production Units</th>\n",
       "      <th>Yield</th>\n",
       "    </tr>\n",
       "  </thead>\n",
       "  <tbody>\n",
       "    <tr>\n",
       "      <th>0</th>\n",
       "      <td>Andaman and Nicobar Islands</td>\n",
       "      <td>NICOBARS</td>\n",
       "      <td>Arecanut</td>\n",
       "      <td>2001</td>\n",
       "      <td>Kharif</td>\n",
       "      <td>1254.0</td>\n",
       "      <td>Hectare</td>\n",
       "      <td>2061.0</td>\n",
       "      <td>Tonnes</td>\n",
       "      <td>1.643541</td>\n",
       "    </tr>\n",
       "    <tr>\n",
       "      <th>1</th>\n",
       "      <td>Andaman and Nicobar Islands</td>\n",
       "      <td>NICOBARS</td>\n",
       "      <td>Arecanut</td>\n",
       "      <td>2002</td>\n",
       "      <td>Whole Year</td>\n",
       "      <td>1258.0</td>\n",
       "      <td>Hectare</td>\n",
       "      <td>2083.0</td>\n",
       "      <td>Tonnes</td>\n",
       "      <td>1.655803</td>\n",
       "    </tr>\n",
       "    <tr>\n",
       "      <th>2</th>\n",
       "      <td>Andaman and Nicobar Islands</td>\n",
       "      <td>NICOBARS</td>\n",
       "      <td>Arecanut</td>\n",
       "      <td>2003</td>\n",
       "      <td>Whole Year</td>\n",
       "      <td>1261.0</td>\n",
       "      <td>Hectare</td>\n",
       "      <td>1525.0</td>\n",
       "      <td>Tonnes</td>\n",
       "      <td>1.209358</td>\n",
       "    </tr>\n",
       "    <tr>\n",
       "      <th>3</th>\n",
       "      <td>Andaman and Nicobar Islands</td>\n",
       "      <td>NORTH AND MIDDLE ANDAMAN</td>\n",
       "      <td>Arecanut</td>\n",
       "      <td>2001</td>\n",
       "      <td>Kharif</td>\n",
       "      <td>3100.0</td>\n",
       "      <td>Hectare</td>\n",
       "      <td>5239.0</td>\n",
       "      <td>Tonnes</td>\n",
       "      <td>1.690000</td>\n",
       "    </tr>\n",
       "    <tr>\n",
       "      <th>4</th>\n",
       "      <td>Andaman and Nicobar Islands</td>\n",
       "      <td>SOUTH ANDAMANS</td>\n",
       "      <td>Arecanut</td>\n",
       "      <td>2002</td>\n",
       "      <td>Whole Year</td>\n",
       "      <td>3105.0</td>\n",
       "      <td>Hectare</td>\n",
       "      <td>5267.0</td>\n",
       "      <td>Tonnes</td>\n",
       "      <td>1.696296</td>\n",
       "    </tr>\n",
       "    <tr>\n",
       "      <th>5</th>\n",
       "      <td>Andaman and Nicobar Islands</td>\n",
       "      <td>SOUTH ANDAMANS</td>\n",
       "      <td>Arecanut</td>\n",
       "      <td>2003</td>\n",
       "      <td>Whole Year</td>\n",
       "      <td>3118.0</td>\n",
       "      <td>Hectare</td>\n",
       "      <td>5182.0</td>\n",
       "      <td>Tonnes</td>\n",
       "      <td>1.661963</td>\n",
       "    </tr>\n",
       "    <tr>\n",
       "      <th>6</th>\n",
       "      <td>Andaman and Nicobar Islands</td>\n",
       "      <td>NICOBARS</td>\n",
       "      <td>Banana</td>\n",
       "      <td>2002</td>\n",
       "      <td>Whole Year</td>\n",
       "      <td>213.0</td>\n",
       "      <td>Hectare</td>\n",
       "      <td>1278.0</td>\n",
       "      <td>Tonnes</td>\n",
       "      <td>6.000000</td>\n",
       "    </tr>\n",
       "    <tr>\n",
       "      <th>7</th>\n",
       "      <td>Andaman and Nicobar Islands</td>\n",
       "      <td>NICOBARS</td>\n",
       "      <td>Banana</td>\n",
       "      <td>2003</td>\n",
       "      <td>Whole Year</td>\n",
       "      <td>266.0</td>\n",
       "      <td>Hectare</td>\n",
       "      <td>1763.0</td>\n",
       "      <td>Tonnes</td>\n",
       "      <td>6.627820</td>\n",
       "    </tr>\n",
       "    <tr>\n",
       "      <th>8</th>\n",
       "      <td>Andaman and Nicobar Islands</td>\n",
       "      <td>SOUTH ANDAMANS</td>\n",
       "      <td>Banana</td>\n",
       "      <td>2002</td>\n",
       "      <td>Whole Year</td>\n",
       "      <td>1524.0</td>\n",
       "      <td>Hectare</td>\n",
       "      <td>10882.0</td>\n",
       "      <td>Tonnes</td>\n",
       "      <td>7.140420</td>\n",
       "    </tr>\n",
       "    <tr>\n",
       "      <th>9</th>\n",
       "      <td>Andaman and Nicobar Islands</td>\n",
       "      <td>SOUTH ANDAMANS</td>\n",
       "      <td>Banana</td>\n",
       "      <td>2003</td>\n",
       "      <td>Whole Year</td>\n",
       "      <td>1530.0</td>\n",
       "      <td>Hectare</td>\n",
       "      <td>11558.0</td>\n",
       "      <td>Tonnes</td>\n",
       "      <td>7.554248</td>\n",
       "    </tr>\n",
       "  </tbody>\n",
       "</table>\n",
       "</div>"
      ],
      "text/plain": [
       "                         State                  District      Crop  Year  \\\n",
       "0  Andaman and Nicobar Islands                  NICOBARS  Arecanut  2001   \n",
       "1  Andaman and Nicobar Islands                  NICOBARS  Arecanut  2002   \n",
       "2  Andaman and Nicobar Islands                  NICOBARS  Arecanut  2003   \n",
       "3  Andaman and Nicobar Islands  NORTH AND MIDDLE ANDAMAN  Arecanut  2001   \n",
       "4  Andaman and Nicobar Islands            SOUTH ANDAMANS  Arecanut  2002   \n",
       "5  Andaman and Nicobar Islands            SOUTH ANDAMANS  Arecanut  2003   \n",
       "6  Andaman and Nicobar Islands                  NICOBARS    Banana  2002   \n",
       "7  Andaman and Nicobar Islands                  NICOBARS    Banana  2003   \n",
       "8  Andaman and Nicobar Islands            SOUTH ANDAMANS    Banana  2002   \n",
       "9  Andaman and Nicobar Islands            SOUTH ANDAMANS    Banana  2003   \n",
       "\n",
       "       Season    Area Area Units  Production Production Units     Yield  \n",
       "0      Kharif  1254.0    Hectare      2061.0           Tonnes  1.643541  \n",
       "1  Whole Year  1258.0    Hectare      2083.0           Tonnes  1.655803  \n",
       "2  Whole Year  1261.0    Hectare      1525.0           Tonnes  1.209358  \n",
       "3      Kharif  3100.0    Hectare      5239.0           Tonnes  1.690000  \n",
       "4  Whole Year  3105.0    Hectare      5267.0           Tonnes  1.696296  \n",
       "5  Whole Year  3118.0    Hectare      5182.0           Tonnes  1.661963  \n",
       "6  Whole Year   213.0    Hectare      1278.0           Tonnes  6.000000  \n",
       "7  Whole Year   266.0    Hectare      1763.0           Tonnes  6.627820  \n",
       "8  Whole Year  1524.0    Hectare     10882.0           Tonnes  7.140420  \n",
       "9  Whole Year  1530.0    Hectare     11558.0           Tonnes  7.554248  "
      ]
     },
     "execution_count": 9,
     "metadata": {},
     "output_type": "execute_result"
    }
   ],
   "source": [
    "\n",
    "df['Year'] = df['Year'].str[:4]\n",
    "df.head(10)"
   ]
  },
  {
   "cell_type": "code",
   "execution_count": 10,
   "metadata": {},
   "outputs": [
    {
     "name": "stdout",
     "output_type": "stream",
     "text": [
      "State                object\n",
      "District             object\n",
      "Crop                 object\n",
      "Year                  int64\n",
      "Season               object\n",
      "Area                float64\n",
      "Area Units           object\n",
      "Production          float64\n",
      "Production Units     object\n",
      "Yield               float64\n",
      "dtype: object\n"
     ]
    }
   ],
   "source": [
    "df[\"Year\"]=df[\"Year\"].astype('int')\n",
    "print(df.dtypes)"
   ]
  },
  {
   "cell_type": "code",
   "execution_count": 11,
   "metadata": {},
   "outputs": [
    {
     "data": {
      "text/html": [
       "<div>\n",
       "<style scoped>\n",
       "    .dataframe tbody tr th:only-of-type {\n",
       "        vertical-align: middle;\n",
       "    }\n",
       "\n",
       "    .dataframe tbody tr th {\n",
       "        vertical-align: top;\n",
       "    }\n",
       "\n",
       "    .dataframe thead th {\n",
       "        text-align: right;\n",
       "    }\n",
       "</style>\n",
       "<table border=\"1\" class=\"dataframe\">\n",
       "  <thead>\n",
       "    <tr style=\"text-align: right;\">\n",
       "      <th></th>\n",
       "      <th>State</th>\n",
       "      <th>District</th>\n",
       "      <th>Crop</th>\n",
       "      <th>Year</th>\n",
       "      <th>Season</th>\n",
       "      <th>Area</th>\n",
       "      <th>Area Units</th>\n",
       "      <th>Production</th>\n",
       "      <th>Production Units</th>\n",
       "      <th>Yield</th>\n",
       "    </tr>\n",
       "  </thead>\n",
       "  <tbody>\n",
       "    <tr>\n",
       "      <th>0</th>\n",
       "      <td>Andaman and Nicobar Islands</td>\n",
       "      <td>NICOBARS</td>\n",
       "      <td>Arecanut</td>\n",
       "      <td>2001</td>\n",
       "      <td>Kharif</td>\n",
       "      <td>1254.0</td>\n",
       "      <td>Hectare</td>\n",
       "      <td>2061.0</td>\n",
       "      <td>Tonnes</td>\n",
       "      <td>1.643541</td>\n",
       "    </tr>\n",
       "    <tr>\n",
       "      <th>1</th>\n",
       "      <td>Andaman and Nicobar Islands</td>\n",
       "      <td>NICOBARS</td>\n",
       "      <td>Arecanut</td>\n",
       "      <td>2002</td>\n",
       "      <td>Whole Year</td>\n",
       "      <td>1258.0</td>\n",
       "      <td>Hectare</td>\n",
       "      <td>2083.0</td>\n",
       "      <td>Tonnes</td>\n",
       "      <td>1.655803</td>\n",
       "    </tr>\n",
       "    <tr>\n",
       "      <th>2</th>\n",
       "      <td>Andaman and Nicobar Islands</td>\n",
       "      <td>NICOBARS</td>\n",
       "      <td>Arecanut</td>\n",
       "      <td>2003</td>\n",
       "      <td>Whole Year</td>\n",
       "      <td>1261.0</td>\n",
       "      <td>Hectare</td>\n",
       "      <td>1525.0</td>\n",
       "      <td>Tonnes</td>\n",
       "      <td>1.209358</td>\n",
       "    </tr>\n",
       "    <tr>\n",
       "      <th>3</th>\n",
       "      <td>Andaman and Nicobar Islands</td>\n",
       "      <td>NORTH AND MIDDLE ANDAMAN</td>\n",
       "      <td>Arecanut</td>\n",
       "      <td>2001</td>\n",
       "      <td>Kharif</td>\n",
       "      <td>3100.0</td>\n",
       "      <td>Hectare</td>\n",
       "      <td>5239.0</td>\n",
       "      <td>Tonnes</td>\n",
       "      <td>1.690000</td>\n",
       "    </tr>\n",
       "    <tr>\n",
       "      <th>4</th>\n",
       "      <td>Andaman and Nicobar Islands</td>\n",
       "      <td>SOUTH ANDAMANS</td>\n",
       "      <td>Arecanut</td>\n",
       "      <td>2002</td>\n",
       "      <td>Whole Year</td>\n",
       "      <td>3105.0</td>\n",
       "      <td>Hectare</td>\n",
       "      <td>5267.0</td>\n",
       "      <td>Tonnes</td>\n",
       "      <td>1.696296</td>\n",
       "    </tr>\n",
       "  </tbody>\n",
       "</table>\n",
       "</div>"
      ],
      "text/plain": [
       "                         State                  District      Crop  Year  \\\n",
       "0  Andaman and Nicobar Islands                  NICOBARS  Arecanut  2001   \n",
       "1  Andaman and Nicobar Islands                  NICOBARS  Arecanut  2002   \n",
       "2  Andaman and Nicobar Islands                  NICOBARS  Arecanut  2003   \n",
       "3  Andaman and Nicobar Islands  NORTH AND MIDDLE ANDAMAN  Arecanut  2001   \n",
       "4  Andaman and Nicobar Islands            SOUTH ANDAMANS  Arecanut  2002   \n",
       "\n",
       "       Season    Area Area Units  Production Production Units     Yield  \n",
       "0      Kharif  1254.0    Hectare      2061.0           Tonnes  1.643541  \n",
       "1  Whole Year  1258.0    Hectare      2083.0           Tonnes  1.655803  \n",
       "2  Whole Year  1261.0    Hectare      1525.0           Tonnes  1.209358  \n",
       "3      Kharif  3100.0    Hectare      5239.0           Tonnes  1.690000  \n",
       "4  Whole Year  3105.0    Hectare      5267.0           Tonnes  1.696296  "
      ]
     },
     "execution_count": 11,
     "metadata": {},
     "output_type": "execute_result"
    }
   ],
   "source": [
    "df.head(5)"
   ]
  },
  {
   "cell_type": "code",
   "execution_count": 12,
   "metadata": {},
   "outputs": [
    {
     "data": {
      "text/plain": [
       "array(['Arecanut', 'Banana', 'Black pepper', 'Cashewnut', 'Coconut',\n",
       "       'Dry chillies', 'Ginger', 'Other Kharif pulses', 'other oilseeds',\n",
       "       'Rice', 'Sugarcane', 'Sweet potato', 'Arhar/Tur', 'Bajra',\n",
       "       'Castor seed', 'Coriander', 'Cotton(lint)', 'Gram', 'Groundnut',\n",
       "       'Horse-gram', 'Jowar', 'Linseed', 'Maize', 'Mesta',\n",
       "       'Moong(Green Gram)', 'Niger seed', 'Onion', 'Other Rabi pulses',\n",
       "       'Potato', 'Ragi', 'Rapeseed &Mustard', 'Safflower', 'Sesamum',\n",
       "       'Small millets', 'Soyabean', 'Sunflower', 'Tapioca', 'Tobacco',\n",
       "       'Turmeric', 'Urad', 'Wheat', 'Oilseeds total', 'Jute', 'Masoor',\n",
       "       'Peas & beans (Pulses)', 'Barley', 'Garlic', 'Khesari', 'Sannhamp',\n",
       "       'Guar seed', 'Moth', 'Cardamom', 'Other Cereals', 'Cowpea(Lobia)',\n",
       "       'Dry Ginger', 'Other Summer Pulses', nan], dtype=object)"
      ]
     },
     "execution_count": 12,
     "metadata": {},
     "output_type": "execute_result"
    }
   ],
   "source": [
    "df.Crop.unique()"
   ]
  },
  {
   "cell_type": "markdown",
   "metadata": {},
   "source": [
    "Right now, I am exploring the dataset so that I can see which crops, states, districts, etc, are in it. Above, is a list of the crops whose production values across different states is being calculated. "
   ]
  },
  {
   "cell_type": "code",
   "execution_count": 13,
   "metadata": {},
   "outputs": [
    {
     "data": {
      "text/plain": [
       "array(['Kharif', 'Whole Year', 'Rabi', 'Autumn', 'Summer', 'Winter'],\n",
       "      dtype=object)"
      ]
     },
     "execution_count": 13,
     "metadata": {},
     "output_type": "execute_result"
    }
   ],
   "source": [
    "df.Season.unique() "
   ]
  },
  {
   "cell_type": "markdown",
   "metadata": {},
   "source": [
    "Here I am seeing six seasons, and I know that many of them overlap with each other. Kharif season runs from May-September/October, and the Rabi season begins from November to April/May. These two seasons tend to incorporate the Summer and Winter seasons. I will use these two seasons for my analysis. "
   ]
  },
  {
   "cell_type": "markdown",
   "metadata": {},
   "source": [
    "When it comes to the states, I would need to know which ones since I want to explore this dataset state-wise, and not crop-wise, for more precise patterns. "
   ]
  },
  {
   "cell_type": "code",
   "execution_count": 14,
   "metadata": {},
   "outputs": [
    {
     "data": {
      "text/plain": [
       "array(['Andaman and Nicobar Islands', 'Andhra Pradesh',\n",
       "       'Arunachal Pradesh', 'Assam', 'Bihar', 'Chandigarh',\n",
       "       'Chhattisgarh', 'Dadra and Nagar Haveli', 'Daman and Diu', 'Delhi',\n",
       "       'Goa', 'Gujarat', 'Haryana', 'Himachal Pradesh',\n",
       "       'Jammu and Kashmir', 'Jharkhand', 'Karnataka', 'Kerala',\n",
       "       'Madhya Pradesh', 'Maharashtra', 'Manipur', 'Meghalaya', 'Mizoram',\n",
       "       'Nagaland', 'Odisha', 'Puducherry', 'Punjab', 'Rajasthan',\n",
       "       'Sikkim', 'Tamil Nadu', 'Tripura', 'Uttar Pradesh', 'Uttarakhand',\n",
       "       'West Bengal', 'Telangana'], dtype=object)"
      ]
     },
     "execution_count": 14,
     "metadata": {},
     "output_type": "execute_result"
    }
   ],
   "source": [
    "df.State.unique() "
   ]
  },
  {
   "cell_type": "markdown",
   "metadata": {},
   "source": [
    "Each state has its districts, which are usually but not always, predominated by one or two crop types. For example, West Bengal is known for being a major cultivator of rice. However, rice is grown all over India also, such as in the states of Punjab, and others.In my exploration of this dataset (which I discussed with you during office hours) I had already found a few crops showing an alarming rate of decline, and I was later able to find news sources to help me figure out why this might be the case. Production of some crops have increased, though, and these variations are very crop and region specific. I will explore an interesting case of Punjab, and for this, I will subset data from the state, particularly its rice production.  "
   ]
  },
  {
   "cell_type": "markdown",
   "metadata": {},
   "source": [
    "## Production for all states, all crops, by year"
   ]
  },
  {
   "cell_type": "code",
   "execution_count": 15,
   "metadata": {},
   "outputs": [
    {
     "data": {
      "text/html": [
       "<div>\n",
       "<style scoped>\n",
       "    .dataframe tbody tr th:only-of-type {\n",
       "        vertical-align: middle;\n",
       "    }\n",
       "\n",
       "    .dataframe tbody tr th {\n",
       "        vertical-align: top;\n",
       "    }\n",
       "\n",
       "    .dataframe thead th {\n",
       "        text-align: right;\n",
       "    }\n",
       "</style>\n",
       "<table border=\"1\" class=\"dataframe\">\n",
       "  <thead>\n",
       "    <tr style=\"text-align: right;\">\n",
       "      <th></th>\n",
       "      <th>State</th>\n",
       "      <th>Crop</th>\n",
       "      <th>Year</th>\n",
       "      <th>Season</th>\n",
       "      <th>Production</th>\n",
       "    </tr>\n",
       "  </thead>\n",
       "  <tbody>\n",
       "    <tr>\n",
       "      <th>0</th>\n",
       "      <td>Andaman and Nicobar Islands</td>\n",
       "      <td>Arecanut</td>\n",
       "      <td>2000</td>\n",
       "      <td>Kharif</td>\n",
       "      <td>7200.00</td>\n",
       "    </tr>\n",
       "    <tr>\n",
       "      <th>1</th>\n",
       "      <td>Andaman and Nicobar Islands</td>\n",
       "      <td>Arecanut</td>\n",
       "      <td>2001</td>\n",
       "      <td>Kharif</td>\n",
       "      <td>7300.00</td>\n",
       "    </tr>\n",
       "    <tr>\n",
       "      <th>2</th>\n",
       "      <td>Andaman and Nicobar Islands</td>\n",
       "      <td>Arecanut</td>\n",
       "      <td>2002</td>\n",
       "      <td>Whole Year</td>\n",
       "      <td>7350.00</td>\n",
       "    </tr>\n",
       "    <tr>\n",
       "      <th>3</th>\n",
       "      <td>Andaman and Nicobar Islands</td>\n",
       "      <td>Arecanut</td>\n",
       "      <td>2003</td>\n",
       "      <td>Whole Year</td>\n",
       "      <td>6707.00</td>\n",
       "    </tr>\n",
       "    <tr>\n",
       "      <th>4</th>\n",
       "      <td>Andaman and Nicobar Islands</td>\n",
       "      <td>Arecanut</td>\n",
       "      <td>2004</td>\n",
       "      <td>Whole Year</td>\n",
       "      <td>4781.05</td>\n",
       "    </tr>\n",
       "    <tr>\n",
       "      <th>...</th>\n",
       "      <td>...</td>\n",
       "      <td>...</td>\n",
       "      <td>...</td>\n",
       "      <td>...</td>\n",
       "      <td>...</td>\n",
       "    </tr>\n",
       "    <tr>\n",
       "      <th>21383</th>\n",
       "      <td>West Bengal</td>\n",
       "      <td>Wheat</td>\n",
       "      <td>2015</td>\n",
       "      <td>Rabi</td>\n",
       "      <td>788503.00</td>\n",
       "    </tr>\n",
       "    <tr>\n",
       "      <th>21384</th>\n",
       "      <td>West Bengal</td>\n",
       "      <td>Wheat</td>\n",
       "      <td>2016</td>\n",
       "      <td>Rabi</td>\n",
       "      <td>862712.00</td>\n",
       "    </tr>\n",
       "    <tr>\n",
       "      <th>21385</th>\n",
       "      <td>West Bengal</td>\n",
       "      <td>Wheat</td>\n",
       "      <td>2017</td>\n",
       "      <td>Rabi</td>\n",
       "      <td>362744.00</td>\n",
       "    </tr>\n",
       "    <tr>\n",
       "      <th>21386</th>\n",
       "      <td>West Bengal</td>\n",
       "      <td>Wheat</td>\n",
       "      <td>2018</td>\n",
       "      <td>Rabi</td>\n",
       "      <td>337751.00</td>\n",
       "    </tr>\n",
       "    <tr>\n",
       "      <th>21387</th>\n",
       "      <td>West Bengal</td>\n",
       "      <td>Wheat</td>\n",
       "      <td>2019</td>\n",
       "      <td>Rabi</td>\n",
       "      <td>509970.00</td>\n",
       "    </tr>\n",
       "  </tbody>\n",
       "</table>\n",
       "<p>21388 rows × 5 columns</p>\n",
       "</div>"
      ],
      "text/plain": [
       "                             State      Crop  Year      Season  Production\n",
       "0      Andaman and Nicobar Islands  Arecanut  2000      Kharif     7200.00\n",
       "1      Andaman and Nicobar Islands  Arecanut  2001      Kharif     7300.00\n",
       "2      Andaman and Nicobar Islands  Arecanut  2002  Whole Year     7350.00\n",
       "3      Andaman and Nicobar Islands  Arecanut  2003  Whole Year     6707.00\n",
       "4      Andaman and Nicobar Islands  Arecanut  2004  Whole Year     4781.05\n",
       "...                            ...       ...   ...         ...         ...\n",
       "21383                  West Bengal     Wheat  2015        Rabi   788503.00\n",
       "21384                  West Bengal     Wheat  2016        Rabi   862712.00\n",
       "21385                  West Bengal     Wheat  2017        Rabi   362744.00\n",
       "21386                  West Bengal     Wheat  2018        Rabi   337751.00\n",
       "21387                  West Bengal     Wheat  2019        Rabi   509970.00\n",
       "\n",
       "[21388 rows x 5 columns]"
      ]
     },
     "execution_count": 15,
     "metadata": {},
     "output_type": "execute_result"
    }
   ],
   "source": [
    "production_all = df.groupby(['State', 'Crop', 'Year', 'Season']).sum()[['Production']].reset_index()\n",
    "production_all"
   ]
  },
  {
   "cell_type": "code",
   "execution_count": 16,
   "metadata": {},
   "outputs": [
    {
     "data": {
      "text/html": [
       "<div>\n",
       "<style scoped>\n",
       "    .dataframe tbody tr th:only-of-type {\n",
       "        vertical-align: middle;\n",
       "    }\n",
       "\n",
       "    .dataframe tbody tr th {\n",
       "        vertical-align: top;\n",
       "    }\n",
       "\n",
       "    .dataframe thead th {\n",
       "        text-align: right;\n",
       "    }\n",
       "</style>\n",
       "<table border=\"1\" class=\"dataframe\">\n",
       "  <thead>\n",
       "    <tr style=\"text-align: right;\">\n",
       "      <th></th>\n",
       "      <th>index</th>\n",
       "      <th>State</th>\n",
       "      <th>Crop</th>\n",
       "      <th>Year</th>\n",
       "      <th>Season</th>\n",
       "      <th>Production</th>\n",
       "    </tr>\n",
       "  </thead>\n",
       "  <tbody>\n",
       "    <tr>\n",
       "      <th>0</th>\n",
       "      <td>15849</td>\n",
       "      <td>Punjab</td>\n",
       "      <td>Rice</td>\n",
       "      <td>1997</td>\n",
       "      <td>Kharif</td>\n",
       "      <td>7904000.0</td>\n",
       "    </tr>\n",
       "    <tr>\n",
       "      <th>1</th>\n",
       "      <td>15850</td>\n",
       "      <td>Punjab</td>\n",
       "      <td>Rice</td>\n",
       "      <td>1998</td>\n",
       "      <td>Kharif</td>\n",
       "      <td>7940000.0</td>\n",
       "    </tr>\n",
       "    <tr>\n",
       "      <th>2</th>\n",
       "      <td>15851</td>\n",
       "      <td>Punjab</td>\n",
       "      <td>Rice</td>\n",
       "      <td>1999</td>\n",
       "      <td>Kharif</td>\n",
       "      <td>8716000.0</td>\n",
       "    </tr>\n",
       "    <tr>\n",
       "      <th>3</th>\n",
       "      <td>15852</td>\n",
       "      <td>Punjab</td>\n",
       "      <td>Rice</td>\n",
       "      <td>2000</td>\n",
       "      <td>Kharif</td>\n",
       "      <td>9154000.0</td>\n",
       "    </tr>\n",
       "    <tr>\n",
       "      <th>4</th>\n",
       "      <td>15853</td>\n",
       "      <td>Punjab</td>\n",
       "      <td>Rice</td>\n",
       "      <td>2001</td>\n",
       "      <td>Kharif</td>\n",
       "      <td>8816000.0</td>\n",
       "    </tr>\n",
       "    <tr>\n",
       "      <th>5</th>\n",
       "      <td>15854</td>\n",
       "      <td>Punjab</td>\n",
       "      <td>Rice</td>\n",
       "      <td>2002</td>\n",
       "      <td>Kharif</td>\n",
       "      <td>8880000.0</td>\n",
       "    </tr>\n",
       "    <tr>\n",
       "      <th>6</th>\n",
       "      <td>15855</td>\n",
       "      <td>Punjab</td>\n",
       "      <td>Rice</td>\n",
       "      <td>2003</td>\n",
       "      <td>Kharif</td>\n",
       "      <td>9656000.0</td>\n",
       "    </tr>\n",
       "    <tr>\n",
       "      <th>7</th>\n",
       "      <td>15856</td>\n",
       "      <td>Punjab</td>\n",
       "      <td>Rice</td>\n",
       "      <td>2004</td>\n",
       "      <td>Kharif</td>\n",
       "      <td>10437000.0</td>\n",
       "    </tr>\n",
       "    <tr>\n",
       "      <th>8</th>\n",
       "      <td>15857</td>\n",
       "      <td>Punjab</td>\n",
       "      <td>Rice</td>\n",
       "      <td>2005</td>\n",
       "      <td>Kharif</td>\n",
       "      <td>10193000.0</td>\n",
       "    </tr>\n",
       "    <tr>\n",
       "      <th>9</th>\n",
       "      <td>15858</td>\n",
       "      <td>Punjab</td>\n",
       "      <td>Rice</td>\n",
       "      <td>2006</td>\n",
       "      <td>Kharif</td>\n",
       "      <td>10138000.0</td>\n",
       "    </tr>\n",
       "    <tr>\n",
       "      <th>10</th>\n",
       "      <td>15859</td>\n",
       "      <td>Punjab</td>\n",
       "      <td>Rice</td>\n",
       "      <td>2007</td>\n",
       "      <td>Kharif</td>\n",
       "      <td>10489000.0</td>\n",
       "    </tr>\n",
       "    <tr>\n",
       "      <th>11</th>\n",
       "      <td>15860</td>\n",
       "      <td>Punjab</td>\n",
       "      <td>Rice</td>\n",
       "      <td>2008</td>\n",
       "      <td>Kharif</td>\n",
       "      <td>11000000.0</td>\n",
       "    </tr>\n",
       "    <tr>\n",
       "      <th>12</th>\n",
       "      <td>15861</td>\n",
       "      <td>Punjab</td>\n",
       "      <td>Rice</td>\n",
       "      <td>2009</td>\n",
       "      <td>Kharif</td>\n",
       "      <td>11236000.0</td>\n",
       "    </tr>\n",
       "    <tr>\n",
       "      <th>13</th>\n",
       "      <td>15862</td>\n",
       "      <td>Punjab</td>\n",
       "      <td>Rice</td>\n",
       "      <td>2010</td>\n",
       "      <td>Kharif</td>\n",
       "      <td>10837000.0</td>\n",
       "    </tr>\n",
       "    <tr>\n",
       "      <th>14</th>\n",
       "      <td>15863</td>\n",
       "      <td>Punjab</td>\n",
       "      <td>Rice</td>\n",
       "      <td>2011</td>\n",
       "      <td>Kharif</td>\n",
       "      <td>10542000.0</td>\n",
       "    </tr>\n",
       "    <tr>\n",
       "      <th>15</th>\n",
       "      <td>15864</td>\n",
       "      <td>Punjab</td>\n",
       "      <td>Rice</td>\n",
       "      <td>2012</td>\n",
       "      <td>Kharif</td>\n",
       "      <td>11390000.0</td>\n",
       "    </tr>\n",
       "    <tr>\n",
       "      <th>16</th>\n",
       "      <td>15865</td>\n",
       "      <td>Punjab</td>\n",
       "      <td>Rice</td>\n",
       "      <td>2013</td>\n",
       "      <td>Kharif</td>\n",
       "      <td>11267000.0</td>\n",
       "    </tr>\n",
       "    <tr>\n",
       "      <th>17</th>\n",
       "      <td>15866</td>\n",
       "      <td>Punjab</td>\n",
       "      <td>Rice</td>\n",
       "      <td>2014</td>\n",
       "      <td>Kharif</td>\n",
       "      <td>11107000.0</td>\n",
       "    </tr>\n",
       "    <tr>\n",
       "      <th>18</th>\n",
       "      <td>15867</td>\n",
       "      <td>Punjab</td>\n",
       "      <td>Rice</td>\n",
       "      <td>2015</td>\n",
       "      <td>Kharif</td>\n",
       "      <td>11823000.0</td>\n",
       "    </tr>\n",
       "    <tr>\n",
       "      <th>19</th>\n",
       "      <td>15868</td>\n",
       "      <td>Punjab</td>\n",
       "      <td>Rice</td>\n",
       "      <td>2016</td>\n",
       "      <td>Kharif</td>\n",
       "      <td>12638000.0</td>\n",
       "    </tr>\n",
       "    <tr>\n",
       "      <th>20</th>\n",
       "      <td>15869</td>\n",
       "      <td>Punjab</td>\n",
       "      <td>Rice</td>\n",
       "      <td>2017</td>\n",
       "      <td>Kharif</td>\n",
       "      <td>13382000.0</td>\n",
       "    </tr>\n",
       "    <tr>\n",
       "      <th>21</th>\n",
       "      <td>15870</td>\n",
       "      <td>Punjab</td>\n",
       "      <td>Rice</td>\n",
       "      <td>2018</td>\n",
       "      <td>Kharif</td>\n",
       "      <td>12822000.0</td>\n",
       "    </tr>\n",
       "    <tr>\n",
       "      <th>22</th>\n",
       "      <td>15871</td>\n",
       "      <td>Punjab</td>\n",
       "      <td>Rice</td>\n",
       "      <td>2019</td>\n",
       "      <td>Kharif</td>\n",
       "      <td>12675000.0</td>\n",
       "    </tr>\n",
       "  </tbody>\n",
       "</table>\n",
       "</div>"
      ],
      "text/plain": [
       "    index   State  Crop  Year  Season  Production\n",
       "0   15849  Punjab  Rice  1997  Kharif   7904000.0\n",
       "1   15850  Punjab  Rice  1998  Kharif   7940000.0\n",
       "2   15851  Punjab  Rice  1999  Kharif   8716000.0\n",
       "3   15852  Punjab  Rice  2000  Kharif   9154000.0\n",
       "4   15853  Punjab  Rice  2001  Kharif   8816000.0\n",
       "5   15854  Punjab  Rice  2002  Kharif   8880000.0\n",
       "6   15855  Punjab  Rice  2003  Kharif   9656000.0\n",
       "7   15856  Punjab  Rice  2004  Kharif  10437000.0\n",
       "8   15857  Punjab  Rice  2005  Kharif  10193000.0\n",
       "9   15858  Punjab  Rice  2006  Kharif  10138000.0\n",
       "10  15859  Punjab  Rice  2007  Kharif  10489000.0\n",
       "11  15860  Punjab  Rice  2008  Kharif  11000000.0\n",
       "12  15861  Punjab  Rice  2009  Kharif  11236000.0\n",
       "13  15862  Punjab  Rice  2010  Kharif  10837000.0\n",
       "14  15863  Punjab  Rice  2011  Kharif  10542000.0\n",
       "15  15864  Punjab  Rice  2012  Kharif  11390000.0\n",
       "16  15865  Punjab  Rice  2013  Kharif  11267000.0\n",
       "17  15866  Punjab  Rice  2014  Kharif  11107000.0\n",
       "18  15867  Punjab  Rice  2015  Kharif  11823000.0\n",
       "19  15868  Punjab  Rice  2016  Kharif  12638000.0\n",
       "20  15869  Punjab  Rice  2017  Kharif  13382000.0\n",
       "21  15870  Punjab  Rice  2018  Kharif  12822000.0\n",
       "22  15871  Punjab  Rice  2019  Kharif  12675000.0"
      ]
     },
     "execution_count": 16,
     "metadata": {},
     "output_type": "execute_result"
    }
   ],
   "source": [
    "# subset for Punjab and Rice\n",
    "production_all[\n",
    "    (production_all['State'] == 'Punjab') &\n",
    "    (production_all['Crop'] == 'Rice') \n",
    "].reset_index()"
   ]
  },
  {
   "cell_type": "markdown",
   "metadata": {},
   "source": [
    "## Crop production in Punjab"
   ]
  },
  {
   "cell_type": "markdown",
   "metadata": {},
   "source": [
    "HYPOTHESIS: One interesting case study of sorts is Punjab, where rice yeilds have declined over time, due to various reasons. [In this article](https://drive.google.com/file/d/1WW44UyHMZjKfRrE0lnKlMPbwW_CWhI3-/view?usp=share_link), Punjab's ground-water level has been declining sharply ever since rice cultivation was introduced into the state. Rice is a water-intensive crop. The government there is pushing the farmers to diversify the crops growns to reduce rice cultivation to help with this issue. This could be a good reason why over time rice cultivation in the area is declining. This policy is also a few years old only. "
   ]
  },
  {
   "cell_type": "code",
   "execution_count": 17,
   "metadata": {},
   "outputs": [
    {
     "data": {
      "text/html": [
       "<div>\n",
       "<style scoped>\n",
       "    .dataframe tbody tr th:only-of-type {\n",
       "        vertical-align: middle;\n",
       "    }\n",
       "\n",
       "    .dataframe tbody tr th {\n",
       "        vertical-align: top;\n",
       "    }\n",
       "\n",
       "    .dataframe thead th {\n",
       "        text-align: right;\n",
       "    }\n",
       "</style>\n",
       "<table border=\"1\" class=\"dataframe\">\n",
       "  <thead>\n",
       "    <tr style=\"text-align: right;\">\n",
       "      <th></th>\n",
       "      <th>State</th>\n",
       "      <th>District</th>\n",
       "      <th>Crop</th>\n",
       "      <th>Year</th>\n",
       "      <th>Season</th>\n",
       "      <th>Area</th>\n",
       "      <th>Area Units</th>\n",
       "      <th>Production</th>\n",
       "      <th>Production Units</th>\n",
       "      <th>Yield</th>\n",
       "    </tr>\n",
       "  </thead>\n",
       "  <tbody>\n",
       "    <tr>\n",
       "      <th>0</th>\n",
       "      <td>Punjab</td>\n",
       "      <td>AMRITSAR</td>\n",
       "      <td>Arhar/Tur</td>\n",
       "      <td>2001</td>\n",
       "      <td>Kharif</td>\n",
       "      <td>1400.0</td>\n",
       "      <td>Hectare</td>\n",
       "      <td>1100.0</td>\n",
       "      <td>Tonnes</td>\n",
       "      <td>0.785714</td>\n",
       "    </tr>\n",
       "    <tr>\n",
       "      <th>1</th>\n",
       "      <td>Punjab</td>\n",
       "      <td>AMRITSAR</td>\n",
       "      <td>Arhar/Tur</td>\n",
       "      <td>2002</td>\n",
       "      <td>Kharif</td>\n",
       "      <td>1200.0</td>\n",
       "      <td>Hectare</td>\n",
       "      <td>1000.0</td>\n",
       "      <td>Tonnes</td>\n",
       "      <td>0.833333</td>\n",
       "    </tr>\n",
       "    <tr>\n",
       "      <th>2</th>\n",
       "      <td>Punjab</td>\n",
       "      <td>AMRITSAR</td>\n",
       "      <td>Arhar/Tur</td>\n",
       "      <td>2003</td>\n",
       "      <td>Kharif</td>\n",
       "      <td>1500.0</td>\n",
       "      <td>Hectare</td>\n",
       "      <td>1400.0</td>\n",
       "      <td>Tonnes</td>\n",
       "      <td>0.933333</td>\n",
       "    </tr>\n",
       "    <tr>\n",
       "      <th>3</th>\n",
       "      <td>Punjab</td>\n",
       "      <td>BATHINDA</td>\n",
       "      <td>Arhar/Tur</td>\n",
       "      <td>2003</td>\n",
       "      <td>Kharif</td>\n",
       "      <td>100.0</td>\n",
       "      <td>Hectare</td>\n",
       "      <td>100.0</td>\n",
       "      <td>Tonnes</td>\n",
       "      <td>1.000000</td>\n",
       "    </tr>\n",
       "    <tr>\n",
       "      <th>4</th>\n",
       "      <td>Punjab</td>\n",
       "      <td>FARIDKOT</td>\n",
       "      <td>Arhar/Tur</td>\n",
       "      <td>2001</td>\n",
       "      <td>Kharif</td>\n",
       "      <td>100.0</td>\n",
       "      <td>Hectare</td>\n",
       "      <td>100.0</td>\n",
       "      <td>Tonnes</td>\n",
       "      <td>1.000000</td>\n",
       "    </tr>\n",
       "    <tr>\n",
       "      <th>...</th>\n",
       "      <td>...</td>\n",
       "      <td>...</td>\n",
       "      <td>...</td>\n",
       "      <td>...</td>\n",
       "      <td>...</td>\n",
       "      <td>...</td>\n",
       "      <td>...</td>\n",
       "      <td>...</td>\n",
       "      <td>...</td>\n",
       "      <td>...</td>\n",
       "    </tr>\n",
       "    <tr>\n",
       "      <th>4137</th>\n",
       "      <td>Punjab</td>\n",
       "      <td>RUPNAGAR</td>\n",
       "      <td>Wheat</td>\n",
       "      <td>2000</td>\n",
       "      <td>Rabi</td>\n",
       "      <td>86000.0</td>\n",
       "      <td>Hectare</td>\n",
       "      <td>312000.0</td>\n",
       "      <td>Tonnes</td>\n",
       "      <td>3.627907</td>\n",
       "    </tr>\n",
       "    <tr>\n",
       "      <th>4138</th>\n",
       "      <td>Punjab</td>\n",
       "      <td>SANGRUR</td>\n",
       "      <td>Wheat</td>\n",
       "      <td>1997</td>\n",
       "      <td>Rabi</td>\n",
       "      <td>401000.0</td>\n",
       "      <td>Hectare</td>\n",
       "      <td>1732000.0</td>\n",
       "      <td>Tonnes</td>\n",
       "      <td>4.319202</td>\n",
       "    </tr>\n",
       "    <tr>\n",
       "      <th>4139</th>\n",
       "      <td>Punjab</td>\n",
       "      <td>SANGRUR</td>\n",
       "      <td>Wheat</td>\n",
       "      <td>1998</td>\n",
       "      <td>Rabi</td>\n",
       "      <td>86000.0</td>\n",
       "      <td>Hectare</td>\n",
       "      <td>325000.0</td>\n",
       "      <td>Tonnes</td>\n",
       "      <td>3.779070</td>\n",
       "    </tr>\n",
       "    <tr>\n",
       "      <th>4140</th>\n",
       "      <td>Punjab</td>\n",
       "      <td>SANGRUR</td>\n",
       "      <td>Wheat</td>\n",
       "      <td>1999</td>\n",
       "      <td>Rabi</td>\n",
       "      <td>394000.0</td>\n",
       "      <td>Hectare</td>\n",
       "      <td>1902000.0</td>\n",
       "      <td>Tonnes</td>\n",
       "      <td>4.827411</td>\n",
       "    </tr>\n",
       "    <tr>\n",
       "      <th>4141</th>\n",
       "      <td>Punjab</td>\n",
       "      <td>SANGRUR</td>\n",
       "      <td>Wheat</td>\n",
       "      <td>2000</td>\n",
       "      <td>Rabi</td>\n",
       "      <td>393000.0</td>\n",
       "      <td>Hectare</td>\n",
       "      <td>1921000.0</td>\n",
       "      <td>Tonnes</td>\n",
       "      <td>4.888041</td>\n",
       "    </tr>\n",
       "  </tbody>\n",
       "</table>\n",
       "<p>4142 rows × 10 columns</p>\n",
       "</div>"
      ],
      "text/plain": [
       "       State  District       Crop  Year  Season      Area Area Units  \\\n",
       "0     Punjab  AMRITSAR  Arhar/Tur  2001  Kharif    1400.0    Hectare   \n",
       "1     Punjab  AMRITSAR  Arhar/Tur  2002  Kharif    1200.0    Hectare   \n",
       "2     Punjab  AMRITSAR  Arhar/Tur  2003  Kharif    1500.0    Hectare   \n",
       "3     Punjab  BATHINDA  Arhar/Tur  2003  Kharif     100.0    Hectare   \n",
       "4     Punjab  FARIDKOT  Arhar/Tur  2001  Kharif     100.0    Hectare   \n",
       "...      ...       ...        ...   ...     ...       ...        ...   \n",
       "4137  Punjab  RUPNAGAR      Wheat  2000    Rabi   86000.0    Hectare   \n",
       "4138  Punjab   SANGRUR      Wheat  1997    Rabi  401000.0    Hectare   \n",
       "4139  Punjab   SANGRUR      Wheat  1998    Rabi   86000.0    Hectare   \n",
       "4140  Punjab   SANGRUR      Wheat  1999    Rabi  394000.0    Hectare   \n",
       "4141  Punjab   SANGRUR      Wheat  2000    Rabi  393000.0    Hectare   \n",
       "\n",
       "      Production Production Units     Yield  \n",
       "0         1100.0           Tonnes  0.785714  \n",
       "1         1000.0           Tonnes  0.833333  \n",
       "2         1400.0           Tonnes  0.933333  \n",
       "3          100.0           Tonnes  1.000000  \n",
       "4          100.0           Tonnes  1.000000  \n",
       "...          ...              ...       ...  \n",
       "4137    312000.0           Tonnes  3.627907  \n",
       "4138   1732000.0           Tonnes  4.319202  \n",
       "4139    325000.0           Tonnes  3.779070  \n",
       "4140   1902000.0           Tonnes  4.827411  \n",
       "4141   1921000.0           Tonnes  4.888041  \n",
       "\n",
       "[4142 rows x 10 columns]"
      ]
     },
     "execution_count": 17,
     "metadata": {},
     "output_type": "execute_result"
    }
   ],
   "source": [
    "df_pj  =  df[(df['State'] == 'Punjab')].reset_index(drop=True)\n",
    "df_pj "
   ]
  },
  {
   "cell_type": "code",
   "execution_count": 18,
   "metadata": {},
   "outputs": [
    {
     "data": {
      "text/html": [
       "<div>\n",
       "<style scoped>\n",
       "    .dataframe tbody tr th:only-of-type {\n",
       "        vertical-align: middle;\n",
       "    }\n",
       "\n",
       "    .dataframe tbody tr th {\n",
       "        vertical-align: top;\n",
       "    }\n",
       "\n",
       "    .dataframe thead th {\n",
       "        text-align: right;\n",
       "    }\n",
       "</style>\n",
       "<table border=\"1\" class=\"dataframe\">\n",
       "  <thead>\n",
       "    <tr style=\"text-align: right;\">\n",
       "      <th></th>\n",
       "      <th>Crop</th>\n",
       "      <th>Production</th>\n",
       "    </tr>\n",
       "  </thead>\n",
       "  <tbody>\n",
       "    <tr>\n",
       "      <th>0</th>\n",
       "      <td>Arhar/Tur</td>\n",
       "      <td>118120.0</td>\n",
       "    </tr>\n",
       "    <tr>\n",
       "      <th>1</th>\n",
       "      <td>Bajra</td>\n",
       "      <td>78100.0</td>\n",
       "    </tr>\n",
       "    <tr>\n",
       "      <th>2</th>\n",
       "      <td>Barley</td>\n",
       "      <td>1393000.0</td>\n",
       "    </tr>\n",
       "    <tr>\n",
       "      <th>3</th>\n",
       "      <td>Cotton(lint)</td>\n",
       "      <td>34634200.0</td>\n",
       "    </tr>\n",
       "    <tr>\n",
       "      <th>4</th>\n",
       "      <td>Gram</td>\n",
       "      <td>97300.0</td>\n",
       "    </tr>\n",
       "    <tr>\n",
       "      <th>5</th>\n",
       "      <td>Groundnut</td>\n",
       "      <td>76500.0</td>\n",
       "    </tr>\n",
       "    <tr>\n",
       "      <th>6</th>\n",
       "      <td>Guar seed</td>\n",
       "      <td>369740.0</td>\n",
       "    </tr>\n",
       "    <tr>\n",
       "      <th>7</th>\n",
       "      <td>Jowar</td>\n",
       "      <td>400.0</td>\n",
       "    </tr>\n",
       "    <tr>\n",
       "      <th>8</th>\n",
       "      <td>Linseed</td>\n",
       "      <td>1700.0</td>\n",
       "    </tr>\n",
       "    <tr>\n",
       "      <th>9</th>\n",
       "      <td>Maize</td>\n",
       "      <td>10150400.0</td>\n",
       "    </tr>\n",
       "    <tr>\n",
       "      <th>10</th>\n",
       "      <td>Masoor</td>\n",
       "      <td>30979.0</td>\n",
       "    </tr>\n",
       "    <tr>\n",
       "      <th>11</th>\n",
       "      <td>Moong(Green Gram)</td>\n",
       "      <td>279490.0</td>\n",
       "    </tr>\n",
       "    <tr>\n",
       "      <th>12</th>\n",
       "      <td>Moth</td>\n",
       "      <td>1800.0</td>\n",
       "    </tr>\n",
       "    <tr>\n",
       "      <th>13</th>\n",
       "      <td>Other Rabi pulses</td>\n",
       "      <td>6300.0</td>\n",
       "    </tr>\n",
       "    <tr>\n",
       "      <th>14</th>\n",
       "      <td>Peas &amp; beans (Pulses)</td>\n",
       "      <td>48620.0</td>\n",
       "    </tr>\n",
       "    <tr>\n",
       "      <th>15</th>\n",
       "      <td>Rapeseed &amp;Mustard</td>\n",
       "      <td>1012100.0</td>\n",
       "    </tr>\n",
       "    <tr>\n",
       "      <th>16</th>\n",
       "      <td>Rice</td>\n",
       "      <td>243042000.0</td>\n",
       "    </tr>\n",
       "    <tr>\n",
       "      <th>17</th>\n",
       "      <td>Sesamum</td>\n",
       "      <td>71410.0</td>\n",
       "    </tr>\n",
       "    <tr>\n",
       "      <th>18</th>\n",
       "      <td>Sugarcane</td>\n",
       "      <td>125639000.0</td>\n",
       "    </tr>\n",
       "    <tr>\n",
       "      <th>19</th>\n",
       "      <td>Sunflower</td>\n",
       "      <td>96600.0</td>\n",
       "    </tr>\n",
       "    <tr>\n",
       "      <th>20</th>\n",
       "      <td>Urad</td>\n",
       "      <td>30350.0</td>\n",
       "    </tr>\n",
       "    <tr>\n",
       "      <th>21</th>\n",
       "      <td>Wheat</td>\n",
       "      <td>364370000.0</td>\n",
       "    </tr>\n",
       "    <tr>\n",
       "      <th>22</th>\n",
       "      <td>other oilseeds</td>\n",
       "      <td>3300.0</td>\n",
       "    </tr>\n",
       "  </tbody>\n",
       "</table>\n",
       "</div>"
      ],
      "text/plain": [
       "                     Crop   Production\n",
       "0               Arhar/Tur     118120.0\n",
       "1                   Bajra      78100.0\n",
       "2                  Barley    1393000.0\n",
       "3            Cotton(lint)   34634200.0\n",
       "4                    Gram      97300.0\n",
       "5               Groundnut      76500.0\n",
       "6               Guar seed     369740.0\n",
       "7                   Jowar        400.0\n",
       "8                 Linseed       1700.0\n",
       "9                   Maize   10150400.0\n",
       "10                 Masoor      30979.0\n",
       "11      Moong(Green Gram)     279490.0\n",
       "12                   Moth       1800.0\n",
       "13      Other Rabi pulses       6300.0\n",
       "14  Peas & beans (Pulses)      48620.0\n",
       "15      Rapeseed &Mustard    1012100.0\n",
       "16                   Rice  243042000.0\n",
       "17                Sesamum      71410.0\n",
       "18              Sugarcane  125639000.0\n",
       "19              Sunflower      96600.0\n",
       "20                   Urad      30350.0\n",
       "21                  Wheat  364370000.0\n",
       "22         other oilseeds       3300.0"
      ]
     },
     "execution_count": 18,
     "metadata": {},
     "output_type": "execute_result"
    }
   ],
   "source": [
    "##Calculating the total production of various crops in Punjab since 1997, in tonnes. \n",
    "punjab_crop_pro = df_pj.groupby(['Crop']).sum()[['Production']].reset_index()\n",
    "punjab_crop_pro"
   ]
  },
  {
   "cell_type": "code",
   "execution_count": 19,
   "metadata": {},
   "outputs": [
    {
     "data": {
      "text/html": [
       "<div>\n",
       "<style scoped>\n",
       "    .dataframe tbody tr th:only-of-type {\n",
       "        vertical-align: middle;\n",
       "    }\n",
       "\n",
       "    .dataframe tbody tr th {\n",
       "        vertical-align: top;\n",
       "    }\n",
       "\n",
       "    .dataframe thead th {\n",
       "        text-align: right;\n",
       "    }\n",
       "</style>\n",
       "<table border=\"1\" class=\"dataframe\">\n",
       "  <thead>\n",
       "    <tr style=\"text-align: right;\">\n",
       "      <th></th>\n",
       "      <th>Crop</th>\n",
       "      <th>Production</th>\n",
       "    </tr>\n",
       "  </thead>\n",
       "  <tbody>\n",
       "    <tr>\n",
       "      <th>7</th>\n",
       "      <td>Jowar</td>\n",
       "      <td>400.0</td>\n",
       "    </tr>\n",
       "    <tr>\n",
       "      <th>8</th>\n",
       "      <td>Linseed</td>\n",
       "      <td>1700.0</td>\n",
       "    </tr>\n",
       "    <tr>\n",
       "      <th>12</th>\n",
       "      <td>Moth</td>\n",
       "      <td>1800.0</td>\n",
       "    </tr>\n",
       "    <tr>\n",
       "      <th>22</th>\n",
       "      <td>other oilseeds</td>\n",
       "      <td>3300.0</td>\n",
       "    </tr>\n",
       "    <tr>\n",
       "      <th>13</th>\n",
       "      <td>Other Rabi pulses</td>\n",
       "      <td>6300.0</td>\n",
       "    </tr>\n",
       "    <tr>\n",
       "      <th>20</th>\n",
       "      <td>Urad</td>\n",
       "      <td>30350.0</td>\n",
       "    </tr>\n",
       "    <tr>\n",
       "      <th>10</th>\n",
       "      <td>Masoor</td>\n",
       "      <td>30979.0</td>\n",
       "    </tr>\n",
       "    <tr>\n",
       "      <th>14</th>\n",
       "      <td>Peas &amp; beans (Pulses)</td>\n",
       "      <td>48620.0</td>\n",
       "    </tr>\n",
       "    <tr>\n",
       "      <th>17</th>\n",
       "      <td>Sesamum</td>\n",
       "      <td>71410.0</td>\n",
       "    </tr>\n",
       "    <tr>\n",
       "      <th>5</th>\n",
       "      <td>Groundnut</td>\n",
       "      <td>76500.0</td>\n",
       "    </tr>\n",
       "    <tr>\n",
       "      <th>1</th>\n",
       "      <td>Bajra</td>\n",
       "      <td>78100.0</td>\n",
       "    </tr>\n",
       "    <tr>\n",
       "      <th>19</th>\n",
       "      <td>Sunflower</td>\n",
       "      <td>96600.0</td>\n",
       "    </tr>\n",
       "    <tr>\n",
       "      <th>4</th>\n",
       "      <td>Gram</td>\n",
       "      <td>97300.0</td>\n",
       "    </tr>\n",
       "    <tr>\n",
       "      <th>0</th>\n",
       "      <td>Arhar/Tur</td>\n",
       "      <td>118120.0</td>\n",
       "    </tr>\n",
       "    <tr>\n",
       "      <th>11</th>\n",
       "      <td>Moong(Green Gram)</td>\n",
       "      <td>279490.0</td>\n",
       "    </tr>\n",
       "    <tr>\n",
       "      <th>6</th>\n",
       "      <td>Guar seed</td>\n",
       "      <td>369740.0</td>\n",
       "    </tr>\n",
       "    <tr>\n",
       "      <th>15</th>\n",
       "      <td>Rapeseed &amp;Mustard</td>\n",
       "      <td>1012100.0</td>\n",
       "    </tr>\n",
       "    <tr>\n",
       "      <th>2</th>\n",
       "      <td>Barley</td>\n",
       "      <td>1393000.0</td>\n",
       "    </tr>\n",
       "    <tr>\n",
       "      <th>9</th>\n",
       "      <td>Maize</td>\n",
       "      <td>10150400.0</td>\n",
       "    </tr>\n",
       "    <tr>\n",
       "      <th>3</th>\n",
       "      <td>Cotton(lint)</td>\n",
       "      <td>34634200.0</td>\n",
       "    </tr>\n",
       "    <tr>\n",
       "      <th>18</th>\n",
       "      <td>Sugarcane</td>\n",
       "      <td>125639000.0</td>\n",
       "    </tr>\n",
       "    <tr>\n",
       "      <th>16</th>\n",
       "      <td>Rice</td>\n",
       "      <td>243042000.0</td>\n",
       "    </tr>\n",
       "    <tr>\n",
       "      <th>21</th>\n",
       "      <td>Wheat</td>\n",
       "      <td>364370000.0</td>\n",
       "    </tr>\n",
       "  </tbody>\n",
       "</table>\n",
       "</div>"
      ],
      "text/plain": [
       "                     Crop   Production\n",
       "7                   Jowar        400.0\n",
       "8                 Linseed       1700.0\n",
       "12                   Moth       1800.0\n",
       "22         other oilseeds       3300.0\n",
       "13      Other Rabi pulses       6300.0\n",
       "20                   Urad      30350.0\n",
       "10                 Masoor      30979.0\n",
       "14  Peas & beans (Pulses)      48620.0\n",
       "17                Sesamum      71410.0\n",
       "5               Groundnut      76500.0\n",
       "1                   Bajra      78100.0\n",
       "19              Sunflower      96600.0\n",
       "4                    Gram      97300.0\n",
       "0               Arhar/Tur     118120.0\n",
       "11      Moong(Green Gram)     279490.0\n",
       "6               Guar seed     369740.0\n",
       "15      Rapeseed &Mustard    1012100.0\n",
       "2                  Barley    1393000.0\n",
       "9                   Maize   10150400.0\n",
       "3            Cotton(lint)   34634200.0\n",
       "18              Sugarcane  125639000.0\n",
       "16                   Rice  243042000.0\n",
       "21                  Wheat  364370000.0"
      ]
     },
     "execution_count": 19,
     "metadata": {},
     "output_type": "execute_result"
    }
   ],
   "source": [
    "##Sorting to see which crops were produced more in Punjab since 1997\n",
    "punjab_crop_pro.sort_values(by=['Production'])"
   ]
  },
  {
   "cell_type": "markdown",
   "metadata": {},
   "source": [
    "Wheat, rice, sugarcane, cotton and maize are the most cultivated crops in Punjab, with the least five being jowar, linseed, moth, other oilseeds and other rabi pulses. "
   ]
  },
  {
   "cell_type": "code",
   "execution_count": 20,
   "metadata": {},
   "outputs": [],
   "source": [
    "##Creating a pie chart using matplotlib to vizualize the following crop distribution over the decades in Punjab. "
   ]
  },
  {
   "cell_type": "code",
   "execution_count": 21,
   "metadata": {},
   "outputs": [],
   "source": [
    "##Exporting this data to a CSV. \n",
    "punjab_crop_pro.to_csv('Crop production over years.csv')"
   ]
  },
  {
   "cell_type": "code",
   "execution_count": 22,
   "metadata": {},
   "outputs": [
    {
     "data": {
      "text/plain": [
       "Crop          object\n",
       "Production     int64\n",
       "dtype: object"
      ]
     },
     "execution_count": 22,
     "metadata": {},
     "output_type": "execute_result"
    }
   ],
   "source": [
    "punjab_crop_pro.astype({'Production': 'int'}).dtypes"
   ]
  },
  {
   "cell_type": "code",
   "execution_count": 23,
   "metadata": {},
   "outputs": [
    {
     "data": {
      "text/plain": [
       "['Arhar/Tur',\n",
       " 'Bajra',\n",
       " 'Barley',\n",
       " 'Cotton(lint)',\n",
       " 'Gram',\n",
       " 'Groundnut',\n",
       " 'Guar seed',\n",
       " 'Jowar',\n",
       " 'Linseed',\n",
       " 'Maize',\n",
       " 'Masoor',\n",
       " 'Moong(Green Gram)',\n",
       " 'Moth',\n",
       " 'Other Rabi pulses',\n",
       " 'Peas & beans (Pulses)',\n",
       " 'Rapeseed &Mustard',\n",
       " 'Rice',\n",
       " 'Sesamum',\n",
       " 'Sugarcane',\n",
       " 'Sunflower',\n",
       " 'Urad',\n",
       " 'Wheat',\n",
       " 'other oilseeds']"
      ]
     },
     "execution_count": 23,
     "metadata": {},
     "output_type": "execute_result"
    }
   ],
   "source": [
    "##Converting the columns to lists.\n",
    "crops_name = punjab_crop_pro.Crop.to_list()\n",
    "crops_name"
   ]
  },
  {
   "cell_type": "code",
   "execution_count": 24,
   "metadata": {},
   "outputs": [
    {
     "data": {
      "text/plain": [
       "[118120.0,\n",
       " 78100.0,\n",
       " 1393000.0,\n",
       " 34634200.0,\n",
       " 97300.0,\n",
       " 76500.0,\n",
       " 369740.0,\n",
       " 400.0,\n",
       " 1700.0,\n",
       " 10150400.0,\n",
       " 30979.0,\n",
       " 279490.0,\n",
       " 1800.0,\n",
       " 6300.0,\n",
       " 48620.0,\n",
       " 1012100.0,\n",
       " 243042000.0,\n",
       " 71410.0,\n",
       " 125639000.0,\n",
       " 96600.0,\n",
       " 30350.0,\n",
       " 364370000.0,\n",
       " 3300.0]"
      ]
     },
     "execution_count": 24,
     "metadata": {},
     "output_type": "execute_result"
    }
   ],
   "source": [
    "crops_production_total = punjab_crop_pro.Production.to_list()\n",
    "crops_production_total"
   ]
  },
  {
   "cell_type": "code",
   "execution_count": 25,
   "metadata": {},
   "outputs": [
    {
     "name": "stdout",
     "output_type": "stream",
     "text": [
      "<class 'float'>\n",
      "<class 'float'>\n",
      "<class 'float'>\n",
      "<class 'float'>\n",
      "<class 'float'>\n",
      "<class 'float'>\n",
      "<class 'float'>\n",
      "<class 'float'>\n",
      "<class 'float'>\n",
      "<class 'float'>\n",
      "<class 'float'>\n",
      "<class 'float'>\n",
      "<class 'float'>\n",
      "<class 'float'>\n",
      "<class 'float'>\n",
      "<class 'float'>\n",
      "<class 'float'>\n",
      "<class 'float'>\n",
      "<class 'float'>\n",
      "<class 'float'>\n",
      "<class 'float'>\n",
      "<class 'float'>\n",
      "<class 'float'>\n"
     ]
    }
   ],
   "source": [
    " \n",
    "for element in crops_production_total:\n",
    "    print (type(element))"
   ]
  },
  {
   "cell_type": "code",
   "execution_count": 26,
   "metadata": {},
   "outputs": [
    {
     "name": "stdout",
     "output_type": "stream",
     "text": [
      "<class 'int'>\n",
      "<class 'int'>\n",
      "<class 'int'>\n",
      "<class 'int'>\n",
      "<class 'int'>\n",
      "<class 'int'>\n",
      "<class 'int'>\n",
      "<class 'int'>\n",
      "<class 'int'>\n",
      "<class 'int'>\n",
      "<class 'int'>\n",
      "<class 'int'>\n",
      "<class 'int'>\n",
      "<class 'int'>\n",
      "<class 'int'>\n",
      "<class 'int'>\n",
      "<class 'int'>\n",
      "<class 'int'>\n",
      "<class 'int'>\n",
      "<class 'int'>\n",
      "<class 'int'>\n",
      "<class 'int'>\n",
      "<class 'int'>\n"
     ]
    }
   ],
   "source": [
    "##Using list comprehension to convert the list to int\n",
    "crops_production_total = [int(x) for x in crops_production_total]\n",
    "for element in crops_production_total:\n",
    "    print (type(element))\n"
   ]
  },
  {
   "cell_type": "code",
   "execution_count": 27,
   "metadata": {},
   "outputs": [
    {
     "data": {
      "text/plain": [
       "array([   118120,     78100,   1393000,  34634200,     97300,     76500,\n",
       "          369740,       400,      1700,  10150400,     30979,    279490,\n",
       "            1800,      6300,     48620,   1012100, 243042000,     71410,\n",
       "       125639000,     96600,     30350, 364370000,      3300])"
      ]
     },
     "execution_count": 27,
     "metadata": {},
     "output_type": "execute_result"
    }
   ],
   "source": [
    "##Converting this list to an array using numpy\n",
    "crops_prod_array = np.array(crops_production_total)\n",
    "crops_prod_array"
   ]
  },
  {
   "cell_type": "code",
   "execution_count": 28,
   "metadata": {},
   "outputs": [
    {
     "name": "stdout",
     "output_type": "stream",
     "text": [
      "781551409\n"
     ]
    }
   ],
   "source": [
    "##Finding the sum of the array\n",
    "sumproduction = np.sum(crops_prod_array)\n",
    "print(sumproduction)"
   ]
  },
  {
   "cell_type": "code",
   "execution_count": 29,
   "metadata": {},
   "outputs": [
    {
     "name": "stdout",
     "output_type": "stream",
     "text": [
      "23\n"
     ]
    }
   ],
   "source": [
    "## Finding length of array\n",
    "length = len(crops_prod_array)\n",
    "print(length)"
   ]
  },
  {
   "cell_type": "code",
   "execution_count": 30,
   "metadata": {},
   "outputs": [],
   "source": [
    "## Defining a function to calculate each crop percentage of total crop production over the years \n",
    "percentlist = []\n",
    "def percentile(x):\n",
    "    for i in x, range (0, 22):\n",
    "        croppercent = (i/sumproduction) * 100\n",
    "        percentlist.extend(croppercent)\n",
    "\n",
    "percentile(crops_production_total)\n",
    "\n",
    " "
   ]
  },
  {
   "cell_type": "code",
   "execution_count": 31,
   "metadata": {},
   "outputs": [
    {
     "name": "stdout",
     "output_type": "stream",
     "text": [
      "[0.015113529147255366, 0.00999294468676468, 0.17823523621847887, 4.431467924076124, 0.012449596901692745, 0.009788223668854009, 0.047308468226432435, 5.1180254477668025e-05, 0.00021751608153008909, 1.2987501376253037, 0.003963782758659194, 0.035760923309908585, 0.00023031114514950607, 0.0008060890080232712, 0.006220959931760547, 0.12949883889211952, 31.09737852190348, 0.009136954930625683, 16.075589980799332, 0.012360031456356828, 0.003883301808493061, 46.62137331006974, 0.0004222370994407612, 0.0, 1.2795063619417006e-07, 2.559012723883401e-07, 3.8385190858251014e-07, 5.118025447766802e-07, 6.397531809708502e-07, 7.677038171650203e-07, 8.956544533591903e-07, 1.0236050895533604e-06, 1.1515557257475304e-06, 1.2795063619417004e-06, 1.4074569981358706e-06, 1.5354076343300406e-06, 1.6633582705242108e-06, 1.7913089067183805e-06, 1.919259542912551e-06, 2.047210179106721e-06, 2.175160815300891e-06, 2.303111451495061e-06, 2.4310620876892313e-06, 2.559012723883401e-06, 2.686963360077571e-06]\n"
     ]
    }
   ],
   "source": [
    "print(percentlist)"
   ]
  },
  {
   "cell_type": "code",
   "execution_count": 32,
   "metadata": {},
   "outputs": [
    {
     "data": {
      "text/html": [
       "<div>\n",
       "<style scoped>\n",
       "    .dataframe tbody tr th:only-of-type {\n",
       "        vertical-align: middle;\n",
       "    }\n",
       "\n",
       "    .dataframe tbody tr th {\n",
       "        vertical-align: top;\n",
       "    }\n",
       "\n",
       "    .dataframe thead th {\n",
       "        text-align: right;\n",
       "    }\n",
       "</style>\n",
       "<table border=\"1\" class=\"dataframe\">\n",
       "  <thead>\n",
       "    <tr style=\"text-align: right;\">\n",
       "      <th></th>\n",
       "      <th>Crop</th>\n",
       "      <th>Total Production</th>\n",
       "      <th>Percentage of total production</th>\n",
       "    </tr>\n",
       "  </thead>\n",
       "  <tbody>\n",
       "    <tr>\n",
       "      <th>0</th>\n",
       "      <td>Arhar/Tur</td>\n",
       "      <td>118120</td>\n",
       "      <td>0.015114</td>\n",
       "    </tr>\n",
       "    <tr>\n",
       "      <th>1</th>\n",
       "      <td>Bajra</td>\n",
       "      <td>78100</td>\n",
       "      <td>0.009993</td>\n",
       "    </tr>\n",
       "    <tr>\n",
       "      <th>2</th>\n",
       "      <td>Barley</td>\n",
       "      <td>1393000</td>\n",
       "      <td>0.178235</td>\n",
       "    </tr>\n",
       "    <tr>\n",
       "      <th>3</th>\n",
       "      <td>Cotton(lint)</td>\n",
       "      <td>34634200</td>\n",
       "      <td>4.431468</td>\n",
       "    </tr>\n",
       "    <tr>\n",
       "      <th>4</th>\n",
       "      <td>Gram</td>\n",
       "      <td>97300</td>\n",
       "      <td>0.012450</td>\n",
       "    </tr>\n",
       "    <tr>\n",
       "      <th>5</th>\n",
       "      <td>Groundnut</td>\n",
       "      <td>76500</td>\n",
       "      <td>0.009788</td>\n",
       "    </tr>\n",
       "    <tr>\n",
       "      <th>6</th>\n",
       "      <td>Guar seed</td>\n",
       "      <td>369740</td>\n",
       "      <td>0.047308</td>\n",
       "    </tr>\n",
       "    <tr>\n",
       "      <th>7</th>\n",
       "      <td>Jowar</td>\n",
       "      <td>400</td>\n",
       "      <td>0.000051</td>\n",
       "    </tr>\n",
       "    <tr>\n",
       "      <th>8</th>\n",
       "      <td>Linseed</td>\n",
       "      <td>1700</td>\n",
       "      <td>0.000218</td>\n",
       "    </tr>\n",
       "    <tr>\n",
       "      <th>9</th>\n",
       "      <td>Maize</td>\n",
       "      <td>10150400</td>\n",
       "      <td>1.298750</td>\n",
       "    </tr>\n",
       "  </tbody>\n",
       "</table>\n",
       "</div>"
      ],
      "text/plain": [
       "           Crop  Total Production  Percentage of total production\n",
       "0     Arhar/Tur            118120                        0.015114\n",
       "1         Bajra             78100                        0.009993\n",
       "2        Barley           1393000                        0.178235\n",
       "3  Cotton(lint)          34634200                        4.431468\n",
       "4          Gram             97300                        0.012450\n",
       "5     Groundnut             76500                        0.009788\n",
       "6     Guar seed            369740                        0.047308\n",
       "7         Jowar               400                        0.000051\n",
       "8       Linseed              1700                        0.000218\n",
       "9         Maize          10150400                        1.298750"
      ]
     },
     "execution_count": 32,
     "metadata": {},
     "output_type": "execute_result"
    }
   ],
   "source": [
    "##Adding this percentage list to a new dataframe\n",
    "##lists - percentlist, crops_name, crops_production_total\n",
    "\n",
    "percentile_list_crops = pd.DataFrame(list(zip(crops_name,crops_production_total,percentlist)), columns=['Crop','Total Production', 'Percentage of total production'])\n",
    "\n",
    "percentile_list_crops.head(10)"
   ]
  },
  {
   "cell_type": "code",
   "execution_count": 33,
   "metadata": {},
   "outputs": [
    {
     "data": {
      "text/html": [
       "<div>\n",
       "<style scoped>\n",
       "    .dataframe tbody tr th:only-of-type {\n",
       "        vertical-align: middle;\n",
       "    }\n",
       "\n",
       "    .dataframe tbody tr th {\n",
       "        vertical-align: top;\n",
       "    }\n",
       "\n",
       "    .dataframe thead th {\n",
       "        text-align: right;\n",
       "    }\n",
       "</style>\n",
       "<table border=\"1\" class=\"dataframe\">\n",
       "  <thead>\n",
       "    <tr style=\"text-align: right;\">\n",
       "      <th></th>\n",
       "      <th>Crop</th>\n",
       "      <th>Total Production</th>\n",
       "      <th>Percentage of total production</th>\n",
       "    </tr>\n",
       "  </thead>\n",
       "  <tbody>\n",
       "    <tr>\n",
       "      <th>7</th>\n",
       "      <td>Jowar</td>\n",
       "      <td>400</td>\n",
       "      <td>0.000051</td>\n",
       "    </tr>\n",
       "    <tr>\n",
       "      <th>8</th>\n",
       "      <td>Linseed</td>\n",
       "      <td>1700</td>\n",
       "      <td>0.000218</td>\n",
       "    </tr>\n",
       "    <tr>\n",
       "      <th>12</th>\n",
       "      <td>Moth</td>\n",
       "      <td>1800</td>\n",
       "      <td>0.000230</td>\n",
       "    </tr>\n",
       "    <tr>\n",
       "      <th>22</th>\n",
       "      <td>other oilseeds</td>\n",
       "      <td>3300</td>\n",
       "      <td>0.000422</td>\n",
       "    </tr>\n",
       "    <tr>\n",
       "      <th>13</th>\n",
       "      <td>Other Rabi pulses</td>\n",
       "      <td>6300</td>\n",
       "      <td>0.000806</td>\n",
       "    </tr>\n",
       "    <tr>\n",
       "      <th>20</th>\n",
       "      <td>Urad</td>\n",
       "      <td>30350</td>\n",
       "      <td>0.003883</td>\n",
       "    </tr>\n",
       "    <tr>\n",
       "      <th>10</th>\n",
       "      <td>Masoor</td>\n",
       "      <td>30979</td>\n",
       "      <td>0.003964</td>\n",
       "    </tr>\n",
       "    <tr>\n",
       "      <th>14</th>\n",
       "      <td>Peas &amp; beans (Pulses)</td>\n",
       "      <td>48620</td>\n",
       "      <td>0.006221</td>\n",
       "    </tr>\n",
       "    <tr>\n",
       "      <th>17</th>\n",
       "      <td>Sesamum</td>\n",
       "      <td>71410</td>\n",
       "      <td>0.009137</td>\n",
       "    </tr>\n",
       "    <tr>\n",
       "      <th>5</th>\n",
       "      <td>Groundnut</td>\n",
       "      <td>76500</td>\n",
       "      <td>0.009788</td>\n",
       "    </tr>\n",
       "    <tr>\n",
       "      <th>1</th>\n",
       "      <td>Bajra</td>\n",
       "      <td>78100</td>\n",
       "      <td>0.009993</td>\n",
       "    </tr>\n",
       "    <tr>\n",
       "      <th>19</th>\n",
       "      <td>Sunflower</td>\n",
       "      <td>96600</td>\n",
       "      <td>0.012360</td>\n",
       "    </tr>\n",
       "    <tr>\n",
       "      <th>4</th>\n",
       "      <td>Gram</td>\n",
       "      <td>97300</td>\n",
       "      <td>0.012450</td>\n",
       "    </tr>\n",
       "    <tr>\n",
       "      <th>0</th>\n",
       "      <td>Arhar/Tur</td>\n",
       "      <td>118120</td>\n",
       "      <td>0.015114</td>\n",
       "    </tr>\n",
       "    <tr>\n",
       "      <th>11</th>\n",
       "      <td>Moong(Green Gram)</td>\n",
       "      <td>279490</td>\n",
       "      <td>0.035761</td>\n",
       "    </tr>\n",
       "    <tr>\n",
       "      <th>6</th>\n",
       "      <td>Guar seed</td>\n",
       "      <td>369740</td>\n",
       "      <td>0.047308</td>\n",
       "    </tr>\n",
       "    <tr>\n",
       "      <th>15</th>\n",
       "      <td>Rapeseed &amp;Mustard</td>\n",
       "      <td>1012100</td>\n",
       "      <td>0.129499</td>\n",
       "    </tr>\n",
       "    <tr>\n",
       "      <th>2</th>\n",
       "      <td>Barley</td>\n",
       "      <td>1393000</td>\n",
       "      <td>0.178235</td>\n",
       "    </tr>\n",
       "    <tr>\n",
       "      <th>9</th>\n",
       "      <td>Maize</td>\n",
       "      <td>10150400</td>\n",
       "      <td>1.298750</td>\n",
       "    </tr>\n",
       "    <tr>\n",
       "      <th>3</th>\n",
       "      <td>Cotton(lint)</td>\n",
       "      <td>34634200</td>\n",
       "      <td>4.431468</td>\n",
       "    </tr>\n",
       "    <tr>\n",
       "      <th>18</th>\n",
       "      <td>Sugarcane</td>\n",
       "      <td>125639000</td>\n",
       "      <td>16.075590</td>\n",
       "    </tr>\n",
       "    <tr>\n",
       "      <th>16</th>\n",
       "      <td>Rice</td>\n",
       "      <td>243042000</td>\n",
       "      <td>31.097379</td>\n",
       "    </tr>\n",
       "    <tr>\n",
       "      <th>21</th>\n",
       "      <td>Wheat</td>\n",
       "      <td>364370000</td>\n",
       "      <td>46.621373</td>\n",
       "    </tr>\n",
       "  </tbody>\n",
       "</table>\n",
       "</div>"
      ],
      "text/plain": [
       "                     Crop  Total Production  Percentage of total production\n",
       "7                   Jowar               400                        0.000051\n",
       "8                 Linseed              1700                        0.000218\n",
       "12                   Moth              1800                        0.000230\n",
       "22         other oilseeds              3300                        0.000422\n",
       "13      Other Rabi pulses              6300                        0.000806\n",
       "20                   Urad             30350                        0.003883\n",
       "10                 Masoor             30979                        0.003964\n",
       "14  Peas & beans (Pulses)             48620                        0.006221\n",
       "17                Sesamum             71410                        0.009137\n",
       "5               Groundnut             76500                        0.009788\n",
       "1                   Bajra             78100                        0.009993\n",
       "19              Sunflower             96600                        0.012360\n",
       "4                    Gram             97300                        0.012450\n",
       "0               Arhar/Tur            118120                        0.015114\n",
       "11      Moong(Green Gram)            279490                        0.035761\n",
       "6               Guar seed            369740                        0.047308\n",
       "15      Rapeseed &Mustard           1012100                        0.129499\n",
       "2                  Barley           1393000                        0.178235\n",
       "9                   Maize          10150400                        1.298750\n",
       "3            Cotton(lint)          34634200                        4.431468\n",
       "18              Sugarcane         125639000                       16.075590\n",
       "16                   Rice         243042000                       31.097379\n",
       "21                  Wheat         364370000                       46.621373"
      ]
     },
     "execution_count": 33,
     "metadata": {},
     "output_type": "execute_result"
    }
   ],
   "source": [
    "##Sorting this \n",
    "percentile_list_crops.sort_values(by=['Percentage of total production'])"
   ]
  },
  {
   "cell_type": "code",
   "execution_count": 34,
   "metadata": {},
   "outputs": [
    {
     "data": {
      "application/vnd.vegalite.v4+json": {
       "$schema": "https://vega.github.io/schema/vega-lite/v4.17.0.json",
       "config": {
        "view": {
         "continuousHeight": 300,
         "continuousWidth": 400
        }
       },
       "data": {
        "name": "data-08d29a34d713ca02775ed0bb40eff320"
       },
       "datasets": {
        "data-08d29a34d713ca02775ed0bb40eff320": [
         {
          "Crop": "Arhar/Tur",
          "Percentage of total production": 0.015113529147255366,
          "Total Production": 118120
         },
         {
          "Crop": "Bajra",
          "Percentage of total production": 0.00999294468676468,
          "Total Production": 78100
         },
         {
          "Crop": "Barley",
          "Percentage of total production": 0.17823523621847887,
          "Total Production": 1393000
         },
         {
          "Crop": "Cotton(lint)",
          "Percentage of total production": 4.431467924076124,
          "Total Production": 34634200
         },
         {
          "Crop": "Gram",
          "Percentage of total production": 0.012449596901692745,
          "Total Production": 97300
         },
         {
          "Crop": "Groundnut",
          "Percentage of total production": 0.009788223668854009,
          "Total Production": 76500
         },
         {
          "Crop": "Guar seed",
          "Percentage of total production": 0.047308468226432435,
          "Total Production": 369740
         },
         {
          "Crop": "Jowar",
          "Percentage of total production": 0.000051180254477668025,
          "Total Production": 400
         },
         {
          "Crop": "Linseed",
          "Percentage of total production": 0.00021751608153008909,
          "Total Production": 1700
         },
         {
          "Crop": "Maize",
          "Percentage of total production": 1.2987501376253037,
          "Total Production": 10150400
         },
         {
          "Crop": "Masoor",
          "Percentage of total production": 0.003963782758659194,
          "Total Production": 30979
         },
         {
          "Crop": "Moong(Green Gram)",
          "Percentage of total production": 0.035760923309908585,
          "Total Production": 279490
         },
         {
          "Crop": "Moth",
          "Percentage of total production": 0.00023031114514950607,
          "Total Production": 1800
         },
         {
          "Crop": "Other Rabi pulses",
          "Percentage of total production": 0.0008060890080232712,
          "Total Production": 6300
         },
         {
          "Crop": "Peas & beans (Pulses)",
          "Percentage of total production": 0.006220959931760547,
          "Total Production": 48620
         },
         {
          "Crop": "Rapeseed &Mustard",
          "Percentage of total production": 0.12949883889211952,
          "Total Production": 1012100
         },
         {
          "Crop": "Rice",
          "Percentage of total production": 31.09737852190348,
          "Total Production": 243042000
         },
         {
          "Crop": "Sesamum",
          "Percentage of total production": 0.009136954930625683,
          "Total Production": 71410
         },
         {
          "Crop": "Sugarcane",
          "Percentage of total production": 16.075589980799332,
          "Total Production": 125639000
         },
         {
          "Crop": "Sunflower",
          "Percentage of total production": 0.012360031456356828,
          "Total Production": 96600
         },
         {
          "Crop": "Urad",
          "Percentage of total production": 0.003883301808493061,
          "Total Production": 30350
         },
         {
          "Crop": "Wheat",
          "Percentage of total production": 46.62137331006974,
          "Total Production": 364370000
         },
         {
          "Crop": "other oilseeds",
          "Percentage of total production": 0.0004222370994407612,
          "Total Production": 3300
         }
        ]
       },
       "encoding": {
        "x": {
         "field": "Crop",
         "type": "nominal"
        },
        "y": {
         "field": "Percentage of total production",
         "type": "quantitative"
        }
       },
       "mark": "bar"
      },
      "text/plain": [
       "<VegaLite 4 object>\n",
       "\n",
       "If you see this message, it means the renderer has not been properly enabled\n",
       "for the frontend that you are using. For more information, see\n",
       "https://altair-viz.github.io/user_guide/troubleshooting.html\n"
      ]
     },
     "execution_count": 34,
     "metadata": {},
     "output_type": "execute_result"
    }
   ],
   "source": [
    "##Plotting a bar chart to represent the following information\n",
    "percentilechart = alt.Chart(percentile_list_crops).mark_bar().encode(\n",
    "    x='Crop',\n",
    "    y='Percentage of total production'\n",
    ")\n",
    "\n",
    "percentilechart"
   ]
  },
  {
   "cell_type": "markdown",
   "metadata": {},
   "source": []
  },
  {
   "cell_type": "markdown",
   "metadata": {},
   "source": [
    "![](percent%20of%20total.png)"
   ]
  },
  {
   "cell_type": "markdown",
   "metadata": {},
   "source": [
    "It is clear that compared to major crops such as wheat, rice, sugarcane and cotton, cultivation of other crops is largely miniscule. This can also be seen by the pie chart below:"
   ]
  },
  {
   "cell_type": "code",
   "execution_count": 35,
   "metadata": {},
   "outputs": [],
   "source": [
    "# ##Using matplotlib to create a pie chart to show the same distribution of percentage\n",
    "# ##plt.pie(percentlist)\n",
    "# plt.axis('equal')\n",
    "# plt.legend(crops_name, loc = 5)\n",
    "# plt.show()"
   ]
  },
  {
   "cell_type": "markdown",
   "metadata": {},
   "source": [
    "Wheat, rice, sugarcane and cotton are the major crops grown in Punjab."
   ]
  },
  {
   "cell_type": "code",
   "execution_count": 36,
   "metadata": {},
   "outputs": [
    {
     "data": {
      "text/html": [
       "<div>\n",
       "<style scoped>\n",
       "    .dataframe tbody tr th:only-of-type {\n",
       "        vertical-align: middle;\n",
       "    }\n",
       "\n",
       "    .dataframe tbody tr th {\n",
       "        vertical-align: top;\n",
       "    }\n",
       "\n",
       "    .dataframe thead th {\n",
       "        text-align: right;\n",
       "    }\n",
       "</style>\n",
       "<table border=\"1\" class=\"dataframe\">\n",
       "  <thead>\n",
       "    <tr style=\"text-align: right;\">\n",
       "      <th></th>\n",
       "      <th>State</th>\n",
       "      <th>District</th>\n",
       "      <th>Crop</th>\n",
       "      <th>Year</th>\n",
       "      <th>Season</th>\n",
       "      <th>Area</th>\n",
       "      <th>Area Units</th>\n",
       "      <th>Production</th>\n",
       "      <th>Production Units</th>\n",
       "      <th>Yield</th>\n",
       "    </tr>\n",
       "  </thead>\n",
       "  <tbody>\n",
       "    <tr>\n",
       "      <th>0</th>\n",
       "      <td>Punjab</td>\n",
       "      <td>AMRITSAR</td>\n",
       "      <td>Rice</td>\n",
       "      <td>2001</td>\n",
       "      <td>Kharif</td>\n",
       "      <td>319000.0</td>\n",
       "      <td>Hectare</td>\n",
       "      <td>958000.0</td>\n",
       "      <td>Tonnes</td>\n",
       "      <td>3.003135</td>\n",
       "    </tr>\n",
       "    <tr>\n",
       "      <th>1</th>\n",
       "      <td>Punjab</td>\n",
       "      <td>AMRITSAR</td>\n",
       "      <td>Rice</td>\n",
       "      <td>2002</td>\n",
       "      <td>Kharif</td>\n",
       "      <td>311000.0</td>\n",
       "      <td>Hectare</td>\n",
       "      <td>879000.0</td>\n",
       "      <td>Tonnes</td>\n",
       "      <td>2.826367</td>\n",
       "    </tr>\n",
       "    <tr>\n",
       "      <th>2</th>\n",
       "      <td>Punjab</td>\n",
       "      <td>AMRITSAR</td>\n",
       "      <td>Rice</td>\n",
       "      <td>2003</td>\n",
       "      <td>Kharif</td>\n",
       "      <td>326000.0</td>\n",
       "      <td>Hectare</td>\n",
       "      <td>872000.0</td>\n",
       "      <td>Tonnes</td>\n",
       "      <td>2.674847</td>\n",
       "    </tr>\n",
       "    <tr>\n",
       "      <th>3</th>\n",
       "      <td>Punjab</td>\n",
       "      <td>BATHINDA</td>\n",
       "      <td>Rice</td>\n",
       "      <td>2001</td>\n",
       "      <td>Kharif</td>\n",
       "      <td>82000.0</td>\n",
       "      <td>Hectare</td>\n",
       "      <td>307000.0</td>\n",
       "      <td>Tonnes</td>\n",
       "      <td>3.743902</td>\n",
       "    </tr>\n",
       "    <tr>\n",
       "      <th>4</th>\n",
       "      <td>Punjab</td>\n",
       "      <td>BATHINDA</td>\n",
       "      <td>Rice</td>\n",
       "      <td>2002</td>\n",
       "      <td>Kharif</td>\n",
       "      <td>107000.0</td>\n",
       "      <td>Hectare</td>\n",
       "      <td>367000.0</td>\n",
       "      <td>Tonnes</td>\n",
       "      <td>3.429907</td>\n",
       "    </tr>\n",
       "    <tr>\n",
       "      <th>...</th>\n",
       "      <td>...</td>\n",
       "      <td>...</td>\n",
       "      <td>...</td>\n",
       "      <td>...</td>\n",
       "      <td>...</td>\n",
       "      <td>...</td>\n",
       "      <td>...</td>\n",
       "      <td>...</td>\n",
       "      <td>...</td>\n",
       "      <td>...</td>\n",
       "    </tr>\n",
       "    <tr>\n",
       "      <th>443</th>\n",
       "      <td>Punjab</td>\n",
       "      <td>RUPNAGAR</td>\n",
       "      <td>Rice</td>\n",
       "      <td>2000</td>\n",
       "      <td>Kharif</td>\n",
       "      <td>49000.0</td>\n",
       "      <td>Hectare</td>\n",
       "      <td>163000.0</td>\n",
       "      <td>Tonnes</td>\n",
       "      <td>3.326531</td>\n",
       "    </tr>\n",
       "    <tr>\n",
       "      <th>444</th>\n",
       "      <td>Punjab</td>\n",
       "      <td>SANGRUR</td>\n",
       "      <td>Rice</td>\n",
       "      <td>1997</td>\n",
       "      <td>Kharif</td>\n",
       "      <td>333000.0</td>\n",
       "      <td>Hectare</td>\n",
       "      <td>1277000.0</td>\n",
       "      <td>Tonnes</td>\n",
       "      <td>3.834835</td>\n",
       "    </tr>\n",
       "    <tr>\n",
       "      <th>445</th>\n",
       "      <td>Punjab</td>\n",
       "      <td>SANGRUR</td>\n",
       "      <td>Rice</td>\n",
       "      <td>1998</td>\n",
       "      <td>Kharif</td>\n",
       "      <td>353000.0</td>\n",
       "      <td>Hectare</td>\n",
       "      <td>1262000.0</td>\n",
       "      <td>Tonnes</td>\n",
       "      <td>3.575071</td>\n",
       "    </tr>\n",
       "    <tr>\n",
       "      <th>446</th>\n",
       "      <td>Punjab</td>\n",
       "      <td>SANGRUR</td>\n",
       "      <td>Rice</td>\n",
       "      <td>1999</td>\n",
       "      <td>Kharif</td>\n",
       "      <td>360000.0</td>\n",
       "      <td>Hectare</td>\n",
       "      <td>1282000.0</td>\n",
       "      <td>Tonnes</td>\n",
       "      <td>3.561111</td>\n",
       "    </tr>\n",
       "    <tr>\n",
       "      <th>447</th>\n",
       "      <td>Punjab</td>\n",
       "      <td>SANGRUR</td>\n",
       "      <td>Rice</td>\n",
       "      <td>2000</td>\n",
       "      <td>Kharif</td>\n",
       "      <td>357000.0</td>\n",
       "      <td>Hectare</td>\n",
       "      <td>1342000.0</td>\n",
       "      <td>Tonnes</td>\n",
       "      <td>3.759104</td>\n",
       "    </tr>\n",
       "  </tbody>\n",
       "</table>\n",
       "<p>448 rows × 10 columns</p>\n",
       "</div>"
      ],
      "text/plain": [
       "      State  District  Crop  Year  Season      Area Area Units  Production  \\\n",
       "0    Punjab  AMRITSAR  Rice  2001  Kharif  319000.0    Hectare    958000.0   \n",
       "1    Punjab  AMRITSAR  Rice  2002  Kharif  311000.0    Hectare    879000.0   \n",
       "2    Punjab  AMRITSAR  Rice  2003  Kharif  326000.0    Hectare    872000.0   \n",
       "3    Punjab  BATHINDA  Rice  2001  Kharif   82000.0    Hectare    307000.0   \n",
       "4    Punjab  BATHINDA  Rice  2002  Kharif  107000.0    Hectare    367000.0   \n",
       "..      ...       ...   ...   ...     ...       ...        ...         ...   \n",
       "443  Punjab  RUPNAGAR  Rice  2000  Kharif   49000.0    Hectare    163000.0   \n",
       "444  Punjab   SANGRUR  Rice  1997  Kharif  333000.0    Hectare   1277000.0   \n",
       "445  Punjab   SANGRUR  Rice  1998  Kharif  353000.0    Hectare   1262000.0   \n",
       "446  Punjab   SANGRUR  Rice  1999  Kharif  360000.0    Hectare   1282000.0   \n",
       "447  Punjab   SANGRUR  Rice  2000  Kharif  357000.0    Hectare   1342000.0   \n",
       "\n",
       "    Production Units     Yield  \n",
       "0             Tonnes  3.003135  \n",
       "1             Tonnes  2.826367  \n",
       "2             Tonnes  2.674847  \n",
       "3             Tonnes  3.743902  \n",
       "4             Tonnes  3.429907  \n",
       "..               ...       ...  \n",
       "443           Tonnes  3.326531  \n",
       "444           Tonnes  3.834835  \n",
       "445           Tonnes  3.575071  \n",
       "446           Tonnes  3.561111  \n",
       "447           Tonnes  3.759104  \n",
       "\n",
       "[448 rows x 10 columns]"
      ]
     },
     "execution_count": 36,
     "metadata": {},
     "output_type": "execute_result"
    }
   ],
   "source": [
    "df_pj_rice =  df[(df['State'] == 'Punjab') & (df['Crop'] == 'Rice')].reset_index(drop=True)\n",
    "df_pj_rice"
   ]
  },
  {
   "cell_type": "code",
   "execution_count": 37,
   "metadata": {},
   "outputs": [
    {
     "data": {
      "text/html": [
       "<div>\n",
       "<style scoped>\n",
       "    .dataframe tbody tr th:only-of-type {\n",
       "        vertical-align: middle;\n",
       "    }\n",
       "\n",
       "    .dataframe tbody tr th {\n",
       "        vertical-align: top;\n",
       "    }\n",
       "\n",
       "    .dataframe thead th {\n",
       "        text-align: right;\n",
       "    }\n",
       "</style>\n",
       "<table border=\"1\" class=\"dataframe\">\n",
       "  <thead>\n",
       "    <tr style=\"text-align: right;\">\n",
       "      <th></th>\n",
       "      <th>Year</th>\n",
       "      <th>Production</th>\n",
       "    </tr>\n",
       "  </thead>\n",
       "  <tbody>\n",
       "    <tr>\n",
       "      <th>0</th>\n",
       "      <td>1997</td>\n",
       "      <td>7904000.0</td>\n",
       "    </tr>\n",
       "    <tr>\n",
       "      <th>1</th>\n",
       "      <td>1998</td>\n",
       "      <td>7940000.0</td>\n",
       "    </tr>\n",
       "    <tr>\n",
       "      <th>2</th>\n",
       "      <td>1999</td>\n",
       "      <td>8716000.0</td>\n",
       "    </tr>\n",
       "    <tr>\n",
       "      <th>3</th>\n",
       "      <td>2000</td>\n",
       "      <td>9154000.0</td>\n",
       "    </tr>\n",
       "    <tr>\n",
       "      <th>4</th>\n",
       "      <td>2001</td>\n",
       "      <td>8816000.0</td>\n",
       "    </tr>\n",
       "    <tr>\n",
       "      <th>5</th>\n",
       "      <td>2002</td>\n",
       "      <td>8880000.0</td>\n",
       "    </tr>\n",
       "    <tr>\n",
       "      <th>6</th>\n",
       "      <td>2003</td>\n",
       "      <td>9656000.0</td>\n",
       "    </tr>\n",
       "    <tr>\n",
       "      <th>7</th>\n",
       "      <td>2004</td>\n",
       "      <td>10437000.0</td>\n",
       "    </tr>\n",
       "    <tr>\n",
       "      <th>8</th>\n",
       "      <td>2005</td>\n",
       "      <td>10193000.0</td>\n",
       "    </tr>\n",
       "    <tr>\n",
       "      <th>9</th>\n",
       "      <td>2006</td>\n",
       "      <td>10138000.0</td>\n",
       "    </tr>\n",
       "    <tr>\n",
       "      <th>10</th>\n",
       "      <td>2007</td>\n",
       "      <td>10489000.0</td>\n",
       "    </tr>\n",
       "    <tr>\n",
       "      <th>11</th>\n",
       "      <td>2008</td>\n",
       "      <td>11000000.0</td>\n",
       "    </tr>\n",
       "    <tr>\n",
       "      <th>12</th>\n",
       "      <td>2009</td>\n",
       "      <td>11236000.0</td>\n",
       "    </tr>\n",
       "    <tr>\n",
       "      <th>13</th>\n",
       "      <td>2010</td>\n",
       "      <td>10837000.0</td>\n",
       "    </tr>\n",
       "    <tr>\n",
       "      <th>14</th>\n",
       "      <td>2011</td>\n",
       "      <td>10542000.0</td>\n",
       "    </tr>\n",
       "    <tr>\n",
       "      <th>15</th>\n",
       "      <td>2012</td>\n",
       "      <td>11390000.0</td>\n",
       "    </tr>\n",
       "    <tr>\n",
       "      <th>16</th>\n",
       "      <td>2013</td>\n",
       "      <td>11267000.0</td>\n",
       "    </tr>\n",
       "    <tr>\n",
       "      <th>17</th>\n",
       "      <td>2014</td>\n",
       "      <td>11107000.0</td>\n",
       "    </tr>\n",
       "    <tr>\n",
       "      <th>18</th>\n",
       "      <td>2015</td>\n",
       "      <td>11823000.0</td>\n",
       "    </tr>\n",
       "    <tr>\n",
       "      <th>19</th>\n",
       "      <td>2016</td>\n",
       "      <td>12638000.0</td>\n",
       "    </tr>\n",
       "    <tr>\n",
       "      <th>20</th>\n",
       "      <td>2017</td>\n",
       "      <td>13382000.0</td>\n",
       "    </tr>\n",
       "    <tr>\n",
       "      <th>21</th>\n",
       "      <td>2018</td>\n",
       "      <td>12822000.0</td>\n",
       "    </tr>\n",
       "    <tr>\n",
       "      <th>22</th>\n",
       "      <td>2019</td>\n",
       "      <td>12675000.0</td>\n",
       "    </tr>\n",
       "  </tbody>\n",
       "</table>\n",
       "</div>"
      ],
      "text/plain": [
       "    Year  Production\n",
       "0   1997   7904000.0\n",
       "1   1998   7940000.0\n",
       "2   1999   8716000.0\n",
       "3   2000   9154000.0\n",
       "4   2001   8816000.0\n",
       "5   2002   8880000.0\n",
       "6   2003   9656000.0\n",
       "7   2004  10437000.0\n",
       "8   2005  10193000.0\n",
       "9   2006  10138000.0\n",
       "10  2007  10489000.0\n",
       "11  2008  11000000.0\n",
       "12  2009  11236000.0\n",
       "13  2010  10837000.0\n",
       "14  2011  10542000.0\n",
       "15  2012  11390000.0\n",
       "16  2013  11267000.0\n",
       "17  2014  11107000.0\n",
       "18  2015  11823000.0\n",
       "19  2016  12638000.0\n",
       "20  2017  13382000.0\n",
       "21  2018  12822000.0\n",
       "22  2019  12675000.0"
      ]
     },
     "execution_count": 37,
     "metadata": {},
     "output_type": "execute_result"
    }
   ],
   "source": [
    "pj_rice_prod = df_pj_rice.groupby(['Year']).sum()[['Production']].reset_index()\n",
    "pj_rice_prod"
   ]
  },
  {
   "cell_type": "code",
   "execution_count": 38,
   "metadata": {},
   "outputs": [
    {
     "data": {
      "text/plain": [
       "<AxesSubplot:xlabel='Year'>"
      ]
     },
     "execution_count": 38,
     "metadata": {},
     "output_type": "execute_result"
    },
    {
     "data": {
      "image/png": "[encoded data removed]",
      "text/plain": [
       "<Figure size 432x288 with 1 Axes>"
      ]
     },
     "metadata": {
      "needs_background": "light"
     },
     "output_type": "display_data"
    }
   ],
   "source": [
    "pj_rice_prod.plot.line(x='Year', y='Production') "
   ]
  },
  {
   "cell_type": "code",
   "execution_count": 39,
   "metadata": {},
   "outputs": [
    {
     "data": {
      "application/vnd.vegalite.v4+json": {
       "$schema": "https://vega.github.io/schema/vega-lite/v4.17.0.json",
       "config": {
        "view": {
         "continuousHeight": 300,
         "continuousWidth": 400
        }
       },
       "data": {
        "name": "data-17986aa454ff5778c9174435f7d89f97"
       },
       "datasets": {
        "data-17986aa454ff5778c9174435f7d89f97": [
         {
          "Production": 7904000,
          "Year": 1997
         },
         {
          "Production": 7940000,
          "Year": 1998
         },
         {
          "Production": 8716000,
          "Year": 1999
         },
         {
          "Production": 9154000,
          "Year": 2000
         },
         {
          "Production": 8816000,
          "Year": 2001
         },
         {
          "Production": 8880000,
          "Year": 2002
         },
         {
          "Production": 9656000,
          "Year": 2003
         },
         {
          "Production": 10437000,
          "Year": 2004
         },
         {
          "Production": 10193000,
          "Year": 2005
         },
         {
          "Production": 10138000,
          "Year": 2006
         },
         {
          "Production": 10489000,
          "Year": 2007
         },
         {
          "Production": 11000000,
          "Year": 2008
         },
         {
          "Production": 11236000,
          "Year": 2009
         },
         {
          "Production": 10837000,
          "Year": 2010
         },
         {
          "Production": 10542000,
          "Year": 2011
         },
         {
          "Production": 11390000,
          "Year": 2012
         },
         {
          "Production": 11267000,
          "Year": 2013
         },
         {
          "Production": 11107000,
          "Year": 2014
         },
         {
          "Production": 11823000,
          "Year": 2015
         },
         {
          "Production": 12638000,
          "Year": 2016
         },
         {
          "Production": 13382000,
          "Year": 2017
         },
         {
          "Production": 12822000,
          "Year": 2018
         },
         {
          "Production": 12675000,
          "Year": 2019
         }
        ]
       },
       "height": 900,
       "layer": [
        {
         "encoding": {
          "x": {
           "field": "Production",
           "type": "quantitative"
          },
          "y": {
           "field": "Year",
           "type": "ordinal"
          }
         },
         "mark": "bar"
        },
        {
         "encoding": {
          "text": {
           "field": "wheat",
           "type": "quantitative"
          },
          "x": {
           "field": "Production",
           "type": "quantitative"
          },
          "y": {
           "field": "Year",
           "type": "ordinal"
          }
         },
         "mark": {
          "align": "left",
          "baseline": "middle",
          "dx": 3,
          "type": "text"
         }
        }
       ]
      },
      "text/plain": [
       "<VegaLite 4 object>\n",
       "\n",
       "If you see this message, it means the renderer has not been properly enabled\n",
       "for the frontend that you are using. For more information, see\n",
       "https://altair-viz.github.io/user_guide/troubleshooting.html\n"
      ]
     },
     "execution_count": 39,
     "metadata": {},
     "output_type": "execute_result"
    }
   ],
   "source": [
    "source =  pj_rice_prod\n",
    "\n",
    "bars = alt.Chart(source).mark_bar().encode(\n",
    "    x='Production:Q',\n",
    "    y=\"Year:O\"\n",
    ")\n",
    "\n",
    "text = bars.mark_text(\n",
    "    align='left',\n",
    "    baseline='middle',\n",
    "    dx=3  # Nudges text to right so it doesn't appear on top of the bar\n",
    ").encode(\n",
    "    text='wheat:Q'\n",
    ")\n",
    "\n",
    "(bars + text).properties(height=900)"
   ]
  },
  {
   "cell_type": "markdown",
   "metadata": {},
   "source": [
    "For all the data viz developed using Altair, I will be dropping in the image files into the markdown so that it can render on Github. "
   ]
  },
  {
   "cell_type": "markdown",
   "metadata": {},
   "source": [
    "![](V1.png)"
   ]
  },
  {
   "cell_type": "code",
   "execution_count": 40,
   "metadata": {},
   "outputs": [
    {
     "data": {
      "application/vnd.vegalite.v4+json": {
       "$schema": "https://vega.github.io/schema/vega-lite/v4.17.0.json",
       "config": {
        "view": {
         "continuousHeight": 300,
         "continuousWidth": 400
        }
       },
       "data": {
        "name": "data-17986aa454ff5778c9174435f7d89f97"
       },
       "datasets": {
        "data-17986aa454ff5778c9174435f7d89f97": [
         {
          "Production": 7904000,
          "Year": 1997
         },
         {
          "Production": 7940000,
          "Year": 1998
         },
         {
          "Production": 8716000,
          "Year": 1999
         },
         {
          "Production": 9154000,
          "Year": 2000
         },
         {
          "Production": 8816000,
          "Year": 2001
         },
         {
          "Production": 8880000,
          "Year": 2002
         },
         {
          "Production": 9656000,
          "Year": 2003
         },
         {
          "Production": 10437000,
          "Year": 2004
         },
         {
          "Production": 10193000,
          "Year": 2005
         },
         {
          "Production": 10138000,
          "Year": 2006
         },
         {
          "Production": 10489000,
          "Year": 2007
         },
         {
          "Production": 11000000,
          "Year": 2008
         },
         {
          "Production": 11236000,
          "Year": 2009
         },
         {
          "Production": 10837000,
          "Year": 2010
         },
         {
          "Production": 10542000,
          "Year": 2011
         },
         {
          "Production": 11390000,
          "Year": 2012
         },
         {
          "Production": 11267000,
          "Year": 2013
         },
         {
          "Production": 11107000,
          "Year": 2014
         },
         {
          "Production": 11823000,
          "Year": 2015
         },
         {
          "Production": 12638000,
          "Year": 2016
         },
         {
          "Production": 13382000,
          "Year": 2017
         },
         {
          "Production": 12822000,
          "Year": 2018
         },
         {
          "Production": 12675000,
          "Year": 2019
         }
        ]
       },
       "encoding": {
        "x": {
         "field": "Year",
         "type": "quantitative"
        },
        "y": {
         "field": "Production",
         "type": "quantitative"
        }
       },
       "mark": "line",
       "title": "Rice production, in tonnes, Punjab from 1997-2020"
      },
      "text/plain": [
       "<VegaLite 4 object>\n",
       "\n",
       "If you see this message, it means the renderer has not been properly enabled\n",
       "for the frontend that you are using. For more information, see\n",
       "https://altair-viz.github.io/user_guide/troubleshooting.html\n"
      ]
     },
     "execution_count": 40,
     "metadata": {},
     "output_type": "execute_result"
    }
   ],
   "source": [
    "\n",
    "alt.Chart(pj_rice_prod).mark_line().encode(\n",
    "    x='Year',\n",
    "    y=('Production')\n",
    ").properties(\n",
    "    title='Rice production, in tonnes, Punjab from 1997-2020')"
   ]
  },
  {
   "cell_type": "markdown",
   "metadata": {},
   "source": [
    "![](v2.png)"
   ]
  },
  {
   "cell_type": "code",
   "execution_count": 41,
   "metadata": {},
   "outputs": [
    {
     "data": {
      "text/html": [
       "<div>\n",
       "<style scoped>\n",
       "    .dataframe tbody tr th:only-of-type {\n",
       "        vertical-align: middle;\n",
       "    }\n",
       "\n",
       "    .dataframe tbody tr th {\n",
       "        vertical-align: top;\n",
       "    }\n",
       "\n",
       "    .dataframe thead th {\n",
       "        text-align: right;\n",
       "    }\n",
       "</style>\n",
       "<table border=\"1\" class=\"dataframe\">\n",
       "  <thead>\n",
       "    <tr style=\"text-align: right;\">\n",
       "      <th></th>\n",
       "      <th>State</th>\n",
       "      <th>District</th>\n",
       "      <th>Crop</th>\n",
       "      <th>Year</th>\n",
       "      <th>Season</th>\n",
       "      <th>Area</th>\n",
       "      <th>Area Units</th>\n",
       "      <th>Production</th>\n",
       "      <th>Production Units</th>\n",
       "      <th>Yield</th>\n",
       "    </tr>\n",
       "  </thead>\n",
       "  <tbody>\n",
       "    <tr>\n",
       "      <th>29303</th>\n",
       "      <td>Punjab</td>\n",
       "      <td>AMRITSAR</td>\n",
       "      <td>Rice</td>\n",
       "      <td>2001</td>\n",
       "      <td>Kharif</td>\n",
       "      <td>319000.0</td>\n",
       "      <td>Hectare</td>\n",
       "      <td>958000.0</td>\n",
       "      <td>Tonnes</td>\n",
       "      <td>3.003135</td>\n",
       "    </tr>\n",
       "    <tr>\n",
       "      <th>29304</th>\n",
       "      <td>Punjab</td>\n",
       "      <td>AMRITSAR</td>\n",
       "      <td>Rice</td>\n",
       "      <td>2002</td>\n",
       "      <td>Kharif</td>\n",
       "      <td>311000.0</td>\n",
       "      <td>Hectare</td>\n",
       "      <td>879000.0</td>\n",
       "      <td>Tonnes</td>\n",
       "      <td>2.826367</td>\n",
       "    </tr>\n",
       "    <tr>\n",
       "      <th>29305</th>\n",
       "      <td>Punjab</td>\n",
       "      <td>AMRITSAR</td>\n",
       "      <td>Rice</td>\n",
       "      <td>2003</td>\n",
       "      <td>Kharif</td>\n",
       "      <td>326000.0</td>\n",
       "      <td>Hectare</td>\n",
       "      <td>872000.0</td>\n",
       "      <td>Tonnes</td>\n",
       "      <td>2.674847</td>\n",
       "    </tr>\n",
       "    <tr>\n",
       "      <th>29306</th>\n",
       "      <td>Punjab</td>\n",
       "      <td>BATHINDA</td>\n",
       "      <td>Rice</td>\n",
       "      <td>2001</td>\n",
       "      <td>Kharif</td>\n",
       "      <td>82000.0</td>\n",
       "      <td>Hectare</td>\n",
       "      <td>307000.0</td>\n",
       "      <td>Tonnes</td>\n",
       "      <td>3.743902</td>\n",
       "    </tr>\n",
       "    <tr>\n",
       "      <th>29307</th>\n",
       "      <td>Punjab</td>\n",
       "      <td>BATHINDA</td>\n",
       "      <td>Rice</td>\n",
       "      <td>2002</td>\n",
       "      <td>Kharif</td>\n",
       "      <td>107000.0</td>\n",
       "      <td>Hectare</td>\n",
       "      <td>367000.0</td>\n",
       "      <td>Tonnes</td>\n",
       "      <td>3.429907</td>\n",
       "    </tr>\n",
       "    <tr>\n",
       "      <th>29308</th>\n",
       "      <td>Punjab</td>\n",
       "      <td>BATHINDA</td>\n",
       "      <td>Rice</td>\n",
       "      <td>2003</td>\n",
       "      <td>Kharif</td>\n",
       "      <td>105000.0</td>\n",
       "      <td>Hectare</td>\n",
       "      <td>419000.0</td>\n",
       "      <td>Tonnes</td>\n",
       "      <td>3.990476</td>\n",
       "    </tr>\n",
       "    <tr>\n",
       "      <th>29309</th>\n",
       "      <td>Punjab</td>\n",
       "      <td>FARIDKOT</td>\n",
       "      <td>Rice</td>\n",
       "      <td>2001</td>\n",
       "      <td>Kharif</td>\n",
       "      <td>70000.0</td>\n",
       "      <td>Hectare</td>\n",
       "      <td>267000.0</td>\n",
       "      <td>Tonnes</td>\n",
       "      <td>3.814286</td>\n",
       "    </tr>\n",
       "    <tr>\n",
       "      <th>29310</th>\n",
       "      <td>Punjab</td>\n",
       "      <td>FARIDKOT</td>\n",
       "      <td>Rice</td>\n",
       "      <td>2002</td>\n",
       "      <td>Kharif</td>\n",
       "      <td>86000.0</td>\n",
       "      <td>Hectare</td>\n",
       "      <td>280000.0</td>\n",
       "      <td>Tonnes</td>\n",
       "      <td>3.255814</td>\n",
       "    </tr>\n",
       "    <tr>\n",
       "      <th>29311</th>\n",
       "      <td>Punjab</td>\n",
       "      <td>FARIDKOT</td>\n",
       "      <td>Rice</td>\n",
       "      <td>2003</td>\n",
       "      <td>Kharif</td>\n",
       "      <td>84000.0</td>\n",
       "      <td>Hectare</td>\n",
       "      <td>308000.0</td>\n",
       "      <td>Tonnes</td>\n",
       "      <td>3.666667</td>\n",
       "    </tr>\n",
       "    <tr>\n",
       "      <th>29312</th>\n",
       "      <td>Punjab</td>\n",
       "      <td>FATEHGARH SAHIB</td>\n",
       "      <td>Rice</td>\n",
       "      <td>2001</td>\n",
       "      <td>Kharif</td>\n",
       "      <td>81000.0</td>\n",
       "      <td>Hectare</td>\n",
       "      <td>324000.0</td>\n",
       "      <td>Tonnes</td>\n",
       "      <td>4.000000</td>\n",
       "    </tr>\n",
       "    <tr>\n",
       "      <th>29313</th>\n",
       "      <td>Punjab</td>\n",
       "      <td>FATEHGARH SAHIB</td>\n",
       "      <td>Rice</td>\n",
       "      <td>2002</td>\n",
       "      <td>Kharif</td>\n",
       "      <td>80000.0</td>\n",
       "      <td>Hectare</td>\n",
       "      <td>312000.0</td>\n",
       "      <td>Tonnes</td>\n",
       "      <td>3.900000</td>\n",
       "    </tr>\n",
       "    <tr>\n",
       "      <th>29314</th>\n",
       "      <td>Punjab</td>\n",
       "      <td>FATEHGARH SAHIB</td>\n",
       "      <td>Rice</td>\n",
       "      <td>2003</td>\n",
       "      <td>Kharif</td>\n",
       "      <td>83000.0</td>\n",
       "      <td>Hectare</td>\n",
       "      <td>364000.0</td>\n",
       "      <td>Tonnes</td>\n",
       "      <td>4.385542</td>\n",
       "    </tr>\n",
       "    <tr>\n",
       "      <th>29315</th>\n",
       "      <td>Punjab</td>\n",
       "      <td>FIROZEPUR</td>\n",
       "      <td>Rice</td>\n",
       "      <td>2001</td>\n",
       "      <td>Kharif</td>\n",
       "      <td>230000.0</td>\n",
       "      <td>Hectare</td>\n",
       "      <td>864000.0</td>\n",
       "      <td>Tonnes</td>\n",
       "      <td>3.756522</td>\n",
       "    </tr>\n",
       "    <tr>\n",
       "      <th>29316</th>\n",
       "      <td>Punjab</td>\n",
       "      <td>FIROZEPUR</td>\n",
       "      <td>Rice</td>\n",
       "      <td>2002</td>\n",
       "      <td>Kharif</td>\n",
       "      <td>234000.0</td>\n",
       "      <td>Hectare</td>\n",
       "      <td>824000.0</td>\n",
       "      <td>Tonnes</td>\n",
       "      <td>3.521368</td>\n",
       "    </tr>\n",
       "    <tr>\n",
       "      <th>29317</th>\n",
       "      <td>Punjab</td>\n",
       "      <td>FIROZEPUR</td>\n",
       "      <td>Rice</td>\n",
       "      <td>2003</td>\n",
       "      <td>Kharif</td>\n",
       "      <td>244000.0</td>\n",
       "      <td>Hectare</td>\n",
       "      <td>903000.0</td>\n",
       "      <td>Tonnes</td>\n",
       "      <td>3.700820</td>\n",
       "    </tr>\n",
       "    <tr>\n",
       "      <th>29318</th>\n",
       "      <td>Punjab</td>\n",
       "      <td>GURDASPUR</td>\n",
       "      <td>Rice</td>\n",
       "      <td>2001</td>\n",
       "      <td>Kharif</td>\n",
       "      <td>194000.0</td>\n",
       "      <td>Hectare</td>\n",
       "      <td>571000.0</td>\n",
       "      <td>Tonnes</td>\n",
       "      <td>2.943299</td>\n",
       "    </tr>\n",
       "    <tr>\n",
       "      <th>29319</th>\n",
       "      <td>Punjab</td>\n",
       "      <td>GURDASPUR</td>\n",
       "      <td>Rice</td>\n",
       "      <td>2002</td>\n",
       "      <td>Kharif</td>\n",
       "      <td>189000.0</td>\n",
       "      <td>Hectare</td>\n",
       "      <td>547000.0</td>\n",
       "      <td>Tonnes</td>\n",
       "      <td>2.894180</td>\n",
       "    </tr>\n",
       "    <tr>\n",
       "      <th>29320</th>\n",
       "      <td>Punjab</td>\n",
       "      <td>GURDASPUR</td>\n",
       "      <td>Rice</td>\n",
       "      <td>2003</td>\n",
       "      <td>Kharif</td>\n",
       "      <td>193000.0</td>\n",
       "      <td>Hectare</td>\n",
       "      <td>587000.0</td>\n",
       "      <td>Tonnes</td>\n",
       "      <td>3.041451</td>\n",
       "    </tr>\n",
       "    <tr>\n",
       "      <th>29321</th>\n",
       "      <td>Punjab</td>\n",
       "      <td>HOSHIARPUR</td>\n",
       "      <td>Rice</td>\n",
       "      <td>2001</td>\n",
       "      <td>Kharif</td>\n",
       "      <td>60000.0</td>\n",
       "      <td>Hectare</td>\n",
       "      <td>171000.0</td>\n",
       "      <td>Tonnes</td>\n",
       "      <td>2.850000</td>\n",
       "    </tr>\n",
       "    <tr>\n",
       "      <th>29322</th>\n",
       "      <td>Punjab</td>\n",
       "      <td>HOSHIARPUR</td>\n",
       "      <td>Rice</td>\n",
       "      <td>2002</td>\n",
       "      <td>Kharif</td>\n",
       "      <td>56000.0</td>\n",
       "      <td>Hectare</td>\n",
       "      <td>159000.0</td>\n",
       "      <td>Tonnes</td>\n",
       "      <td>2.839286</td>\n",
       "    </tr>\n",
       "  </tbody>\n",
       "</table>\n",
       "</div>"
      ],
      "text/plain": [
       "        State         District  Crop  Year  Season      Area Area Units  \\\n",
       "29303  Punjab         AMRITSAR  Rice  2001  Kharif  319000.0    Hectare   \n",
       "29304  Punjab         AMRITSAR  Rice  2002  Kharif  311000.0    Hectare   \n",
       "29305  Punjab         AMRITSAR  Rice  2003  Kharif  326000.0    Hectare   \n",
       "29306  Punjab         BATHINDA  Rice  2001  Kharif   82000.0    Hectare   \n",
       "29307  Punjab         BATHINDA  Rice  2002  Kharif  107000.0    Hectare   \n",
       "29308  Punjab         BATHINDA  Rice  2003  Kharif  105000.0    Hectare   \n",
       "29309  Punjab         FARIDKOT  Rice  2001  Kharif   70000.0    Hectare   \n",
       "29310  Punjab         FARIDKOT  Rice  2002  Kharif   86000.0    Hectare   \n",
       "29311  Punjab         FARIDKOT  Rice  2003  Kharif   84000.0    Hectare   \n",
       "29312  Punjab  FATEHGARH SAHIB  Rice  2001  Kharif   81000.0    Hectare   \n",
       "29313  Punjab  FATEHGARH SAHIB  Rice  2002  Kharif   80000.0    Hectare   \n",
       "29314  Punjab  FATEHGARH SAHIB  Rice  2003  Kharif   83000.0    Hectare   \n",
       "29315  Punjab        FIROZEPUR  Rice  2001  Kharif  230000.0    Hectare   \n",
       "29316  Punjab        FIROZEPUR  Rice  2002  Kharif  234000.0    Hectare   \n",
       "29317  Punjab        FIROZEPUR  Rice  2003  Kharif  244000.0    Hectare   \n",
       "29318  Punjab        GURDASPUR  Rice  2001  Kharif  194000.0    Hectare   \n",
       "29319  Punjab        GURDASPUR  Rice  2002  Kharif  189000.0    Hectare   \n",
       "29320  Punjab        GURDASPUR  Rice  2003  Kharif  193000.0    Hectare   \n",
       "29321  Punjab       HOSHIARPUR  Rice  2001  Kharif   60000.0    Hectare   \n",
       "29322  Punjab       HOSHIARPUR  Rice  2002  Kharif   56000.0    Hectare   \n",
       "\n",
       "       Production Production Units     Yield  \n",
       "29303    958000.0           Tonnes  3.003135  \n",
       "29304    879000.0           Tonnes  2.826367  \n",
       "29305    872000.0           Tonnes  2.674847  \n",
       "29306    307000.0           Tonnes  3.743902  \n",
       "29307    367000.0           Tonnes  3.429907  \n",
       "29308    419000.0           Tonnes  3.990476  \n",
       "29309    267000.0           Tonnes  3.814286  \n",
       "29310    280000.0           Tonnes  3.255814  \n",
       "29311    308000.0           Tonnes  3.666667  \n",
       "29312    324000.0           Tonnes  4.000000  \n",
       "29313    312000.0           Tonnes  3.900000  \n",
       "29314    364000.0           Tonnes  4.385542  \n",
       "29315    864000.0           Tonnes  3.756522  \n",
       "29316    824000.0           Tonnes  3.521368  \n",
       "29317    903000.0           Tonnes  3.700820  \n",
       "29318    571000.0           Tonnes  2.943299  \n",
       "29319    547000.0           Tonnes  2.894180  \n",
       "29320    587000.0           Tonnes  3.041451  \n",
       "29321    171000.0           Tonnes  2.850000  \n",
       "29322    159000.0           Tonnes  2.839286  "
      ]
     },
     "execution_count": 41,
     "metadata": {},
     "output_type": "execute_result"
    }
   ],
   "source": [
    "df_pj_rice  = df.loc[(df['State'] == 'Punjab') & (df['Crop'] == 'Rice')] ## I am subsetting the data and only keeping that related to rice production.\n",
    "df_pj_rice.head(20)"
   ]
  },
  {
   "cell_type": "code",
   "execution_count": 42,
   "metadata": {},
   "outputs": [
    {
     "data": {
      "text/plain": [
       "array(['AMRITSAR', 'BATHINDA', 'FARIDKOT', 'FATEHGARH SAHIB', 'FIROZEPUR',\n",
       "       'GURDASPUR', 'HOSHIARPUR', 'JALANDHAR', 'KAPURTHALA', 'LUDHIANA',\n",
       "       'MANSA', 'MOGA', 'MUKTSAR', 'NAWANSHAHR', 'PATIALA', 'RUPNAGAR',\n",
       "       'SANGRUR', 'S', 'TARN TARAN', 'BARNALA', 'FAZILKA', 'PATHANKOT'],\n",
       "      dtype=object)"
      ]
     },
     "execution_count": 42,
     "metadata": {},
     "output_type": "execute_result"
    }
   ],
   "source": [
    "df_pj_rice.District.unique() ## To find the various districts where rice is grown in Punjab. I am going to keep this aside separately for later use. "
   ]
  },
  {
   "cell_type": "markdown",
   "metadata": {},
   "source": [
    "## Across districts of Punjab"
   ]
  },
  {
   "cell_type": "markdown",
   "metadata": {},
   "source": [
    "Punjab has 22 districts, of which 21 are represented here clearly. "
   ]
  },
  {
   "cell_type": "markdown",
   "metadata": {},
   "source": [
    "![](punjab-district-map.jpeg)"
   ]
  },
  {
   "cell_type": "markdown",
   "metadata": {},
   "source": [
    "### Firozpur"
   ]
  },
  {
   "cell_type": "code",
   "execution_count": 43,
   "metadata": {},
   "outputs": [
    {
     "data": {
      "application/vnd.vegalite.v4+json": {
       "$schema": "https://vega.github.io/schema/vega-lite/v4.17.0.json",
       "config": {
        "view": {
         "continuousHeight": 300,
         "continuousWidth": 400
        }
       },
       "data": {
        "name": "data-7399149878cb3b5ee6f386e2760c9222"
       },
       "datasets": {
        "data-7399149878cb3b5ee6f386e2760c9222": [
         {
          "Area": 230000,
          "Area Units": "Hectare",
          "Crop": "Rice",
          "District": "FIROZEPUR",
          "Production": 864000,
          "Production Units": "Tonnes",
          "Season": "Kharif",
          "State": "Punjab",
          "Year": 2001,
          "Yield": 3.756521739130435
         },
         {
          "Area": 234000,
          "Area Units": "Hectare",
          "Crop": "Rice",
          "District": "FIROZEPUR",
          "Production": 824000,
          "Production Units": "Tonnes",
          "Season": "Kharif",
          "State": "Punjab",
          "Year": 2002,
          "Yield": 3.5213675213675213
         },
         {
          "Area": 244000,
          "Area Units": "Hectare",
          "Crop": "Rice",
          "District": "FIROZEPUR",
          "Production": 903000,
          "Production Units": "Tonnes",
          "Season": "Kharif",
          "State": "Punjab",
          "Year": 2003,
          "Yield": 3.700819672131148
         },
         {
          "Area": 238000,
          "Area Units": "Hectare",
          "Crop": "Rice",
          "District": "FIROZEPUR",
          "Production": 941000,
          "Production Units": "Tonnes",
          "Season": "Kharif",
          "State": "Punjab",
          "Year": 2004,
          "Yield": 3.953781512605042
         },
         {
          "Area": 236000,
          "Area Units": "Hectare",
          "Crop": "Rice",
          "District": "FIROZEPUR",
          "Production": 956000,
          "Production Units": "Tonnes",
          "Season": "Kharif",
          "State": "Punjab",
          "Year": 2005,
          "Yield": 4.050847457627119
         },
         {
          "Area": 235000,
          "Area Units": "Hectare",
          "Crop": "Rice",
          "District": "FIROZEPUR",
          "Production": 948000,
          "Production Units": "Tonnes",
          "Season": "Kharif",
          "State": "Punjab",
          "Year": 2006,
          "Yield": 4.034042553191489
         },
         {
          "Area": 243000,
          "Area Units": "Hectare",
          "Crop": "Rice",
          "District": "FIROZEPUR",
          "Production": 1010000,
          "Production Units": "Tonnes",
          "Season": "Kharif",
          "State": "Punjab",
          "Year": 2007,
          "Yield": 4.156378600823046
         },
         {
          "Area": 260000,
          "Area Units": "Hectare",
          "Crop": "Rice",
          "District": "FIROZEPUR",
          "Production": 1051000,
          "Production Units": "Tonnes",
          "Season": "Kharif",
          "State": "Punjab",
          "Year": 2008,
          "Yield": 4.042307692307692
         },
         {
          "Area": 262000,
          "Area Units": "Hectare",
          "Crop": "Rice",
          "District": "FIROZEPUR",
          "Production": 964000,
          "Production Units": "Tonnes",
          "Season": "Kharif",
          "State": "Punjab",
          "Year": 2009,
          "Yield": 3.6793893129770994
         },
         {
          "Area": 258000,
          "Area Units": "Hectare",
          "Crop": "Rice",
          "District": "FIROZEPUR",
          "Production": 954000,
          "Production Units": "Tonnes",
          "Season": "Kharif",
          "State": "Punjab",
          "Year": 2010,
          "Yield": 3.697674418604651
         },
         {
          "Area": 257000,
          "Area Units": "Hectare",
          "Crop": "Rice",
          "District": "FIROZEPUR",
          "Production": 889000,
          "Production Units": "Tonnes",
          "Season": "Kharif",
          "State": "Punjab",
          "Year": 2011,
          "Yield": 3.4591439688715955
         },
         {
          "Area": 182000,
          "Area Units": "Hectare",
          "Crop": "Rice",
          "District": "FIROZEPUR",
          "Production": 766000,
          "Production Units": "Tonnes",
          "Season": "Kharif",
          "State": "Punjab",
          "Year": 2012,
          "Yield": 4.208791208791209
         },
         {
          "Area": 183000,
          "Area Units": "Hectare",
          "Crop": "Rice",
          "District": "FIROZEPUR",
          "Production": 766000,
          "Production Units": "Tonnes",
          "Season": "Kharif",
          "State": "Punjab",
          "Year": 2013,
          "Yield": 4.185792349726776
         },
         {
          "Area": 189000,
          "Area Units": "Hectare",
          "Crop": "Rice",
          "District": "FIROZEPUR",
          "Production": 733000,
          "Production Units": "Tonnes",
          "Season": "Kharif",
          "State": "Punjab",
          "Year": 2014,
          "Yield": 3.878306878306878
         },
         {
          "Area": 187000,
          "Area Units": "Hectare",
          "Crop": "Rice",
          "District": "FIROZEPUR",
          "Production": 729000,
          "Production Units": "Tonnes",
          "Season": "Kharif",
          "State": "Punjab",
          "Year": 2015,
          "Yield": 3.8983957219251337
         },
         {
          "Area": 187000,
          "Area Units": "Hectare",
          "Crop": "Rice",
          "District": "FIROZEPUR",
          "Production": 791000,
          "Production Units": "Tonnes",
          "Season": "Kharif",
          "State": "Punjab",
          "Year": 2016,
          "Yield": 4.229946524064171
         },
         {
          "Area": 185000,
          "Area Units": "Hectare",
          "Crop": "Rice",
          "District": "FIROZEPUR",
          "Production": 842000,
          "Production Units": "Tonnes",
          "Season": "Kharif",
          "State": "Punjab",
          "Year": 2017,
          "Yield": 4.551351351351351
         },
         {
          "Area": 186000,
          "Area Units": "Hectare",
          "Crop": "Rice",
          "District": "FIROZEPUR",
          "Production": 829000,
          "Production Units": "Tonnes",
          "Season": "Kharif",
          "State": "Punjab",
          "Year": 2018,
          "Yield": 4.456989247311828
         },
         {
          "Area": 114000,
          "Area Units": "Hectare",
          "Crop": "Rice",
          "District": "FIROZEPUR",
          "Production": 307000,
          "Production Units": "Tonnes",
          "Season": "Kharif",
          "State": "Punjab",
          "Year": 2019,
          "Yield": 2.692982456140351
         },
         {
          "Area": 252000,
          "Area Units": "Hectare",
          "Crop": "Rice",
          "District": "FIROZEPUR",
          "Production": 910000,
          "Production Units": "Tonnes",
          "Season": "Kharif",
          "State": "Punjab",
          "Year": 1997,
          "Yield": 3.611111111111111
         },
         {
          "Area": 275000,
          "Area Units": "Hectare",
          "Crop": "Rice",
          "District": "FIROZEPUR",
          "Production": 922000,
          "Production Units": "Tonnes",
          "Season": "Kharif",
          "State": "Punjab",
          "Year": 1998,
          "Yield": 3.352727272727273
         },
         {
          "Area": 280000,
          "Area Units": "Hectare",
          "Crop": "Rice",
          "District": "FIROZEPUR",
          "Production": 982000,
          "Production Units": "Tonnes",
          "Season": "Kharif",
          "State": "Punjab",
          "Year": 1999,
          "Yield": 3.507142857142857
         },
         {
          "Area": 248000,
          "Area Units": "Hectare",
          "Crop": "Rice",
          "District": "FIROZEPUR",
          "Production": 898000,
          "Production Units": "Tonnes",
          "Season": "Kharif",
          "State": "Punjab",
          "Year": 2000,
          "Yield": 3.620967741935484
         }
        ]
       },
       "encoding": {
        "x": {
         "field": "Year",
         "type": "quantitative"
        },
        "y": {
         "field": "Production",
         "type": "quantitative"
        }
       },
       "mark": "line",
       "title": "Rice production, in tonnes, Firozpur, Punjab from 1997-2020"
      },
      "text/plain": [
       "<VegaLite 4 object>\n",
       "\n",
       "If you see this message, it means the renderer has not been properly enabled\n",
       "for the frontend that you are using. For more information, see\n",
       "https://altair-viz.github.io/user_guide/troubleshooting.html\n"
      ]
     },
     "execution_count": 43,
     "metadata": {},
     "output_type": "execute_result"
    }
   ],
   "source": [
    "df_pj_fi = df_pj_rice.loc[df['District'] == 'FIROZEPUR']\n",
    "\n",
    "alt.Chart(df_pj_fi).mark_line().encode(\n",
    "    x='Year',\n",
    "    y=('Production')\n",
    ").properties(\n",
    "    title='Rice production, in tonnes, Firozpur, Punjab from 1997-2020')"
   ]
  },
  {
   "cell_type": "markdown",
   "metadata": {},
   "source": [
    "![](firozpur.png)"
   ]
  },
  {
   "cell_type": "markdown",
   "metadata": {},
   "source": [
    "There really has been a considerable decline of rice production in this district. This may be true for other districts also. "
   ]
  },
  {
   "cell_type": "markdown",
   "metadata": {},
   "source": [
    "### Amritsar"
   ]
  },
  {
   "cell_type": "code",
   "execution_count": 44,
   "metadata": {},
   "outputs": [
    {
     "data": {
      "application/vnd.vegalite.v4+json": {
       "$schema": "https://vega.github.io/schema/vega-lite/v4.17.0.json",
       "config": {
        "view": {
         "continuousHeight": 300,
         "continuousWidth": 400
        }
       },
       "data": {
        "name": "data-dc244bdb2d1e913294234ea54c1a34fd"
       },
       "datasets": {
        "data-dc244bdb2d1e913294234ea54c1a34fd": [
         {
          "Area": 319000,
          "Area Units": "Hectare",
          "Crop": "Rice",
          "District": "AMRITSAR",
          "Production": 958000,
          "Production Units": "Tonnes",
          "Season": "Kharif",
          "State": "Punjab",
          "Year": 2001,
          "Yield": 3.0031347962382444
         },
         {
          "Area": 311000,
          "Area Units": "Hectare",
          "Crop": "Rice",
          "District": "AMRITSAR",
          "Production": 879000,
          "Production Units": "Tonnes",
          "Season": "Kharif",
          "State": "Punjab",
          "Year": 2002,
          "Yield": 2.8263665594855305
         },
         {
          "Area": 326000,
          "Area Units": "Hectare",
          "Crop": "Rice",
          "District": "AMRITSAR",
          "Production": 872000,
          "Production Units": "Tonnes",
          "Season": "Kharif",
          "State": "Punjab",
          "Year": 2003,
          "Yield": 2.674846625766872
         },
         {
          "Area": 334000,
          "Area Units": "Hectare",
          "Crop": "Rice",
          "District": "AMRITSAR",
          "Production": 1034000,
          "Production Units": "Tonnes",
          "Season": "Kharif",
          "State": "Punjab",
          "Year": 2004,
          "Yield": 3.095808383233533
         },
         {
          "Area": 345000,
          "Area Units": "Hectare",
          "Crop": "Rice",
          "District": "AMRITSAR",
          "Production": 1003000,
          "Production Units": "Tonnes",
          "Season": "Kharif",
          "State": "Punjab",
          "Year": 2005,
          "Yield": 2.907246376811594
         },
         {
          "Area": 178000,
          "Area Units": "Hectare",
          "Crop": "Rice",
          "District": "AMRITSAR",
          "Production": 538000,
          "Production Units": "Tonnes",
          "Season": "Kharif",
          "State": "Punjab",
          "Year": 2006,
          "Yield": 3.02247191011236
         },
         {
          "Area": 178000,
          "Area Units": "Hectare",
          "Crop": "Rice",
          "District": "AMRITSAR",
          "Production": 546000,
          "Production Units": "Tonnes",
          "Season": "Kharif",
          "State": "Punjab",
          "Year": 2007,
          "Yield": 3.067415730337079
         },
         {
          "Area": 183000,
          "Area Units": "Hectare",
          "Crop": "Rice",
          "District": "AMRITSAR",
          "Production": 532000,
          "Production Units": "Tonnes",
          "Season": "Kharif",
          "State": "Punjab",
          "Year": 2008,
          "Yield": 2.907103825136612
         },
         {
          "Area": 185000,
          "Area Units": "Hectare",
          "Crop": "Rice",
          "District": "AMRITSAR",
          "Production": 501000,
          "Production Units": "Tonnes",
          "Season": "Kharif",
          "State": "Punjab",
          "Year": 2009,
          "Yield": 2.708108108108108
         },
         {
          "Area": 186000,
          "Area Units": "Hectare",
          "Crop": "Rice",
          "District": "AMRITSAR",
          "Production": 503000,
          "Production Units": "Tonnes",
          "Season": "Kharif",
          "State": "Punjab",
          "Year": 2010,
          "Yield": 2.704301075268817
         },
         {
          "Area": 184000,
          "Area Units": "Hectare",
          "Crop": "Rice",
          "District": "AMRITSAR",
          "Production": 482000,
          "Production Units": "Tonnes",
          "Season": "Kharif",
          "State": "Punjab",
          "Year": 2011,
          "Yield": 2.619565217391304
         },
         {
          "Area": 185000,
          "Area Units": "Hectare",
          "Crop": "Rice",
          "District": "AMRITSAR",
          "Production": 544000,
          "Production Units": "Tonnes",
          "Season": "Kharif",
          "State": "Punjab",
          "Year": 2012,
          "Yield": 2.9405405405405407
         },
         {
          "Area": 182000,
          "Area Units": "Hectare",
          "Crop": "Rice",
          "District": "AMRITSAR",
          "Production": 518000,
          "Production Units": "Tonnes",
          "Season": "Kharif",
          "State": "Punjab",
          "Year": 2013,
          "Yield": 2.8461538461538463
         },
         {
          "Area": 182000,
          "Area Units": "Hectare",
          "Crop": "Rice",
          "District": "AMRITSAR",
          "Production": 505000,
          "Production Units": "Tonnes",
          "Season": "Kharif",
          "State": "Punjab",
          "Year": 2014,
          "Yield": 2.774725274725274
         },
         {
          "Area": 181000,
          "Area Units": "Hectare",
          "Crop": "Rice",
          "District": "AMRITSAR",
          "Production": 513000,
          "Production Units": "Tonnes",
          "Season": "Kharif",
          "State": "Punjab",
          "Year": 2015,
          "Yield": 2.834254143646409
         },
         {
          "Area": 180000,
          "Area Units": "Hectare",
          "Crop": "Rice",
          "District": "AMRITSAR",
          "Production": 574000,
          "Production Units": "Tonnes",
          "Season": "Kharif",
          "State": "Punjab",
          "Year": 2016,
          "Yield": 3.188888888888889
         },
         {
          "Area": 180000,
          "Area Units": "Hectare",
          "Crop": "Rice",
          "District": "AMRITSAR",
          "Production": 677000,
          "Production Units": "Tonnes",
          "Season": "Kharif",
          "State": "Punjab",
          "Year": 2017,
          "Yield": 3.761111111111111
         },
         {
          "Area": 180000,
          "Area Units": "Hectare",
          "Crop": "Rice",
          "District": "AMRITSAR",
          "Production": 537000,
          "Production Units": "Tonnes",
          "Season": "Kharif",
          "State": "Punjab",
          "Year": 2018,
          "Yield": 2.9833333333333334
         },
         {
          "Area": 181000,
          "Area Units": "Hectare",
          "Crop": "Rice",
          "District": "AMRITSAR",
          "Production": 598000,
          "Production Units": "Tonnes",
          "Season": "Kharif",
          "State": "Punjab",
          "Year": 2019,
          "Yield": 3.303867403314917
         },
         {
          "Area": 292000,
          "Area Units": "Hectare",
          "Crop": "Rice",
          "District": "AMRITSAR",
          "Production": 879000,
          "Production Units": "Tonnes",
          "Season": "Kharif",
          "State": "Punjab",
          "Year": 1997,
          "Yield": 3.01027397260274
         },
         {
          "Area": 305000,
          "Area Units": "Hectare",
          "Crop": "Rice",
          "District": "AMRITSAR",
          "Production": 878000,
          "Production Units": "Tonnes",
          "Season": "Kharif",
          "State": "Punjab",
          "Year": 1998,
          "Yield": 2.878688524590164
         },
         {
          "Area": 319000,
          "Area Units": "Hectare",
          "Crop": "Rice",
          "District": "AMRITSAR",
          "Production": 991000,
          "Production Units": "Tonnes",
          "Season": "Kharif",
          "State": "Punjab",
          "Year": 1999,
          "Yield": 3.1065830721003134
         },
         {
          "Area": 319000,
          "Area Units": "Hectare",
          "Crop": "Rice",
          "District": "AMRITSAR",
          "Production": 972000,
          "Production Units": "Tonnes",
          "Season": "Kharif",
          "State": "Punjab",
          "Year": 2000,
          "Yield": 3.047021943573668
         }
        ]
       },
       "encoding": {
        "x": {
         "field": "Year",
         "type": "quantitative"
        },
        "y": {
         "field": "Production",
         "type": "quantitative"
        }
       },
       "mark": "line",
       "title": "Rice production, in tonnes, Amritsar, Punjab from 1997-2020"
      },
      "text/plain": [
       "<VegaLite 4 object>\n",
       "\n",
       "If you see this message, it means the renderer has not been properly enabled\n",
       "for the frontend that you are using. For more information, see\n",
       "https://altair-viz.github.io/user_guide/troubleshooting.html\n"
      ]
     },
     "execution_count": 44,
     "metadata": {},
     "output_type": "execute_result"
    }
   ],
   "source": [
    "df_pj_am = df_pj_rice.loc[df['District'] == 'AMRITSAR']\n",
    "\n",
    "alt.Chart(df_pj_am).mark_line().encode(\n",
    "    x='Year',\n",
    "    y=('Production')\n",
    ").properties(\n",
    "    title='Rice production, in tonnes, Amritsar, Punjab from 1997-2020')"
   ]
  },
  {
   "cell_type": "markdown",
   "metadata": {},
   "source": [
    "![](amritsar.png)"
   ]
  },
  {
   "cell_type": "markdown",
   "metadata": {},
   "source": [
    "### JALANDHAR"
   ]
  },
  {
   "cell_type": "markdown",
   "metadata": {},
   "source": [
    "A marked decline here as well. "
   ]
  },
  {
   "cell_type": "code",
   "execution_count": 45,
   "metadata": {},
   "outputs": [
    {
     "data": {
      "application/vnd.vegalite.v4+json": {
       "$schema": "https://vega.github.io/schema/vega-lite/v4.17.0.json",
       "config": {
        "view": {
         "continuousHeight": 300,
         "continuousWidth": 400
        }
       },
       "data": {
        "name": "data-630d347e0b7a8fc370ef06e5ed733e55"
       },
       "datasets": {
        "data-630d347e0b7a8fc370ef06e5ed733e55": [
         {
          "Area": 132000,
          "Area Units": "Hectare",
          "Crop": "Rice",
          "District": "JALANDHAR",
          "Production": 445000,
          "Production Units": "Tonnes",
          "Season": "Kharif",
          "State": "Punjab",
          "Year": 2001,
          "Yield": 3.371212121212121
         },
         {
          "Area": 133000,
          "Area Units": "Hectare",
          "Crop": "Rice",
          "District": "JALANDHAR",
          "Production": 495000,
          "Production Units": "Tonnes",
          "Season": "Kharif",
          "State": "Punjab",
          "Year": 2002,
          "Yield": 3.721804511278195
         },
         {
          "Area": 138000,
          "Area Units": "Hectare",
          "Crop": "Rice",
          "District": "JALANDHAR",
          "Production": 465000,
          "Production Units": "Tonnes",
          "Season": "Kharif",
          "State": "Punjab",
          "Year": 2003,
          "Yield": 3.369565217391304
         },
         {
          "Area": 145000,
          "Area Units": "Hectare",
          "Crop": "Rice",
          "District": "JALANDHAR",
          "Production": 538000,
          "Production Units": "Tonnes",
          "Season": "Kharif",
          "State": "Punjab",
          "Year": 2004,
          "Yield": 3.710344827586207
         },
         {
          "Area": 151000,
          "Area Units": "Hectare",
          "Crop": "Rice",
          "District": "JALANDHAR",
          "Production": 526000,
          "Production Units": "Tonnes",
          "Season": "Kharif",
          "State": "Punjab",
          "Year": 2005,
          "Yield": 3.4834437086092715
         },
         {
          "Area": 147000,
          "Area Units": "Hectare",
          "Crop": "Rice",
          "District": "JALANDHAR",
          "Production": 514000,
          "Production Units": "Tonnes",
          "Season": "Kharif",
          "State": "Punjab",
          "Year": 2006,
          "Yield": 3.496598639455782
         },
         {
          "Area": 149000,
          "Area Units": "Hectare",
          "Crop": "Rice",
          "District": "JALANDHAR",
          "Production": 554000,
          "Production Units": "Tonnes",
          "Season": "Kharif",
          "State": "Punjab",
          "Year": 2007,
          "Yield": 3.718120805369128
         },
         {
          "Area": 155000,
          "Area Units": "Hectare",
          "Crop": "Rice",
          "District": "JALANDHAR",
          "Production": 588000,
          "Production Units": "Tonnes",
          "Season": "Kharif",
          "State": "Punjab",
          "Year": 2008,
          "Yield": 3.793548387096774
         },
         {
          "Area": 161000,
          "Area Units": "Hectare",
          "Crop": "Rice",
          "District": "JALANDHAR",
          "Production": 636000,
          "Production Units": "Tonnes",
          "Season": "Kharif",
          "State": "Punjab",
          "Year": 2009,
          "Yield": 3.950310559006211
         },
         {
          "Area": 163000,
          "Area Units": "Hectare",
          "Crop": "Rice",
          "District": "JALANDHAR",
          "Production": 588000,
          "Production Units": "Tonnes",
          "Season": "Kharif",
          "State": "Punjab",
          "Year": 2010,
          "Yield": 3.607361963190184
         },
         {
          "Area": 165000,
          "Area Units": "Hectare",
          "Crop": "Rice",
          "District": "JALANDHAR",
          "Production": 583000,
          "Production Units": "Tonnes",
          "Season": "Kharif",
          "State": "Punjab",
          "Year": 2011,
          "Yield": 3.533333333333333
         },
         {
          "Area": 165000,
          "Area Units": "Hectare",
          "Crop": "Rice",
          "District": "JALANDHAR",
          "Production": 625000,
          "Production Units": "Tonnes",
          "Season": "Kharif",
          "State": "Punjab",
          "Year": 2012,
          "Yield": 3.787878787878788
         },
         {
          "Area": 167000,
          "Area Units": "Hectare",
          "Crop": "Rice",
          "District": "JALANDHAR",
          "Production": 596000,
          "Production Units": "Tonnes",
          "Season": "Kharif",
          "State": "Punjab",
          "Year": 2013,
          "Yield": 3.568862275449102
         },
         {
          "Area": 167000,
          "Area Units": "Hectare",
          "Crop": "Rice",
          "District": "JALANDHAR",
          "Production": 616000,
          "Production Units": "Tonnes",
          "Season": "Kharif",
          "State": "Punjab",
          "Year": 2014,
          "Yield": 3.688622754491018
         },
         {
          "Area": 168000,
          "Area Units": "Hectare",
          "Crop": "Rice",
          "District": "JALANDHAR",
          "Production": 653000,
          "Production Units": "Tonnes",
          "Season": "Kharif",
          "State": "Punjab",
          "Year": 2015,
          "Yield": 3.886904761904762
         },
         {
          "Area": 170000,
          "Area Units": "Hectare",
          "Crop": "Rice",
          "District": "JALANDHAR",
          "Production": 699000,
          "Production Units": "Tonnes",
          "Season": "Kharif",
          "State": "Punjab",
          "Year": 2016,
          "Yield": 4.1117647058823525
         },
         {
          "Area": 171000,
          "Area Units": "Hectare",
          "Crop": "Rice",
          "District": "JALANDHAR",
          "Production": 715000,
          "Production Units": "Tonnes",
          "Season": "Kharif",
          "State": "Punjab",
          "Year": 2017,
          "Yield": 4.181286549707602
         },
         {
          "Area": 173000,
          "Area Units": "Hectare",
          "Crop": "Rice",
          "District": "JALANDHAR",
          "Production": 719000,
          "Production Units": "Tonnes",
          "Season": "Kharif",
          "State": "Punjab",
          "Year": 2018,
          "Yield": 4.15606936416185
         },
         {
          "Area": 175000,
          "Area Units": "Hectare",
          "Crop": "Rice",
          "District": "JALANDHAR",
          "Production": 713000,
          "Production Units": "Tonnes",
          "Season": "Kharif",
          "State": "Punjab",
          "Year": 2019,
          "Yield": 4.074285714285714
         },
         {
          "Area": 126000,
          "Area Units": "Hectare",
          "Crop": "Rice",
          "District": "JALANDHAR",
          "Production": 422000,
          "Production Units": "Tonnes",
          "Season": "Kharif",
          "State": "Punjab",
          "Year": 1997,
          "Yield": 3.3492063492063493
         },
         {
          "Area": 134000,
          "Area Units": "Hectare",
          "Crop": "Rice",
          "District": "JALANDHAR",
          "Production": 436000,
          "Production Units": "Tonnes",
          "Season": "Kharif",
          "State": "Punjab",
          "Year": 1998,
          "Yield": 3.253731343283582
         },
         {
          "Area": 133000,
          "Area Units": "Hectare",
          "Crop": "Rice",
          "District": "JALANDHAR",
          "Production": 464000,
          "Production Units": "Tonnes",
          "Season": "Kharif",
          "State": "Punjab",
          "Year": 1999,
          "Yield": 3.488721804511278
         },
         {
          "Area": 136000,
          "Area Units": "Hectare",
          "Crop": "Rice",
          "District": "JALANDHAR",
          "Production": 488000,
          "Production Units": "Tonnes",
          "Season": "Kharif",
          "State": "Punjab",
          "Year": 2000,
          "Yield": 3.588235294117647
         }
        ]
       },
       "encoding": {
        "x": {
         "field": "Year",
         "type": "quantitative"
        },
        "y": {
         "field": "Production",
         "type": "quantitative"
        }
       },
       "mark": "line",
       "title": "Rice production, in tonnes, Jalandhar, Punjab from 1997-2020"
      },
      "text/plain": [
       "<VegaLite 4 object>\n",
       "\n",
       "If you see this message, it means the renderer has not been properly enabled\n",
       "for the frontend that you are using. For more information, see\n",
       "https://altair-viz.github.io/user_guide/troubleshooting.html\n"
      ]
     },
     "execution_count": 45,
     "metadata": {},
     "output_type": "execute_result"
    }
   ],
   "source": [
    "df_pj_ja = df_pj_rice.loc[df['District'] == 'JALANDHAR']\n",
    "\n",
    "alt.Chart(df_pj_ja).mark_line().encode(\n",
    "    x='Year',\n",
    "    y=('Production')\n",
    ").properties(\n",
    "    title='Rice production, in tonnes, Jalandhar, Punjab from 1997-2020')"
   ]
  },
  {
   "cell_type": "markdown",
   "metadata": {},
   "source": [
    "![](jalandhar.png)"
   ]
  },
  {
   "cell_type": "markdown",
   "metadata": {},
   "source": [
    "### SANGRUR"
   ]
  },
  {
   "cell_type": "code",
   "execution_count": 46,
   "metadata": {},
   "outputs": [
    {
     "data": {
      "application/vnd.vegalite.v4+json": {
       "$schema": "https://vega.github.io/schema/vega-lite/v4.17.0.json",
       "config": {
        "view": {
         "continuousHeight": 300,
         "continuousWidth": 400
        }
       },
       "data": {
        "name": "data-bd94172e1d3d6d46957a89693e02ffa7"
       },
       "datasets": {
        "data-bd94172e1d3d6d46957a89693e02ffa7": [
         {
          "Area": 349000,
          "Area Units": "Hectare",
          "Crop": "Rice",
          "District": "SANGRUR",
          "Production": 1362000,
          "Production Units": "Tonnes",
          "Season": "Kharif",
          "State": "Punjab",
          "Year": 2001,
          "Yield": 3.902578796561605
         },
         {
          "Area": 352000,
          "Area Units": "Hectare",
          "Crop": "Rice",
          "District": "SANGRUR",
          "Production": 1429000,
          "Production Units": "Tonnes",
          "Season": "Kharif",
          "State": "Punjab",
          "Year": 2002,
          "Yield": 4.059659090909091
         },
         {
          "Area": 366000,
          "Area Units": "Hectare",
          "Crop": "Rice",
          "District": "SANGRUR",
          "Production": 1566000,
          "Production Units": "Tonnes",
          "Season": "Kharif",
          "State": "Punjab",
          "Year": 2003,
          "Yield": 4.278688524590164
         },
         {
          "Area": 367000,
          "Area Units": "Hectare",
          "Crop": "Rice",
          "District": "SANGRUR",
          "Production": 1710000,
          "Production Units": "Tonnes",
          "Season": "Kharif",
          "State": "Punjab",
          "Year": 2004,
          "Yield": 4.659400544959128
         },
         {
          "Area": 367000,
          "Area Units": "Hectare",
          "Crop": "Rice",
          "District": "SANGRUR",
          "Production": 1625000,
          "Production Units": "Tonnes",
          "Season": "Kharif",
          "State": "Punjab",
          "Year": 2005,
          "Yield": 4.427792915531335
         },
         {
          "Area": 362000,
          "Area Units": "Hectare",
          "Crop": "Rice",
          "District": "SANGRUR",
          "Production": 1637000,
          "Production Units": "Tonnes",
          "Season": "Kharif",
          "State": "Punjab",
          "Year": 2006,
          "Yield": 4.5220994475138125
         },
         {
          "Area": 262000,
          "Area Units": "Hectare",
          "Crop": "Rice",
          "District": "SANGRUR",
          "Production": 1207000,
          "Production Units": "Tonnes",
          "Season": "Kharif",
          "State": "Punjab",
          "Year": 2007,
          "Yield": 4.606870229007634
         },
         {
          "Area": 267000,
          "Area Units": "Hectare",
          "Crop": "Rice",
          "District": "SANGRUR",
          "Production": 1233000,
          "Production Units": "Tonnes",
          "Season": "Kharif",
          "State": "Punjab",
          "Year": 2008,
          "Yield": 4.617977528089888
         },
         {
          "Area": 271000,
          "Area Units": "Hectare",
          "Crop": "Rice",
          "District": "SANGRUR",
          "Production": 1273000,
          "Production Units": "Tonnes",
          "Season": "Kharif",
          "State": "Punjab",
          "Year": 2009,
          "Yield": 4.697416974169742
         },
         {
          "Area": 272000,
          "Area Units": "Hectare",
          "Crop": "Rice",
          "District": "SANGRUR",
          "Production": 1185000,
          "Production Units": "Tonnes",
          "Season": "Kharif",
          "State": "Punjab",
          "Year": 2010,
          "Yield": 4.356617647058823
         },
         {
          "Area": 274000,
          "Area Units": "Hectare",
          "Crop": "Rice",
          "District": "SANGRUR",
          "Production": 1188000,
          "Production Units": "Tonnes",
          "Season": "Kharif",
          "State": "Punjab",
          "Year": 2011,
          "Yield": 4.335766423357664
         },
         {
          "Area": 276000,
          "Area Units": "Hectare",
          "Crop": "Rice",
          "District": "SANGRUR",
          "Production": 1299000,
          "Production Units": "Tonnes",
          "Season": "Kharif",
          "State": "Punjab",
          "Year": 2012,
          "Yield": 4.706521739130435
         },
         {
          "Area": 273000,
          "Area Units": "Hectare",
          "Crop": "Rice",
          "District": "SANGRUR",
          "Production": 1290000,
          "Production Units": "Tonnes",
          "Season": "Kharif",
          "State": "Punjab",
          "Year": 2013,
          "Yield": 4.725274725274725
         },
         {
          "Area": 271000,
          "Area Units": "Hectare",
          "Crop": "Rice",
          "District": "SANGRUR",
          "Production": 1281000,
          "Production Units": "Tonnes",
          "Season": "Kharif",
          "State": "Punjab",
          "Year": 2014,
          "Yield": 4.726937269372693
         },
         {
          "Area": 274000,
          "Area Units": "Hectare",
          "Crop": "Rice",
          "District": "SANGRUR",
          "Production": 1334000,
          "Production Units": "Tonnes",
          "Season": "Kharif",
          "State": "Punjab",
          "Year": 2015,
          "Yield": 4.868613138686132
         },
         {
          "Area": 278000,
          "Area Units": "Hectare",
          "Crop": "Rice",
          "District": "SANGRUR",
          "Production": 1355000,
          "Production Units": "Tonnes",
          "Season": "Kharif",
          "State": "Punjab",
          "Year": 2016,
          "Yield": 4.874100719424461
         },
         {
          "Area": 284000,
          "Area Units": "Hectare",
          "Crop": "Rice",
          "District": "SANGRUR",
          "Production": 1442000,
          "Production Units": "Tonnes",
          "Season": "Kharif",
          "State": "Punjab",
          "Year": 2017,
          "Yield": 5.077464788732394
         },
         {
          "Area": 287000,
          "Area Units": "Hectare",
          "Crop": "Rice",
          "District": "SANGRUR",
          "Production": 1353000,
          "Production Units": "Tonnes",
          "Season": "Kharif",
          "State": "Punjab",
          "Year": 2018,
          "Yield": 4.714285714285714
         },
         {
          "Area": 289000,
          "Area Units": "Hectare",
          "Crop": "Rice",
          "District": "SANGRUR",
          "Production": 1362000,
          "Production Units": "Tonnes",
          "Season": "Kharif",
          "State": "Punjab",
          "Year": 2019,
          "Yield": 4.71280276816609
         },
         {
          "Area": 333000,
          "Area Units": "Hectare",
          "Crop": "Rice",
          "District": "SANGRUR",
          "Production": 1277000,
          "Production Units": "Tonnes",
          "Season": "Kharif",
          "State": "Punjab",
          "Year": 1997,
          "Yield": 3.834834834834835
         },
         {
          "Area": 353000,
          "Area Units": "Hectare",
          "Crop": "Rice",
          "District": "SANGRUR",
          "Production": 1262000,
          "Production Units": "Tonnes",
          "Season": "Kharif",
          "State": "Punjab",
          "Year": 1998,
          "Yield": 3.575070821529745
         },
         {
          "Area": 360000,
          "Area Units": "Hectare",
          "Crop": "Rice",
          "District": "SANGRUR",
          "Production": 1282000,
          "Production Units": "Tonnes",
          "Season": "Kharif",
          "State": "Punjab",
          "Year": 1999,
          "Yield": 3.561111111111111
         },
         {
          "Area": 357000,
          "Area Units": "Hectare",
          "Crop": "Rice",
          "District": "SANGRUR",
          "Production": 1342000,
          "Production Units": "Tonnes",
          "Season": "Kharif",
          "State": "Punjab",
          "Year": 2000,
          "Yield": 3.759103641456583
         }
        ]
       },
       "encoding": {
        "x": {
         "field": "Year",
         "type": "quantitative"
        },
        "y": {
         "field": "Production",
         "type": "quantitative"
        }
       },
       "mark": "line",
       "title": "Rice production, in tonnes, Sangrur, Punjab from 1997-2020"
      },
      "text/plain": [
       "<VegaLite 4 object>\n",
       "\n",
       "If you see this message, it means the renderer has not been properly enabled\n",
       "for the frontend that you are using. For more information, see\n",
       "https://altair-viz.github.io/user_guide/troubleshooting.html\n"
      ]
     },
     "execution_count": 46,
     "metadata": {},
     "output_type": "execute_result"
    }
   ],
   "source": [
    "df_pj_sa = df_pj_rice.loc[df['District'] == 'SANGRUR']\n",
    "\n",
    "alt.Chart(df_pj_sa).mark_line().encode(\n",
    "    x='Year',\n",
    "    y=('Production')\n",
    ").properties(\n",
    "    title='Rice production, in tonnes, Sangrur, Punjab from 1997-2020')"
   ]
  },
  {
   "cell_type": "markdown",
   "metadata": {},
   "source": [
    "![](sangrur.png)"
   ]
  },
  {
   "cell_type": "markdown",
   "metadata": {},
   "source": [
    "### FARIDKOT"
   ]
  },
  {
   "cell_type": "code",
   "execution_count": 47,
   "metadata": {},
   "outputs": [
    {
     "data": {
      "application/vnd.vegalite.v4+json": {
       "$schema": "https://vega.github.io/schema/vega-lite/v4.17.0.json",
       "config": {
        "view": {
         "continuousHeight": 300,
         "continuousWidth": 400
        }
       },
       "data": {
        "name": "data-99c3bf4e827d49ceb77d348588a43564"
       },
       "datasets": {
        "data-99c3bf4e827d49ceb77d348588a43564": [
         {
          "Area": 70000,
          "Area Units": "Hectare",
          "Crop": "Rice",
          "District": "FARIDKOT",
          "Production": 267000,
          "Production Units": "Tonnes",
          "Season": "Kharif",
          "State": "Punjab",
          "Year": 2001,
          "Yield": 3.8142857142857145
         },
         {
          "Area": 86000,
          "Area Units": "Hectare",
          "Crop": "Rice",
          "District": "FARIDKOT",
          "Production": 280000,
          "Production Units": "Tonnes",
          "Season": "Kharif",
          "State": "Punjab",
          "Year": 2002,
          "Yield": 3.255813953488372
         },
         {
          "Area": 84000,
          "Area Units": "Hectare",
          "Crop": "Rice",
          "District": "FARIDKOT",
          "Production": 308000,
          "Production Units": "Tonnes",
          "Season": "Kharif",
          "State": "Punjab",
          "Year": 2003,
          "Yield": 3.6666666666666665
         },
         {
          "Area": 88000,
          "Area Units": "Hectare",
          "Crop": "Rice",
          "District": "FARIDKOT",
          "Production": 337000,
          "Production Units": "Tonnes",
          "Season": "Kharif",
          "State": "Punjab",
          "Year": 2004,
          "Yield": 3.829545454545455
         },
         {
          "Area": 86000,
          "Area Units": "Hectare",
          "Crop": "Rice",
          "District": "FARIDKOT",
          "Production": 339000,
          "Production Units": "Tonnes",
          "Season": "Kharif",
          "State": "Punjab",
          "Year": 2005,
          "Yield": 3.941860465116279
         },
         {
          "Area": 85000,
          "Area Units": "Hectare",
          "Crop": "Rice",
          "District": "FARIDKOT",
          "Production": 338000,
          "Production Units": "Tonnes",
          "Season": "Kharif",
          "State": "Punjab",
          "Year": 2006,
          "Yield": 3.976470588235294
         },
         {
          "Area": 87000,
          "Area Units": "Hectare",
          "Crop": "Rice",
          "District": "FARIDKOT",
          "Production": 351000,
          "Production Units": "Tonnes",
          "Season": "Kharif",
          "State": "Punjab",
          "Year": 2007,
          "Yield": 4.0344827586206895
         },
         {
          "Area": 95000,
          "Area Units": "Hectare",
          "Crop": "Rice",
          "District": "FARIDKOT",
          "Production": 414000,
          "Production Units": "Tonnes",
          "Season": "Kharif",
          "State": "Punjab",
          "Year": 2008,
          "Yield": 4.3578947368421055
         },
         {
          "Area": 98000,
          "Area Units": "Hectare",
          "Crop": "Rice",
          "District": "FARIDKOT",
          "Production": 414000,
          "Production Units": "Tonnes",
          "Season": "Kharif",
          "State": "Punjab",
          "Year": 2009,
          "Yield": 4.224489795918367
         },
         {
          "Area": 101000,
          "Area Units": "Hectare",
          "Crop": "Rice",
          "District": "FARIDKOT",
          "Production": 409000,
          "Production Units": "Tonnes",
          "Season": "Kharif",
          "State": "Punjab",
          "Year": 2010,
          "Yield": 4.0495049504950495
         },
         {
          "Area": 101000,
          "Area Units": "Hectare",
          "Crop": "Rice",
          "District": "FARIDKOT",
          "Production": 405000,
          "Production Units": "Tonnes",
          "Season": "Kharif",
          "State": "Punjab",
          "Year": 2011,
          "Yield": 4.00990099009901
         },
         {
          "Area": 102000,
          "Area Units": "Hectare",
          "Crop": "Rice",
          "District": "FARIDKOT",
          "Production": 444000,
          "Production Units": "Tonnes",
          "Season": "Kharif",
          "State": "Punjab",
          "Year": 2012,
          "Yield": 4.352941176470588
         },
         {
          "Area": 104000,
          "Area Units": "Hectare",
          "Crop": "Rice",
          "District": "FARIDKOT",
          "Production": 443000,
          "Production Units": "Tonnes",
          "Season": "Kharif",
          "State": "Punjab",
          "Year": 2013,
          "Yield": 4.259615384615385
         },
         {
          "Area": 106000,
          "Area Units": "Hectare",
          "Crop": "Rice",
          "District": "FARIDKOT",
          "Production": 421000,
          "Production Units": "Tonnes",
          "Season": "Kharif",
          "State": "Punjab",
          "Year": 2014,
          "Yield": 3.9716981132075473
         },
         {
          "Area": 110000,
          "Area Units": "Hectare",
          "Crop": "Rice",
          "District": "FARIDKOT",
          "Production": 439000,
          "Production Units": "Tonnes",
          "Season": "Kharif",
          "State": "Punjab",
          "Year": 2015,
          "Yield": 3.9909090909090894
         },
         {
          "Area": 115000,
          "Area Units": "Hectare",
          "Crop": "Rice",
          "District": "FARIDKOT",
          "Production": 468000,
          "Production Units": "Tonnes",
          "Season": "Kharif",
          "State": "Punjab",
          "Year": 2016,
          "Yield": 4.069565217391304
         },
         {
          "Area": 115000,
          "Area Units": "Hectare",
          "Crop": "Rice",
          "District": "FARIDKOT",
          "Production": 511000,
          "Production Units": "Tonnes",
          "Season": "Kharif",
          "State": "Punjab",
          "Year": 2017,
          "Yield": 4.443478260869565
         },
         {
          "Area": 116000,
          "Area Units": "Hectare",
          "Crop": "Rice",
          "District": "FARIDKOT",
          "Production": 477000,
          "Production Units": "Tonnes",
          "Season": "Kharif",
          "State": "Punjab",
          "Year": 2018,
          "Yield": 4.112068965517241
         },
         {
          "Area": 116000,
          "Area Units": "Hectare",
          "Crop": "Rice",
          "District": "FARIDKOT",
          "Production": 436000,
          "Production Units": "Tonnes",
          "Season": "Kharif",
          "State": "Punjab",
          "Year": 2019,
          "Yield": 3.7586206896551726
         },
         {
          "Area": 56000,
          "Area Units": "Hectare",
          "Crop": "Rice",
          "District": "FARIDKOT",
          "Production": 214000,
          "Production Units": "Tonnes",
          "Season": "Kharif",
          "State": "Punjab",
          "Year": 1997,
          "Yield": 3.821428571428572
         },
         {
          "Area": 82000,
          "Area Units": "Hectare",
          "Crop": "Rice",
          "District": "FARIDKOT",
          "Production": 246000,
          "Production Units": "Tonnes",
          "Season": "Kharif",
          "State": "Punjab",
          "Year": 1998,
          "Yield": 3
         },
         {
          "Area": 90000,
          "Area Units": "Hectare",
          "Crop": "Rice",
          "District": "FARIDKOT",
          "Production": 305000,
          "Production Units": "Tonnes",
          "Season": "Kharif",
          "State": "Punjab",
          "Year": 1999,
          "Yield": 3.388888888888889
         },
         {
          "Area": 90000,
          "Area Units": "Hectare",
          "Crop": "Rice",
          "District": "FARIDKOT",
          "Production": 310000,
          "Production Units": "Tonnes",
          "Season": "Kharif",
          "State": "Punjab",
          "Year": 2000,
          "Yield": 3.4444444444444446
         }
        ]
       },
       "encoding": {
        "x": {
         "field": "Year",
         "type": "quantitative"
        },
        "y": {
         "field": "Production",
         "type": "quantitative"
        }
       },
       "mark": "line",
       "title": "Rice production, in tonnes, Faridkot, Punjab from 1997-2020"
      },
      "text/plain": [
       "<VegaLite 4 object>\n",
       "\n",
       "If you see this message, it means the renderer has not been properly enabled\n",
       "for the frontend that you are using. For more information, see\n",
       "https://altair-viz.github.io/user_guide/troubleshooting.html\n"
      ]
     },
     "execution_count": 47,
     "metadata": {},
     "output_type": "execute_result"
    }
   ],
   "source": [
    "df_pj_far = df_pj_rice.loc[df['District'] == 'FARIDKOT']\n",
    "\n",
    "alt.Chart(df_pj_far).mark_line().encode(\n",
    "    x='Year',\n",
    "    y=('Production')\n",
    ").properties(\n",
    "    title='Rice production, in tonnes, Faridkot, Punjab from 1997-2020')"
   ]
  },
  {
   "cell_type": "markdown",
   "metadata": {},
   "source": [
    "![](faridkot.png)"
   ]
  },
  {
   "cell_type": "markdown",
   "metadata": {},
   "source": [
    "### LUDHIANA"
   ]
  },
  {
   "cell_type": "code",
   "execution_count": 48,
   "metadata": {},
   "outputs": [
    {
     "data": {
      "application/vnd.vegalite.v4+json": {
       "$schema": "https://vega.github.io/schema/vega-lite/v4.17.0.json",
       "config": {
        "view": {
         "continuousHeight": 300,
         "continuousWidth": 400
        }
       },
       "data": {
        "name": "data-928fa15985f6d56746e61dbdf3f41df6"
       },
       "datasets": {
        "data-928fa15985f6d56746e61dbdf3f41df6": [
         {
          "Area": 235000,
          "Area Units": "Hectare",
          "Crop": "Rice",
          "District": "LUDHIANA",
          "Production": 916000,
          "Production Units": "Tonnes",
          "Season": "Kharif",
          "State": "Punjab",
          "Year": 2001,
          "Yield": 3.897872340425532
         },
         {
          "Area": 236000,
          "Area Units": "Hectare",
          "Crop": "Rice",
          "District": "LUDHIANA",
          "Production": 1020000,
          "Production Units": "Tonnes",
          "Season": "Kharif",
          "State": "Punjab",
          "Year": 2002,
          "Yield": 4.322033898305085
         },
         {
          "Area": 241000,
          "Area Units": "Hectare",
          "Crop": "Rice",
          "District": "LUDHIANA",
          "Production": 1047000,
          "Production Units": "Tonnes",
          "Season": "Kharif",
          "State": "Punjab",
          "Year": 2003,
          "Yield": 4.344398340248962
         },
         {
          "Area": 400000,
          "Area Units": "Hectare",
          "Crop": "Rice",
          "District": "LUDHIANA",
          "Production": 1144000,
          "Production Units": "Tonnes",
          "Season": "Kharif",
          "State": "Punjab",
          "Year": 2004,
          "Yield": 2.86
         },
         {
          "Area": 250000,
          "Area Units": "Hectare",
          "Crop": "Rice",
          "District": "LUDHIANA",
          "Production": 1130000,
          "Production Units": "Tonnes",
          "Season": "Kharif",
          "State": "Punjab",
          "Year": 2005,
          "Yield": 4.52
         },
         {
          "Area": 248000,
          "Area Units": "Hectare",
          "Crop": "Rice",
          "District": "LUDHIANA",
          "Production": 1084000,
          "Production Units": "Tonnes",
          "Season": "Kharif",
          "State": "Punjab",
          "Year": 2006,
          "Yield": 4.370967741935484
         },
         {
          "Area": 250000,
          "Area Units": "Hectare",
          "Crop": "Rice",
          "District": "LUDHIANA",
          "Production": 1133000,
          "Production Units": "Tonnes",
          "Season": "Kharif",
          "State": "Punjab",
          "Year": 2007,
          "Yield": 4.532
         },
         {
          "Area": 254000,
          "Area Units": "Hectare",
          "Crop": "Rice",
          "District": "LUDHIANA",
          "Production": 1135000,
          "Production Units": "Tonnes",
          "Season": "Kharif",
          "State": "Punjab",
          "Year": 2008,
          "Yield": 4.468503937007874
         },
         {
          "Area": 257000,
          "Area Units": "Hectare",
          "Crop": "Rice",
          "District": "LUDHIANA",
          "Production": 1206000,
          "Production Units": "Tonnes",
          "Season": "Kharif",
          "State": "Punjab",
          "Year": 2009,
          "Yield": 4.692607003891051
         },
         {
          "Area": 257000,
          "Area Units": "Hectare",
          "Crop": "Rice",
          "District": "LUDHIANA",
          "Production": 1133000,
          "Production Units": "Tonnes",
          "Season": "Kharif",
          "State": "Punjab",
          "Year": 2010,
          "Yield": 4.408560311284047
         },
         {
          "Area": 257000,
          "Area Units": "Hectare",
          "Crop": "Rice",
          "District": "LUDHIANA",
          "Production": 1094000,
          "Production Units": "Tonnes",
          "Season": "Kharif",
          "State": "Punjab",
          "Year": 2011,
          "Yield": 4.256809338521401
         },
         {
          "Area": 257000,
          "Area Units": "Hectare",
          "Crop": "Rice",
          "District": "LUDHIANA",
          "Production": 1169000,
          "Production Units": "Tonnes",
          "Season": "Kharif",
          "State": "Punjab",
          "Year": 2012,
          "Yield": 4.54863813229572
         },
         {
          "Area": 257000,
          "Area Units": "Hectare",
          "Crop": "Rice",
          "District": "LUDHIANA",
          "Production": 1137000,
          "Production Units": "Tonnes",
          "Season": "Kharif",
          "State": "Punjab",
          "Year": 2013,
          "Yield": 4.424124513618677
         },
         {
          "Area": 257000,
          "Area Units": "Hectare",
          "Crop": "Rice",
          "District": "LUDHIANA",
          "Production": 1119000,
          "Production Units": "Tonnes",
          "Season": "Kharif",
          "State": "Punjab",
          "Year": 2014,
          "Yield": 4.35408560311284
         },
         {
          "Area": 257000,
          "Area Units": "Hectare",
          "Crop": "Rice",
          "District": "LUDHIANA",
          "Production": 1181000,
          "Production Units": "Tonnes",
          "Season": "Kharif",
          "State": "Punjab",
          "Year": 2015,
          "Yield": 4.595330739299611
         },
         {
          "Area": 259000,
          "Area Units": "Hectare",
          "Crop": "Rice",
          "District": "LUDHIANA",
          "Production": 1247000,
          "Production Units": "Tonnes",
          "Season": "Kharif",
          "State": "Punjab",
          "Year": 2016,
          "Yield": 4.814671814671815
         },
         {
          "Area": 258000,
          "Area Units": "Hectare",
          "Crop": "Rice",
          "District": "LUDHIANA",
          "Production": 1224000,
          "Production Units": "Tonnes",
          "Season": "Kharif",
          "State": "Punjab",
          "Year": 2017,
          "Yield": 4.744186046511628
         },
         {
          "Area": 259000,
          "Area Units": "Hectare",
          "Crop": "Rice",
          "District": "LUDHIANA",
          "Production": 1153000,
          "Production Units": "Tonnes",
          "Season": "Kharif",
          "State": "Punjab",
          "Year": 2018,
          "Yield": 4.451737451737452
         },
         {
          "Area": 259000,
          "Area Units": "Hectare",
          "Crop": "Rice",
          "District": "LUDHIANA",
          "Production": 1211000,
          "Production Units": "Tonnes",
          "Season": "Kharif",
          "State": "Punjab",
          "Year": 2019,
          "Yield": 4.675675675675675
         },
         {
          "Area": 234000,
          "Area Units": "Hectare",
          "Crop": "Rice",
          "District": "LUDHIANA",
          "Production": 899000,
          "Production Units": "Tonnes",
          "Season": "Kharif",
          "State": "Punjab",
          "Year": 1997,
          "Yield": 3.841880341880342
         },
         {
          "Area": 241000,
          "Area Units": "Hectare",
          "Crop": "Rice",
          "District": "LUDHIANA",
          "Production": 789000,
          "Production Units": "Tonnes",
          "Season": "Kharif",
          "State": "Punjab",
          "Year": 1998,
          "Yield": 3.2738589211618256
         },
         {
          "Area": 237000,
          "Area Units": "Hectare",
          "Crop": "Rice",
          "District": "LUDHIANA",
          "Production": 856000,
          "Production Units": "Tonnes",
          "Season": "Kharif",
          "State": "Punjab",
          "Year": 1999,
          "Yield": 3.611814345991561
         },
         {
          "Area": 238000,
          "Area Units": "Hectare",
          "Crop": "Rice",
          "District": "LUDHIANA",
          "Production": 939000,
          "Production Units": "Tonnes",
          "Season": "Kharif",
          "State": "Punjab",
          "Year": 2000,
          "Yield": 3.945378151260504
         }
        ]
       },
       "encoding": {
        "x": {
         "field": "Year",
         "type": "quantitative"
        },
        "y": {
         "field": "Production",
         "type": "quantitative"
        }
       },
       "mark": "line",
       "title": "Rice production in tonnes, Ludhiana, Punjab from 1997-2020"
      },
      "text/plain": [
       "<VegaLite 4 object>\n",
       "\n",
       "If you see this message, it means the renderer has not been properly enabled\n",
       "for the frontend that you are using. For more information, see\n",
       "https://altair-viz.github.io/user_guide/troubleshooting.html\n"
      ]
     },
     "execution_count": 48,
     "metadata": {},
     "output_type": "execute_result"
    }
   ],
   "source": [
    "df_pj_lud = df_pj_rice.loc[df['District'] == 'LUDHIANA']\n",
    "\n",
    "alt.Chart(df_pj_lud).mark_line().encode(\n",
    "    x='Year',\n",
    "    y=('Production')\n",
    ").properties(\n",
    "    title='Rice production in tonnes, Ludhiana, Punjab from 1997-2020')"
   ]
  },
  {
   "cell_type": "markdown",
   "metadata": {},
   "source": [
    "![](ludhiana.png)"
   ]
  },
  {
   "cell_type": "markdown",
   "metadata": {},
   "source": [
    "The district of Ludhiana does not fall in this trend as dramatically as the other districts. Yet, the production has fluctuated over time. "
   ]
  },
  {
   "cell_type": "markdown",
   "metadata": {},
   "source": [
    "### BATHINDA"
   ]
  },
  {
   "cell_type": "code",
   "execution_count": 49,
   "metadata": {},
   "outputs": [
    {
     "data": {
      "application/vnd.vegalite.v4+json": {
       "$schema": "https://vega.github.io/schema/vega-lite/v4.17.0.json",
       "config": {
        "view": {
         "continuousHeight": 300,
         "continuousWidth": 400
        }
       },
       "data": {
        "name": "data-44399e92be473a80414bbb5c0aa5867c"
       },
       "datasets": {
        "data-44399e92be473a80414bbb5c0aa5867c": [
         {
          "Area": 82000,
          "Area Units": "Hectare",
          "Crop": "Rice",
          "District": "BATHINDA",
          "Production": 307000,
          "Production Units": "Tonnes",
          "Season": "Kharif",
          "State": "Punjab",
          "Year": 2001,
          "Yield": 3.7439024390243913
         },
         {
          "Area": 107000,
          "Area Units": "Hectare",
          "Crop": "Rice",
          "District": "BATHINDA",
          "Production": 367000,
          "Production Units": "Tonnes",
          "Season": "Kharif",
          "State": "Punjab",
          "Year": 2002,
          "Yield": 3.4299065420560746
         },
         {
          "Area": 105000,
          "Area Units": "Hectare",
          "Crop": "Rice",
          "District": "BATHINDA",
          "Production": 419000,
          "Production Units": "Tonnes",
          "Season": "Kharif",
          "State": "Punjab",
          "Year": 2003,
          "Yield": 3.990476190476192
         },
         {
          "Area": 102000,
          "Area Units": "Hectare",
          "Crop": "Rice",
          "District": "BATHINDA",
          "Production": 415000,
          "Production Units": "Tonnes",
          "Season": "Kharif",
          "State": "Punjab",
          "Year": 2004,
          "Yield": 4.068627450980392
         },
         {
          "Area": 95000,
          "Area Units": "Hectare",
          "Crop": "Rice",
          "District": "BATHINDA",
          "Production": 385000,
          "Production Units": "Tonnes",
          "Season": "Kharif",
          "State": "Punjab",
          "Year": 2005,
          "Yield": 4.052631578947368
         },
         {
          "Area": 87000,
          "Area Units": "Hectare",
          "Crop": "Rice",
          "District": "BATHINDA",
          "Production": 358000,
          "Production Units": "Tonnes",
          "Season": "Kharif",
          "State": "Punjab",
          "Year": 2006,
          "Yield": 4.114942528735632
         },
         {
          "Area": 86000,
          "Area Units": "Hectare",
          "Crop": "Rice",
          "District": "BATHINDA",
          "Production": 368000,
          "Production Units": "Tonnes",
          "Season": "Kharif",
          "State": "Punjab",
          "Year": 2007,
          "Yield": 4.27906976744186
         },
         {
          "Area": 97000,
          "Area Units": "Hectare",
          "Crop": "Rice",
          "District": "BATHINDA",
          "Production": 427000,
          "Production Units": "Tonnes",
          "Season": "Kharif",
          "State": "Punjab",
          "Year": 2008,
          "Yield": 4.402061855670103
         },
         {
          "Area": 104000,
          "Area Units": "Hectare",
          "Crop": "Rice",
          "District": "BATHINDA",
          "Production": 476000,
          "Production Units": "Tonnes",
          "Season": "Kharif",
          "State": "Punjab",
          "Year": 2009,
          "Yield": 4.576923076923077
         },
         {
          "Area": 107000,
          "Area Units": "Hectare",
          "Crop": "Rice",
          "District": "BATHINDA",
          "Production": 437000,
          "Production Units": "Tonnes",
          "Season": "Kharif",
          "State": "Punjab",
          "Year": 2010,
          "Yield": 4.08411214953271
         },
         {
          "Area": 101000,
          "Area Units": "Hectare",
          "Crop": "Rice",
          "District": "BATHINDA",
          "Production": 409000,
          "Production Units": "Tonnes",
          "Season": "Kharif",
          "State": "Punjab",
          "Year": 2011,
          "Yield": 4.0495049504950495
         },
         {
          "Area": 107000,
          "Area Units": "Hectare",
          "Crop": "Rice",
          "District": "BATHINDA",
          "Production": 458000,
          "Production Units": "Tonnes",
          "Season": "Kharif",
          "State": "Punjab",
          "Year": 2012,
          "Yield": 4.280373831775701
         },
         {
          "Area": 111000,
          "Area Units": "Hectare",
          "Crop": "Rice",
          "District": "BATHINDA",
          "Production": 501000,
          "Production Units": "Tonnes",
          "Season": "Kharif",
          "State": "Punjab",
          "Year": 2013,
          "Yield": 4.513513513513513
         },
         {
          "Area": 119000,
          "Area Units": "Hectare",
          "Crop": "Rice",
          "District": "BATHINDA",
          "Production": 529000,
          "Production Units": "Tonnes",
          "Season": "Kharif",
          "State": "Punjab",
          "Year": 2014,
          "Yield": 4.445378151260504
         },
         {
          "Area": 137000,
          "Area Units": "Hectare",
          "Crop": "Rice",
          "District": "BATHINDA",
          "Production": 620000,
          "Production Units": "Tonnes",
          "Season": "Kharif",
          "State": "Punjab",
          "Year": 2015,
          "Yield": 4.525547445255475
         },
         {
          "Area": 152000,
          "Area Units": "Hectare",
          "Crop": "Rice",
          "District": "BATHINDA",
          "Production": 689000,
          "Production Units": "Tonnes",
          "Season": "Kharif",
          "State": "Punjab",
          "Year": 2016,
          "Yield": 4.532894736842105
         },
         {
          "Area": 160000,
          "Area Units": "Hectare",
          "Crop": "Rice",
          "District": "BATHINDA",
          "Production": 747000,
          "Production Units": "Tonnes",
          "Season": "Kharif",
          "State": "Punjab",
          "Year": 2017,
          "Yield": 4.66875
         },
         {
          "Area": 167000,
          "Area Units": "Hectare",
          "Crop": "Rice",
          "District": "BATHINDA",
          "Production": 762000,
          "Production Units": "Tonnes",
          "Season": "Kharif",
          "State": "Punjab",
          "Year": 2018,
          "Yield": 4.562874251497006
         },
         {
          "Area": 179000,
          "Area Units": "Hectare",
          "Crop": "Rice",
          "District": "BATHINDA",
          "Production": 764000,
          "Production Units": "Tonnes",
          "Season": "Kharif",
          "State": "Punjab",
          "Year": 2019,
          "Yield": 4.268156424581005
         },
         {
          "Area": 53000,
          "Area Units": "Hectare",
          "Crop": "Rice",
          "District": "BATHINDA",
          "Production": 212000,
          "Production Units": "Tonnes",
          "Season": "Kharif",
          "State": "Punjab",
          "Year": 1997,
          "Yield": 4
         },
         {
          "Area": 84000,
          "Area Units": "Hectare",
          "Crop": "Rice",
          "District": "BATHINDA",
          "Production": 287000,
          "Production Units": "Tonnes",
          "Season": "Kharif",
          "State": "Punjab",
          "Year": 1998,
          "Yield": 3.4166666666666665
         },
         {
          "Area": 99000,
          "Area Units": "Hectare",
          "Crop": "Rice",
          "District": "BATHINDA",
          "Production": 392000,
          "Production Units": "Tonnes",
          "Season": "Kharif",
          "State": "Punjab",
          "Year": 1999,
          "Yield": 3.95959595959596
         },
         {
          "Area": 99000,
          "Area Units": "Hectare",
          "Crop": "Rice",
          "District": "BATHINDA",
          "Production": 350000,
          "Production Units": "Tonnes",
          "Season": "Kharif",
          "State": "Punjab",
          "Year": 2000,
          "Yield": 3.5353535353535355
         }
        ]
       },
       "encoding": {
        "x": {
         "field": "Year",
         "type": "quantitative"
        },
        "y": {
         "field": "Production",
         "type": "quantitative"
        }
       },
       "mark": "line",
       "title": "Rice production, in tonnes, in Bathinda, Punjab from 1997-2020"
      },
      "text/plain": [
       "<VegaLite 4 object>\n",
       "\n",
       "If you see this message, it means the renderer has not been properly enabled\n",
       "for the frontend that you are using. For more information, see\n",
       "https://altair-viz.github.io/user_guide/troubleshooting.html\n"
      ]
     },
     "execution_count": 49,
     "metadata": {},
     "output_type": "execute_result"
    }
   ],
   "source": [
    "df_pj_bat = df_pj_rice.loc[df['District'] == 'BATHINDA']\n",
    "\n",
    "alt.Chart(df_pj_bat).mark_line().encode(\n",
    "    x='Year',\n",
    "    y=('Production')\n",
    ").properties(\n",
    "    title='Rice production, in tonnes, in Bathinda, Punjab from 1997-2020')"
   ]
  },
  {
   "cell_type": "markdown",
   "metadata": {},
   "source": [
    "![](bathinda.png)"
   ]
  },
  {
   "cell_type": "markdown",
   "metadata": {},
   "source": [
    "Bathinda seems similar to Ludhiana. "
   ]
  },
  {
   "cell_type": "markdown",
   "metadata": {},
   "source": [
    "### FATEHGARH SAHIB"
   ]
  },
  {
   "cell_type": "code",
   "execution_count": 50,
   "metadata": {},
   "outputs": [
    {
     "data": {
      "application/vnd.vegalite.v4+json": {
       "$schema": "https://vega.github.io/schema/vega-lite/v4.17.0.json",
       "config": {
        "view": {
         "continuousHeight": 300,
         "continuousWidth": 400
        }
       },
       "data": {
        "name": "data-3a3e3ac5b0b67e993ea5bfe9cb40d203"
       },
       "datasets": {
        "data-3a3e3ac5b0b67e993ea5bfe9cb40d203": [
         {
          "Area": 81000,
          "Area Units": "Hectare",
          "Crop": "Rice",
          "District": "FATEHGARH SAHIB",
          "Production": 324000,
          "Production Units": "Tonnes",
          "Season": "Kharif",
          "State": "Punjab",
          "Year": 2001,
          "Yield": 4
         },
         {
          "Area": 80000,
          "Area Units": "Hectare",
          "Crop": "Rice",
          "District": "FATEHGARH SAHIB",
          "Production": 312000,
          "Production Units": "Tonnes",
          "Season": "Kharif",
          "State": "Punjab",
          "Year": 2002,
          "Yield": 3.9
         },
         {
          "Area": 83000,
          "Area Units": "Hectare",
          "Crop": "Rice",
          "District": "FATEHGARH SAHIB",
          "Production": 364000,
          "Production Units": "Tonnes",
          "Season": "Kharif",
          "State": "Punjab",
          "Year": 2003,
          "Yield": 4.385542168674699
         },
         {
          "Area": 85000,
          "Area Units": "Hectare",
          "Crop": "Rice",
          "District": "FATEHGARH SAHIB",
          "Production": 371000,
          "Production Units": "Tonnes",
          "Season": "Kharif",
          "State": "Punjab",
          "Year": 2004,
          "Yield": 4.364705882352941
         },
         {
          "Area": 85000,
          "Area Units": "Hectare",
          "Crop": "Rice",
          "District": "FATEHGARH SAHIB",
          "Production": 361000,
          "Production Units": "Tonnes",
          "Season": "Kharif",
          "State": "Punjab",
          "Year": 2005,
          "Yield": 4.247058823529412
         },
         {
          "Area": 84000,
          "Area Units": "Hectare",
          "Crop": "Rice",
          "District": "FATEHGARH SAHIB",
          "Production": 340000,
          "Production Units": "Tonnes",
          "Season": "Kharif",
          "State": "Punjab",
          "Year": 2006,
          "Yield": 4.047619047619048
         },
         {
          "Area": 84000,
          "Area Units": "Hectare",
          "Crop": "Rice",
          "District": "FATEHGARH SAHIB",
          "Production": 383000,
          "Production Units": "Tonnes",
          "Season": "Kharif",
          "State": "Punjab",
          "Year": 2007,
          "Yield": 4.559523809523809
         },
         {
          "Area": 85000,
          "Area Units": "Hectare",
          "Crop": "Rice",
          "District": "FATEHGARH SAHIB",
          "Production": 363000,
          "Production Units": "Tonnes",
          "Season": "Kharif",
          "State": "Punjab",
          "Year": 2008,
          "Yield": 4.270588235294118
         },
         {
          "Area": 86000,
          "Area Units": "Hectare",
          "Crop": "Rice",
          "District": "FATEHGARH SAHIB",
          "Production": 391000,
          "Production Units": "Tonnes",
          "Season": "Kharif",
          "State": "Punjab",
          "Year": 2009,
          "Yield": 4.546511627906977
         },
         {
          "Area": 87000,
          "Area Units": "Hectare",
          "Crop": "Rice",
          "District": "FATEHGARH SAHIB",
          "Production": 366000,
          "Production Units": "Tonnes",
          "Season": "Kharif",
          "State": "Punjab",
          "Year": 2010,
          "Yield": 4.206896551724138
         },
         {
          "Area": 86000,
          "Area Units": "Hectare",
          "Crop": "Rice",
          "District": "FATEHGARH SAHIB",
          "Production": 364000,
          "Production Units": "Tonnes",
          "Season": "Kharif",
          "State": "Punjab",
          "Year": 2011,
          "Yield": 4.232558139534884
         },
         {
          "Area": 86000,
          "Area Units": "Hectare",
          "Crop": "Rice",
          "District": "FATEHGARH SAHIB",
          "Production": 384000,
          "Production Units": "Tonnes",
          "Season": "Kharif",
          "State": "Punjab",
          "Year": 2012,
          "Yield": 4.465116279069767
         },
         {
          "Area": 86000,
          "Area Units": "Hectare",
          "Crop": "Rice",
          "District": "FATEHGARH SAHIB",
          "Production": 351000,
          "Production Units": "Tonnes",
          "Season": "Kharif",
          "State": "Punjab",
          "Year": 2013,
          "Yield": 4.0813953488372094
         },
         {
          "Area": 86000,
          "Area Units": "Hectare",
          "Crop": "Rice",
          "District": "FATEHGARH SAHIB",
          "Production": 374000,
          "Production Units": "Tonnes",
          "Season": "Kharif",
          "State": "Punjab",
          "Year": 2014,
          "Yield": 4.348837209302325
         },
         {
          "Area": 86000,
          "Area Units": "Hectare",
          "Crop": "Rice",
          "District": "FATEHGARH SAHIB",
          "Production": 384000,
          "Production Units": "Tonnes",
          "Season": "Kharif",
          "State": "Punjab",
          "Year": 2015,
          "Yield": 4.465116279069767
         },
         {
          "Area": 86000,
          "Area Units": "Hectare",
          "Crop": "Rice",
          "District": "FATEHGARH SAHIB",
          "Production": 405000,
          "Production Units": "Tonnes",
          "Season": "Kharif",
          "State": "Punjab",
          "Year": 2016,
          "Yield": 4.709302325581396
         },
         {
          "Area": 86000,
          "Area Units": "Hectare",
          "Crop": "Rice",
          "District": "FATEHGARH SAHIB",
          "Production": 395000,
          "Production Units": "Tonnes",
          "Season": "Kharif",
          "State": "Punjab",
          "Year": 2017,
          "Yield": 4.593023255813954
         },
         {
          "Area": 86000,
          "Area Units": "Hectare",
          "Crop": "Rice",
          "District": "FATEHGARH SAHIB",
          "Production": 347000,
          "Production Units": "Tonnes",
          "Season": "Kharif",
          "State": "Punjab",
          "Year": 2018,
          "Yield": 4.034883720930233
         },
         {
          "Area": 86000,
          "Area Units": "Hectare",
          "Crop": "Rice",
          "District": "FATEHGARH SAHIB",
          "Production": 366000,
          "Production Units": "Tonnes",
          "Season": "Kharif",
          "State": "Punjab",
          "Year": 2019,
          "Yield": 4.255813953488372
         },
         {
          "Area": 82000,
          "Area Units": "Hectare",
          "Crop": "Rice",
          "District": "FATEHGARH SAHIB",
          "Production": 302000,
          "Production Units": "Tonnes",
          "Season": "Kharif",
          "State": "Punjab",
          "Year": 1997,
          "Yield": 3.682926829268293
         },
         {
          "Area": 83000,
          "Area Units": "Hectare",
          "Crop": "Rice",
          "District": "FATEHGARH SAHIB",
          "Production": 271000,
          "Production Units": "Tonnes",
          "Season": "Kharif",
          "State": "Punjab",
          "Year": 1998,
          "Yield": 3.265060240963856
         },
         {
          "Area": 82000,
          "Area Units": "Hectare",
          "Crop": "Rice",
          "District": "FATEHGARH SAHIB",
          "Production": 302000,
          "Production Units": "Tonnes",
          "Season": "Kharif",
          "State": "Punjab",
          "Year": 1999,
          "Yield": 3.682926829268293
         },
         {
          "Area": 84000,
          "Area Units": "Hectare",
          "Crop": "Rice",
          "District": "FATEHGARH SAHIB",
          "Production": 350000,
          "Production Units": "Tonnes",
          "Season": "Kharif",
          "State": "Punjab",
          "Year": 2000,
          "Yield": 4.166666666666667
         }
        ]
       },
       "encoding": {
        "x": {
         "field": "Year",
         "type": "quantitative"
        },
        "y": {
         "field": "Production",
         "type": "quantitative"
        }
       },
       "mark": "line",
       "title": "Rice production, in tonnes, in Fatehgarh Sahib, Punjab from 1997-2020"
      },
      "text/plain": [
       "<VegaLite 4 object>\n",
       "\n",
       "If you see this message, it means the renderer has not been properly enabled\n",
       "for the frontend that you are using. For more information, see\n",
       "https://altair-viz.github.io/user_guide/troubleshooting.html\n"
      ]
     },
     "execution_count": 50,
     "metadata": {},
     "output_type": "execute_result"
    }
   ],
   "source": [
    "df_pj_fs = df_pj_rice.loc[df['District'] == 'FATEHGARH SAHIB']\n",
    "\n",
    "alt.Chart(df_pj_fs).mark_line().encode(\n",
    "    x='Year',\n",
    "    y=('Production')\n",
    ").properties(\n",
    "    title='Rice production, in tonnes, in Fatehgarh Sahib, Punjab from 1997-2020')"
   ]
  },
  {
   "cell_type": "markdown",
   "metadata": {},
   "source": [
    "![](fatehgarh.png)"
   ]
  },
  {
   "cell_type": "markdown",
   "metadata": {},
   "source": [
    "### HOSHIARPUR"
   ]
  },
  {
   "cell_type": "code",
   "execution_count": 51,
   "metadata": {},
   "outputs": [
    {
     "data": {
      "application/vnd.vegalite.v4+json": {
       "$schema": "https://vega.github.io/schema/vega-lite/v4.17.0.json",
       "config": {
        "view": {
         "continuousHeight": 300,
         "continuousWidth": 400
        }
       },
       "data": {
        "name": "data-39343219c4639debf172ffa0610e12bb"
       },
       "datasets": {
        "data-39343219c4639debf172ffa0610e12bb": [
         {
          "Area": 60000,
          "Area Units": "Hectare",
          "Crop": "Rice",
          "District": "HOSHIARPUR",
          "Production": 171000,
          "Production Units": "Tonnes",
          "Season": "Kharif",
          "State": "Punjab",
          "Year": 2001,
          "Yield": 2.85
         },
         {
          "Area": 56000,
          "Area Units": "Hectare",
          "Crop": "Rice",
          "District": "HOSHIARPUR",
          "Production": 159000,
          "Production Units": "Tonnes",
          "Season": "Kharif",
          "State": "Punjab",
          "Year": 2002,
          "Yield": 2.8392857142857144
         },
         {
          "Area": 58000,
          "Area Units": "Hectare",
          "Crop": "Rice",
          "District": "HOSHIARPUR",
          "Production": 179000,
          "Production Units": "Tonnes",
          "Season": "Kharif",
          "State": "Punjab",
          "Year": 2003,
          "Yield": 3.086206896551724
         },
         {
          "Area": 58000,
          "Area Units": "Hectare",
          "Crop": "Rice",
          "District": "HOSHIARPUR",
          "Production": 171000,
          "Production Units": "Tonnes",
          "Season": "Kharif",
          "State": "Punjab",
          "Year": 2004,
          "Yield": 2.9482758620689653
         },
         {
          "Area": 61000,
          "Area Units": "Hectare",
          "Crop": "Rice",
          "District": "HOSHIARPUR",
          "Production": 182000,
          "Production Units": "Tonnes",
          "Season": "Kharif",
          "State": "Punjab",
          "Year": 2005,
          "Yield": 2.9836065573770494
         },
         {
          "Area": 56000,
          "Area Units": "Hectare",
          "Crop": "Rice",
          "District": "HOSHIARPUR",
          "Production": 157000,
          "Production Units": "Tonnes",
          "Season": "Kharif",
          "State": "Punjab",
          "Year": 2006,
          "Yield": 2.8035714285714284
         },
         {
          "Area": 56000,
          "Area Units": "Hectare",
          "Crop": "Rice",
          "District": "HOSHIARPUR",
          "Production": 185000,
          "Production Units": "Tonnes",
          "Season": "Kharif",
          "State": "Punjab",
          "Year": 2007,
          "Yield": 3.3035714285714284
         },
         {
          "Area": 60000,
          "Area Units": "Hectare",
          "Crop": "Rice",
          "District": "HOSHIARPUR",
          "Production": 209000,
          "Production Units": "Tonnes",
          "Season": "Kharif",
          "State": "Punjab",
          "Year": 2008,
          "Yield": 3.4833333333333334
         },
         {
          "Area": 70000,
          "Area Units": "Hectare",
          "Crop": "Rice",
          "District": "HOSHIARPUR",
          "Production": 248000,
          "Production Units": "Tonnes",
          "Season": "Kharif",
          "State": "Punjab",
          "Year": 2009,
          "Yield": 3.5428571428571427
         },
         {
          "Area": 73000,
          "Area Units": "Hectare",
          "Crop": "Rice",
          "District": "HOSHIARPUR",
          "Production": 261000,
          "Production Units": "Tonnes",
          "Season": "Kharif",
          "State": "Punjab",
          "Year": 2010,
          "Yield": 3.5753424657534247
         },
         {
          "Area": 74000,
          "Area Units": "Hectare",
          "Crop": "Rice",
          "District": "HOSHIARPUR",
          "Production": 269000,
          "Production Units": "Tonnes",
          "Season": "Kharif",
          "State": "Punjab",
          "Year": 2011,
          "Yield": 3.635135135135135
         },
         {
          "Area": 70000,
          "Area Units": "Hectare",
          "Crop": "Rice",
          "District": "HOSHIARPUR",
          "Production": 252000,
          "Production Units": "Tonnes",
          "Season": "Kharif",
          "State": "Punjab",
          "Year": 2012,
          "Yield": 3.6
         },
         {
          "Area": 70000,
          "Area Units": "Hectare",
          "Crop": "Rice",
          "District": "HOSHIARPUR",
          "Production": 252000,
          "Production Units": "Tonnes",
          "Season": "Kharif",
          "State": "Punjab",
          "Year": 2013,
          "Yield": 3.6
         },
         {
          "Area": 71000,
          "Area Units": "Hectare",
          "Crop": "Rice",
          "District": "HOSHIARPUR",
          "Production": 244000,
          "Production Units": "Tonnes",
          "Season": "Kharif",
          "State": "Punjab",
          "Year": 2014,
          "Yield": 3.436619718309859
         },
         {
          "Area": 72000,
          "Area Units": "Hectare",
          "Crop": "Rice",
          "District": "HOSHIARPUR",
          "Production": 255000,
          "Production Units": "Tonnes",
          "Season": "Kharif",
          "State": "Punjab",
          "Year": 2015,
          "Yield": 3.5416666666666665
         },
         {
          "Area": 74000,
          "Area Units": "Hectare",
          "Crop": "Rice",
          "District": "HOSHIARPUR",
          "Production": 287000,
          "Production Units": "Tonnes",
          "Season": "Kharif",
          "State": "Punjab",
          "Year": 2016,
          "Yield": 3.8783783783783785
         },
         {
          "Area": 75000,
          "Area Units": "Hectare",
          "Crop": "Rice",
          "District": "HOSHIARPUR",
          "Production": 292000,
          "Production Units": "Tonnes",
          "Season": "Kharif",
          "State": "Punjab",
          "Year": 2017,
          "Yield": 3.8933333333333335
         },
         {
          "Area": 75000,
          "Area Units": "Hectare",
          "Crop": "Rice",
          "District": "HOSHIARPUR",
          "Production": 279000,
          "Production Units": "Tonnes",
          "Season": "Kharif",
          "State": "Punjab",
          "Year": 2018,
          "Yield": 3.72
         },
         {
          "Area": 78000,
          "Area Units": "Hectare",
          "Crop": "Rice",
          "District": "HOSHIARPUR",
          "Production": 312000,
          "Production Units": "Tonnes",
          "Season": "Kharif",
          "State": "Punjab",
          "Year": 2019,
          "Yield": 4
         },
         {
          "Area": 56000,
          "Area Units": "Hectare",
          "Crop": "Rice",
          "District": "HOSHIARPUR",
          "Production": 169000,
          "Production Units": "Tonnes",
          "Season": "Kharif",
          "State": "Punjab",
          "Year": 1997,
          "Yield": 3.017857142857143
         },
         {
          "Area": 59000,
          "Area Units": "Hectare",
          "Crop": "Rice",
          "District": "HOSHIARPUR",
          "Production": 171000,
          "Production Units": "Tonnes",
          "Season": "Kharif",
          "State": "Punjab",
          "Year": 1998,
          "Yield": 2.8983050847457625
         },
         {
          "Area": 61000,
          "Area Units": "Hectare",
          "Crop": "Rice",
          "District": "HOSHIARPUR",
          "Production": 178000,
          "Production Units": "Tonnes",
          "Season": "Kharif",
          "State": "Punjab",
          "Year": 1999,
          "Yield": 2.918032786885246
         },
         {
          "Area": 63000,
          "Area Units": "Hectare",
          "Crop": "Rice",
          "District": "HOSHIARPUR",
          "Production": 192000,
          "Production Units": "Tonnes",
          "Season": "Kharif",
          "State": "Punjab",
          "Year": 2000,
          "Yield": 3.0476190476190474
         }
        ]
       },
       "encoding": {
        "x": {
         "field": "Year",
         "type": "quantitative"
        },
        "y": {
         "field": "Production",
         "type": "quantitative"
        }
       },
       "mark": "line",
       "title": "Rice production, in tonnes, in Hoshiarpur, Punjab from 1997-2020"
      },
      "text/plain": [
       "<VegaLite 4 object>\n",
       "\n",
       "If you see this message, it means the renderer has not been properly enabled\n",
       "for the frontend that you are using. For more information, see\n",
       "https://altair-viz.github.io/user_guide/troubleshooting.html\n"
      ]
     },
     "execution_count": 51,
     "metadata": {},
     "output_type": "execute_result"
    }
   ],
   "source": [
    "df_pj_hos = df_pj_rice.loc[df['District'] == 'HOSHIARPUR']\n",
    "\n",
    "alt.Chart(df_pj_hos).mark_line().encode(\n",
    "    x='Year',\n",
    "    y=('Production')\n",
    ").properties(\n",
    "    title='Rice production, in tonnes, in Hoshiarpur, Punjab from 1997-2020')"
   ]
  },
  {
   "cell_type": "markdown",
   "metadata": {},
   "source": [
    "![](hoshiarpur.png)"
   ]
  },
  {
   "cell_type": "markdown",
   "metadata": {},
   "source": [
    "### KAPURTHALA"
   ]
  },
  {
   "cell_type": "code",
   "execution_count": 52,
   "metadata": {},
   "outputs": [
    {
     "data": {
      "application/vnd.vegalite.v4+json": {
       "$schema": "https://vega.github.io/schema/vega-lite/v4.17.0.json",
       "config": {
        "view": {
         "continuousHeight": 300,
         "continuousWidth": 400
        }
       },
       "data": {
        "name": "data-5f127148d0ffcd958fde48a59d73a8bf"
       },
       "datasets": {
        "data-5f127148d0ffcd958fde48a59d73a8bf": [
         {
          "Area": 103000,
          "Area Units": "Hectare",
          "Crop": "Rice",
          "District": "KAPURTHALA",
          "Production": 357000,
          "Production Units": "Tonnes",
          "Season": "Kharif",
          "State": "Punjab",
          "Year": 2001,
          "Yield": 3.466019417475728
         },
         {
          "Area": 102000,
          "Area Units": "Hectare",
          "Crop": "Rice",
          "District": "KAPURTHALA",
          "Production": 362000,
          "Production Units": "Tonnes",
          "Season": "Kharif",
          "State": "Punjab",
          "Year": 2002,
          "Yield": 3.549019607843137
         },
         {
          "Area": 104000,
          "Area Units": "Hectare",
          "Crop": "Rice",
          "District": "KAPURTHALA",
          "Production": 361000,
          "Production Units": "Tonnes",
          "Season": "Kharif",
          "State": "Punjab",
          "Year": 2003,
          "Yield": 3.4711538461538463
         },
         {
          "Area": 105000,
          "Area Units": "Hectare",
          "Crop": "Rice",
          "District": "KAPURTHALA",
          "Production": 423000,
          "Production Units": "Tonnes",
          "Season": "Kharif",
          "State": "Punjab",
          "Year": 2004,
          "Yield": 4.0285714285714285
         },
         {
          "Area": 108000,
          "Area Units": "Hectare",
          "Crop": "Rice",
          "District": "KAPURTHALA",
          "Production": 422000,
          "Production Units": "Tonnes",
          "Season": "Kharif",
          "State": "Punjab",
          "Year": 2005,
          "Yield": 3.907407407407408
         },
         {
          "Area": 110000,
          "Area Units": "Hectare",
          "Crop": "Rice",
          "District": "KAPURTHALA",
          "Production": 414000,
          "Production Units": "Tonnes",
          "Season": "Kharif",
          "State": "Punjab",
          "Year": 2006,
          "Yield": 3.763636363636364
         },
         {
          "Area": 110000,
          "Area Units": "Hectare",
          "Crop": "Rice",
          "District": "KAPURTHALA",
          "Production": 428000,
          "Production Units": "Tonnes",
          "Season": "Kharif",
          "State": "Punjab",
          "Year": 2007,
          "Yield": 3.890909090909091
         },
         {
          "Area": 114000,
          "Area Units": "Hectare",
          "Crop": "Rice",
          "District": "KAPURTHALA",
          "Production": 428000,
          "Production Units": "Tonnes",
          "Season": "Kharif",
          "State": "Punjab",
          "Year": 2008,
          "Yield": 3.754385964912281
         },
         {
          "Area": 115000,
          "Area Units": "Hectare",
          "Crop": "Rice",
          "District": "KAPURTHALA",
          "Production": 452000,
          "Production Units": "Tonnes",
          "Season": "Kharif",
          "State": "Punjab",
          "Year": 2009,
          "Yield": 3.930434782608696
         },
         {
          "Area": 118000,
          "Area Units": "Hectare",
          "Crop": "Rice",
          "District": "KAPURTHALA",
          "Production": 460000,
          "Production Units": "Tonnes",
          "Season": "Kharif",
          "State": "Punjab",
          "Year": 2010,
          "Yield": 3.8983050847457625
         },
         {
          "Area": 118000,
          "Area Units": "Hectare",
          "Crop": "Rice",
          "District": "KAPURTHALA",
          "Production": 433000,
          "Production Units": "Tonnes",
          "Season": "Kharif",
          "State": "Punjab",
          "Year": 2011,
          "Yield": 3.669491525423729
         },
         {
          "Area": 117000,
          "Area Units": "Hectare",
          "Crop": "Rice",
          "District": "KAPURTHALA",
          "Production": 445000,
          "Production Units": "Tonnes",
          "Season": "Kharif",
          "State": "Punjab",
          "Year": 2012,
          "Yield": 3.8034188034188032
         },
         {
          "Area": 117000,
          "Area Units": "Hectare",
          "Crop": "Rice",
          "District": "KAPURTHALA",
          "Production": 451000,
          "Production Units": "Tonnes",
          "Season": "Kharif",
          "State": "Punjab",
          "Year": 2013,
          "Yield": 3.854700854700855
         },
         {
          "Area": 117000,
          "Area Units": "Hectare",
          "Crop": "Rice",
          "District": "KAPURTHALA",
          "Production": 439000,
          "Production Units": "Tonnes",
          "Season": "Kharif",
          "State": "Punjab",
          "Year": 2014,
          "Yield": 3.752136752136752
         },
         {
          "Area": 118000,
          "Area Units": "Hectare",
          "Crop": "Rice",
          "District": "KAPURTHALA",
          "Production": 474000,
          "Production Units": "Tonnes",
          "Season": "Kharif",
          "State": "Punjab",
          "Year": 2015,
          "Yield": 4.016949152542373
         },
         {
          "Area": 118000,
          "Area Units": "Hectare",
          "Crop": "Rice",
          "District": "KAPURTHALA",
          "Production": 483000,
          "Production Units": "Tonnes",
          "Season": "Kharif",
          "State": "Punjab",
          "Year": 2016,
          "Yield": 4.093220338983051
         },
         {
          "Area": 118000,
          "Area Units": "Hectare",
          "Crop": "Rice",
          "District": "KAPURTHALA",
          "Production": 513000,
          "Production Units": "Tonnes",
          "Season": "Kharif",
          "State": "Punjab",
          "Year": 2017,
          "Yield": 4.3474576271186445
         },
         {
          "Area": 118000,
          "Area Units": "Hectare",
          "Crop": "Rice",
          "District": "KAPURTHALA",
          "Production": 512000,
          "Production Units": "Tonnes",
          "Season": "Kharif",
          "State": "Punjab",
          "Year": 2018,
          "Yield": 4.338983050847458
         },
         {
          "Area": 120000,
          "Area Units": "Hectare",
          "Crop": "Rice",
          "District": "KAPURTHALA",
          "Production": 496000,
          "Production Units": "Tonnes",
          "Season": "Kharif",
          "State": "Punjab",
          "Year": 2019,
          "Yield": 4.133333333333334
         },
         {
          "Area": 97000,
          "Area Units": "Hectare",
          "Crop": "Rice",
          "District": "KAPURTHALA",
          "Production": 290000,
          "Production Units": "Tonnes",
          "Season": "Kharif",
          "State": "Punjab",
          "Year": 1997,
          "Yield": 2.989690721649485
         },
         {
          "Area": 99000,
          "Area Units": "Hectare",
          "Crop": "Rice",
          "District": "KAPURTHALA",
          "Production": 314000,
          "Production Units": "Tonnes",
          "Season": "Kharif",
          "State": "Punjab",
          "Year": 1998,
          "Yield": 3.171717171717172
         },
         {
          "Area": 100000,
          "Area Units": "Hectare",
          "Crop": "Rice",
          "District": "KAPURTHALA",
          "Production": 319000,
          "Production Units": "Tonnes",
          "Season": "Kharif",
          "State": "Punjab",
          "Year": 1999,
          "Yield": 3.19
         },
         {
          "Area": 103000,
          "Area Units": "Hectare",
          "Crop": "Rice",
          "District": "KAPURTHALA",
          "Production": 358000,
          "Production Units": "Tonnes",
          "Season": "Kharif",
          "State": "Punjab",
          "Year": 2000,
          "Yield": 3.4757281553398056
         }
        ]
       },
       "encoding": {
        "x": {
         "field": "Year",
         "type": "quantitative"
        },
        "y": {
         "field": "Production",
         "type": "quantitative"
        }
       },
       "mark": "line",
       "title": "Rice production, in tonnes, in Kapurthala, Punjab from 1997-2020"
      },
      "text/plain": [
       "<VegaLite 4 object>\n",
       "\n",
       "If you see this message, it means the renderer has not been properly enabled\n",
       "for the frontend that you are using. For more information, see\n",
       "https://altair-viz.github.io/user_guide/troubleshooting.html\n"
      ]
     },
     "execution_count": 52,
     "metadata": {},
     "output_type": "execute_result"
    }
   ],
   "source": [
    "df_pj_kap = df_pj_rice.loc[df['District'] == 'KAPURTHALA']\n",
    "\n",
    "alt.Chart(df_pj_kap).mark_line().encode(\n",
    "    x='Year',\n",
    "    y=('Production')\n",
    ").properties(\n",
    "    title='Rice production, in tonnes, in Kapurthala, Punjab from 1997-2020')"
   ]
  },
  {
   "cell_type": "markdown",
   "metadata": {},
   "source": [
    "![](kapurthala.png)"
   ]
  },
  {
   "cell_type": "markdown",
   "metadata": {},
   "source": [
    "### MOGA"
   ]
  },
  {
   "cell_type": "code",
   "execution_count": 53,
   "metadata": {},
   "outputs": [
    {
     "data": {
      "application/vnd.vegalite.v4+json": {
       "$schema": "https://vega.github.io/schema/vega-lite/v4.17.0.json",
       "config": {
        "view": {
         "continuousHeight": 300,
         "continuousWidth": 400
        }
       },
       "data": {
        "name": "data-39f6a1d0f15a03269e055d13b02ccd25"
       },
       "datasets": {
        "data-39f6a1d0f15a03269e055d13b02ccd25": [
         {
          "Area": 151000,
          "Area Units": "Hectare",
          "Crop": "Rice",
          "District": "MOGA",
          "Production": 579000,
          "Production Units": "Tonnes",
          "Season": "Kharif",
          "State": "Punjab",
          "Year": 2001,
          "Yield": 3.834437086092715
         },
         {
          "Area": 149000,
          "Area Units": "Hectare",
          "Crop": "Rice",
          "District": "MOGA",
          "Production": 568000,
          "Production Units": "Tonnes",
          "Season": "Kharif",
          "State": "Punjab",
          "Year": 2002,
          "Yield": 3.812080536912752
         },
         {
          "Area": 163000,
          "Area Units": "Hectare",
          "Crop": "Rice",
          "District": "MOGA",
          "Production": 667000,
          "Production Units": "Tonnes",
          "Season": "Kharif",
          "State": "Punjab",
          "Year": 2003,
          "Yield": 4.0920245398773005
         },
         {
          "Area": 164000,
          "Area Units": "Hectare",
          "Crop": "Rice",
          "District": "MOGA",
          "Production": 731000,
          "Production Units": "Tonnes",
          "Season": "Kharif",
          "State": "Punjab",
          "Year": 2004,
          "Yield": 4.4573170731707314
         },
         {
          "Area": 167000,
          "Area Units": "Hectare",
          "Crop": "Rice",
          "District": "MOGA",
          "Production": 735000,
          "Production Units": "Tonnes",
          "Season": "Kharif",
          "State": "Punjab",
          "Year": 2005,
          "Yield": 4.401197604790419
         },
         {
          "Area": 168000,
          "Area Units": "Hectare",
          "Crop": "Rice",
          "District": "MOGA",
          "Production": 711000,
          "Production Units": "Tonnes",
          "Season": "Kharif",
          "State": "Punjab",
          "Year": 2006,
          "Yield": 4.232142857142857
         },
         {
          "Area": 169000,
          "Area Units": "Hectare",
          "Crop": "Rice",
          "District": "MOGA",
          "Production": 749000,
          "Production Units": "Tonnes",
          "Season": "Kharif",
          "State": "Punjab",
          "Year": 2007,
          "Yield": 4.431952662721893
         },
         {
          "Area": 174000,
          "Area Units": "Hectare",
          "Crop": "Rice",
          "District": "MOGA",
          "Production": 800000,
          "Production Units": "Tonnes",
          "Season": "Kharif",
          "State": "Punjab",
          "Year": 2008,
          "Yield": 4.597701149425287
         },
         {
          "Area": 172000,
          "Area Units": "Hectare",
          "Crop": "Rice",
          "District": "MOGA",
          "Production": 812000,
          "Production Units": "Tonnes",
          "Season": "Kharif",
          "State": "Punjab",
          "Year": 2009,
          "Yield": 4.72093023255814
         },
         {
          "Area": 172000,
          "Area Units": "Hectare",
          "Crop": "Rice",
          "District": "MOGA",
          "Production": 745000,
          "Production Units": "Tonnes",
          "Season": "Kharif",
          "State": "Punjab",
          "Year": 2010,
          "Yield": 4.3313953488372094
         },
         {
          "Area": 174000,
          "Area Units": "Hectare",
          "Crop": "Rice",
          "District": "MOGA",
          "Production": 759000,
          "Production Units": "Tonnes",
          "Season": "Kharif",
          "State": "Punjab",
          "Year": 2011,
          "Yield": 4.362068965517241
         },
         {
          "Area": 176000,
          "Area Units": "Hectare",
          "Crop": "Rice",
          "District": "MOGA",
          "Production": 794000,
          "Production Units": "Tonnes",
          "Season": "Kharif",
          "State": "Punjab",
          "Year": 2012,
          "Yield": 4.511363636363637
         },
         {
          "Area": 176000,
          "Area Units": "Hectare",
          "Crop": "Rice",
          "District": "MOGA",
          "Production": 815000,
          "Production Units": "Tonnes",
          "Season": "Kharif",
          "State": "Punjab",
          "Year": 2013,
          "Yield": 4.630681818181818
         },
         {
          "Area": 177000,
          "Area Units": "Hectare",
          "Crop": "Rice",
          "District": "MOGA",
          "Production": 815000,
          "Production Units": "Tonnes",
          "Season": "Kharif",
          "State": "Punjab",
          "Year": 2014,
          "Yield": 4.604519774011299
         },
         {
          "Area": 183000,
          "Area Units": "Hectare",
          "Crop": "Rice",
          "District": "MOGA",
          "Production": 871000,
          "Production Units": "Tonnes",
          "Season": "Kharif",
          "State": "Punjab",
          "Year": 2015,
          "Yield": 4.759562841530054
         },
         {
          "Area": 178000,
          "Area Units": "Hectare",
          "Crop": "Rice",
          "District": "MOGA",
          "Production": 816000,
          "Production Units": "Tonnes",
          "Season": "Kharif",
          "State": "Punjab",
          "Year": 2016,
          "Yield": 4.584269662921348
         },
         {
          "Area": 181000,
          "Area Units": "Hectare",
          "Crop": "Rice",
          "District": "MOGA",
          "Production": 869000,
          "Production Units": "Tonnes",
          "Season": "Kharif",
          "State": "Punjab",
          "Year": 2017,
          "Yield": 4.801104972375691
         },
         {
          "Area": 181000,
          "Area Units": "Hectare",
          "Crop": "Rice",
          "District": "MOGA",
          "Production": 817000,
          "Production Units": "Tonnes",
          "Season": "Kharif",
          "State": "Punjab",
          "Year": 2018,
          "Yield": 4.513812154696133
         },
         {
          "Area": 181000,
          "Area Units": "Hectare",
          "Crop": "Rice",
          "District": "MOGA",
          "Production": 826000,
          "Production Units": "Tonnes",
          "Season": "Kharif",
          "State": "Punjab",
          "Year": 2019,
          "Yield": 4.56353591160221
         },
         {
          "Area": 107000,
          "Area Units": "Hectare",
          "Crop": "Rice",
          "District": "MOGA",
          "Production": 429000,
          "Production Units": "Tonnes",
          "Season": "Kharif",
          "State": "Punjab",
          "Year": 1997,
          "Yield": 4.009345794392523
         },
         {
          "Area": 118000,
          "Area Units": "Hectare",
          "Crop": "Rice",
          "District": "MOGA",
          "Production": 413000,
          "Production Units": "Tonnes",
          "Season": "Kharif",
          "State": "Punjab",
          "Year": 1998,
          "Yield": 3.5
         },
         {
          "Area": 117000,
          "Area Units": "Hectare",
          "Crop": "Rice",
          "District": "MOGA",
          "Production": 393000,
          "Production Units": "Tonnes",
          "Season": "Kharif",
          "State": "Punjab",
          "Year": 1999,
          "Yield": 3.358974358974359
         },
         {
          "Area": 159000,
          "Area Units": "Hectare",
          "Crop": "Rice",
          "District": "MOGA",
          "Production": 596000,
          "Production Units": "Tonnes",
          "Season": "Kharif",
          "State": "Punjab",
          "Year": 2000,
          "Yield": 3.748427672955975
         }
        ]
       },
       "encoding": {
        "x": {
         "field": "Year",
         "type": "quantitative"
        },
        "y": {
         "field": "Production",
         "type": "quantitative"
        }
       },
       "mark": "line",
       "title": "Rice production, in tonnes, in Moga, Punjab from 1997-2020"
      },
      "text/plain": [
       "<VegaLite 4 object>\n",
       "\n",
       "If you see this message, it means the renderer has not been properly enabled\n",
       "for the frontend that you are using. For more information, see\n",
       "https://altair-viz.github.io/user_guide/troubleshooting.html\n"
      ]
     },
     "execution_count": 53,
     "metadata": {},
     "output_type": "execute_result"
    }
   ],
   "source": [
    "df_pj_mog = df_pj_rice.loc[df['District'] == 'MOGA']\n",
    "\n",
    "alt.Chart(df_pj_mog).mark_line().encode(\n",
    "    x='Year',\n",
    "    y=('Production')\n",
    ").properties(\n",
    "    title='Rice production, in tonnes, in Moga, Punjab from 1997-2020')"
   ]
  },
  {
   "cell_type": "markdown",
   "metadata": {},
   "source": [
    "![](moga.png)"
   ]
  },
  {
   "cell_type": "markdown",
   "metadata": {},
   "source": [
    "### MUKTSAR"
   ]
  },
  {
   "cell_type": "code",
   "execution_count": 54,
   "metadata": {},
   "outputs": [
    {
     "data": {
      "application/vnd.vegalite.v4+json": {
       "$schema": "https://vega.github.io/schema/vega-lite/v4.17.0.json",
       "config": {
        "view": {
         "continuousHeight": 300,
         "continuousWidth": 400
        }
       },
       "data": {
        "name": "data-6c8b4fe68e6c8673feb9bc8ba591c258"
       },
       "datasets": {
        "data-6c8b4fe68e6c8673feb9bc8ba591c258": [
         {
          "Area": 65000,
          "Area Units": "Hectare",
          "Crop": "Rice",
          "District": "MUKTSAR",
          "Production": 239000,
          "Production Units": "Tonnes",
          "Season": "Kharif",
          "State": "Punjab",
          "Year": 2001,
          "Yield": 3.6769230769230767
         },
         {
          "Area": 83000,
          "Area Units": "Hectare",
          "Crop": "Rice",
          "District": "MUKTSAR",
          "Production": 261000,
          "Production Units": "Tonnes",
          "Season": "Kharif",
          "State": "Punjab",
          "Year": 2002,
          "Yield": 3.144578313253012
         },
         {
          "Area": 87000,
          "Area Units": "Hectare",
          "Crop": "Rice",
          "District": "MUKTSAR",
          "Production": 328000,
          "Production Units": "Tonnes",
          "Season": "Kharif",
          "State": "Punjab",
          "Year": 2003,
          "Yield": 3.770114942528736
         },
         {
          "Area": 86000,
          "Area Units": "Hectare",
          "Crop": "Rice",
          "District": "MUKTSAR",
          "Production": 334000,
          "Production Units": "Tonnes",
          "Season": "Kharif",
          "State": "Punjab",
          "Year": 2004,
          "Yield": 3.883720930232558
         },
         {
          "Area": 77000,
          "Area Units": "Hectare",
          "Crop": "Rice",
          "District": "MUKTSAR",
          "Production": 298000,
          "Production Units": "Tonnes",
          "Season": "Kharif",
          "State": "Punjab",
          "Year": 2005,
          "Yield": 3.8701298701298703
         },
         {
          "Area": 68000,
          "Area Units": "Hectare",
          "Crop": "Rice",
          "District": "MUKTSAR",
          "Production": 272000,
          "Production Units": "Tonnes",
          "Season": "Kharif",
          "State": "Punjab",
          "Year": 2006,
          "Yield": 4
         },
         {
          "Area": 68000,
          "Area Units": "Hectare",
          "Crop": "Rice",
          "District": "MUKTSAR",
          "Production": 283000,
          "Production Units": "Tonnes",
          "Season": "Kharif",
          "State": "Punjab",
          "Year": 2007,
          "Yield": 4.161764705882353
         },
         {
          "Area": 95000,
          "Area Units": "Hectare",
          "Crop": "Rice",
          "District": "MUKTSAR",
          "Production": 402000,
          "Production Units": "Tonnes",
          "Season": "Kharif",
          "State": "Punjab",
          "Year": 2008,
          "Yield": 4.231578947368421
         },
         {
          "Area": 100000,
          "Area Units": "Hectare",
          "Crop": "Rice",
          "District": "MUKTSAR",
          "Production": 387000,
          "Production Units": "Tonnes",
          "Season": "Kharif",
          "State": "Punjab",
          "Year": 2009,
          "Yield": 3.87
         },
         {
          "Area": 111000,
          "Area Units": "Hectare",
          "Crop": "Rice",
          "District": "MUKTSAR",
          "Production": 432000,
          "Production Units": "Tonnes",
          "Season": "Kharif",
          "State": "Punjab",
          "Year": 2010,
          "Yield": 3.891891891891892
         },
         {
          "Area": 113000,
          "Area Units": "Hectare",
          "Crop": "Rice",
          "District": "MUKTSAR",
          "Production": 402000,
          "Production Units": "Tonnes",
          "Season": "Kharif",
          "State": "Punjab",
          "Year": 2011,
          "Yield": 3.557522123893805
         },
         {
          "Area": 118000,
          "Area Units": "Hectare",
          "Crop": "Rice",
          "District": "MUKTSAR",
          "Production": 471000,
          "Production Units": "Tonnes",
          "Season": "Kharif",
          "State": "Punjab",
          "Year": 2012,
          "Yield": 3.9915254237288136
         },
         {
          "Area": 115000,
          "Area Units": "Hectare",
          "Crop": "Rice",
          "District": "MUKTSAR",
          "Production": 457000,
          "Production Units": "Tonnes",
          "Season": "Kharif",
          "State": "Punjab",
          "Year": 2013,
          "Yield": 3.973913043478261
         },
         {
          "Area": 135000,
          "Area Units": "Hectare",
          "Crop": "Rice",
          "District": "MUKTSAR",
          "Production": 514000,
          "Production Units": "Tonnes",
          "Season": "Kharif",
          "State": "Punjab",
          "Year": 2014,
          "Yield": 3.807407407407408
         },
         {
          "Area": 158000,
          "Area Units": "Hectare",
          "Crop": "Rice",
          "District": "MUKTSAR",
          "Production": 667000,
          "Production Units": "Tonnes",
          "Season": "Kharif",
          "State": "Punjab",
          "Year": 2015,
          "Yield": 4.2215189873417724
         },
         {
          "Area": 173000,
          "Area Units": "Hectare",
          "Crop": "Rice",
          "District": "MUKTSAR",
          "Production": 699000,
          "Production Units": "Tonnes",
          "Season": "Kharif",
          "State": "Punjab",
          "Year": 2016,
          "Yield": 4.040462427745664
         },
         {
          "Area": 173000,
          "Area Units": "Hectare",
          "Crop": "Rice",
          "District": "MUKTSAR",
          "Production": 687000,
          "Production Units": "Tonnes",
          "Season": "Kharif",
          "State": "Punjab",
          "Year": 2017,
          "Yield": 3.9710982658959537
         },
         {
          "Area": 179000,
          "Area Units": "Hectare",
          "Crop": "Rice",
          "District": "MUKTSAR",
          "Production": 728000,
          "Production Units": "Tonnes",
          "Season": "Kharif",
          "State": "Punjab",
          "Year": 2018,
          "Yield": 4.067039106145251
         },
         {
          "Area": 190000,
          "Area Units": "Hectare",
          "Crop": "Rice",
          "District": "MUKTSAR",
          "Production": 637000,
          "Production Units": "Tonnes",
          "Season": "Kharif",
          "State": "Punjab",
          "Year": 2019,
          "Yield": 3.3526315789473684
         },
         {
          "Area": 28000,
          "Area Units": "Hectare",
          "Crop": "Rice",
          "District": "MUKTSAR",
          "Production": 97000,
          "Production Units": "Tonnes",
          "Season": "Kharif",
          "State": "Punjab",
          "Year": 1997,
          "Yield": 3.4642857142857144
         },
         {
          "Area": 77000,
          "Area Units": "Hectare",
          "Crop": "Rice",
          "District": "MUKTSAR",
          "Production": 221000,
          "Production Units": "Tonnes",
          "Season": "Kharif",
          "State": "Punjab",
          "Year": 1998,
          "Yield": 2.8701298701298703
         },
         {
          "Area": 91000,
          "Area Units": "Hectare",
          "Crop": "Rice",
          "District": "MUKTSAR",
          "Production": 272000,
          "Production Units": "Tonnes",
          "Season": "Kharif",
          "State": "Punjab",
          "Year": 1999,
          "Yield": 2.989010989010989
         },
         {
          "Area": 89000,
          "Area Units": "Hectare",
          "Crop": "Rice",
          "District": "MUKTSAR",
          "Production": 309000,
          "Production Units": "Tonnes",
          "Season": "Kharif",
          "State": "Punjab",
          "Year": 2000,
          "Yield": 3.4719101123595504
         }
        ]
       },
       "encoding": {
        "x": {
         "field": "Year",
         "type": "quantitative"
        },
        "y": {
         "field": "Production",
         "type": "quantitative"
        }
       },
       "mark": "line",
       "title": "Rice production, in tonnes, in Muktsar, Punjab from 1997-2020"
      },
      "text/plain": [
       "<VegaLite 4 object>\n",
       "\n",
       "If you see this message, it means the renderer has not been properly enabled\n",
       "for the frontend that you are using. For more information, see\n",
       "https://altair-viz.github.io/user_guide/troubleshooting.html\n"
      ]
     },
     "execution_count": 54,
     "metadata": {},
     "output_type": "execute_result"
    }
   ],
   "source": [
    "df_pj_muk = df_pj_rice.loc[df['District'] == 'MUKTSAR']\n",
    "\n",
    "alt.Chart(df_pj_muk).mark_line().encode(\n",
    "    x='Year',\n",
    "    y=('Production')\n",
    ").properties(\n",
    "    title='Rice production, in tonnes, in Muktsar, Punjab from 1997-2020')"
   ]
  },
  {
   "cell_type": "markdown",
   "metadata": {},
   "source": [
    "![](muktsar.png)"
   ]
  },
  {
   "cell_type": "markdown",
   "metadata": {},
   "source": [
    "### NAWANSHAHR"
   ]
  },
  {
   "cell_type": "code",
   "execution_count": 55,
   "metadata": {},
   "outputs": [
    {
     "data": {
      "application/vnd.vegalite.v4+json": {
       "$schema": "https://vega.github.io/schema/vega-lite/v4.17.0.json",
       "config": {
        "view": {
         "continuousHeight": 300,
         "continuousWidth": 400
        }
       },
       "data": {
        "name": "data-c8f56851b044a53779a6fa21fcd25043"
       },
       "datasets": {
        "data-c8f56851b044a53779a6fa21fcd25043": [
         {
          "Area": 45000,
          "Area Units": "Hectare",
          "Crop": "Rice",
          "District": "NAWANSHAHR",
          "Production": 143000,
          "Production Units": "Tonnes",
          "Season": "Kharif",
          "State": "Punjab",
          "Year": 2001,
          "Yield": 3.1777777777777776
         },
         {
          "Area": 43000,
          "Area Units": "Hectare",
          "Crop": "Rice",
          "District": "NAWANSHAHR",
          "Production": 151000,
          "Production Units": "Tonnes",
          "Season": "Kharif",
          "State": "Punjab",
          "Year": 2002,
          "Yield": 3.511627906976744
         },
         {
          "Area": 47000,
          "Area Units": "Hectare",
          "Crop": "Rice",
          "District": "NAWANSHAHR",
          "Production": 171000,
          "Production Units": "Tonnes",
          "Season": "Kharif",
          "State": "Punjab",
          "Year": 2003,
          "Yield": 3.638297872340425
         },
         {
          "Area": 50000,
          "Area Units": "Hectare",
          "Crop": "Rice",
          "District": "NAWANSHAHR",
          "Production": 199000,
          "Production Units": "Tonnes",
          "Season": "Kharif",
          "State": "Punjab",
          "Year": 2004,
          "Yield": 3.98
         },
         {
          "Area": 49000,
          "Area Units": "Hectare",
          "Crop": "Rice",
          "District": "NAWANSHAHR",
          "Production": 171000,
          "Production Units": "Tonnes",
          "Season": "Kharif",
          "State": "Punjab",
          "Year": 2005,
          "Yield": 3.489795918367347
         },
         {
          "Area": 53000,
          "Area Units": "Hectare",
          "Crop": "Rice",
          "District": "NAWANSHAHR",
          "Production": 209000,
          "Production Units": "Tonnes",
          "Season": "Kharif",
          "State": "Punjab",
          "Year": 2006,
          "Yield": 3.943396226415094
         },
         {
          "Area": 50000,
          "Area Units": "Hectare",
          "Crop": "Rice",
          "District": "NAWANSHAHR",
          "Production": 194000,
          "Production Units": "Tonnes",
          "Season": "Kharif",
          "State": "Punjab",
          "Year": 2007,
          "Yield": 3.88
         },
         {
          "Area": 52000,
          "Area Units": "Hectare",
          "Crop": "Rice",
          "District": "NAWANSHAHR",
          "Production": 213000,
          "Production Units": "Tonnes",
          "Season": "Kharif",
          "State": "Punjab",
          "Year": 2008,
          "Yield": 4.096153846153846
         },
         {
          "Area": 56000,
          "Area Units": "Hectare",
          "Crop": "Rice",
          "District": "NAWANSHAHR",
          "Production": 232000,
          "Production Units": "Tonnes",
          "Season": "Kharif",
          "State": "Punjab",
          "Year": 2009,
          "Yield": 4.142857142857143
         },
         {
          "Area": 58000,
          "Area Units": "Hectare",
          "Crop": "Rice",
          "District": "NAWANSHAHR",
          "Production": 231000,
          "Production Units": "Tonnes",
          "Season": "Kharif",
          "State": "Punjab",
          "Year": 2010,
          "Yield": 3.9827586206896552
         },
         {
          "Area": 57000,
          "Area Units": "Hectare",
          "Crop": "Rice",
          "District": "NAWANSHAHR",
          "Production": 226000,
          "Production Units": "Tonnes",
          "Season": "Kharif",
          "State": "Punjab",
          "Year": 2011,
          "Yield": 3.9649122807017534
         },
         {
          "Area": 57000,
          "Area Units": "Hectare",
          "Crop": "Rice",
          "District": "NAWANSHAHR",
          "Production": 236000,
          "Production Units": "Tonnes",
          "Season": "Kharif",
          "State": "Punjab",
          "Year": 2012,
          "Yield": 4.140350877192983
         },
         {
          "Area": 56000,
          "Area Units": "Hectare",
          "Crop": "Rice",
          "District": "NAWANSHAHR",
          "Production": 202000,
          "Production Units": "Tonnes",
          "Season": "Kharif",
          "State": "Punjab",
          "Year": 2013,
          "Yield": 3.607142857142857
         },
         {
          "Area": 57000,
          "Area Units": "Hectare",
          "Crop": "Rice",
          "District": "NAWANSHAHR",
          "Production": 226000,
          "Production Units": "Tonnes",
          "Season": "Kharif",
          "State": "Punjab",
          "Year": 2014,
          "Yield": 3.9649122807017534
         },
         {
          "Area": 59000,
          "Area Units": "Hectare",
          "Crop": "Rice",
          "District": "NAWANSHAHR",
          "Production": 252000,
          "Production Units": "Tonnes",
          "Season": "Kharif",
          "State": "Punjab",
          "Year": 2015,
          "Yield": 4.271186440677966
         },
         {
          "Area": 60000,
          "Area Units": "Hectare",
          "Crop": "Rice",
          "District": "NAWANSHAHR",
          "Production": 260000,
          "Production Units": "Tonnes",
          "Season": "Kharif",
          "State": "Punjab",
          "Year": 2016,
          "Yield": 4.333333333333333
         },
         {
          "Area": 60000,
          "Area Units": "Hectare",
          "Crop": "Rice",
          "District": "NAWANSHAHR",
          "Production": 282000,
          "Production Units": "Tonnes",
          "Season": "Kharif",
          "State": "Punjab",
          "Year": 2017,
          "Yield": 4.7
         },
         {
          "Area": 60000,
          "Area Units": "Hectare",
          "Crop": "Rice",
          "District": "NAWANSHAHR",
          "Production": 237000,
          "Production Units": "Tonnes",
          "Season": "Kharif",
          "State": "Punjab",
          "Year": 2018,
          "Yield": 3.95
         },
         {
          "Area": 60000,
          "Area Units": "Hectare",
          "Crop": "Rice",
          "District": "NAWANSHAHR",
          "Production": 251000,
          "Production Units": "Tonnes",
          "Season": "Kharif",
          "State": "Punjab",
          "Year": 2019,
          "Yield": 4.183333333333334
         },
         {
          "Area": 43000,
          "Area Units": "Hectare",
          "Crop": "Rice",
          "District": "NAWANSHAHR",
          "Production": 145000,
          "Production Units": "Tonnes",
          "Season": "Kharif",
          "State": "Punjab",
          "Year": 1997,
          "Yield": 3.372093023255814
         },
         {
          "Area": 46000,
          "Area Units": "Hectare",
          "Crop": "Rice",
          "District": "NAWANSHAHR",
          "Production": 150000,
          "Production Units": "Tonnes",
          "Season": "Kharif",
          "State": "Punjab",
          "Year": 1998,
          "Yield": 3.260869565217391
         },
         {
          "Area": 46000,
          "Area Units": "Hectare",
          "Crop": "Rice",
          "District": "NAWANSHAHR",
          "Production": 160000,
          "Production Units": "Tonnes",
          "Season": "Kharif",
          "State": "Punjab",
          "Year": 1999,
          "Yield": 3.4782608695652173
         },
         {
          "Area": 47000,
          "Area Units": "Hectare",
          "Crop": "Rice",
          "District": "NAWANSHAHR",
          "Production": 158000,
          "Production Units": "Tonnes",
          "Season": "Kharif",
          "State": "Punjab",
          "Year": 2000,
          "Yield": 3.3617021276595747
         }
        ]
       },
       "encoding": {
        "x": {
         "field": "Year",
         "type": "quantitative"
        },
        "y": {
         "field": "Production",
         "type": "quantitative"
        }
       },
       "mark": "line",
       "title": "Rice production, in tonnes, in Nawanshahr, Punjab from 1997-2020"
      },
      "text/plain": [
       "<VegaLite 4 object>\n",
       "\n",
       "If you see this message, it means the renderer has not been properly enabled\n",
       "for the frontend that you are using. For more information, see\n",
       "https://altair-viz.github.io/user_guide/troubleshooting.html\n"
      ]
     },
     "execution_count": 55,
     "metadata": {},
     "output_type": "execute_result"
    }
   ],
   "source": [
    "df_pj_naw = df_pj_rice.loc[df['District'] == 'NAWANSHAHR']\n",
    "\n",
    "alt.Chart(df_pj_naw).mark_line().encode(\n",
    "    x='Year',\n",
    "    y=('Production')\n",
    ").properties(\n",
    "    title='Rice production, in tonnes, in Nawanshahr, Punjab from 1997-2020')"
   ]
  },
  {
   "cell_type": "markdown",
   "metadata": {},
   "source": [
    "![](nawanshahr.png)"
   ]
  },
  {
   "cell_type": "markdown",
   "metadata": {},
   "source": [
    "### RUPNAGAR"
   ]
  },
  {
   "cell_type": "code",
   "execution_count": 56,
   "metadata": {},
   "outputs": [
    {
     "data": {
      "application/vnd.vegalite.v4+json": {
       "$schema": "https://vega.github.io/schema/vega-lite/v4.17.0.json",
       "config": {
        "view": {
         "continuousHeight": 300,
         "continuousWidth": 400
        }
       },
       "data": {
        "name": "data-1ba9b267bda64e6970642f3ec776f765"
       },
       "datasets": {
        "data-1ba9b267bda64e6970642f3ec776f765": [
         {
          "Area": 51000,
          "Area Units": "Hectare",
          "Crop": "Rice",
          "District": "RUPNAGAR",
          "Production": 163000,
          "Production Units": "Tonnes",
          "Season": "Kharif",
          "State": "Punjab",
          "Year": 2001,
          "Yield": 3.196078431372549
         },
         {
          "Area": 44000,
          "Area Units": "Hectare",
          "Crop": "Rice",
          "District": "RUPNAGAR",
          "Production": 141000,
          "Production Units": "Tonnes",
          "Season": "Kharif",
          "State": "Punjab",
          "Year": 2002,
          "Yield": 3.2045454545454546
         },
         {
          "Area": 51000,
          "Area Units": "Hectare",
          "Crop": "Rice",
          "District": "RUPNAGAR",
          "Production": 170000,
          "Production Units": "Tonnes",
          "Season": "Kharif",
          "State": "Punjab",
          "Year": 2003,
          "Yield": 3.333333333333333
         },
         {
          "Area": 51000,
          "Area Units": "Hectare",
          "Crop": "Rice",
          "District": "RUPNAGAR",
          "Production": 176000,
          "Production Units": "Tonnes",
          "Season": "Kharif",
          "State": "Punjab",
          "Year": 2004,
          "Yield": 3.450980392156863
         },
         {
          "Area": 53000,
          "Area Units": "Hectare",
          "Crop": "Rice",
          "District": "RUPNAGAR",
          "Production": 183000,
          "Production Units": "Tonnes",
          "Season": "Kharif",
          "State": "Punjab",
          "Year": 2005,
          "Yield": 3.452830188679245
         },
         {
          "Area": 38000,
          "Area Units": "Hectare",
          "Crop": "Rice",
          "District": "RUPNAGAR",
          "Production": 138000,
          "Production Units": "Tonnes",
          "Season": "Kharif",
          "State": "Punjab",
          "Year": 2006,
          "Yield": 3.631578947368421
         },
         {
          "Area": 33000,
          "Area Units": "Hectare",
          "Crop": "Rice",
          "District": "RUPNAGAR",
          "Production": 122000,
          "Production Units": "Tonnes",
          "Season": "Kharif",
          "State": "Punjab",
          "Year": 2007,
          "Yield": 3.696969696969697
         },
         {
          "Area": 36000,
          "Area Units": "Hectare",
          "Crop": "Rice",
          "District": "RUPNAGAR",
          "Production": 139000,
          "Production Units": "Tonnes",
          "Season": "Kharif",
          "State": "Punjab",
          "Year": 2008,
          "Yield": 3.861111111111111
         },
         {
          "Area": 38000,
          "Area Units": "Hectare",
          "Crop": "Rice",
          "District": "RUPNAGAR",
          "Production": 135000,
          "Production Units": "Tonnes",
          "Season": "Kharif",
          "State": "Punjab",
          "Year": 2009,
          "Yield": 3.5526315789473686
         },
         {
          "Area": 38000,
          "Area Units": "Hectare",
          "Crop": "Rice",
          "District": "RUPNAGAR",
          "Production": 147000,
          "Production Units": "Tonnes",
          "Season": "Kharif",
          "State": "Punjab",
          "Year": 2010,
          "Yield": 3.8684210526315774
         },
         {
          "Area": 38000,
          "Area Units": "Hectare",
          "Crop": "Rice",
          "District": "RUPNAGAR",
          "Production": 127000,
          "Production Units": "Tonnes",
          "Season": "Kharif",
          "State": "Punjab",
          "Year": 2011,
          "Yield": 3.3421052631578947
         },
         {
          "Area": 38000,
          "Area Units": "Hectare",
          "Crop": "Rice",
          "District": "RUPNAGAR",
          "Production": 145000,
          "Production Units": "Tonnes",
          "Season": "Kharif",
          "State": "Punjab",
          "Year": 2012,
          "Yield": 3.8157894736842106
         },
         {
          "Area": 37000,
          "Area Units": "Hectare",
          "Crop": "Rice",
          "District": "RUPNAGAR",
          "Production": 128000,
          "Production Units": "Tonnes",
          "Season": "Kharif",
          "State": "Punjab",
          "Year": 2013,
          "Yield": 3.45945945945946
         },
         {
          "Area": 36000,
          "Area Units": "Hectare",
          "Crop": "Rice",
          "District": "RUPNAGAR",
          "Production": 129000,
          "Production Units": "Tonnes",
          "Season": "Kharif",
          "State": "Punjab",
          "Year": 2014,
          "Yield": 3.583333333333333
         },
         {
          "Area": 36000,
          "Area Units": "Hectare",
          "Crop": "Rice",
          "District": "RUPNAGAR",
          "Production": 161000,
          "Production Units": "Tonnes",
          "Season": "Kharif",
          "State": "Punjab",
          "Year": 2015,
          "Yield": 4.472222222222222
         },
         {
          "Area": 38000,
          "Area Units": "Hectare",
          "Crop": "Rice",
          "District": "RUPNAGAR",
          "Production": 172000,
          "Production Units": "Tonnes",
          "Season": "Kharif",
          "State": "Punjab",
          "Year": 2016,
          "Yield": 4.526315789473684
         },
         {
          "Area": 40000,
          "Area Units": "Hectare",
          "Crop": "Rice",
          "District": "RUPNAGAR",
          "Production": 170000,
          "Production Units": "Tonnes",
          "Season": "Kharif",
          "State": "Punjab",
          "Year": 2017,
          "Yield": 4.25
         },
         {
          "Area": 41000,
          "Area Units": "Hectare",
          "Crop": "Rice",
          "District": "RUPNAGAR",
          "Production": 142000,
          "Production Units": "Tonnes",
          "Season": "Kharif",
          "State": "Punjab",
          "Year": 2018,
          "Yield": 3.463414634146341
         },
         {
          "Area": 40000,
          "Area Units": "Hectare",
          "Crop": "Rice",
          "District": "RUPNAGAR",
          "Production": 144000,
          "Production Units": "Tonnes",
          "Season": "Kharif",
          "State": "Punjab",
          "Year": 2019,
          "Yield": 3.6
         },
         {
          "Area": 43000,
          "Area Units": "Hectare",
          "Crop": "Rice",
          "District": "RUPNAGAR",
          "Production": 138000,
          "Production Units": "Tonnes",
          "Season": "Kharif",
          "State": "Punjab",
          "Year": 1997,
          "Yield": 3.209302325581396
         },
         {
          "Area": 46000,
          "Area Units": "Hectare",
          "Crop": "Rice",
          "District": "RUPNAGAR",
          "Production": 128000,
          "Production Units": "Tonnes",
          "Season": "Kharif",
          "State": "Punjab",
          "Year": 1998,
          "Yield": 2.782608695652174
         },
         {
          "Area": 50000,
          "Area Units": "Hectare",
          "Crop": "Rice",
          "District": "RUPNAGAR",
          "Production": 156000,
          "Production Units": "Tonnes",
          "Season": "Kharif",
          "State": "Punjab",
          "Year": 1999,
          "Yield": 3.12
         },
         {
          "Area": 49000,
          "Area Units": "Hectare",
          "Crop": "Rice",
          "District": "RUPNAGAR",
          "Production": 163000,
          "Production Units": "Tonnes",
          "Season": "Kharif",
          "State": "Punjab",
          "Year": 2000,
          "Yield": 3.326530612244898
         }
        ]
       },
       "encoding": {
        "x": {
         "field": "Year",
         "type": "quantitative"
        },
        "y": {
         "field": "Production",
         "type": "quantitative"
        }
       },
       "mark": "line",
       "title": "Rice production, in tonnes, in Rupnagar, Punjab from 1997-2020"
      },
      "text/plain": [
       "<VegaLite 4 object>\n",
       "\n",
       "If you see this message, it means the renderer has not been properly enabled\n",
       "for the frontend that you are using. For more information, see\n",
       "https://altair-viz.github.io/user_guide/troubleshooting.html\n"
      ]
     },
     "execution_count": 56,
     "metadata": {},
     "output_type": "execute_result"
    }
   ],
   "source": [
    "df_pj_rup = df_pj_rice.loc[df['District'] == 'RUPNAGAR']\n",
    "\n",
    "alt.Chart(df_pj_rup).mark_line().encode(\n",
    "    x='Year',\n",
    "    y=('Production')\n",
    ").properties(\n",
    "    title='Rice production, in tonnes, in Rupnagar, Punjab from 1997-2020')"
   ]
  },
  {
   "cell_type": "markdown",
   "metadata": {},
   "source": [
    "![](rupnagar.png)"
   ]
  },
  {
   "cell_type": "markdown",
   "metadata": {},
   "source": [
    "### GURDASPUR"
   ]
  },
  {
   "cell_type": "code",
   "execution_count": 57,
   "metadata": {},
   "outputs": [
    {
     "data": {
      "application/vnd.vegalite.v4+json": {
       "$schema": "https://vega.github.io/schema/vega-lite/v4.17.0.json",
       "config": {
        "view": {
         "continuousHeight": 300,
         "continuousWidth": 400
        }
       },
       "data": {
        "name": "data-0008867527453a310135d6ad547427c7"
       },
       "datasets": {
        "data-0008867527453a310135d6ad547427c7": [
         {
          "Area": 194000,
          "Area Units": "Hectare",
          "Crop": "Rice",
          "District": "GURDASPUR",
          "Production": 571000,
          "Production Units": "Tonnes",
          "Season": "Kharif",
          "State": "Punjab",
          "Year": 2001,
          "Yield": 2.943298969072165
         },
         {
          "Area": 189000,
          "Area Units": "Hectare",
          "Crop": "Rice",
          "District": "GURDASPUR",
          "Production": 547000,
          "Production Units": "Tonnes",
          "Season": "Kharif",
          "State": "Punjab",
          "Year": 2002,
          "Yield": 2.894179894179894
         },
         {
          "Area": 193000,
          "Area Units": "Hectare",
          "Crop": "Rice",
          "District": "GURDASPUR",
          "Production": 587000,
          "Production Units": "Tonnes",
          "Season": "Kharif",
          "State": "Punjab",
          "Year": 2003,
          "Yield": 3.0414507772020727
         },
         {
          "Area": 202000,
          "Area Units": "Hectare",
          "Crop": "Rice",
          "District": "GURDASPUR",
          "Production": 641000,
          "Production Units": "Tonnes",
          "Season": "Kharif",
          "State": "Punjab",
          "Year": 2004,
          "Yield": 3.1732673267326734
         },
         {
          "Area": 190000,
          "Area Units": "Hectare",
          "Crop": "Rice",
          "District": "GURDASPUR",
          "Production": 590000,
          "Production Units": "Tonnes",
          "Season": "Kharif",
          "State": "Punjab",
          "Year": 2005,
          "Yield": 3.1052631578947367
         },
         {
          "Area": 201000,
          "Area Units": "Hectare",
          "Crop": "Rice",
          "District": "GURDASPUR",
          "Production": 636000,
          "Production Units": "Tonnes",
          "Season": "Kharif",
          "State": "Punjab",
          "Year": 2006,
          "Yield": 3.164179104477612
         },
         {
          "Area": 191000,
          "Area Units": "Hectare",
          "Crop": "Rice",
          "District": "GURDASPUR",
          "Production": 617000,
          "Production Units": "Tonnes",
          "Season": "Kharif",
          "State": "Punjab",
          "Year": 2007,
          "Yield": 3.230366492146597
         },
         {
          "Area": 201000,
          "Area Units": "Hectare",
          "Crop": "Rice",
          "District": "GURDASPUR",
          "Production": 663000,
          "Production Units": "Tonnes",
          "Season": "Kharif",
          "State": "Punjab",
          "Year": 2008,
          "Yield": 3.298507462686567
         },
         {
          "Area": 204000,
          "Area Units": "Hectare",
          "Crop": "Rice",
          "District": "GURDASPUR",
          "Production": 640000,
          "Production Units": "Tonnes",
          "Season": "Kharif",
          "State": "Punjab",
          "Year": 2009,
          "Yield": 3.1372549019607843
         },
         {
          "Area": 204000,
          "Area Units": "Hectare",
          "Crop": "Rice",
          "District": "GURDASPUR",
          "Production": 705000,
          "Production Units": "Tonnes",
          "Season": "Kharif",
          "State": "Punjab",
          "Year": 2010,
          "Yield": 3.4558823529411766
         },
         {
          "Area": 201000,
          "Area Units": "Hectare",
          "Crop": "Rice",
          "District": "GURDASPUR",
          "Production": 649000,
          "Production Units": "Tonnes",
          "Season": "Kharif",
          "State": "Punjab",
          "Year": 2011,
          "Yield": 3.228855721393035
         },
         {
          "Area": 174000,
          "Area Units": "Hectare",
          "Crop": "Rice",
          "District": "GURDASPUR",
          "Production": 542000,
          "Production Units": "Tonnes",
          "Season": "Kharif",
          "State": "Punjab",
          "Year": 2012,
          "Yield": 3.1149425287356323
         },
         {
          "Area": 173000,
          "Area Units": "Hectare",
          "Crop": "Rice",
          "District": "GURDASPUR",
          "Production": 507000,
          "Production Units": "Tonnes",
          "Season": "Kharif",
          "State": "Punjab",
          "Year": 2013,
          "Yield": 2.930635838150289
         },
         {
          "Area": 173000,
          "Area Units": "Hectare",
          "Crop": "Rice",
          "District": "GURDASPUR",
          "Production": 452000,
          "Production Units": "Tonnes",
          "Season": "Kharif",
          "State": "Punjab",
          "Year": 2014,
          "Yield": 2.61271676300578
         },
         {
          "Area": 175000,
          "Area Units": "Hectare",
          "Crop": "Rice",
          "District": "GURDASPUR",
          "Production": 500000,
          "Production Units": "Tonnes",
          "Season": "Kharif",
          "State": "Punjab",
          "Year": 2015,
          "Yield": 2.857142857142857
         },
         {
          "Area": 175000,
          "Area Units": "Hectare",
          "Crop": "Rice",
          "District": "GURDASPUR",
          "Production": 557000,
          "Production Units": "Tonnes",
          "Season": "Kharif",
          "State": "Punjab",
          "Year": 2016,
          "Yield": 3.182857142857143
         },
         {
          "Area": 176000,
          "Area Units": "Hectare",
          "Crop": "Rice",
          "District": "GURDASPUR",
          "Production": 643000,
          "Production Units": "Tonnes",
          "Season": "Kharif",
          "State": "Punjab",
          "Year": 2017,
          "Yield": 3.653409090909091
         },
         {
          "Area": 172000,
          "Area Units": "Hectare",
          "Crop": "Rice",
          "District": "GURDASPUR",
          "Production": 632000,
          "Production Units": "Tonnes",
          "Season": "Kharif",
          "State": "Punjab",
          "Year": 2018,
          "Yield": 3.674418604651162
         },
         {
          "Area": 174000,
          "Area Units": "Hectare",
          "Crop": "Rice",
          "District": "GURDASPUR",
          "Production": 637000,
          "Production Units": "Tonnes",
          "Season": "Kharif",
          "State": "Punjab",
          "Year": 2019,
          "Yield": 3.660919540229885
         },
         {
          "Area": 181000,
          "Area Units": "Hectare",
          "Crop": "Rice",
          "District": "GURDASPUR",
          "Production": 509000,
          "Production Units": "Tonnes",
          "Season": "Kharif",
          "State": "Punjab",
          "Year": 1997,
          "Yield": 2.8121546961325965
         },
         {
          "Area": 187000,
          "Area Units": "Hectare",
          "Crop": "Rice",
          "District": "GURDASPUR",
          "Production": 465000,
          "Production Units": "Tonnes",
          "Season": "Kharif",
          "State": "Punjab",
          "Year": 1998,
          "Yield": 2.486631016042781
         },
         {
          "Area": 198000,
          "Area Units": "Hectare",
          "Crop": "Rice",
          "District": "GURDASPUR",
          "Production": 561000,
          "Production Units": "Tonnes",
          "Season": "Kharif",
          "State": "Punjab",
          "Year": 1999,
          "Yield": 2.833333333333333
         },
         {
          "Area": 191000,
          "Area Units": "Hectare",
          "Crop": "Rice",
          "District": "GURDASPUR",
          "Production": 569000,
          "Production Units": "Tonnes",
          "Season": "Kharif",
          "State": "Punjab",
          "Year": 2000,
          "Yield": 2.979057591623037
         }
        ]
       },
       "encoding": {
        "x": {
         "field": "Year",
         "type": "quantitative"
        },
        "y": {
         "field": "Production",
         "type": "quantitative"
        }
       },
       "mark": "line",
       "title": "Rice production, in tonnes, in Gurdaspur, Punjab from 1997-2020"
      },
      "text/plain": [
       "<VegaLite 4 object>\n",
       "\n",
       "If you see this message, it means the renderer has not been properly enabled\n",
       "for the frontend that you are using. For more information, see\n",
       "https://altair-viz.github.io/user_guide/troubleshooting.html\n"
      ]
     },
     "execution_count": 57,
     "metadata": {},
     "output_type": "execute_result"
    }
   ],
   "source": [
    "df_pj_gur = df_pj_rice.loc[df['District'] == 'GURDASPUR']\n",
    "\n",
    "alt.Chart(df_pj_gur).mark_line().encode(\n",
    "    x='Year',\n",
    "    y=('Production')\n",
    ").properties(\n",
    "    title='Rice production, in tonnes, in Gurdaspur, Punjab from 1997-2020')"
   ]
  },
  {
   "cell_type": "markdown",
   "metadata": {},
   "source": [
    "![](gurdaspur.png)"
   ]
  },
  {
   "cell_type": "markdown",
   "metadata": {},
   "source": [
    "### TARN TARAN"
   ]
  },
  {
   "cell_type": "code",
   "execution_count": 58,
   "metadata": {},
   "outputs": [
    {
     "data": {
      "application/vnd.vegalite.v4+json": {
       "$schema": "https://vega.github.io/schema/vega-lite/v4.17.0.json",
       "config": {
        "view": {
         "continuousHeight": 300,
         "continuousWidth": 400
        }
       },
       "data": {
        "name": "data-93fcb02ed1c2361310f9ef33426b82a0"
       },
       "datasets": {
        "data-93fcb02ed1c2361310f9ef33426b82a0": [
         {
          "Area": 173000,
          "Area Units": "Hectare",
          "Crop": "Rice",
          "District": "TARN TARAN",
          "Production": 514000,
          "Production Units": "Tonnes",
          "Season": "Kharif",
          "State": "Punjab",
          "Year": 2006,
          "Yield": 2.9710982658959537
         },
         {
          "Area": 171000,
          "Area Units": "Hectare",
          "Crop": "Rice",
          "District": "TARN TARAN",
          "Production": 539000,
          "Production Units": "Tonnes",
          "Season": "Kharif",
          "State": "Punjab",
          "Year": 2007,
          "Yield": 3.152046783625731
         },
         {
          "Area": 169000,
          "Area Units": "Hectare",
          "Crop": "Rice",
          "District": "TARN TARAN",
          "Production": 525000,
          "Production Units": "Tonnes",
          "Season": "Kharif",
          "State": "Punjab",
          "Year": 2008,
          "Yield": 3.106508875739645
         },
         {
          "Area": 172000,
          "Area Units": "Hectare",
          "Crop": "Rice",
          "District": "TARN TARAN",
          "Production": 530000,
          "Production Units": "Tonnes",
          "Season": "Kharif",
          "State": "Punjab",
          "Year": 2009,
          "Yield": 3.081395348837209
         },
         {
          "Area": 172000,
          "Area Units": "Hectare",
          "Crop": "Rice",
          "District": "TARN TARAN",
          "Production": 500000,
          "Production Units": "Tonnes",
          "Season": "Kharif",
          "State": "Punjab",
          "Year": 2010,
          "Yield": 2.9069767441860463
         },
         {
          "Area": 173000,
          "Area Units": "Hectare",
          "Crop": "Rice",
          "District": "TARN TARAN",
          "Production": 490000,
          "Production Units": "Tonnes",
          "Season": "Kharif",
          "State": "Punjab",
          "Year": 2011,
          "Yield": 2.832369942196532
         },
         {
          "Area": 179000,
          "Area Units": "Hectare",
          "Crop": "Rice",
          "District": "TARN TARAN",
          "Production": 599000,
          "Production Units": "Tonnes",
          "Season": "Kharif",
          "State": "Punjab",
          "Year": 2012,
          "Yield": 3.346368715083799
         },
         {
          "Area": 177000,
          "Area Units": "Hectare",
          "Crop": "Rice",
          "District": "TARN TARAN",
          "Production": 594000,
          "Production Units": "Tonnes",
          "Season": "Kharif",
          "State": "Punjab",
          "Year": 2013,
          "Yield": 3.3559322033898304
         },
         {
          "Area": 176000,
          "Area Units": "Hectare",
          "Crop": "Rice",
          "District": "TARN TARAN",
          "Production": 540000,
          "Production Units": "Tonnes",
          "Season": "Kharif",
          "State": "Punjab",
          "Year": 2014,
          "Yield": 3.0681818181818183
         },
         {
          "Area": 178000,
          "Area Units": "Hectare",
          "Crop": "Rice",
          "District": "TARN TARAN",
          "Production": 504000,
          "Production Units": "Tonnes",
          "Season": "Kharif",
          "State": "Punjab",
          "Year": 2015,
          "Yield": 2.831460674157303
         },
         {
          "Area": 186000,
          "Area Units": "Hectare",
          "Crop": "Rice",
          "District": "TARN TARAN",
          "Production": 614000,
          "Production Units": "Tonnes",
          "Season": "Kharif",
          "State": "Punjab",
          "Year": 2016,
          "Yield": 3.3010752688172045
         },
         {
          "Area": 182000,
          "Area Units": "Hectare",
          "Crop": "Rice",
          "District": "TARN TARAN",
          "Production": 759000,
          "Production Units": "Tonnes",
          "Season": "Kharif",
          "State": "Punjab",
          "Year": 2017,
          "Yield": 4.170329670329671
         },
         {
          "Area": 186000,
          "Area Units": "Hectare",
          "Crop": "Rice",
          "District": "TARN TARAN",
          "Production": 728000,
          "Production Units": "Tonnes",
          "Season": "Kharif",
          "State": "Punjab",
          "Year": 2018,
          "Yield": 3.913978494623656
         },
         {
          "Area": 184000,
          "Area Units": "Hectare",
          "Crop": "Rice",
          "District": "TARN TARAN",
          "Production": 707000,
          "Production Units": "Tonnes",
          "Season": "Kharif",
          "State": "Punjab",
          "Year": 2019,
          "Yield": 3.842391304347826
         }
        ]
       },
       "encoding": {
        "x": {
         "field": "Year",
         "type": "quantitative"
        },
        "y": {
         "field": "Production",
         "type": "quantitative"
        }
       },
       "mark": "line",
       "title": "Rice production, in tonnes, in Tarn Taran, Punjab from 1997-2020"
      },
      "text/plain": [
       "<VegaLite 4 object>\n",
       "\n",
       "If you see this message, it means the renderer has not been properly enabled\n",
       "for the frontend that you are using. For more information, see\n",
       "https://altair-viz.github.io/user_guide/troubleshooting.html\n"
      ]
     },
     "execution_count": 58,
     "metadata": {},
     "output_type": "execute_result"
    }
   ],
   "source": [
    "df_pj_tt = df_pj_rice.loc[df['District'] == 'TARN TARAN']\n",
    "\n",
    "alt.Chart(df_pj_tt).mark_line().encode(\n",
    "    x='Year',\n",
    "    y=('Production')\n",
    ").properties(\n",
    "    title='Rice production, in tonnes, in Tarn Taran, Punjab from 1997-2020')"
   ]
  },
  {
   "cell_type": "markdown",
   "metadata": {},
   "source": [
    "![](tarn.png)"
   ]
  },
  {
   "cell_type": "markdown",
   "metadata": {},
   "source": [
    "### BARNALA"
   ]
  },
  {
   "cell_type": "code",
   "execution_count": 59,
   "metadata": {},
   "outputs": [
    {
     "data": {
      "application/vnd.vegalite.v4+json": {
       "$schema": "https://vega.github.io/schema/vega-lite/v4.17.0.json",
       "config": {
        "view": {
         "continuousHeight": 300,
         "continuousWidth": 400
        }
       },
       "data": {
        "name": "data-d53726acc77c54e24b66386846f90b00"
       },
       "datasets": {
        "data-d53726acc77c54e24b66386846f90b00": [
         {
          "Area": 99000,
          "Area Units": "Hectare",
          "Crop": "Rice",
          "District": "BARNALA",
          "Production": 466000,
          "Production Units": "Tonnes",
          "Season": "Kharif",
          "State": "Punjab",
          "Year": 2007,
          "Yield": 4.707070707070707
         },
         {
          "Area": 102000,
          "Area Units": "Hectare",
          "Crop": "Rice",
          "District": "BARNALA",
          "Production": 485000,
          "Production Units": "Tonnes",
          "Season": "Kharif",
          "State": "Punjab",
          "Year": 2008,
          "Yield": 4.754901960784314
         },
         {
          "Area": 104000,
          "Area Units": "Hectare",
          "Crop": "Rice",
          "District": "BARNALA",
          "Production": 496000,
          "Production Units": "Tonnes",
          "Season": "Kharif",
          "State": "Punjab",
          "Year": 2009,
          "Yield": 4.769230769230769
         },
         {
          "Area": 105000,
          "Area Units": "Hectare",
          "Crop": "Rice",
          "District": "BARNALA",
          "Production": 465000,
          "Production Units": "Tonnes",
          "Season": "Kharif",
          "State": "Punjab",
          "Year": 2010,
          "Yield": 4.428571428571429
         },
         {
          "Area": 105000,
          "Area Units": "Hectare",
          "Crop": "Rice",
          "District": "BARNALA",
          "Production": 459000,
          "Production Units": "Tonnes",
          "Season": "Kharif",
          "State": "Punjab",
          "Year": 2011,
          "Yield": 4.371428571428571
         },
         {
          "Area": 106000,
          "Area Units": "Hectare",
          "Crop": "Rice",
          "District": "BARNALA",
          "Production": 490000,
          "Production Units": "Tonnes",
          "Season": "Kharif",
          "State": "Punjab",
          "Year": 2012,
          "Yield": 4.622641509433962
         },
         {
          "Area": 107000,
          "Area Units": "Hectare",
          "Crop": "Rice",
          "District": "BARNALA",
          "Production": 500000,
          "Production Units": "Tonnes",
          "Season": "Kharif",
          "State": "Punjab",
          "Year": 2013,
          "Yield": 4.672897196261682
         },
         {
          "Area": 108000,
          "Area Units": "Hectare",
          "Crop": "Rice",
          "District": "BARNALA",
          "Production": 507000,
          "Production Units": "Tonnes",
          "Season": "Kharif",
          "State": "Punjab",
          "Year": 2014,
          "Yield": 4.694444444444445
         },
         {
          "Area": 110000,
          "Area Units": "Hectare",
          "Crop": "Rice",
          "District": "BARNALA",
          "Production": 511000,
          "Production Units": "Tonnes",
          "Season": "Kharif",
          "State": "Punjab",
          "Year": 2015,
          "Yield": 4.6454545454545455
         },
         {
          "Area": 112000,
          "Area Units": "Hectare",
          "Crop": "Rice",
          "District": "BARNALA",
          "Production": 516000,
          "Production Units": "Tonnes",
          "Season": "Kharif",
          "State": "Punjab",
          "Year": 2016,
          "Yield": 4.607142857142857
         },
         {
          "Area": 113000,
          "Area Units": "Hectare",
          "Crop": "Rice",
          "District": "BARNALA",
          "Production": 565000,
          "Production Units": "Tonnes",
          "Season": "Kharif",
          "State": "Punjab",
          "Year": 2017,
          "Yield": 5
         },
         {
          "Area": 114000,
          "Area Units": "Hectare",
          "Crop": "Rice",
          "District": "BARNALA",
          "Production": 567000,
          "Production Units": "Tonnes",
          "Season": "Kharif",
          "State": "Punjab",
          "Year": 2018,
          "Yield": 4.973684210526316
         },
         {
          "Area": 114000,
          "Area Units": "Hectare",
          "Crop": "Rice",
          "District": "BARNALA",
          "Production": 525000,
          "Production Units": "Tonnes",
          "Season": "Kharif",
          "State": "Punjab",
          "Year": 2019,
          "Yield": 4.605263157894737
         }
        ]
       },
       "encoding": {
        "x": {
         "field": "Year",
         "type": "quantitative"
        },
        "y": {
         "field": "Production",
         "type": "quantitative"
        }
       },
       "mark": "line",
       "title": "Rice production, in tonnes, in Barnala, Punjab from 1997-2020"
      },
      "text/plain": [
       "<VegaLite 4 object>\n",
       "\n",
       "If you see this message, it means the renderer has not been properly enabled\n",
       "for the frontend that you are using. For more information, see\n",
       "https://altair-viz.github.io/user_guide/troubleshooting.html\n"
      ]
     },
     "execution_count": 59,
     "metadata": {},
     "output_type": "execute_result"
    }
   ],
   "source": [
    "df_pj_bar = df_pj_rice.loc[df['District'] == 'BARNALA']\n",
    "\n",
    "alt.Chart(df_pj_bar).mark_line().encode(\n",
    "    x='Year',\n",
    "    y=('Production')\n",
    ").properties(\n",
    "    title='Rice production, in tonnes, in Barnala, Punjab from 1997-2020')"
   ]
  },
  {
   "cell_type": "markdown",
   "metadata": {},
   "source": [
    "![](barnala.png)"
   ]
  },
  {
   "cell_type": "markdown",
   "metadata": {},
   "source": [
    "### FAZILKA"
   ]
  },
  {
   "cell_type": "code",
   "execution_count": 60,
   "metadata": {},
   "outputs": [
    {
     "data": {
      "application/vnd.vegalite.v4+json": {
       "$schema": "https://vega.github.io/schema/vega-lite/v4.17.0.json",
       "config": {
        "view": {
         "continuousHeight": 300,
         "continuousWidth": 400
        }
       },
       "data": {
        "name": "data-896ef9feb5d98df3adeb223d49734f06"
       },
       "datasets": {
        "data-896ef9feb5d98df3adeb223d49734f06": [
         {
          "Area": 85000,
          "Area Units": "Hectare",
          "Crop": "Rice",
          "District": "FAZILKA",
          "Production": 291000,
          "Production Units": "Tonnes",
          "Season": "Kharif",
          "State": "Punjab",
          "Year": 2012,
          "Yield": 3.4235294117647057
         },
         {
          "Area": 92000,
          "Area Units": "Hectare",
          "Crop": "Rice",
          "District": "FAZILKA",
          "Production": 293000,
          "Production Units": "Tonnes",
          "Season": "Kharif",
          "State": "Punjab",
          "Year": 2013,
          "Yield": 3.1847826086956523
         },
         {
          "Area": 97000,
          "Area Units": "Hectare",
          "Crop": "Rice",
          "District": "FAZILKA",
          "Production": 297000,
          "Production Units": "Tonnes",
          "Season": "Kharif",
          "State": "Punjab",
          "Year": 2014,
          "Yield": 3.061855670103093
         },
         {
          "Area": 104000,
          "Area Units": "Hectare",
          "Crop": "Rice",
          "District": "FAZILKA",
          "Production": 298000,
          "Production Units": "Tonnes",
          "Season": "Kharif",
          "State": "Punjab",
          "Year": 2015,
          "Yield": 2.8653846153846154
         },
         {
          "Area": 111000,
          "Area Units": "Hectare",
          "Crop": "Rice",
          "District": "FAZILKA",
          "Production": 391000,
          "Production Units": "Tonnes",
          "Season": "Kharif",
          "State": "Punjab",
          "Year": 2016,
          "Yield": 3.5225225225225225
         },
         {
          "Area": 109000,
          "Area Units": "Hectare",
          "Crop": "Rice",
          "District": "FAZILKA",
          "Production": 355000,
          "Production Units": "Tonnes",
          "Season": "Kharif",
          "State": "Punjab",
          "Year": 2017,
          "Yield": 3.256880733944954
         },
         {
          "Area": 114000,
          "Area Units": "Hectare",
          "Crop": "Rice",
          "District": "FAZILKA",
          "Production": 376000,
          "Production Units": "Tonnes",
          "Season": "Kharif",
          "State": "Punjab",
          "Year": 2018,
          "Yield": 3.298245614035088
         },
         {
          "Area": 191000,
          "Area Units": "Hectare",
          "Crop": "Rice",
          "District": "FAZILKA",
          "Production": 775000,
          "Production Units": "Tonnes",
          "Season": "Kharif",
          "State": "Punjab",
          "Year": 2019,
          "Yield": 4.057591623036649
         }
        ]
       },
       "encoding": {
        "x": {
         "field": "Year",
         "type": "quantitative"
        },
        "y": {
         "field": "Production",
         "type": "quantitative"
        }
       },
       "mark": "line",
       "title": "Rice production, in tonnes, in Fazilka, Punjab from 1997-2020"
      },
      "text/plain": [
       "<VegaLite 4 object>\n",
       "\n",
       "If you see this message, it means the renderer has not been properly enabled\n",
       "for the frontend that you are using. For more information, see\n",
       "https://altair-viz.github.io/user_guide/troubleshooting.html\n"
      ]
     },
     "execution_count": 60,
     "metadata": {},
     "output_type": "execute_result"
    }
   ],
   "source": [
    "df_pj_faz = df_pj_rice.loc[df['District'] == 'FAZILKA']\n",
    "\n",
    "alt.Chart(df_pj_faz).mark_line().encode(\n",
    "    x='Year',\n",
    "    y=('Production')\n",
    ").properties(\n",
    "    title='Rice production, in tonnes, in Fazilka, Punjab from 1997-2020')"
   ]
  },
  {
   "cell_type": "markdown",
   "metadata": {},
   "source": [
    "![](fazilka.png)"
   ]
  },
  {
   "cell_type": "markdown",
   "metadata": {},
   "source": [
    "### PATHANKOT "
   ]
  },
  {
   "cell_type": "code",
   "execution_count": 61,
   "metadata": {},
   "outputs": [
    {
     "data": {
      "application/vnd.vegalite.v4+json": {
       "$schema": "https://vega.github.io/schema/vega-lite/v4.17.0.json",
       "config": {
        "view": {
         "continuousHeight": 300,
         "continuousWidth": 400
        }
       },
       "data": {
        "name": "data-d0d516246a7e3115b2194e9ef347d64a"
       },
       "datasets": {
        "data-d0d516246a7e3115b2194e9ef347d64a": [
         {
          "Area": 27000,
          "Area Units": "Hectare",
          "Crop": "Rice",
          "District": "PATHANKOT",
          "Production": 76000,
          "Production Units": "Tonnes",
          "Season": "Kharif",
          "State": "Punjab",
          "Year": 2012,
          "Yield": 2.814814814814815
         },
         {
          "Area": 29000,
          "Area Units": "Hectare",
          "Crop": "Rice",
          "District": "PATHANKOT",
          "Production": 78000,
          "Production Units": "Tonnes",
          "Season": "Kharif",
          "State": "Punjab",
          "Year": 2013,
          "Yield": 2.689655172413793
         },
         {
          "Area": 29000,
          "Area Units": "Hectare",
          "Crop": "Rice",
          "District": "PATHANKOT",
          "Production": 72000,
          "Production Units": "Tonnes",
          "Season": "Kharif",
          "State": "Punjab",
          "Year": 2014,
          "Yield": 2.4827586206896552
         },
         {
          "Area": 28000,
          "Area Units": "Hectare",
          "Crop": "Rice",
          "District": "PATHANKOT",
          "Production": 88000,
          "Production Units": "Tonnes",
          "Season": "Kharif",
          "State": "Punjab",
          "Year": 2015,
          "Yield": 3.142857142857143
         },
         {
          "Area": 28000,
          "Area Units": "Hectare",
          "Crop": "Rice",
          "District": "PATHANKOT",
          "Production": 77000,
          "Production Units": "Tonnes",
          "Season": "Kharif",
          "State": "Punjab",
          "Year": 2016,
          "Yield": 2.75
         },
         {
          "Area": 28000,
          "Area Units": "Hectare",
          "Crop": "Rice",
          "District": "PATHANKOT",
          "Production": 86000,
          "Production Units": "Tonnes",
          "Season": "Kharif",
          "State": "Punjab",
          "Year": 2017,
          "Yield": 3.071428571428572
         },
         {
          "Area": 28000,
          "Area Units": "Hectare",
          "Crop": "Rice",
          "District": "PATHANKOT",
          "Production": 91000,
          "Production Units": "Tonnes",
          "Season": "Kharif",
          "State": "Punjab",
          "Year": 2018,
          "Yield": 3.25
         },
         {
          "Area": 28000,
          "Area Units": "Hectare",
          "Crop": "Rice",
          "District": "PATHANKOT",
          "Production": 86000,
          "Production Units": "Tonnes",
          "Season": "Kharif",
          "State": "Punjab",
          "Year": 2019,
          "Yield": 3.071428571428572
         }
        ]
       },
       "encoding": {
        "x": {
         "field": "Year",
         "type": "quantitative"
        },
        "y": {
         "field": "Production",
         "type": "quantitative"
        }
       },
       "mark": "line",
       "title": "Rice production, in tonnes, in Pathankot, Punjab from 1997-2020"
      },
      "text/plain": [
       "<VegaLite 4 object>\n",
       "\n",
       "If you see this message, it means the renderer has not been properly enabled\n",
       "for the frontend that you are using. For more information, see\n",
       "https://altair-viz.github.io/user_guide/troubleshooting.html\n"
      ]
     },
     "execution_count": 61,
     "metadata": {},
     "output_type": "execute_result"
    }
   ],
   "source": [
    "df_pj_pat = df_pj_rice.loc[df['District'] == 'PATHANKOT']\n",
    "\n",
    "alt.Chart(df_pj_pat).mark_line().encode(\n",
    "    x='Year',\n",
    "    y=('Production')\n",
    ").properties(\n",
    "    title='Rice production, in tonnes, in Pathankot, Punjab from 1997-2020')"
   ]
  },
  {
   "cell_type": "markdown",
   "metadata": {},
   "source": [
    "![](pathankot.png)"
   ]
  },
  {
   "cell_type": "markdown",
   "metadata": {},
   "source": [
    "### S"
   ]
  },
  {
   "cell_type": "markdown",
   "metadata": {},
   "source": [
    "It is not known which district this represents. It is only stated as 'S'. Here are a [list of districts in Punjab](https://nriol.com/india-statistics/punjab/districts.asp). It seems like this 'S' can be either Sahibzada Ajit Singh Nagar, or Mansa. Since it begins with an 'S', I am guessing it is the former, but for now, let us leave it at S. Except for one district, every other district of Punjab has been represented by this data.  "
   ]
  },
  {
   "cell_type": "code",
   "execution_count": 62,
   "metadata": {},
   "outputs": [
    {
     "data": {
      "application/vnd.vegalite.v4+json": {
       "$schema": "https://vega.github.io/schema/vega-lite/v4.17.0.json",
       "config": {
        "view": {
         "continuousHeight": 300,
         "continuousWidth": 400
        }
       },
       "data": {
        "name": "data-db4c5c1ab5b6e4452d7b308ec6293ae9"
       },
       "datasets": {
        "data-db4c5c1ab5b6e4452d7b308ec6293ae9": [
         {
          "Area": 29000,
          "Area Units": "Hectare",
          "Crop": "Rice",
          "District": "S",
          "Production": 82000,
          "Production Units": "Tonnes",
          "Season": "Kharif",
          "State": "Punjab",
          "Year": 2006,
          "Yield": 2.827586206896552
         },
         {
          "Area": 29000,
          "Area Units": "Hectare",
          "Crop": "Rice",
          "District": "S",
          "Production": 103000,
          "Production Units": "Tonnes",
          "Season": "Kharif",
          "State": "Punjab",
          "Year": 2007,
          "Yield": 3.5517241379310347
         },
         {
          "Area": 27000,
          "Area Units": "Hectare",
          "Crop": "Rice",
          "District": "S",
          "Production": 88000,
          "Production Units": "Tonnes",
          "Season": "Kharif",
          "State": "Punjab",
          "Year": 2008,
          "Yield": 3.259259259259259
         },
         {
          "Area": 30000,
          "Area Units": "Hectare",
          "Crop": "Rice",
          "District": "S",
          "Production": 98000,
          "Production Units": "Tonnes",
          "Season": "Kharif",
          "State": "Punjab",
          "Year": 2009,
          "Yield": 3.2666666666666666
         },
         {
          "Area": 37000,
          "Area Units": "Hectare",
          "Crop": "Rice",
          "District": "S",
          "Production": 127000,
          "Production Units": "Tonnes",
          "Season": "Kharif",
          "State": "Punjab",
          "Year": 2010,
          "Yield": 3.4324324324324325
         },
         {
          "Area": 32000,
          "Area Units": "Hectare",
          "Crop": "Rice",
          "District": "S",
          "Production": 119000,
          "Production Units": "Tonnes",
          "Season": "Kharif",
          "State": "Punjab",
          "Year": 2011,
          "Yield": 3.71875
         },
         {
          "Area": 31000,
          "Area Units": "Hectare",
          "Crop": "Rice",
          "District": "S",
          "Production": 117000,
          "Production Units": "Tonnes",
          "Season": "Kharif",
          "State": "Punjab",
          "Year": 2012,
          "Yield": 3.774193548387097
         },
         {
          "Area": 27000,
          "Area Units": "Hectare",
          "Crop": "Rice",
          "District": "S",
          "Production": 95000,
          "Production Units": "Tonnes",
          "Season": "Kharif",
          "State": "Punjab",
          "Year": 2013,
          "Yield": 3.5185185185185186
         },
         {
          "Area": 29000,
          "Area Units": "Hectare",
          "Crop": "Rice",
          "District": "S",
          "Production": 94000,
          "Production Units": "Tonnes",
          "Season": "Kharif",
          "State": "Punjab",
          "Year": 2014,
          "Yield": 3.2413793103448274
         },
         {
          "Area": 31000,
          "Area Units": "Hectare",
          "Crop": "Rice",
          "District": "S",
          "Production": 116000,
          "Production Units": "Tonnes",
          "Season": "Kharif",
          "State": "Punjab",
          "Year": 2015,
          "Yield": 3.741935483870968
         },
         {
          "Area": 31000,
          "Area Units": "Hectare",
          "Crop": "Rice",
          "District": "S",
          "Production": 112000,
          "Production Units": "Tonnes",
          "Season": "Kharif",
          "State": "Punjab",
          "Year": 2016,
          "Yield": 3.612903225806452
         },
         {
          "Area": 31000,
          "Area Units": "Hectare",
          "Crop": "Rice",
          "District": "S",
          "Production": 108000,
          "Production Units": "Tonnes",
          "Season": "Kharif",
          "State": "Punjab",
          "Year": 2017,
          "Yield": 3.4838709677419355
         },
         {
          "Area": 31000,
          "Area Units": "Hectare",
          "Crop": "Rice",
          "District": "S",
          "Production": 102000,
          "Production Units": "Tonnes",
          "Season": "Kharif",
          "State": "Punjab",
          "Year": 2018,
          "Yield": 3.290322580645161
         },
         {
          "Area": 29000,
          "Area Units": "Hectare",
          "Crop": "Rice",
          "District": "S",
          "Production": 105000,
          "Production Units": "Tonnes",
          "Season": "Kharif",
          "State": "Punjab",
          "Year": 2019,
          "Yield": 3.6206896551724137
         }
        ]
       },
       "encoding": {
        "x": {
         "field": "Year",
         "type": "quantitative"
        },
        "y": {
         "field": "Production",
         "type": "quantitative"
        }
       },
       "mark": "line",
       "title": "Rice production, in tonnes, in S, Punjab from 1997-2020"
      },
      "text/plain": [
       "<VegaLite 4 object>\n",
       "\n",
       "If you see this message, it means the renderer has not been properly enabled\n",
       "for the frontend that you are using. For more information, see\n",
       "https://altair-viz.github.io/user_guide/troubleshooting.html\n"
      ]
     },
     "execution_count": 62,
     "metadata": {},
     "output_type": "execute_result"
    }
   ],
   "source": [
    "df_pj_s = df_pj_rice.loc[df['District'] == 'S']\n",
    "\n",
    "alt.Chart(df_pj_s).mark_line().encode(\n",
    "    x='Year',\n",
    "    y=('Production')\n",
    ").properties(\n",
    "    title='Rice production, in tonnes, in S, Punjab from 1997-2020')"
   ]
  },
  {
   "cell_type": "markdown",
   "metadata": {},
   "source": [
    "![](s.png)"
   ]
  },
  {
   "cell_type": "markdown",
   "metadata": {},
   "source": [
    "Except for the districts of Fazilka, Hoshiarpur and Bathinda, the other districts of Punjab are showing moderate to steep decline in rice production over the past 5-10 years, especially. This seems to correspond with the earlier hypothesis of the diversification of the crops in Punjab. "
   ]
  },
  {
   "cell_type": "markdown",
   "metadata": {},
   "source": [
    "Now, I wish to compare the trajectories of the various crops grown in Punjab with the other crops. For this, I would need to use groupby to select the various parameters and then use Altair to create line charts. \n"
   ]
  },
  {
   "cell_type": "markdown",
   "metadata": {},
   "source": [
    "## Comparing the production of rice in Punjab over time with other crops"
   ]
  },
  {
   "cell_type": "code",
   "execution_count": 63,
   "metadata": {},
   "outputs": [],
   "source": [
    "# subset for Punjab and Rice\n",
    "rice = production_all[\n",
    "    (production_all['State'] == 'Punjab') &\n",
    "    (production_all['Crop'] == 'Rice') \n",
    "].reset_index()"
   ]
  },
  {
   "cell_type": "code",
   "execution_count": 64,
   "metadata": {},
   "outputs": [
    {
     "data": {
      "text/html": [
       "<div>\n",
       "<style scoped>\n",
       "    .dataframe tbody tr th:only-of-type {\n",
       "        vertical-align: middle;\n",
       "    }\n",
       "\n",
       "    .dataframe tbody tr th {\n",
       "        vertical-align: top;\n",
       "    }\n",
       "\n",
       "    .dataframe thead th {\n",
       "        text-align: right;\n",
       "    }\n",
       "</style>\n",
       "<table border=\"1\" class=\"dataframe\">\n",
       "  <thead>\n",
       "    <tr style=\"text-align: right;\">\n",
       "      <th></th>\n",
       "      <th>index</th>\n",
       "      <th>State</th>\n",
       "      <th>Crop</th>\n",
       "      <th>Year</th>\n",
       "      <th>Season</th>\n",
       "      <th>Production</th>\n",
       "    </tr>\n",
       "  </thead>\n",
       "  <tbody>\n",
       "    <tr>\n",
       "      <th>0</th>\n",
       "      <td>15849</td>\n",
       "      <td>Punjab</td>\n",
       "      <td>Rice</td>\n",
       "      <td>1997</td>\n",
       "      <td>Kharif</td>\n",
       "      <td>7904000.0</td>\n",
       "    </tr>\n",
       "    <tr>\n",
       "      <th>1</th>\n",
       "      <td>15850</td>\n",
       "      <td>Punjab</td>\n",
       "      <td>Rice</td>\n",
       "      <td>1998</td>\n",
       "      <td>Kharif</td>\n",
       "      <td>7940000.0</td>\n",
       "    </tr>\n",
       "    <tr>\n",
       "      <th>2</th>\n",
       "      <td>15851</td>\n",
       "      <td>Punjab</td>\n",
       "      <td>Rice</td>\n",
       "      <td>1999</td>\n",
       "      <td>Kharif</td>\n",
       "      <td>8716000.0</td>\n",
       "    </tr>\n",
       "    <tr>\n",
       "      <th>3</th>\n",
       "      <td>15852</td>\n",
       "      <td>Punjab</td>\n",
       "      <td>Rice</td>\n",
       "      <td>2000</td>\n",
       "      <td>Kharif</td>\n",
       "      <td>9154000.0</td>\n",
       "    </tr>\n",
       "    <tr>\n",
       "      <th>4</th>\n",
       "      <td>15853</td>\n",
       "      <td>Punjab</td>\n",
       "      <td>Rice</td>\n",
       "      <td>2001</td>\n",
       "      <td>Kharif</td>\n",
       "      <td>8816000.0</td>\n",
       "    </tr>\n",
       "    <tr>\n",
       "      <th>5</th>\n",
       "      <td>15854</td>\n",
       "      <td>Punjab</td>\n",
       "      <td>Rice</td>\n",
       "      <td>2002</td>\n",
       "      <td>Kharif</td>\n",
       "      <td>8880000.0</td>\n",
       "    </tr>\n",
       "    <tr>\n",
       "      <th>6</th>\n",
       "      <td>15855</td>\n",
       "      <td>Punjab</td>\n",
       "      <td>Rice</td>\n",
       "      <td>2003</td>\n",
       "      <td>Kharif</td>\n",
       "      <td>9656000.0</td>\n",
       "    </tr>\n",
       "    <tr>\n",
       "      <th>7</th>\n",
       "      <td>15856</td>\n",
       "      <td>Punjab</td>\n",
       "      <td>Rice</td>\n",
       "      <td>2004</td>\n",
       "      <td>Kharif</td>\n",
       "      <td>10437000.0</td>\n",
       "    </tr>\n",
       "    <tr>\n",
       "      <th>8</th>\n",
       "      <td>15857</td>\n",
       "      <td>Punjab</td>\n",
       "      <td>Rice</td>\n",
       "      <td>2005</td>\n",
       "      <td>Kharif</td>\n",
       "      <td>10193000.0</td>\n",
       "    </tr>\n",
       "    <tr>\n",
       "      <th>9</th>\n",
       "      <td>15858</td>\n",
       "      <td>Punjab</td>\n",
       "      <td>Rice</td>\n",
       "      <td>2006</td>\n",
       "      <td>Kharif</td>\n",
       "      <td>10138000.0</td>\n",
       "    </tr>\n",
       "  </tbody>\n",
       "</table>\n",
       "</div>"
      ],
      "text/plain": [
       "   index   State  Crop  Year  Season  Production\n",
       "0  15849  Punjab  Rice  1997  Kharif   7904000.0\n",
       "1  15850  Punjab  Rice  1998  Kharif   7940000.0\n",
       "2  15851  Punjab  Rice  1999  Kharif   8716000.0\n",
       "3  15852  Punjab  Rice  2000  Kharif   9154000.0\n",
       "4  15853  Punjab  Rice  2001  Kharif   8816000.0\n",
       "5  15854  Punjab  Rice  2002  Kharif   8880000.0\n",
       "6  15855  Punjab  Rice  2003  Kharif   9656000.0\n",
       "7  15856  Punjab  Rice  2004  Kharif  10437000.0\n",
       "8  15857  Punjab  Rice  2005  Kharif  10193000.0\n",
       "9  15858  Punjab  Rice  2006  Kharif  10138000.0"
      ]
     },
     "execution_count": 64,
     "metadata": {},
     "output_type": "execute_result"
    }
   ],
   "source": [
    "rice.head(10)"
   ]
  },
  {
   "cell_type": "code",
   "execution_count": 65,
   "metadata": {},
   "outputs": [],
   "source": [
    "rice.to_csv('Ricepunjab.csv')"
   ]
  },
  {
   "cell_type": "code",
   "execution_count": 66,
   "metadata": {},
   "outputs": [],
   "source": [
    "##Subset for Punjab and Wheat\n",
    "wheat = production_all[\n",
    "    (production_all['State'] == 'Punjab') &\n",
    "    (production_all['Crop'] == 'Wheat') \n",
    "].reset_index()\n",
    "\n",
    "wheat.to_csv('wheatpj.csv')\n"
   ]
  },
  {
   "cell_type": "code",
   "execution_count": 67,
   "metadata": {},
   "outputs": [
    {
     "data": {
      "text/html": [
       "<div>\n",
       "<style scoped>\n",
       "    .dataframe tbody tr th:only-of-type {\n",
       "        vertical-align: middle;\n",
       "    }\n",
       "\n",
       "    .dataframe tbody tr th {\n",
       "        vertical-align: top;\n",
       "    }\n",
       "\n",
       "    .dataframe thead th {\n",
       "        text-align: right;\n",
       "    }\n",
       "</style>\n",
       "<table border=\"1\" class=\"dataframe\">\n",
       "  <thead>\n",
       "    <tr style=\"text-align: right;\">\n",
       "      <th></th>\n",
       "      <th>index</th>\n",
       "      <th>State</th>\n",
       "      <th>Crop</th>\n",
       "      <th>Year</th>\n",
       "      <th>Season</th>\n",
       "      <th>Production</th>\n",
       "    </tr>\n",
       "  </thead>\n",
       "  <tbody>\n",
       "    <tr>\n",
       "      <th>0</th>\n",
       "      <td>15941</td>\n",
       "      <td>Punjab</td>\n",
       "      <td>Wheat</td>\n",
       "      <td>1997</td>\n",
       "      <td>Rabi</td>\n",
       "      <td>12715000.0</td>\n",
       "    </tr>\n",
       "    <tr>\n",
       "      <th>1</th>\n",
       "      <td>15942</td>\n",
       "      <td>Punjab</td>\n",
       "      <td>Wheat</td>\n",
       "      <td>1998</td>\n",
       "      <td>Rabi</td>\n",
       "      <td>14460000.0</td>\n",
       "    </tr>\n",
       "    <tr>\n",
       "      <th>2</th>\n",
       "      <td>15943</td>\n",
       "      <td>Punjab</td>\n",
       "      <td>Wheat</td>\n",
       "      <td>1999</td>\n",
       "      <td>Rabi</td>\n",
       "      <td>15910000.0</td>\n",
       "    </tr>\n",
       "    <tr>\n",
       "      <th>3</th>\n",
       "      <td>15944</td>\n",
       "      <td>Punjab</td>\n",
       "      <td>Wheat</td>\n",
       "      <td>2000</td>\n",
       "      <td>Rabi</td>\n",
       "      <td>15551000.0</td>\n",
       "    </tr>\n",
       "    <tr>\n",
       "      <th>4</th>\n",
       "      <td>15945</td>\n",
       "      <td>Punjab</td>\n",
       "      <td>Wheat</td>\n",
       "      <td>2001</td>\n",
       "      <td>Rabi</td>\n",
       "      <td>15499000.0</td>\n",
       "    </tr>\n",
       "    <tr>\n",
       "      <th>5</th>\n",
       "      <td>15946</td>\n",
       "      <td>Punjab</td>\n",
       "      <td>Wheat</td>\n",
       "      <td>2002</td>\n",
       "      <td>Rabi</td>\n",
       "      <td>14175000.0</td>\n",
       "    </tr>\n",
       "    <tr>\n",
       "      <th>6</th>\n",
       "      <td>15947</td>\n",
       "      <td>Punjab</td>\n",
       "      <td>Wheat</td>\n",
       "      <td>2003</td>\n",
       "      <td>Rabi</td>\n",
       "      <td>14489000.0</td>\n",
       "    </tr>\n",
       "    <tr>\n",
       "      <th>7</th>\n",
       "      <td>15948</td>\n",
       "      <td>Punjab</td>\n",
       "      <td>Wheat</td>\n",
       "      <td>2004</td>\n",
       "      <td>Rabi</td>\n",
       "      <td>14698000.0</td>\n",
       "    </tr>\n",
       "    <tr>\n",
       "      <th>8</th>\n",
       "      <td>15949</td>\n",
       "      <td>Punjab</td>\n",
       "      <td>Wheat</td>\n",
       "      <td>2005</td>\n",
       "      <td>Rabi</td>\n",
       "      <td>14493000.0</td>\n",
       "    </tr>\n",
       "    <tr>\n",
       "      <th>9</th>\n",
       "      <td>15950</td>\n",
       "      <td>Punjab</td>\n",
       "      <td>Wheat</td>\n",
       "      <td>2006</td>\n",
       "      <td>Rabi</td>\n",
       "      <td>14596000.0</td>\n",
       "    </tr>\n",
       "    <tr>\n",
       "      <th>10</th>\n",
       "      <td>15951</td>\n",
       "      <td>Punjab</td>\n",
       "      <td>Wheat</td>\n",
       "      <td>2007</td>\n",
       "      <td>Rabi</td>\n",
       "      <td>15720000.0</td>\n",
       "    </tr>\n",
       "    <tr>\n",
       "      <th>11</th>\n",
       "      <td>15952</td>\n",
       "      <td>Punjab</td>\n",
       "      <td>Wheat</td>\n",
       "      <td>2008</td>\n",
       "      <td>Rabi</td>\n",
       "      <td>15733000.0</td>\n",
       "    </tr>\n",
       "    <tr>\n",
       "      <th>12</th>\n",
       "      <td>15953</td>\n",
       "      <td>Punjab</td>\n",
       "      <td>Wheat</td>\n",
       "      <td>2009</td>\n",
       "      <td>Rabi</td>\n",
       "      <td>15169000.0</td>\n",
       "    </tr>\n",
       "    <tr>\n",
       "      <th>13</th>\n",
       "      <td>15954</td>\n",
       "      <td>Punjab</td>\n",
       "      <td>Wheat</td>\n",
       "      <td>2010</td>\n",
       "      <td>Rabi</td>\n",
       "      <td>16472000.0</td>\n",
       "    </tr>\n",
       "    <tr>\n",
       "      <th>14</th>\n",
       "      <td>15955</td>\n",
       "      <td>Punjab</td>\n",
       "      <td>Wheat</td>\n",
       "      <td>2011</td>\n",
       "      <td>Rabi</td>\n",
       "      <td>17982000.0</td>\n",
       "    </tr>\n",
       "    <tr>\n",
       "      <th>15</th>\n",
       "      <td>15956</td>\n",
       "      <td>Punjab</td>\n",
       "      <td>Wheat</td>\n",
       "      <td>2012</td>\n",
       "      <td>Rabi</td>\n",
       "      <td>16614000.0</td>\n",
       "    </tr>\n",
       "    <tr>\n",
       "      <th>16</th>\n",
       "      <td>15957</td>\n",
       "      <td>Punjab</td>\n",
       "      <td>Wheat</td>\n",
       "      <td>2013</td>\n",
       "      <td>Rabi</td>\n",
       "      <td>17620000.0</td>\n",
       "    </tr>\n",
       "    <tr>\n",
       "      <th>17</th>\n",
       "      <td>15958</td>\n",
       "      <td>Punjab</td>\n",
       "      <td>Wheat</td>\n",
       "      <td>2014</td>\n",
       "      <td>Rabi</td>\n",
       "      <td>15050000.0</td>\n",
       "    </tr>\n",
       "    <tr>\n",
       "      <th>18</th>\n",
       "      <td>15959</td>\n",
       "      <td>Punjab</td>\n",
       "      <td>Wheat</td>\n",
       "      <td>2015</td>\n",
       "      <td>Rabi</td>\n",
       "      <td>16077000.0</td>\n",
       "    </tr>\n",
       "    <tr>\n",
       "      <th>19</th>\n",
       "      <td>15960</td>\n",
       "      <td>Punjab</td>\n",
       "      <td>Wheat</td>\n",
       "      <td>2016</td>\n",
       "      <td>Rabi</td>\n",
       "      <td>17636000.0</td>\n",
       "    </tr>\n",
       "    <tr>\n",
       "      <th>20</th>\n",
       "      <td>15961</td>\n",
       "      <td>Punjab</td>\n",
       "      <td>Wheat</td>\n",
       "      <td>2017</td>\n",
       "      <td>Rabi</td>\n",
       "      <td>17830000.0</td>\n",
       "    </tr>\n",
       "    <tr>\n",
       "      <th>21</th>\n",
       "      <td>15962</td>\n",
       "      <td>Punjab</td>\n",
       "      <td>Wheat</td>\n",
       "      <td>2018</td>\n",
       "      <td>Rabi</td>\n",
       "      <td>18262000.0</td>\n",
       "    </tr>\n",
       "    <tr>\n",
       "      <th>22</th>\n",
       "      <td>15963</td>\n",
       "      <td>Punjab</td>\n",
       "      <td>Wheat</td>\n",
       "      <td>2019</td>\n",
       "      <td>Rabi</td>\n",
       "      <td>17619000.0</td>\n",
       "    </tr>\n",
       "  </tbody>\n",
       "</table>\n",
       "</div>"
      ],
      "text/plain": [
       "    index   State   Crop  Year Season  Production\n",
       "0   15941  Punjab  Wheat  1997   Rabi  12715000.0\n",
       "1   15942  Punjab  Wheat  1998   Rabi  14460000.0\n",
       "2   15943  Punjab  Wheat  1999   Rabi  15910000.0\n",
       "3   15944  Punjab  Wheat  2000   Rabi  15551000.0\n",
       "4   15945  Punjab  Wheat  2001   Rabi  15499000.0\n",
       "5   15946  Punjab  Wheat  2002   Rabi  14175000.0\n",
       "6   15947  Punjab  Wheat  2003   Rabi  14489000.0\n",
       "7   15948  Punjab  Wheat  2004   Rabi  14698000.0\n",
       "8   15949  Punjab  Wheat  2005   Rabi  14493000.0\n",
       "9   15950  Punjab  Wheat  2006   Rabi  14596000.0\n",
       "10  15951  Punjab  Wheat  2007   Rabi  15720000.0\n",
       "11  15952  Punjab  Wheat  2008   Rabi  15733000.0\n",
       "12  15953  Punjab  Wheat  2009   Rabi  15169000.0\n",
       "13  15954  Punjab  Wheat  2010   Rabi  16472000.0\n",
       "14  15955  Punjab  Wheat  2011   Rabi  17982000.0\n",
       "15  15956  Punjab  Wheat  2012   Rabi  16614000.0\n",
       "16  15957  Punjab  Wheat  2013   Rabi  17620000.0\n",
       "17  15958  Punjab  Wheat  2014   Rabi  15050000.0\n",
       "18  15959  Punjab  Wheat  2015   Rabi  16077000.0\n",
       "19  15960  Punjab  Wheat  2016   Rabi  17636000.0\n",
       "20  15961  Punjab  Wheat  2017   Rabi  17830000.0\n",
       "21  15962  Punjab  Wheat  2018   Rabi  18262000.0\n",
       "22  15963  Punjab  Wheat  2019   Rabi  17619000.0"
      ]
     },
     "execution_count": 67,
     "metadata": {},
     "output_type": "execute_result"
    }
   ],
   "source": [
    "wheat.head(50)"
   ]
  },
  {
   "cell_type": "code",
   "execution_count": 68,
   "metadata": {},
   "outputs": [],
   "source": [
    "##Subset for Punjab and Wheat\n",
    "bajra = production_all[\n",
    "    (production_all['State'] == 'Punjab') &\n",
    "    (production_all['Crop'] == 'Bajra') \n",
    "].reset_index()\n",
    "bajra.to_csv('bajrapj.csv') "
   ]
  },
  {
   "cell_type": "code",
   "execution_count": 69,
   "metadata": {},
   "outputs": [
    {
     "data": {
      "text/html": [
       "<div>\n",
       "<style scoped>\n",
       "    .dataframe tbody tr th:only-of-type {\n",
       "        vertical-align: middle;\n",
       "    }\n",
       "\n",
       "    .dataframe tbody tr th {\n",
       "        vertical-align: top;\n",
       "    }\n",
       "\n",
       "    .dataframe thead th {\n",
       "        text-align: right;\n",
       "    }\n",
       "</style>\n",
       "<table border=\"1\" class=\"dataframe\">\n",
       "  <thead>\n",
       "    <tr style=\"text-align: right;\">\n",
       "      <th></th>\n",
       "      <th>index</th>\n",
       "      <th>State</th>\n",
       "      <th>Crop</th>\n",
       "      <th>Year</th>\n",
       "      <th>Season</th>\n",
       "      <th>Production</th>\n",
       "    </tr>\n",
       "  </thead>\n",
       "  <tbody>\n",
       "    <tr>\n",
       "      <th>0</th>\n",
       "      <td>15591</td>\n",
       "      <td>Punjab</td>\n",
       "      <td>Bajra</td>\n",
       "      <td>1997</td>\n",
       "      <td>Kharif</td>\n",
       "      <td>8000.0</td>\n",
       "    </tr>\n",
       "    <tr>\n",
       "      <th>1</th>\n",
       "      <td>15592</td>\n",
       "      <td>Punjab</td>\n",
       "      <td>Bajra</td>\n",
       "      <td>1998</td>\n",
       "      <td>Kharif</td>\n",
       "      <td>4000.0</td>\n",
       "    </tr>\n",
       "    <tr>\n",
       "      <th>2</th>\n",
       "      <td>15593</td>\n",
       "      <td>Punjab</td>\n",
       "      <td>Bajra</td>\n",
       "      <td>1999</td>\n",
       "      <td>Kharif</td>\n",
       "      <td>4000.0</td>\n",
       "    </tr>\n",
       "    <tr>\n",
       "      <th>3</th>\n",
       "      <td>15594</td>\n",
       "      <td>Punjab</td>\n",
       "      <td>Bajra</td>\n",
       "      <td>2000</td>\n",
       "      <td>Kharif</td>\n",
       "      <td>5000.0</td>\n",
       "    </tr>\n",
       "    <tr>\n",
       "      <th>4</th>\n",
       "      <td>15595</td>\n",
       "      <td>Punjab</td>\n",
       "      <td>Bajra</td>\n",
       "      <td>2002</td>\n",
       "      <td>Kharif</td>\n",
       "      <td>6000.0</td>\n",
       "    </tr>\n",
       "    <tr>\n",
       "      <th>5</th>\n",
       "      <td>15596</td>\n",
       "      <td>Punjab</td>\n",
       "      <td>Bajra</td>\n",
       "      <td>2003</td>\n",
       "      <td>Kharif</td>\n",
       "      <td>8000.0</td>\n",
       "    </tr>\n",
       "    <tr>\n",
       "      <th>6</th>\n",
       "      <td>15597</td>\n",
       "      <td>Punjab</td>\n",
       "      <td>Bajra</td>\n",
       "      <td>2004</td>\n",
       "      <td>Kharif</td>\n",
       "      <td>7000.0</td>\n",
       "    </tr>\n",
       "    <tr>\n",
       "      <th>7</th>\n",
       "      <td>15598</td>\n",
       "      <td>Punjab</td>\n",
       "      <td>Bajra</td>\n",
       "      <td>2005</td>\n",
       "      <td>Kharif</td>\n",
       "      <td>5000.0</td>\n",
       "    </tr>\n",
       "    <tr>\n",
       "      <th>8</th>\n",
       "      <td>15599</td>\n",
       "      <td>Punjab</td>\n",
       "      <td>Bajra</td>\n",
       "      <td>2006</td>\n",
       "      <td>Kharif</td>\n",
       "      <td>6000.0</td>\n",
       "    </tr>\n",
       "    <tr>\n",
       "      <th>9</th>\n",
       "      <td>15600</td>\n",
       "      <td>Punjab</td>\n",
       "      <td>Bajra</td>\n",
       "      <td>2007</td>\n",
       "      <td>Kharif</td>\n",
       "      <td>4000.0</td>\n",
       "    </tr>\n",
       "    <tr>\n",
       "      <th>10</th>\n",
       "      <td>15601</td>\n",
       "      <td>Punjab</td>\n",
       "      <td>Bajra</td>\n",
       "      <td>2008</td>\n",
       "      <td>Kharif</td>\n",
       "      <td>5000.0</td>\n",
       "    </tr>\n",
       "    <tr>\n",
       "      <th>11</th>\n",
       "      <td>15602</td>\n",
       "      <td>Punjab</td>\n",
       "      <td>Bajra</td>\n",
       "      <td>2009</td>\n",
       "      <td>Kharif</td>\n",
       "      <td>4000.0</td>\n",
       "    </tr>\n",
       "    <tr>\n",
       "      <th>12</th>\n",
       "      <td>15603</td>\n",
       "      <td>Punjab</td>\n",
       "      <td>Bajra</td>\n",
       "      <td>2010</td>\n",
       "      <td>Kharif</td>\n",
       "      <td>3000.0</td>\n",
       "    </tr>\n",
       "    <tr>\n",
       "      <th>13</th>\n",
       "      <td>15604</td>\n",
       "      <td>Punjab</td>\n",
       "      <td>Bajra</td>\n",
       "      <td>2011</td>\n",
       "      <td>Kharif</td>\n",
       "      <td>3000.0</td>\n",
       "    </tr>\n",
       "    <tr>\n",
       "      <th>14</th>\n",
       "      <td>15605</td>\n",
       "      <td>Punjab</td>\n",
       "      <td>Bajra</td>\n",
       "      <td>2012</td>\n",
       "      <td>Kharif</td>\n",
       "      <td>3000.0</td>\n",
       "    </tr>\n",
       "    <tr>\n",
       "      <th>15</th>\n",
       "      <td>15606</td>\n",
       "      <td>Punjab</td>\n",
       "      <td>Bajra</td>\n",
       "      <td>2013</td>\n",
       "      <td>Kharif</td>\n",
       "      <td>800.0</td>\n",
       "    </tr>\n",
       "    <tr>\n",
       "      <th>16</th>\n",
       "      <td>15607</td>\n",
       "      <td>Punjab</td>\n",
       "      <td>Bajra</td>\n",
       "      <td>2016</td>\n",
       "      <td>Kharif</td>\n",
       "      <td>700.0</td>\n",
       "    </tr>\n",
       "    <tr>\n",
       "      <th>17</th>\n",
       "      <td>15608</td>\n",
       "      <td>Punjab</td>\n",
       "      <td>Bajra</td>\n",
       "      <td>2017</td>\n",
       "      <td>Kharif</td>\n",
       "      <td>600.0</td>\n",
       "    </tr>\n",
       "    <tr>\n",
       "      <th>18</th>\n",
       "      <td>15609</td>\n",
       "      <td>Punjab</td>\n",
       "      <td>Bajra</td>\n",
       "      <td>2018</td>\n",
       "      <td>Kharif</td>\n",
       "      <td>700.0</td>\n",
       "    </tr>\n",
       "    <tr>\n",
       "      <th>19</th>\n",
       "      <td>15610</td>\n",
       "      <td>Punjab</td>\n",
       "      <td>Bajra</td>\n",
       "      <td>2019</td>\n",
       "      <td>Kharif</td>\n",
       "      <td>300.0</td>\n",
       "    </tr>\n",
       "  </tbody>\n",
       "</table>\n",
       "</div>"
      ],
      "text/plain": [
       "    index   State   Crop  Year  Season  Production\n",
       "0   15591  Punjab  Bajra  1997  Kharif      8000.0\n",
       "1   15592  Punjab  Bajra  1998  Kharif      4000.0\n",
       "2   15593  Punjab  Bajra  1999  Kharif      4000.0\n",
       "3   15594  Punjab  Bajra  2000  Kharif      5000.0\n",
       "4   15595  Punjab  Bajra  2002  Kharif      6000.0\n",
       "5   15596  Punjab  Bajra  2003  Kharif      8000.0\n",
       "6   15597  Punjab  Bajra  2004  Kharif      7000.0\n",
       "7   15598  Punjab  Bajra  2005  Kharif      5000.0\n",
       "8   15599  Punjab  Bajra  2006  Kharif      6000.0\n",
       "9   15600  Punjab  Bajra  2007  Kharif      4000.0\n",
       "10  15601  Punjab  Bajra  2008  Kharif      5000.0\n",
       "11  15602  Punjab  Bajra  2009  Kharif      4000.0\n",
       "12  15603  Punjab  Bajra  2010  Kharif      3000.0\n",
       "13  15604  Punjab  Bajra  2011  Kharif      3000.0\n",
       "14  15605  Punjab  Bajra  2012  Kharif      3000.0\n",
       "15  15606  Punjab  Bajra  2013  Kharif       800.0\n",
       "16  15607  Punjab  Bajra  2016  Kharif       700.0\n",
       "17  15608  Punjab  Bajra  2017  Kharif       600.0\n",
       "18  15609  Punjab  Bajra  2018  Kharif       700.0\n",
       "19  15610  Punjab  Bajra  2019  Kharif       300.0"
      ]
     },
     "execution_count": 69,
     "metadata": {},
     "output_type": "execute_result"
    }
   ],
   "source": [
    "bajra.head(50)"
   ]
  },
  {
   "cell_type": "code",
   "execution_count": 70,
   "metadata": {},
   "outputs": [
    {
     "name": "stdout",
     "output_type": "stream",
     "text": [
      "[12715000.0, 14460000.0, 15910000.0, 15551000.0, 15499000.0, 14175000.0, 14489000.0, 14698000.0, 14493000.0, 14596000.0, 15720000.0, 15733000.0, 15169000.0, 16472000.0, 17982000.0, 16614000.0, 17620000.0, 15050000.0, 16077000.0, 17636000.0, 17830000.0, 18262000.0, 17619000.0]\n"
     ]
    }
   ],
   "source": [
    "wheat_production_list = list(wheat[\"Production\"])\n",
    "print(wheat_production_list)"
   ]
  },
  {
   "cell_type": "code",
   "execution_count": 71,
   "metadata": {},
   "outputs": [
    {
     "name": "stdout",
     "output_type": "stream",
     "text": [
      "[7904000.0, 7940000.0, 8716000.0, 9154000.0, 8816000.0, 8880000.0, 9656000.0, 10437000.0, 10193000.0, 10138000.0, 10489000.0, 11000000.0, 11236000.0, 10837000.0, 10542000.0, 11390000.0, 11267000.0, 11107000.0, 11823000.0, 12638000.0, 13382000.0, 12822000.0, 12675000.0]\n"
     ]
    }
   ],
   "source": [
    "rice_production_list = list(rice[\"Production\"])\n",
    "print(rice_production_list)"
   ]
  },
  {
   "cell_type": "code",
   "execution_count": 72,
   "metadata": {},
   "outputs": [
    {
     "name": "stdout",
     "output_type": "stream",
     "text": [
      "[8000.0, 4000.0, 4000.0, 5000.0, 6000.0, 8000.0, 7000.0, 5000.0, 6000.0, 4000.0, 5000.0, 4000.0, 3000.0, 3000.0, 3000.0, 800.0, 700.0, 600.0, 700.0, 300.0]\n"
     ]
    }
   ],
   "source": [
    "bajra_production_list = list(bajra[\"Production\"])\n",
    "print(bajra_production_list)"
   ]
  },
  {
   "cell_type": "markdown",
   "metadata": {},
   "source": [
    "I have already checked and seen that for all three crop csvs, the years column starts with 1997-98. "
   ]
  },
  {
   "cell_type": "code",
   "execution_count": 73,
   "metadata": {},
   "outputs": [
    {
     "name": "stdout",
     "output_type": "stream",
     "text": [
      "[1997, 1998, 1999, 2000, 2001, 2002, 2003, 2004, 2005, 2006, 2007, 2008, 2009, 2010, 2011, 2012, 2013, 2014, 2015, 2016, 2017, 2018, 2019]\n"
     ]
    }
   ],
   "source": [
    "years_list = list(wheat[\"Year\"])\n",
    "print(years_list)"
   ]
  },
  {
   "cell_type": "markdown",
   "metadata": {},
   "source": [
    "## Finding mean values of all the three crops' production over the years"
   ]
  },
  {
   "cell_type": "markdown",
   "metadata": {},
   "source": [
    "To find the mean value, I will use numpy, and convert the following lists above to numpy arrays. "
   ]
  },
  {
   "cell_type": "code",
   "execution_count": 74,
   "metadata": {},
   "outputs": [
    {
     "name": "stdout",
     "output_type": "stream",
     "text": [
      "[12715000 14460000 15910000 15551000 15499000 14175000 14489000 14698000\n",
      " 14493000 14596000 15720000 15733000 15169000 16472000 17982000 16614000\n",
      " 17620000 15050000 16077000 17636000 17830000 18262000 17619000]\n"
     ]
    }
   ],
   "source": [
    "wheat_array = np.array(wheat_production_list, dtype = int)\n",
    "print(wheat_array)"
   ]
  },
  {
   "cell_type": "code",
   "execution_count": 75,
   "metadata": {},
   "outputs": [
    {
     "name": "stdout",
     "output_type": "stream",
     "text": [
      "[ 7904000  7940000  8716000  9154000  8816000  8880000  9656000 10437000\n",
      " 10193000 10138000 10489000 11000000 11236000 10837000 10542000 11390000\n",
      " 11267000 11107000 11823000 12638000 13382000 12822000 12675000]\n"
     ]
    }
   ],
   "source": [
    "rice_array = np.array(rice_production_list, dtype = int)\n",
    "print(rice_array)"
   ]
  },
  {
   "cell_type": "code",
   "execution_count": 76,
   "metadata": {},
   "outputs": [
    {
     "name": "stdout",
     "output_type": "stream",
     "text": [
      "[8000 4000 4000 5000 6000 8000 7000 5000 6000 4000 5000 4000 3000 3000\n",
      " 3000  800  700  600  700  300]\n"
     ]
    }
   ],
   "source": [
    "bajra_array = np.array(bajra_production_list, dtype = int)\n",
    "print(bajra_array)"
   ]
  },
  {
   "cell_type": "markdown",
   "metadata": {},
   "source": [
    "Using np.mean(), I will explore this data. "
   ]
  },
  {
   "cell_type": "markdown",
   "metadata": {},
   "source": [
    "#### Mean"
   ]
  },
  {
   "cell_type": "code",
   "execution_count": 77,
   "metadata": {},
   "outputs": [
    {
     "name": "stdout",
     "output_type": "stream",
     "text": [
      "15842173.913043479\n"
     ]
    }
   ],
   "source": [
    "## Wheat\n",
    "wheat_mean = np.mean(wheat_array)\n",
    "print(wheat_mean)"
   ]
  },
  {
   "cell_type": "code",
   "execution_count": 78,
   "metadata": {},
   "outputs": [
    {
     "name": "stdout",
     "output_type": "stream",
     "text": [
      "10567043.47826087\n"
     ]
    }
   ],
   "source": [
    "#Rice\n",
    "rice_mean = np.mean(rice_array)\n",
    "print(rice_mean)"
   ]
  },
  {
   "cell_type": "code",
   "execution_count": 79,
   "metadata": {},
   "outputs": [
    {
     "name": "stdout",
     "output_type": "stream",
     "text": [
      "3905.0\n"
     ]
    }
   ],
   "source": [
    "#Bajra\n",
    "bajra_mean = np.mean(bajra_array)\n",
    "print(bajra_mean)"
   ]
  },
  {
   "cell_type": "markdown",
   "metadata": {},
   "source": [
    "Even though Punjab it is a leadeing rice-growing state, it is evident from the mean values that the production of wheat is higher. To check this, lets use np.sum() just to verify."
   ]
  },
  {
   "cell_type": "code",
   "execution_count": 80,
   "metadata": {},
   "outputs": [
    {
     "name": "stdout",
     "output_type": "stream",
     "text": [
      "243042000\n",
      "364370000\n"
     ]
    }
   ],
   "source": [
    "rice_sum = np.sum(rice_array)\n",
    "wheat_sum = np.sum(wheat_array)\n",
    "print(rice_sum)\n",
    "print(wheat_sum)\n"
   ]
  },
  {
   "cell_type": "code",
   "execution_count": 81,
   "metadata": {},
   "outputs": [
    {
     "name": "stdout",
     "output_type": "stream",
     "text": [
      "121328000\n"
     ]
    }
   ],
   "source": [
    "difference = wheat_sum - rice_sum\n",
    "print(difference)"
   ]
  },
  {
   "cell_type": "markdown",
   "metadata": {},
   "source": [
    "It is clear that the tonnes of wheat produced in the state since 1997, with 121328000 more tonnes of wheat produced over rice over this time period. "
   ]
  },
  {
   "cell_type": "markdown",
   "metadata": {},
   "source": [
    "### Minimum and maximum values"
   ]
  },
  {
   "cell_type": "code",
   "execution_count": 82,
   "metadata": {},
   "outputs": [],
   "source": [
    "##Minimum and maxmimum amount of rice produced since 1997 "
   ]
  },
  {
   "cell_type": "code",
   "execution_count": 83,
   "metadata": {},
   "outputs": [
    {
     "name": "stdout",
     "output_type": "stream",
     "text": [
      "7904000\n"
     ]
    }
   ],
   "source": [
    "rice_min = np.amin(rice_array)\n",
    "print(rice_min)"
   ]
  },
  {
   "cell_type": "code",
   "execution_count": 84,
   "metadata": {},
   "outputs": [
    {
     "name": "stdout",
     "output_type": "stream",
     "text": [
      "13382000\n"
     ]
    }
   ],
   "source": [
    "rice_max = np.amax(rice_array)\n",
    "print(rice_max)"
   ]
  },
  {
   "cell_type": "code",
   "execution_count": 85,
   "metadata": {},
   "outputs": [
    {
     "name": "stdout",
     "output_type": "stream",
     "text": [
      "5478000\n"
     ]
    }
   ],
   "source": [
    "difference_rice = rice_max - rice_min\n",
    "print(difference_rice)"
   ]
  },
  {
   "cell_type": "markdown",
   "metadata": {},
   "source": [
    "Rice production in Punjab fluctuates, as the difference between max and min production values is a large 5478000. "
   ]
  },
  {
   "cell_type": "code",
   "execution_count": 86,
   "metadata": {},
   "outputs": [
    {
     "data": {
      "text/plain": [
       "51.840422642999975"
      ]
     },
     "execution_count": 86,
     "metadata": {},
     "output_type": "execute_result"
    }
   ],
   "source": [
    "(difference_rice/rice_mean)*100"
   ]
  },
  {
   "cell_type": "markdown",
   "metadata": {},
   "source": [
    "This value is more than half of the value of the mean value of production. "
   ]
  },
  {
   "cell_type": "markdown",
   "metadata": {},
   "source": [
    "For wheat, the same calculations:"
   ]
  },
  {
   "cell_type": "code",
   "execution_count": 87,
   "metadata": {},
   "outputs": [
    {
     "name": "stdout",
     "output_type": "stream",
     "text": [
      "12715000\n",
      "18262000\n",
      "5547000\n"
     ]
    },
    {
     "data": {
      "text/plain": [
       "35.0141339846859"
      ]
     },
     "execution_count": 87,
     "metadata": {},
     "output_type": "execute_result"
    }
   ],
   "source": [
    "wheat_min = np.amin(wheat_array)\n",
    "print(wheat_min)\n",
    "wheat_max = np.amax(wheat_array)\n",
    "print(wheat_max)\n",
    "difference_wheat = wheat_max - wheat_min\n",
    "print(difference_wheat)\n",
    "(difference_wheat/wheat_mean)*100"
   ]
  },
  {
   "cell_type": "markdown",
   "metadata": {},
   "source": [
    "It seems like wheat follows a similar pattern, but its production seems to fluctuate less than that of rice. "
   ]
  },
  {
   "cell_type": "markdown",
   "metadata": {},
   "source": [
    "For bajra, the same calculations:"
   ]
  },
  {
   "cell_type": "code",
   "execution_count": 88,
   "metadata": {},
   "outputs": [
    {
     "name": "stdout",
     "output_type": "stream",
     "text": [
      "300\n",
      "8000\n",
      "7700\n"
     ]
    },
    {
     "data": {
      "text/plain": [
       "197.1830985915493"
      ]
     },
     "execution_count": 88,
     "metadata": {},
     "output_type": "execute_result"
    }
   ],
   "source": [
    "bajra_min = np.amin(bajra_array)\n",
    "print(bajra_min)\n",
    "bajra_max = np.amax(bajra_array)\n",
    "print(bajra_max)\n",
    "difference_bajra = bajra_max - bajra_min\n",
    "print(difference_bajra)\n",
    "(difference_bajra/bajra_mean)*100"
   ]
  },
  {
   "cell_type": "markdown",
   "metadata": {},
   "source": [
    "Here, it seems like the production of bajra in the state has fluctuated immensely over the years. Lets plot the production of the three crops over the same time period in one line graph, using matplotlib. "
   ]
  },
  {
   "cell_type": "markdown",
   "metadata": {},
   "source": [
    "### Crop production of rice and wheat over the years "
   ]
  },
  {
   "cell_type": "code",
   "execution_count": 89,
   "metadata": {},
   "outputs": [],
   "source": [
    "from matplotlib import pyplot as plt"
   ]
  },
  {
   "cell_type": "code",
   "execution_count": 90,
   "metadata": {},
   "outputs": [
    {
     "data": {
      "image/png": "[encoded data removed]",
      "text/plain": [
       "<Figure size 432x288 with 1 Axes>"
      ]
     },
     "metadata": {
      "needs_background": "light"
     },
     "output_type": "display_data"
    }
   ],
   "source": [
    "plt.plot(years_list, rice_array)\n",
    "plt.plot(years_list, wheat_array)\n",
    "plt.legend([\"Rice\", \"Wheat\"])\n",
    "plt.xlabel('Years')\n",
    "plt.ylabel('Production in metric tonnes')\n",
    "plt.title('Rice and wheat production in Punjab over the years')\n",
    "plt.show()"
   ]
  },
  {
   "cell_type": "markdown",
   "metadata": {},
   "source": [
    "The production of wheat and rice in Punjab, which seems to peak between 2015-2020, has been declining over the past few years.  "
   ]
  },
  {
   "cell_type": "markdown",
   "metadata": {},
   "source": [
    "The rise in the past 10 years or so in the production of rice can be linked to the higher levels of stubble burning also, though not directly so. This is because [as per this article]('https://www.hindustantimes.com/india-news/why-stubble-burning-in-haryana-and-punjab-has-intensified-in-last-10-years/story-cZG40Ey3gHIZKbtS7LjpRN.html') higher levels of farm mechanizations and increase in landholdings, especially under paddy, has led to the rise of stubble burning. This has had serious consequences on the air pollution levels east of Punjab, an effect clearly seen in Delhi NCR. Even so, this year, Punjab recorded the highest levels of stubble burning, [as per this article]('https://theprint.in/agriculture/no-other-option-as-its-fields-turn-black-skies-smoky-why-punjab-wont-stop-burning-stubble/1194030/'), and the factors of increasing pollution can be said to be indirectly linked to higher levels of production of paddy crops. "
   ]
  },
  {
   "cell_type": "markdown",
   "metadata": {},
   "source": [
    "## Exploring the trends of other crops in Punjab"
   ]
  },
  {
   "cell_type": "code",
   "execution_count": 91,
   "metadata": {},
   "outputs": [
    {
     "data": {
      "text/html": [
       "<div>\n",
       "<style scoped>\n",
       "    .dataframe tbody tr th:only-of-type {\n",
       "        vertical-align: middle;\n",
       "    }\n",
       "\n",
       "    .dataframe tbody tr th {\n",
       "        vertical-align: top;\n",
       "    }\n",
       "\n",
       "    .dataframe thead th {\n",
       "        text-align: right;\n",
       "    }\n",
       "</style>\n",
       "<table border=\"1\" class=\"dataframe\">\n",
       "  <thead>\n",
       "    <tr style=\"text-align: right;\">\n",
       "      <th></th>\n",
       "      <th>State</th>\n",
       "      <th>Crop</th>\n",
       "      <th>Year</th>\n",
       "      <th>Season</th>\n",
       "      <th>Production</th>\n",
       "    </tr>\n",
       "  </thead>\n",
       "  <tbody>\n",
       "    <tr>\n",
       "      <th>0</th>\n",
       "      <td>Andaman and Nicobar Islands</td>\n",
       "      <td>Arecanut</td>\n",
       "      <td>2000</td>\n",
       "      <td>Kharif</td>\n",
       "      <td>7200.00</td>\n",
       "    </tr>\n",
       "    <tr>\n",
       "      <th>1</th>\n",
       "      <td>Andaman and Nicobar Islands</td>\n",
       "      <td>Arecanut</td>\n",
       "      <td>2001</td>\n",
       "      <td>Kharif</td>\n",
       "      <td>7300.00</td>\n",
       "    </tr>\n",
       "    <tr>\n",
       "      <th>2</th>\n",
       "      <td>Andaman and Nicobar Islands</td>\n",
       "      <td>Arecanut</td>\n",
       "      <td>2002</td>\n",
       "      <td>Whole Year</td>\n",
       "      <td>7350.00</td>\n",
       "    </tr>\n",
       "    <tr>\n",
       "      <th>3</th>\n",
       "      <td>Andaman and Nicobar Islands</td>\n",
       "      <td>Arecanut</td>\n",
       "      <td>2003</td>\n",
       "      <td>Whole Year</td>\n",
       "      <td>6707.00</td>\n",
       "    </tr>\n",
       "    <tr>\n",
       "      <th>4</th>\n",
       "      <td>Andaman and Nicobar Islands</td>\n",
       "      <td>Arecanut</td>\n",
       "      <td>2004</td>\n",
       "      <td>Whole Year</td>\n",
       "      <td>4781.05</td>\n",
       "    </tr>\n",
       "    <tr>\n",
       "      <th>5</th>\n",
       "      <td>Andaman and Nicobar Islands</td>\n",
       "      <td>Arecanut</td>\n",
       "      <td>2005</td>\n",
       "      <td>Whole Year</td>\n",
       "      <td>3058.46</td>\n",
       "    </tr>\n",
       "    <tr>\n",
       "      <th>6</th>\n",
       "      <td>Andaman and Nicobar Islands</td>\n",
       "      <td>Arecanut</td>\n",
       "      <td>2006</td>\n",
       "      <td>Whole Year</td>\n",
       "      <td>5839.30</td>\n",
       "    </tr>\n",
       "    <tr>\n",
       "      <th>7</th>\n",
       "      <td>Andaman and Nicobar Islands</td>\n",
       "      <td>Arecanut</td>\n",
       "      <td>2007</td>\n",
       "      <td>Kharif</td>\n",
       "      <td>3415.44</td>\n",
       "    </tr>\n",
       "    <tr>\n",
       "      <th>8</th>\n",
       "      <td>Andaman and Nicobar Islands</td>\n",
       "      <td>Arecanut</td>\n",
       "      <td>2007</td>\n",
       "      <td>Rabi</td>\n",
       "      <td>2276.96</td>\n",
       "    </tr>\n",
       "    <tr>\n",
       "      <th>9</th>\n",
       "      <td>Andaman and Nicobar Islands</td>\n",
       "      <td>Arecanut</td>\n",
       "      <td>2008</td>\n",
       "      <td>Autumn</td>\n",
       "      <td>3060.00</td>\n",
       "    </tr>\n",
       "  </tbody>\n",
       "</table>\n",
       "</div>"
      ],
      "text/plain": [
       "                         State      Crop  Year      Season  Production\n",
       "0  Andaman and Nicobar Islands  Arecanut  2000      Kharif     7200.00\n",
       "1  Andaman and Nicobar Islands  Arecanut  2001      Kharif     7300.00\n",
       "2  Andaman and Nicobar Islands  Arecanut  2002  Whole Year     7350.00\n",
       "3  Andaman and Nicobar Islands  Arecanut  2003  Whole Year     6707.00\n",
       "4  Andaman and Nicobar Islands  Arecanut  2004  Whole Year     4781.05\n",
       "5  Andaman and Nicobar Islands  Arecanut  2005  Whole Year     3058.46\n",
       "6  Andaman and Nicobar Islands  Arecanut  2006  Whole Year     5839.30\n",
       "7  Andaman and Nicobar Islands  Arecanut  2007      Kharif     3415.44\n",
       "8  Andaman and Nicobar Islands  Arecanut  2007        Rabi     2276.96\n",
       "9  Andaman and Nicobar Islands  Arecanut  2008      Autumn     3060.00"
      ]
     },
     "execution_count": 91,
     "metadata": {},
     "output_type": "execute_result"
    }
   ],
   "source": [
    "production_all.head(10)\n"
   ]
  },
  {
   "cell_type": "code",
   "execution_count": 92,
   "metadata": {},
   "outputs": [
    {
     "data": {
      "text/html": [
       "<div>\n",
       "<style scoped>\n",
       "    .dataframe tbody tr th:only-of-type {\n",
       "        vertical-align: middle;\n",
       "    }\n",
       "\n",
       "    .dataframe tbody tr th {\n",
       "        vertical-align: top;\n",
       "    }\n",
       "\n",
       "    .dataframe thead th {\n",
       "        text-align: right;\n",
       "    }\n",
       "</style>\n",
       "<table border=\"1\" class=\"dataframe\">\n",
       "  <thead>\n",
       "    <tr style=\"text-align: right;\">\n",
       "      <th></th>\n",
       "      <th>State</th>\n",
       "      <th>District</th>\n",
       "      <th>Crop</th>\n",
       "      <th>Year</th>\n",
       "      <th>Season</th>\n",
       "      <th>Area</th>\n",
       "      <th>Area Units</th>\n",
       "      <th>Production</th>\n",
       "      <th>Production Units</th>\n",
       "      <th>Yield</th>\n",
       "    </tr>\n",
       "  </thead>\n",
       "  <tbody>\n",
       "    <tr>\n",
       "      <th>0</th>\n",
       "      <td>Punjab</td>\n",
       "      <td>AMRITSAR</td>\n",
       "      <td>Arhar/Tur</td>\n",
       "      <td>2001</td>\n",
       "      <td>Kharif</td>\n",
       "      <td>1400.0</td>\n",
       "      <td>Hectare</td>\n",
       "      <td>1100.0</td>\n",
       "      <td>Tonnes</td>\n",
       "      <td>0.785714</td>\n",
       "    </tr>\n",
       "    <tr>\n",
       "      <th>1</th>\n",
       "      <td>Punjab</td>\n",
       "      <td>AMRITSAR</td>\n",
       "      <td>Arhar/Tur</td>\n",
       "      <td>2002</td>\n",
       "      <td>Kharif</td>\n",
       "      <td>1200.0</td>\n",
       "      <td>Hectare</td>\n",
       "      <td>1000.0</td>\n",
       "      <td>Tonnes</td>\n",
       "      <td>0.833333</td>\n",
       "    </tr>\n",
       "    <tr>\n",
       "      <th>2</th>\n",
       "      <td>Punjab</td>\n",
       "      <td>AMRITSAR</td>\n",
       "      <td>Arhar/Tur</td>\n",
       "      <td>2003</td>\n",
       "      <td>Kharif</td>\n",
       "      <td>1500.0</td>\n",
       "      <td>Hectare</td>\n",
       "      <td>1400.0</td>\n",
       "      <td>Tonnes</td>\n",
       "      <td>0.933333</td>\n",
       "    </tr>\n",
       "    <tr>\n",
       "      <th>3</th>\n",
       "      <td>Punjab</td>\n",
       "      <td>BATHINDA</td>\n",
       "      <td>Arhar/Tur</td>\n",
       "      <td>2003</td>\n",
       "      <td>Kharif</td>\n",
       "      <td>100.0</td>\n",
       "      <td>Hectare</td>\n",
       "      <td>100.0</td>\n",
       "      <td>Tonnes</td>\n",
       "      <td>1.000000</td>\n",
       "    </tr>\n",
       "    <tr>\n",
       "      <th>4</th>\n",
       "      <td>Punjab</td>\n",
       "      <td>FARIDKOT</td>\n",
       "      <td>Arhar/Tur</td>\n",
       "      <td>2001</td>\n",
       "      <td>Kharif</td>\n",
       "      <td>100.0</td>\n",
       "      <td>Hectare</td>\n",
       "      <td>100.0</td>\n",
       "      <td>Tonnes</td>\n",
       "      <td>1.000000</td>\n",
       "    </tr>\n",
       "    <tr>\n",
       "      <th>5</th>\n",
       "      <td>Punjab</td>\n",
       "      <td>FARIDKOT</td>\n",
       "      <td>Arhar/Tur</td>\n",
       "      <td>2003</td>\n",
       "      <td>Kharif</td>\n",
       "      <td>300.0</td>\n",
       "      <td>Hectare</td>\n",
       "      <td>300.0</td>\n",
       "      <td>Tonnes</td>\n",
       "      <td>1.000000</td>\n",
       "    </tr>\n",
       "    <tr>\n",
       "      <th>6</th>\n",
       "      <td>Punjab</td>\n",
       "      <td>FATEHGARH SAHIB</td>\n",
       "      <td>Arhar/Tur</td>\n",
       "      <td>2001</td>\n",
       "      <td>Kharif</td>\n",
       "      <td>300.0</td>\n",
       "      <td>Hectare</td>\n",
       "      <td>400.0</td>\n",
       "      <td>Tonnes</td>\n",
       "      <td>1.333333</td>\n",
       "    </tr>\n",
       "    <tr>\n",
       "      <th>7</th>\n",
       "      <td>Punjab</td>\n",
       "      <td>FATEHGARH SAHIB</td>\n",
       "      <td>Arhar/Tur</td>\n",
       "      <td>2002</td>\n",
       "      <td>Kharif</td>\n",
       "      <td>200.0</td>\n",
       "      <td>Hectare</td>\n",
       "      <td>200.0</td>\n",
       "      <td>Tonnes</td>\n",
       "      <td>1.000000</td>\n",
       "    </tr>\n",
       "    <tr>\n",
       "      <th>8</th>\n",
       "      <td>Punjab</td>\n",
       "      <td>FATEHGARH SAHIB</td>\n",
       "      <td>Arhar/Tur</td>\n",
       "      <td>2003</td>\n",
       "      <td>Kharif</td>\n",
       "      <td>200.0</td>\n",
       "      <td>Hectare</td>\n",
       "      <td>200.0</td>\n",
       "      <td>Tonnes</td>\n",
       "      <td>1.000000</td>\n",
       "    </tr>\n",
       "    <tr>\n",
       "      <th>9</th>\n",
       "      <td>Punjab</td>\n",
       "      <td>FIROZEPUR</td>\n",
       "      <td>Arhar/Tur</td>\n",
       "      <td>2001</td>\n",
       "      <td>Kharif</td>\n",
       "      <td>200.0</td>\n",
       "      <td>Hectare</td>\n",
       "      <td>200.0</td>\n",
       "      <td>Tonnes</td>\n",
       "      <td>1.000000</td>\n",
       "    </tr>\n",
       "  </tbody>\n",
       "</table>\n",
       "</div>"
      ],
      "text/plain": [
       "    State         District       Crop  Year  Season    Area Area Units  \\\n",
       "0  Punjab         AMRITSAR  Arhar/Tur  2001  Kharif  1400.0    Hectare   \n",
       "1  Punjab         AMRITSAR  Arhar/Tur  2002  Kharif  1200.0    Hectare   \n",
       "2  Punjab         AMRITSAR  Arhar/Tur  2003  Kharif  1500.0    Hectare   \n",
       "3  Punjab         BATHINDA  Arhar/Tur  2003  Kharif   100.0    Hectare   \n",
       "4  Punjab         FARIDKOT  Arhar/Tur  2001  Kharif   100.0    Hectare   \n",
       "5  Punjab         FARIDKOT  Arhar/Tur  2003  Kharif   300.0    Hectare   \n",
       "6  Punjab  FATEHGARH SAHIB  Arhar/Tur  2001  Kharif   300.0    Hectare   \n",
       "7  Punjab  FATEHGARH SAHIB  Arhar/Tur  2002  Kharif   200.0    Hectare   \n",
       "8  Punjab  FATEHGARH SAHIB  Arhar/Tur  2003  Kharif   200.0    Hectare   \n",
       "9  Punjab        FIROZEPUR  Arhar/Tur  2001  Kharif   200.0    Hectare   \n",
       "\n",
       "   Production Production Units     Yield  \n",
       "0      1100.0           Tonnes  0.785714  \n",
       "1      1000.0           Tonnes  0.833333  \n",
       "2      1400.0           Tonnes  0.933333  \n",
       "3       100.0           Tonnes  1.000000  \n",
       "4       100.0           Tonnes  1.000000  \n",
       "5       300.0           Tonnes  1.000000  \n",
       "6       400.0           Tonnes  1.333333  \n",
       "7       200.0           Tonnes  1.000000  \n",
       "8       200.0           Tonnes  1.000000  \n",
       "9       200.0           Tonnes  1.000000  "
      ]
     },
     "execution_count": 92,
     "metadata": {},
     "output_type": "execute_result"
    }
   ],
   "source": [
    "pj  = df.loc[(df['State'] == 'Punjab')].reset_index(drop=True)\n",
    "pj.head(10)"
   ]
  },
  {
   "cell_type": "code",
   "execution_count": 93,
   "metadata": {},
   "outputs": [
    {
     "data": {
      "text/html": [
       "<div>\n",
       "<style scoped>\n",
       "    .dataframe tbody tr th:only-of-type {\n",
       "        vertical-align: middle;\n",
       "    }\n",
       "\n",
       "    .dataframe tbody tr th {\n",
       "        vertical-align: top;\n",
       "    }\n",
       "\n",
       "    .dataframe thead th {\n",
       "        text-align: right;\n",
       "    }\n",
       "</style>\n",
       "<table border=\"1\" class=\"dataframe\">\n",
       "  <thead>\n",
       "    <tr style=\"text-align: right;\">\n",
       "      <th></th>\n",
       "      <th>Crop</th>\n",
       "      <th>Year</th>\n",
       "      <th>Production</th>\n",
       "    </tr>\n",
       "  </thead>\n",
       "  <tbody>\n",
       "    <tr>\n",
       "      <th>0</th>\n",
       "      <td>Arhar/Tur</td>\n",
       "      <td>1997</td>\n",
       "      <td>8200.0</td>\n",
       "    </tr>\n",
       "    <tr>\n",
       "      <th>1</th>\n",
       "      <td>Arhar/Tur</td>\n",
       "      <td>1998</td>\n",
       "      <td>5400.0</td>\n",
       "    </tr>\n",
       "    <tr>\n",
       "      <th>2</th>\n",
       "      <td>Arhar/Tur</td>\n",
       "      <td>1999</td>\n",
       "      <td>7200.0</td>\n",
       "    </tr>\n",
       "    <tr>\n",
       "      <th>3</th>\n",
       "      <td>Arhar/Tur</td>\n",
       "      <td>2000</td>\n",
       "      <td>7600.0</td>\n",
       "    </tr>\n",
       "    <tr>\n",
       "      <th>4</th>\n",
       "      <td>Arhar/Tur</td>\n",
       "      <td>2001</td>\n",
       "      <td>7900.0</td>\n",
       "    </tr>\n",
       "    <tr>\n",
       "      <th>5</th>\n",
       "      <td>Arhar/Tur</td>\n",
       "      <td>2002</td>\n",
       "      <td>6700.0</td>\n",
       "    </tr>\n",
       "    <tr>\n",
       "      <th>6</th>\n",
       "      <td>Arhar/Tur</td>\n",
       "      <td>2003</td>\n",
       "      <td>9000.0</td>\n",
       "    </tr>\n",
       "    <tr>\n",
       "      <th>7</th>\n",
       "      <td>Arhar/Tur</td>\n",
       "      <td>2004</td>\n",
       "      <td>7700.0</td>\n",
       "    </tr>\n",
       "    <tr>\n",
       "      <th>8</th>\n",
       "      <td>Arhar/Tur</td>\n",
       "      <td>2005</td>\n",
       "      <td>6900.0</td>\n",
       "    </tr>\n",
       "    <tr>\n",
       "      <th>9</th>\n",
       "      <td>Arhar/Tur</td>\n",
       "      <td>2006</td>\n",
       "      <td>6700.0</td>\n",
       "    </tr>\n",
       "  </tbody>\n",
       "</table>\n",
       "</div>"
      ],
      "text/plain": [
       "        Crop  Year  Production\n",
       "0  Arhar/Tur  1997      8200.0\n",
       "1  Arhar/Tur  1998      5400.0\n",
       "2  Arhar/Tur  1999      7200.0\n",
       "3  Arhar/Tur  2000      7600.0\n",
       "4  Arhar/Tur  2001      7900.0\n",
       "5  Arhar/Tur  2002      6700.0\n",
       "6  Arhar/Tur  2003      9000.0\n",
       "7  Arhar/Tur  2004      7700.0\n",
       "8  Arhar/Tur  2005      6900.0\n",
       "9  Arhar/Tur  2006      6700.0"
      ]
     },
     "execution_count": 93,
     "metadata": {},
     "output_type": "execute_result"
    }
   ],
   "source": [
    "##production_all = df.groupby(['State', 'Crop', 'Year', 'Season']).sum()[['Production']].reset_index()\n",
    "\n",
    "pj_production = pj.groupby(['Crop', 'Year']).sum()[['Production']].reset_index()\n",
    "pj_production.head(10)"
   ]
  },
  {
   "cell_type": "code",
   "execution_count": 94,
   "metadata": {},
   "outputs": [
    {
     "data": {
      "text/plain": [
       "array(['Arhar/Tur', 'Bajra', 'Barley', 'Cotton(lint)', 'Gram',\n",
       "       'Groundnut', 'Guar seed', 'Jowar', 'Linseed', 'Maize', 'Masoor',\n",
       "       'Moong(Green Gram)', 'Moth', 'Other Rabi pulses',\n",
       "       'Peas & beans (Pulses)', 'Rapeseed &Mustard', 'Rice', 'Sesamum',\n",
       "       'Sugarcane', 'Sunflower', 'Urad', 'Wheat', 'other oilseeds'],\n",
       "      dtype=object)"
      ]
     },
     "execution_count": 94,
     "metadata": {},
     "output_type": "execute_result"
    }
   ],
   "source": [
    "pj_production.Crop.unique()"
   ]
  },
  {
   "cell_type": "markdown",
   "metadata": {},
   "source": [
    "### Plotting the line graphs of crops v production over the years "
   ]
  },
  {
   "cell_type": "code",
   "execution_count": 95,
   "metadata": {},
   "outputs": [
    {
     "data": {
      "text/html": [
       "<div>\n",
       "<style scoped>\n",
       "    .dataframe tbody tr th:only-of-type {\n",
       "        vertical-align: middle;\n",
       "    }\n",
       "\n",
       "    .dataframe tbody tr th {\n",
       "        vertical-align: top;\n",
       "    }\n",
       "\n",
       "    .dataframe thead th {\n",
       "        text-align: right;\n",
       "    }\n",
       "</style>\n",
       "<table border=\"1\" class=\"dataframe\">\n",
       "  <thead>\n",
       "    <tr style=\"text-align: right;\">\n",
       "      <th></th>\n",
       "      <th>Crop</th>\n",
       "      <th>Year</th>\n",
       "      <th>Production</th>\n",
       "    </tr>\n",
       "  </thead>\n",
       "  <tbody>\n",
       "    <tr>\n",
       "      <th>0</th>\n",
       "      <td>Arhar/Tur</td>\n",
       "      <td>1997</td>\n",
       "      <td>8200.0</td>\n",
       "    </tr>\n",
       "    <tr>\n",
       "      <th>1</th>\n",
       "      <td>Arhar/Tur</td>\n",
       "      <td>1998</td>\n",
       "      <td>5400.0</td>\n",
       "    </tr>\n",
       "    <tr>\n",
       "      <th>2</th>\n",
       "      <td>Arhar/Tur</td>\n",
       "      <td>1999</td>\n",
       "      <td>7200.0</td>\n",
       "    </tr>\n",
       "    <tr>\n",
       "      <th>3</th>\n",
       "      <td>Arhar/Tur</td>\n",
       "      <td>2000</td>\n",
       "      <td>7600.0</td>\n",
       "    </tr>\n",
       "    <tr>\n",
       "      <th>4</th>\n",
       "      <td>Arhar/Tur</td>\n",
       "      <td>2001</td>\n",
       "      <td>7900.0</td>\n",
       "    </tr>\n",
       "  </tbody>\n",
       "</table>\n",
       "</div>"
      ],
      "text/plain": [
       "        Crop  Year  Production\n",
       "0  Arhar/Tur  1997      8200.0\n",
       "1  Arhar/Tur  1998      5400.0\n",
       "2  Arhar/Tur  1999      7200.0\n",
       "3  Arhar/Tur  2000      7600.0\n",
       "4  Arhar/Tur  2001      7900.0"
      ]
     },
     "execution_count": 95,
     "metadata": {},
     "output_type": "execute_result"
    }
   ],
   "source": [
    "##Arhar/Tur\n",
    "artur = pj_production[pj_production['Crop'] == 'Arhar/Tur']\n",
    "artur.head(5)\n"
   ]
  },
  {
   "cell_type": "code",
   "execution_count": 96,
   "metadata": {},
   "outputs": [
    {
     "data": {
      "application/vnd.vegalite.v4+json": {
       "$schema": "https://vega.github.io/schema/vega-lite/v4.17.0.json",
       "config": {
        "view": {
         "continuousHeight": 300,
         "continuousWidth": 400
        }
       },
       "data": {
        "name": "data-9da3494781bde1592de0a241c1d4c80f"
       },
       "datasets": {
        "data-9da3494781bde1592de0a241c1d4c80f": [
         {
          "Crop": "Arhar/Tur",
          "Production": 8200,
          "Year": 1997
         },
         {
          "Crop": "Arhar/Tur",
          "Production": 5400,
          "Year": 1998
         },
         {
          "Crop": "Arhar/Tur",
          "Production": 7200,
          "Year": 1999
         },
         {
          "Crop": "Arhar/Tur",
          "Production": 7600,
          "Year": 2000
         },
         {
          "Crop": "Arhar/Tur",
          "Production": 7900,
          "Year": 2001
         },
         {
          "Crop": "Arhar/Tur",
          "Production": 6700,
          "Year": 2002
         },
         {
          "Crop": "Arhar/Tur",
          "Production": 9000,
          "Year": 2003
         },
         {
          "Crop": "Arhar/Tur",
          "Production": 7700,
          "Year": 2004
         },
         {
          "Crop": "Arhar/Tur",
          "Production": 6900,
          "Year": 2005
         },
         {
          "Crop": "Arhar/Tur",
          "Production": 6700,
          "Year": 2006
         },
         {
          "Crop": "Arhar/Tur",
          "Production": 5400,
          "Year": 2007
         },
         {
          "Crop": "Arhar/Tur",
          "Production": 5700,
          "Year": 2008
         },
         {
          "Crop": "Arhar/Tur",
          "Production": 4400,
          "Year": 2009
         },
         {
          "Crop": "Arhar/Tur",
          "Production": 3900,
          "Year": 2010
         },
         {
          "Crop": "Arhar/Tur",
          "Production": 2700,
          "Year": 2011
         },
         {
          "Crop": "Arhar/Tur",
          "Production": 2900,
          "Year": 2012
         },
         {
          "Crop": "Arhar/Tur",
          "Production": 2600,
          "Year": 2013
         },
         {
          "Crop": "Arhar/Tur",
          "Production": 2390,
          "Year": 2014
         },
         {
          "Crop": "Arhar/Tur",
          "Production": 2630,
          "Year": 2015
         },
         {
          "Crop": "Arhar/Tur",
          "Production": 4900,
          "Year": 2016
         },
         {
          "Crop": "Arhar/Tur",
          "Production": 2700,
          "Year": 2017
         },
         {
          "Crop": "Arhar/Tur",
          "Production": 2400,
          "Year": 2018
         },
         {
          "Crop": "Arhar/Tur",
          "Production": 2200,
          "Year": 2019
         }
        ]
       },
       "encoding": {
        "x": {
         "field": "Year",
         "type": "quantitative"
        },
        "y": {
         "field": "Production",
         "type": "quantitative"
        }
       },
       "mark": "line",
       "title": "Arhar/Tur production in Punjab from 1997-2020"
      },
      "text/plain": [
       "<VegaLite 4 object>\n",
       "\n",
       "If you see this message, it means the renderer has not been properly enabled\n",
       "for the frontend that you are using. For more information, see\n",
       "https://altair-viz.github.io/user_guide/troubleshooting.html\n"
      ]
     },
     "execution_count": 96,
     "metadata": {},
     "output_type": "execute_result"
    }
   ],
   "source": [
    "alt.Chart(artur).mark_line().encode(\n",
    "    x='Year',\n",
    "    y=('Production')\n",
    ").properties(\n",
    "    title='Arhar/Tur production in Punjab from 1997-2020')"
   ]
  },
  {
   "cell_type": "markdown",
   "metadata": {},
   "source": [
    "![](arhartur.png)"
   ]
  },
  {
   "cell_type": "markdown",
   "metadata": {},
   "source": [
    "There has been a massive decline in arhar/tur crop. This is also called pigeon peas and is a legume. "
   ]
  },
  {
   "cell_type": "code",
   "execution_count": 97,
   "metadata": {},
   "outputs": [
    {
     "data": {
      "text/html": [
       "<div>\n",
       "<style scoped>\n",
       "    .dataframe tbody tr th:only-of-type {\n",
       "        vertical-align: middle;\n",
       "    }\n",
       "\n",
       "    .dataframe tbody tr th {\n",
       "        vertical-align: top;\n",
       "    }\n",
       "\n",
       "    .dataframe thead th {\n",
       "        text-align: right;\n",
       "    }\n",
       "</style>\n",
       "<table border=\"1\" class=\"dataframe\">\n",
       "  <thead>\n",
       "    <tr style=\"text-align: right;\">\n",
       "      <th></th>\n",
       "      <th>Crop</th>\n",
       "      <th>Year</th>\n",
       "      <th>Production</th>\n",
       "    </tr>\n",
       "  </thead>\n",
       "  <tbody>\n",
       "    <tr>\n",
       "      <th>43</th>\n",
       "      <td>Barley</td>\n",
       "      <td>1997</td>\n",
       "      <td>111000.0</td>\n",
       "    </tr>\n",
       "    <tr>\n",
       "      <th>44</th>\n",
       "      <td>Barley</td>\n",
       "      <td>1998</td>\n",
       "      <td>100000.0</td>\n",
       "    </tr>\n",
       "    <tr>\n",
       "      <th>45</th>\n",
       "      <td>Barley</td>\n",
       "      <td>1999</td>\n",
       "      <td>106000.0</td>\n",
       "    </tr>\n",
       "    <tr>\n",
       "      <th>46</th>\n",
       "      <td>Barley</td>\n",
       "      <td>2000</td>\n",
       "      <td>109000.0</td>\n",
       "    </tr>\n",
       "    <tr>\n",
       "      <th>47</th>\n",
       "      <td>Barley</td>\n",
       "      <td>2001</td>\n",
       "      <td>78000.0</td>\n",
       "    </tr>\n",
       "  </tbody>\n",
       "</table>\n",
       "</div>"
      ],
      "text/plain": [
       "      Crop  Year  Production\n",
       "43  Barley  1997    111000.0\n",
       "44  Barley  1998    100000.0\n",
       "45  Barley  1999    106000.0\n",
       "46  Barley  2000    109000.0\n",
       "47  Barley  2001     78000.0"
      ]
     },
     "execution_count": 97,
     "metadata": {},
     "output_type": "execute_result"
    }
   ],
   "source": [
    "##Barley\n",
    "barley = pj_production[pj_production['Crop'] == 'Barley']\n",
    "barley.head(5)"
   ]
  },
  {
   "cell_type": "code",
   "execution_count": 98,
   "metadata": {},
   "outputs": [
    {
     "data": {
      "application/vnd.vegalite.v4+json": {
       "$schema": "https://vega.github.io/schema/vega-lite/v4.17.0.json",
       "config": {
        "view": {
         "continuousHeight": 300,
         "continuousWidth": 400
        }
       },
       "data": {
        "name": "data-acd11dc425294b0ff997f8ec144272d8"
       },
       "datasets": {
        "data-acd11dc425294b0ff997f8ec144272d8": [
         {
          "Crop": "Barley",
          "Production": 111000,
          "Year": 1997
         },
         {
          "Crop": "Barley",
          "Production": 100000,
          "Year": 1998
         },
         {
          "Crop": "Barley",
          "Production": 106000,
          "Year": 1999
         },
         {
          "Crop": "Barley",
          "Production": 109000,
          "Year": 2000
         },
         {
          "Crop": "Barley",
          "Production": 78000,
          "Year": 2001
         },
         {
          "Crop": "Barley",
          "Production": 85000,
          "Year": 2002
         },
         {
          "Crop": "Barley",
          "Production": 77000,
          "Year": 2003
         },
         {
          "Crop": "Barley",
          "Production": 74000,
          "Year": 2004
         },
         {
          "Crop": "Barley",
          "Production": 63000,
          "Year": 2005
         },
         {
          "Crop": "Barley",
          "Production": 64000,
          "Year": 2006
         },
         {
          "Crop": "Barley",
          "Production": 57000,
          "Year": 2007
         },
         {
          "Crop": "Barley",
          "Production": 55000,
          "Year": 2008
         },
         {
          "Crop": "Barley",
          "Production": 47000,
          "Year": 2009
         },
         {
          "Crop": "Barley",
          "Production": 44000,
          "Year": 2010
         },
         {
          "Crop": "Barley",
          "Production": 47000,
          "Year": 2011
         },
         {
          "Crop": "Barley",
          "Production": 47000,
          "Year": 2012
         },
         {
          "Crop": "Barley",
          "Production": 46000,
          "Year": 2013
         },
         {
          "Crop": "Barley",
          "Production": 39400,
          "Year": 2014
         },
         {
          "Crop": "Barley",
          "Production": 33300,
          "Year": 2015
         },
         {
          "Crop": "Barley",
          "Production": 31500,
          "Year": 2016
         },
         {
          "Crop": "Barley",
          "Production": 29900,
          "Year": 2017
         },
         {
          "Crop": "Barley",
          "Production": 25500,
          "Year": 2018
         },
         {
          "Crop": "Barley",
          "Production": 23400,
          "Year": 2019
         }
        ]
       },
       "encoding": {
        "x": {
         "field": "Year",
         "type": "quantitative"
        },
        "y": {
         "field": "Production",
         "type": "quantitative"
        }
       },
       "mark": "line",
       "title": "Barley production in Punjab from 1997-2020"
      },
      "text/plain": [
       "<VegaLite 4 object>\n",
       "\n",
       "If you see this message, it means the renderer has not been properly enabled\n",
       "for the frontend that you are using. For more information, see\n",
       "https://altair-viz.github.io/user_guide/troubleshooting.html\n"
      ]
     },
     "execution_count": 98,
     "metadata": {},
     "output_type": "execute_result"
    }
   ],
   "source": [
    "alt.Chart(barley).mark_line().encode(\n",
    "    x='Year',\n",
    "    y=('Production')\n",
    ").properties(\n",
    "    title='Barley production in Punjab from 1997-2020')"
   ]
  },
  {
   "cell_type": "markdown",
   "metadata": {},
   "source": [
    "![](barley.png)"
   ]
  },
  {
   "cell_type": "markdown",
   "metadata": {},
   "source": [
    "Similarly with barley. "
   ]
  },
  {
   "cell_type": "code",
   "execution_count": 99,
   "metadata": {},
   "outputs": [
    {
     "data": {
      "text/html": [
       "<div>\n",
       "<style scoped>\n",
       "    .dataframe tbody tr th:only-of-type {\n",
       "        vertical-align: middle;\n",
       "    }\n",
       "\n",
       "    .dataframe tbody tr th {\n",
       "        vertical-align: top;\n",
       "    }\n",
       "\n",
       "    .dataframe thead th {\n",
       "        text-align: right;\n",
       "    }\n",
       "</style>\n",
       "<table border=\"1\" class=\"dataframe\">\n",
       "  <thead>\n",
       "    <tr style=\"text-align: right;\">\n",
       "      <th></th>\n",
       "      <th>Crop</th>\n",
       "      <th>Year</th>\n",
       "      <th>Production</th>\n",
       "    </tr>\n",
       "  </thead>\n",
       "  <tbody>\n",
       "    <tr>\n",
       "      <th>66</th>\n",
       "      <td>Cotton(lint)</td>\n",
       "      <td>1997</td>\n",
       "      <td>937000.0</td>\n",
       "    </tr>\n",
       "    <tr>\n",
       "      <th>67</th>\n",
       "      <td>Cotton(lint)</td>\n",
       "      <td>1998</td>\n",
       "      <td>595000.0</td>\n",
       "    </tr>\n",
       "    <tr>\n",
       "      <th>68</th>\n",
       "      <td>Cotton(lint)</td>\n",
       "      <td>1999</td>\n",
       "      <td>950000.0</td>\n",
       "    </tr>\n",
       "    <tr>\n",
       "      <th>69</th>\n",
       "      <td>Cotton(lint)</td>\n",
       "      <td>2000</td>\n",
       "      <td>1199000.0</td>\n",
       "    </tr>\n",
       "    <tr>\n",
       "      <th>70</th>\n",
       "      <td>Cotton(lint)</td>\n",
       "      <td>2001</td>\n",
       "      <td>1307000.0</td>\n",
       "    </tr>\n",
       "  </tbody>\n",
       "</table>\n",
       "</div>"
      ],
      "text/plain": [
       "            Crop  Year  Production\n",
       "66  Cotton(lint)  1997    937000.0\n",
       "67  Cotton(lint)  1998    595000.0\n",
       "68  Cotton(lint)  1999    950000.0\n",
       "69  Cotton(lint)  2000   1199000.0\n",
       "70  Cotton(lint)  2001   1307000.0"
      ]
     },
     "execution_count": 99,
     "metadata": {},
     "output_type": "execute_result"
    }
   ],
   "source": [
    "##Cotton(lint)\n",
    "cotton = pj_production[pj_production['Crop'] == 'Cotton(lint)']\n",
    "cotton.head(5)"
   ]
  },
  {
   "cell_type": "code",
   "execution_count": 100,
   "metadata": {},
   "outputs": [
    {
     "data": {
      "application/vnd.vegalite.v4+json": {
       "$schema": "https://vega.github.io/schema/vega-lite/v4.17.0.json",
       "config": {
        "view": {
         "continuousHeight": 300,
         "continuousWidth": 400
        }
       },
       "data": {
        "name": "data-7171673fd7b9ad22d562b3355773b363"
       },
       "datasets": {
        "data-7171673fd7b9ad22d562b3355773b363": [
         {
          "Crop": "Cotton(lint)",
          "Production": 937000,
          "Year": 1997
         },
         {
          "Crop": "Cotton(lint)",
          "Production": 595000,
          "Year": 1998
         },
         {
          "Crop": "Cotton(lint)",
          "Production": 950000,
          "Year": 1999
         },
         {
          "Crop": "Cotton(lint)",
          "Production": 1199000,
          "Year": 2000
         },
         {
          "Crop": "Cotton(lint)",
          "Production": 1307000,
          "Year": 2001
         },
         {
          "Crop": "Cotton(lint)",
          "Production": 1083000,
          "Year": 2002
         },
         {
          "Crop": "Cotton(lint)",
          "Production": 1478000,
          "Year": 2003
         },
         {
          "Crop": "Cotton(lint)",
          "Production": 2087000,
          "Year": 2004
         },
         {
          "Crop": "Cotton(lint)",
          "Production": 2395000,
          "Year": 2005
         },
         {
          "Crop": "Cotton(lint)",
          "Production": 2678000,
          "Year": 2006
         },
         {
          "Crop": "Cotton(lint)",
          "Production": 2355000,
          "Year": 2007
         },
         {
          "Crop": "Cotton(lint)",
          "Production": 2285000,
          "Year": 2008
         },
         {
          "Crop": "Cotton(lint)",
          "Production": 2006000,
          "Year": 2009
         },
         {
          "Crop": "Cotton(lint)",
          "Production": 1822000,
          "Year": 2010
         },
         {
          "Crop": "Cotton(lint)",
          "Production": 1621000,
          "Year": 2011
         },
         {
          "Crop": "Cotton(lint)",
          "Production": 1627000,
          "Year": 2012
         },
         {
          "Crop": "Cotton(lint)",
          "Production": 1495000,
          "Year": 2013
         },
         {
          "Crop": "Cotton(lint)",
          "Production": 1342000,
          "Year": 2014
         },
         {
          "Crop": "Cotton(lint)",
          "Production": 393000,
          "Year": 2015
         },
         {
          "Crop": "Cotton(lint)",
          "Production": 1267000,
          "Year": 2016
         },
         {
          "Crop": "Cotton(lint)",
          "Production": 1283000,
          "Year": 2017
         },
         {
          "Crop": "Cotton(lint)",
          "Production": 1222800,
          "Year": 2018
         },
         {
          "Crop": "Cotton(lint)",
          "Production": 1206400,
          "Year": 2019
         }
        ]
       },
       "encoding": {
        "x": {
         "field": "Year",
         "type": "quantitative"
        },
        "y": {
         "field": "Production",
         "type": "quantitative"
        }
       },
       "mark": "line",
       "title": "Cotton(lint) production in Punjab from 1997-2020"
      },
      "text/plain": [
       "<VegaLite 4 object>\n",
       "\n",
       "If you see this message, it means the renderer has not been properly enabled\n",
       "for the frontend that you are using. For more information, see\n",
       "https://altair-viz.github.io/user_guide/troubleshooting.html\n"
      ]
     },
     "execution_count": 100,
     "metadata": {},
     "output_type": "execute_result"
    }
   ],
   "source": [
    "alt.Chart(cotton).mark_line().encode(\n",
    "    x='Year',\n",
    "    y=('Production')\n",
    ").properties(\n",
    "    title='Cotton(lint) production in Punjab from 1997-2020')"
   ]
  },
  {
   "cell_type": "markdown",
   "metadata": {},
   "source": [
    "![](cotton.png)"
   ]
  },
  {
   "cell_type": "code",
   "execution_count": 101,
   "metadata": {},
   "outputs": [
    {
     "data": {
      "text/html": [
       "<div>\n",
       "<style scoped>\n",
       "    .dataframe tbody tr th:only-of-type {\n",
       "        vertical-align: middle;\n",
       "    }\n",
       "\n",
       "    .dataframe tbody tr th {\n",
       "        vertical-align: top;\n",
       "    }\n",
       "\n",
       "    .dataframe thead th {\n",
       "        text-align: right;\n",
       "    }\n",
       "</style>\n",
       "<table border=\"1\" class=\"dataframe\">\n",
       "  <thead>\n",
       "    <tr style=\"text-align: right;\">\n",
       "      <th></th>\n",
       "      <th>Crop</th>\n",
       "      <th>Year</th>\n",
       "      <th>Production</th>\n",
       "    </tr>\n",
       "  </thead>\n",
       "  <tbody>\n",
       "    <tr>\n",
       "      <th>89</th>\n",
       "      <td>Gram</td>\n",
       "      <td>1997</td>\n",
       "      <td>11000.0</td>\n",
       "    </tr>\n",
       "    <tr>\n",
       "      <th>90</th>\n",
       "      <td>Gram</td>\n",
       "      <td>1998</td>\n",
       "      <td>10400.0</td>\n",
       "    </tr>\n",
       "    <tr>\n",
       "      <th>91</th>\n",
       "      <td>Gram</td>\n",
       "      <td>1999</td>\n",
       "      <td>6100.0</td>\n",
       "    </tr>\n",
       "    <tr>\n",
       "      <th>92</th>\n",
       "      <td>Gram</td>\n",
       "      <td>2000</td>\n",
       "      <td>7300.0</td>\n",
       "    </tr>\n",
       "    <tr>\n",
       "      <th>93</th>\n",
       "      <td>Gram</td>\n",
       "      <td>2001</td>\n",
       "      <td>6200.0</td>\n",
       "    </tr>\n",
       "  </tbody>\n",
       "</table>\n",
       "</div>"
      ],
      "text/plain": [
       "    Crop  Year  Production\n",
       "89  Gram  1997     11000.0\n",
       "90  Gram  1998     10400.0\n",
       "91  Gram  1999      6100.0\n",
       "92  Gram  2000      7300.0\n",
       "93  Gram  2001      6200.0"
      ]
     },
     "execution_count": 101,
     "metadata": {},
     "output_type": "execute_result"
    }
   ],
   "source": [
    "##Gram\n",
    "gram = pj_production[pj_production['Crop'] == 'Gram']\n",
    "gram.head(5)"
   ]
  },
  {
   "cell_type": "code",
   "execution_count": 102,
   "metadata": {},
   "outputs": [
    {
     "data": {
      "application/vnd.vegalite.v4+json": {
       "$schema": "https://vega.github.io/schema/vega-lite/v4.17.0.json",
       "config": {
        "view": {
         "continuousHeight": 300,
         "continuousWidth": 400
        }
       },
       "data": {
        "name": "data-4eb2e64eff11fd2ea2badad423553172"
       },
       "datasets": {
        "data-4eb2e64eff11fd2ea2badad423553172": [
         {
          "Crop": "Gram",
          "Production": 11000,
          "Year": 1997
         },
         {
          "Crop": "Gram",
          "Production": 10400,
          "Year": 1998
         },
         {
          "Crop": "Gram",
          "Production": 6100,
          "Year": 1999
         },
         {
          "Crop": "Gram",
          "Production": 7300,
          "Year": 2000
         },
         {
          "Crop": "Gram",
          "Production": 6200,
          "Year": 2001
         },
         {
          "Crop": "Gram",
          "Production": 6700,
          "Year": 2002
         },
         {
          "Crop": "Gram",
          "Production": 5400,
          "Year": 2003
         },
         {
          "Crop": "Gram",
          "Production": 4400,
          "Year": 2004
         },
         {
          "Crop": "Gram",
          "Production": 3400,
          "Year": 2005
         },
         {
          "Crop": "Gram",
          "Production": 3800,
          "Year": 2006
         },
         {
          "Crop": "Gram",
          "Production": 2800,
          "Year": 2007
         },
         {
          "Crop": "Gram",
          "Production": 3400,
          "Year": 2008
         },
         {
          "Crop": "Gram",
          "Production": 3400,
          "Year": 2009
         },
         {
          "Crop": "Gram",
          "Production": 2700,
          "Year": 2010
         },
         {
          "Crop": "Gram",
          "Production": 2200,
          "Year": 2011
         },
         {
          "Crop": "Gram",
          "Production": 3100,
          "Year": 2012
         },
         {
          "Crop": "Gram",
          "Production": 2370,
          "Year": 2013
         },
         {
          "Crop": "Gram",
          "Production": 1950,
          "Year": 2014
         },
         {
          "Crop": "Gram",
          "Production": 2180,
          "Year": 2015
         },
         {
          "Crop": "Gram",
          "Production": 2200,
          "Year": 2016
         },
         {
          "Crop": "Gram",
          "Production": 2000,
          "Year": 2017
         },
         {
          "Crop": "Gram",
          "Production": 2500,
          "Year": 2018
         },
         {
          "Crop": "Gram",
          "Production": 1800,
          "Year": 2019
         }
        ]
       },
       "encoding": {
        "x": {
         "field": "Year",
         "type": "quantitative"
        },
        "y": {
         "field": "Production",
         "type": "quantitative"
        }
       },
       "mark": "line",
       "title": "Gram production in Punjab from 1997-2020"
      },
      "text/plain": [
       "<VegaLite 4 object>\n",
       "\n",
       "If you see this message, it means the renderer has not been properly enabled\n",
       "for the frontend that you are using. For more information, see\n",
       "https://altair-viz.github.io/user_guide/troubleshooting.html\n"
      ]
     },
     "execution_count": 102,
     "metadata": {},
     "output_type": "execute_result"
    }
   ],
   "source": [
    "alt.Chart(gram).mark_line().encode(\n",
    "    x='Year',\n",
    "    y=('Production')\n",
    " \n",
    ").properties(\n",
    "    title='Gram production in Punjab from 1997-2020')"
   ]
  },
  {
   "cell_type": "markdown",
   "metadata": {},
   "source": [
    "![](gram.png)"
   ]
  },
  {
   "cell_type": "code",
   "execution_count": 103,
   "metadata": {},
   "outputs": [
    {
     "data": {
      "text/html": [
       "<div>\n",
       "<style scoped>\n",
       "    .dataframe tbody tr th:only-of-type {\n",
       "        vertical-align: middle;\n",
       "    }\n",
       "\n",
       "    .dataframe tbody tr th {\n",
       "        vertical-align: top;\n",
       "    }\n",
       "\n",
       "    .dataframe thead th {\n",
       "        text-align: right;\n",
       "    }\n",
       "</style>\n",
       "<table border=\"1\" class=\"dataframe\">\n",
       "  <thead>\n",
       "    <tr style=\"text-align: right;\">\n",
       "      <th></th>\n",
       "      <th>Crop</th>\n",
       "      <th>Year</th>\n",
       "      <th>Production</th>\n",
       "    </tr>\n",
       "  </thead>\n",
       "  <tbody>\n",
       "    <tr>\n",
       "      <th>112</th>\n",
       "      <td>Groundnut</td>\n",
       "      <td>1997</td>\n",
       "      <td>8000.0</td>\n",
       "    </tr>\n",
       "    <tr>\n",
       "      <th>113</th>\n",
       "      <td>Groundnut</td>\n",
       "      <td>1998</td>\n",
       "      <td>5000.0</td>\n",
       "    </tr>\n",
       "    <tr>\n",
       "      <th>114</th>\n",
       "      <td>Groundnut</td>\n",
       "      <td>1999</td>\n",
       "      <td>6000.0</td>\n",
       "    </tr>\n",
       "    <tr>\n",
       "      <th>115</th>\n",
       "      <td>Groundnut</td>\n",
       "      <td>2000</td>\n",
       "      <td>4000.0</td>\n",
       "    </tr>\n",
       "    <tr>\n",
       "      <th>116</th>\n",
       "      <td>Groundnut</td>\n",
       "      <td>2001</td>\n",
       "      <td>400.0</td>\n",
       "    </tr>\n",
       "  </tbody>\n",
       "</table>\n",
       "</div>"
      ],
      "text/plain": [
       "          Crop  Year  Production\n",
       "112  Groundnut  1997      8000.0\n",
       "113  Groundnut  1998      5000.0\n",
       "114  Groundnut  1999      6000.0\n",
       "115  Groundnut  2000      4000.0\n",
       "116  Groundnut  2001       400.0"
      ]
     },
     "execution_count": 103,
     "metadata": {},
     "output_type": "execute_result"
    }
   ],
   "source": [
    "##Groundnut\n",
    "gnut = pj_production[pj_production['Crop'] == 'Groundnut']\n",
    "gnut.head(5)"
   ]
  },
  {
   "cell_type": "code",
   "execution_count": 104,
   "metadata": {},
   "outputs": [
    {
     "data": {
      "application/vnd.vegalite.v4+json": {
       "$schema": "https://vega.github.io/schema/vega-lite/v4.17.0.json",
       "config": {
        "view": {
         "continuousHeight": 300,
         "continuousWidth": 400
        }
       },
       "data": {
        "name": "data-893b60b2e157b73173d1c4eab3273f3f"
       },
       "datasets": {
        "data-893b60b2e157b73173d1c4eab3273f3f": [
         {
          "Crop": "Groundnut",
          "Production": 8000,
          "Year": 1997
         },
         {
          "Crop": "Groundnut",
          "Production": 5000,
          "Year": 1998
         },
         {
          "Crop": "Groundnut",
          "Production": 6000,
          "Year": 1999
         },
         {
          "Crop": "Groundnut",
          "Production": 4000,
          "Year": 2000
         },
         {
          "Crop": "Groundnut",
          "Production": 400,
          "Year": 2001
         },
         {
          "Crop": "Groundnut",
          "Production": 3800,
          "Year": 2002
         },
         {
          "Crop": "Groundnut",
          "Production": 4000,
          "Year": 2003
         },
         {
          "Crop": "Groundnut",
          "Production": 3600,
          "Year": 2004
         },
         {
          "Crop": "Groundnut",
          "Production": 3000,
          "Year": 2005
         },
         {
          "Crop": "Groundnut",
          "Production": 3800,
          "Year": 2006
         },
         {
          "Crop": "Groundnut",
          "Production": 2700,
          "Year": 2007
         },
         {
          "Crop": "Groundnut",
          "Production": 2500,
          "Year": 2008
         },
         {
          "Crop": "Groundnut",
          "Production": 3100,
          "Year": 2009
         },
         {
          "Crop": "Groundnut",
          "Production": 3900,
          "Year": 2010
         },
         {
          "Crop": "Groundnut",
          "Production": 2900,
          "Year": 2011
         },
         {
          "Crop": "Groundnut",
          "Production": 2900,
          "Year": 2012
         },
         {
          "Crop": "Groundnut",
          "Production": 2400,
          "Year": 2013
         },
         {
          "Crop": "Groundnut",
          "Production": 2600,
          "Year": 2014
         },
         {
          "Crop": "Groundnut",
          "Production": 1900,
          "Year": 2015
         },
         {
          "Crop": "Groundnut",
          "Production": 2300,
          "Year": 2016
         },
         {
          "Crop": "Groundnut",
          "Production": 2300,
          "Year": 2017
         },
         {
          "Crop": "Groundnut",
          "Production": 2600,
          "Year": 2018
         },
         {
          "Crop": "Groundnut",
          "Production": 2800,
          "Year": 2019
         }
        ]
       },
       "encoding": {
        "x": {
         "field": "Year",
         "type": "quantitative"
        },
        "y": {
         "field": "Production",
         "type": "quantitative"
        }
       },
       "mark": "line",
       "title": "Groundnut production in Punjab from 1997-2020"
      },
      "text/plain": [
       "<VegaLite 4 object>\n",
       "\n",
       "If you see this message, it means the renderer has not been properly enabled\n",
       "for the frontend that you are using. For more information, see\n",
       "https://altair-viz.github.io/user_guide/troubleshooting.html\n"
      ]
     },
     "execution_count": 104,
     "metadata": {},
     "output_type": "execute_result"
    }
   ],
   "source": [
    "alt.Chart(gnut).mark_line().encode(\n",
    "    x='Year',\n",
    "    y=('Production')\n",
    ").properties(\n",
    "    title='Groundnut production in Punjab from 1997-2020')"
   ]
  },
  {
   "cell_type": "markdown",
   "metadata": {},
   "source": [
    "![](groundnut.png)"
   ]
  },
  {
   "cell_type": "code",
   "execution_count": 105,
   "metadata": {},
   "outputs": [
    {
     "data": {
      "text/html": [
       "<div>\n",
       "<style scoped>\n",
       "    .dataframe tbody tr th:only-of-type {\n",
       "        vertical-align: middle;\n",
       "    }\n",
       "\n",
       "    .dataframe tbody tr th {\n",
       "        vertical-align: top;\n",
       "    }\n",
       "\n",
       "    .dataframe thead th {\n",
       "        text-align: right;\n",
       "    }\n",
       "</style>\n",
       "<table border=\"1\" class=\"dataframe\">\n",
       "  <thead>\n",
       "    <tr style=\"text-align: right;\">\n",
       "      <th></th>\n",
       "      <th>Crop</th>\n",
       "      <th>Year</th>\n",
       "      <th>Production</th>\n",
       "    </tr>\n",
       "  </thead>\n",
       "  <tbody>\n",
       "    <tr>\n",
       "      <th>135</th>\n",
       "      <td>Guar seed</td>\n",
       "      <td>2002</td>\n",
       "      <td>22700.0</td>\n",
       "    </tr>\n",
       "    <tr>\n",
       "      <th>136</th>\n",
       "      <td>Guar seed</td>\n",
       "      <td>2003</td>\n",
       "      <td>27100.0</td>\n",
       "    </tr>\n",
       "    <tr>\n",
       "      <th>137</th>\n",
       "      <td>Guar seed</td>\n",
       "      <td>2004</td>\n",
       "      <td>19400.0</td>\n",
       "    </tr>\n",
       "    <tr>\n",
       "      <th>138</th>\n",
       "      <td>Guar seed</td>\n",
       "      <td>2005</td>\n",
       "      <td>17800.0</td>\n",
       "    </tr>\n",
       "    <tr>\n",
       "      <th>139</th>\n",
       "      <td>Guar seed</td>\n",
       "      <td>2006</td>\n",
       "      <td>15800.0</td>\n",
       "    </tr>\n",
       "  </tbody>\n",
       "</table>\n",
       "</div>"
      ],
      "text/plain": [
       "          Crop  Year  Production\n",
       "135  Guar seed  2002     22700.0\n",
       "136  Guar seed  2003     27100.0\n",
       "137  Guar seed  2004     19400.0\n",
       "138  Guar seed  2005     17800.0\n",
       "139  Guar seed  2006     15800.0"
      ]
     },
     "execution_count": 105,
     "metadata": {},
     "output_type": "execute_result"
    }
   ],
   "source": [
    "##Guar seeds \n",
    "guar = pj_production[pj_production['Crop'] == 'Guar seed']\n",
    "guar.head(5)\n"
   ]
  },
  {
   "cell_type": "code",
   "execution_count": 106,
   "metadata": {},
   "outputs": [
    {
     "data": {
      "application/vnd.vegalite.v4+json": {
       "$schema": "https://vega.github.io/schema/vega-lite/v4.17.0.json",
       "config": {
        "view": {
         "continuousHeight": 300,
         "continuousWidth": 400
        }
       },
       "data": {
        "name": "data-1a6474c47c11da0c71b9f21ecc1c3c6f"
       },
       "datasets": {
        "data-1a6474c47c11da0c71b9f21ecc1c3c6f": [
         {
          "Crop": "Guar seed",
          "Production": 22700,
          "Year": 2002
         },
         {
          "Crop": "Guar seed",
          "Production": 27100,
          "Year": 2003
         },
         {
          "Crop": "Guar seed",
          "Production": 19400,
          "Year": 2004
         },
         {
          "Crop": "Guar seed",
          "Production": 17800,
          "Year": 2005
         },
         {
          "Crop": "Guar seed",
          "Production": 15800,
          "Year": 2006
         },
         {
          "Crop": "Guar seed",
          "Production": 18200,
          "Year": 2007
         },
         {
          "Crop": "Guar seed",
          "Production": 22200,
          "Year": 2008
         },
         {
          "Crop": "Guar seed",
          "Production": 16800,
          "Year": 2009
         },
         {
          "Crop": "Guar seed",
          "Production": 16800,
          "Year": 2010
         },
         {
          "Crop": "Guar seed",
          "Production": 8500,
          "Year": 2011
         },
         {
          "Crop": "Guar seed",
          "Production": 20500,
          "Year": 2012
         },
         {
          "Crop": "Guar seed",
          "Production": 30400,
          "Year": 2013
         },
         {
          "Crop": "Guar seed",
          "Production": 21200,
          "Year": 2014
         },
         {
          "Crop": "Guar seed",
          "Production": 33440,
          "Year": 2015
         },
         {
          "Crop": "Guar seed",
          "Production": 28700,
          "Year": 2016
         },
         {
          "Crop": "Guar seed",
          "Production": 19500,
          "Year": 2017
         },
         {
          "Crop": "Guar seed",
          "Production": 16900,
          "Year": 2018
         },
         {
          "Crop": "Guar seed",
          "Production": 13800,
          "Year": 2019
         }
        ]
       },
       "encoding": {
        "x": {
         "field": "Year",
         "type": "quantitative"
        },
        "y": {
         "field": "Production",
         "type": "quantitative"
        }
       },
       "mark": "line",
       "title": "Guar seed production in Punjab from 1997-2020"
      },
      "text/plain": [
       "<VegaLite 4 object>\n",
       "\n",
       "If you see this message, it means the renderer has not been properly enabled\n",
       "for the frontend that you are using. For more information, see\n",
       "https://altair-viz.github.io/user_guide/troubleshooting.html\n"
      ]
     },
     "execution_count": 106,
     "metadata": {},
     "output_type": "execute_result"
    }
   ],
   "source": [
    "alt.Chart(guar).mark_line().encode(\n",
    "    x='Year',\n",
    "    y=('Production')\n",
    ").properties(\n",
    "    title='Guar seed production in Punjab from 1997-2020')"
   ]
  },
  {
   "cell_type": "markdown",
   "metadata": {},
   "source": [
    "![](guar%20seed.png)"
   ]
  },
  {
   "cell_type": "code",
   "execution_count": 107,
   "metadata": {},
   "outputs": [
    {
     "data": {
      "text/html": [
       "<div>\n",
       "<style scoped>\n",
       "    .dataframe tbody tr th:only-of-type {\n",
       "        vertical-align: middle;\n",
       "    }\n",
       "\n",
       "    .dataframe tbody tr th {\n",
       "        vertical-align: top;\n",
       "    }\n",
       "\n",
       "    .dataframe thead th {\n",
       "        text-align: right;\n",
       "    }\n",
       "</style>\n",
       "<table border=\"1\" class=\"dataframe\">\n",
       "  <thead>\n",
       "    <tr style=\"text-align: right;\">\n",
       "      <th></th>\n",
       "      <th>Crop</th>\n",
       "      <th>Year</th>\n",
       "      <th>Production</th>\n",
       "    </tr>\n",
       "  </thead>\n",
       "  <tbody>\n",
       "    <tr>\n",
       "      <th>153</th>\n",
       "      <td>Jowar</td>\n",
       "      <td>2006</td>\n",
       "      <td>100.0</td>\n",
       "    </tr>\n",
       "    <tr>\n",
       "      <th>154</th>\n",
       "      <td>Jowar</td>\n",
       "      <td>2007</td>\n",
       "      <td>100.0</td>\n",
       "    </tr>\n",
       "    <tr>\n",
       "      <th>155</th>\n",
       "      <td>Jowar</td>\n",
       "      <td>2008</td>\n",
       "      <td>100.0</td>\n",
       "    </tr>\n",
       "    <tr>\n",
       "      <th>156</th>\n",
       "      <td>Jowar</td>\n",
       "      <td>2009</td>\n",
       "      <td>100.0</td>\n",
       "    </tr>\n",
       "  </tbody>\n",
       "</table>\n",
       "</div>"
      ],
      "text/plain": [
       "      Crop  Year  Production\n",
       "153  Jowar  2006       100.0\n",
       "154  Jowar  2007       100.0\n",
       "155  Jowar  2008       100.0\n",
       "156  Jowar  2009       100.0"
      ]
     },
     "execution_count": 107,
     "metadata": {},
     "output_type": "execute_result"
    }
   ],
   "source": [
    "##Jowar \n",
    "jowar = pj_production[pj_production['Crop'] == 'Jowar']\n",
    "jowar.head(20)"
   ]
  },
  {
   "cell_type": "code",
   "execution_count": 108,
   "metadata": {},
   "outputs": [
    {
     "data": {
      "application/vnd.vegalite.v4+json": {
       "$schema": "https://vega.github.io/schema/vega-lite/v4.17.0.json",
       "config": {
        "view": {
         "continuousHeight": 300,
         "continuousWidth": 400
        }
       },
       "data": {
        "name": "data-fea8843975514bcc9de76291ca1051ae"
       },
       "datasets": {
        "data-fea8843975514bcc9de76291ca1051ae": [
         {
          "Crop": "Jowar",
          "Production": 100,
          "Year": 2006
         },
         {
          "Crop": "Jowar",
          "Production": 100,
          "Year": 2007
         },
         {
          "Crop": "Jowar",
          "Production": 100,
          "Year": 2008
         },
         {
          "Crop": "Jowar",
          "Production": 100,
          "Year": 2009
         }
        ]
       },
       "encoding": {
        "x": {
         "field": "Year",
         "type": "quantitative"
        },
        "y": {
         "field": "Production",
         "type": "quantitative"
        }
       },
       "mark": "line",
       "title": "Jowar production in Punjab from 1997-2020"
      },
      "text/plain": [
       "<VegaLite 4 object>\n",
       "\n",
       "If you see this message, it means the renderer has not been properly enabled\n",
       "for the frontend that you are using. For more information, see\n",
       "https://altair-viz.github.io/user_guide/troubleshooting.html\n"
      ]
     },
     "execution_count": 108,
     "metadata": {},
     "output_type": "execute_result"
    }
   ],
   "source": [
    "alt.Chart(jowar).mark_line().encode(\n",
    "    x='Year',\n",
    "    y=('Production')\n",
    ").properties(\n",
    "    title='Jowar production in Punjab from 1997-2020')"
   ]
  },
  {
   "cell_type": "markdown",
   "metadata": {},
   "source": [
    "Jowar data seems flawed. After checking, it seems like jowar was produced only from 2006-2007, and 100 tonnes each time.  "
   ]
  },
  {
   "cell_type": "code",
   "execution_count": 109,
   "metadata": {},
   "outputs": [
    {
     "data": {
      "text/html": [
       "<div>\n",
       "<style scoped>\n",
       "    .dataframe tbody tr th:only-of-type {\n",
       "        vertical-align: middle;\n",
       "    }\n",
       "\n",
       "    .dataframe tbody tr th {\n",
       "        vertical-align: top;\n",
       "    }\n",
       "\n",
       "    .dataframe thead th {\n",
       "        text-align: right;\n",
       "    }\n",
       "</style>\n",
       "<table border=\"1\" class=\"dataframe\">\n",
       "  <thead>\n",
       "    <tr style=\"text-align: right;\">\n",
       "      <th></th>\n",
       "      <th>Crop</th>\n",
       "      <th>Year</th>\n",
       "      <th>Production</th>\n",
       "    </tr>\n",
       "  </thead>\n",
       "  <tbody>\n",
       "    <tr>\n",
       "      <th>157</th>\n",
       "      <td>Linseed</td>\n",
       "      <td>1998</td>\n",
       "      <td>300.0</td>\n",
       "    </tr>\n",
       "    <tr>\n",
       "      <th>158</th>\n",
       "      <td>Linseed</td>\n",
       "      <td>1999</td>\n",
       "      <td>300.0</td>\n",
       "    </tr>\n",
       "    <tr>\n",
       "      <th>159</th>\n",
       "      <td>Linseed</td>\n",
       "      <td>2000</td>\n",
       "      <td>600.0</td>\n",
       "    </tr>\n",
       "    <tr>\n",
       "      <th>160</th>\n",
       "      <td>Linseed</td>\n",
       "      <td>2001</td>\n",
       "      <td>300.0</td>\n",
       "    </tr>\n",
       "    <tr>\n",
       "      <th>161</th>\n",
       "      <td>Linseed</td>\n",
       "      <td>2006</td>\n",
       "      <td>100.0</td>\n",
       "    </tr>\n",
       "  </tbody>\n",
       "</table>\n",
       "</div>"
      ],
      "text/plain": [
       "        Crop  Year  Production\n",
       "157  Linseed  1998       300.0\n",
       "158  Linseed  1999       300.0\n",
       "159  Linseed  2000       600.0\n",
       "160  Linseed  2001       300.0\n",
       "161  Linseed  2006       100.0"
      ]
     },
     "execution_count": 109,
     "metadata": {},
     "output_type": "execute_result"
    }
   ],
   "source": [
    "##Linseed\n",
    "linseed = pj_production[pj_production['Crop'] == 'Linseed']\n",
    "linseed.head(5)"
   ]
  },
  {
   "cell_type": "code",
   "execution_count": 110,
   "metadata": {},
   "outputs": [
    {
     "data": {
      "application/vnd.vegalite.v4+json": {
       "$schema": "https://vega.github.io/schema/vega-lite/v4.17.0.json",
       "config": {
        "view": {
         "continuousHeight": 300,
         "continuousWidth": 400
        }
       },
       "data": {
        "name": "data-8053467dade18c21ff54a3542c75068a"
       },
       "datasets": {
        "data-8053467dade18c21ff54a3542c75068a": [
         {
          "Crop": "Linseed",
          "Production": 300,
          "Year": 1998
         },
         {
          "Crop": "Linseed",
          "Production": 300,
          "Year": 1999
         },
         {
          "Crop": "Linseed",
          "Production": 600,
          "Year": 2000
         },
         {
          "Crop": "Linseed",
          "Production": 300,
          "Year": 2001
         },
         {
          "Crop": "Linseed",
          "Production": 100,
          "Year": 2006
         },
         {
          "Crop": "Linseed",
          "Production": 100,
          "Year": 2008
         }
        ]
       },
       "encoding": {
        "x": {
         "field": "Year",
         "type": "quantitative"
        },
        "y": {
         "field": "Production",
         "type": "quantitative"
        }
       },
       "mark": "line",
       "title": "Linseed production in Punjab from 1997-2020"
      },
      "text/plain": [
       "<VegaLite 4 object>\n",
       "\n",
       "If you see this message, it means the renderer has not been properly enabled\n",
       "for the frontend that you are using. For more information, see\n",
       "https://altair-viz.github.io/user_guide/troubleshooting.html\n"
      ]
     },
     "execution_count": 110,
     "metadata": {},
     "output_type": "execute_result"
    }
   ],
   "source": [
    "alt.Chart(linseed).mark_line().encode(\n",
    "    x='Year',\n",
    "    y=('Production')\n",
    ").properties(\n",
    "    title='Linseed production in Punjab from 1997-2020')"
   ]
  },
  {
   "cell_type": "markdown",
   "metadata": {},
   "source": [
    "![](linseed.png)"
   ]
  },
  {
   "cell_type": "markdown",
   "metadata": {},
   "source": [
    "Linseed prodcuction ended in 2006. "
   ]
  },
  {
   "cell_type": "code",
   "execution_count": 111,
   "metadata": {},
   "outputs": [
    {
     "data": {
      "text/html": [
       "<div>\n",
       "<style scoped>\n",
       "    .dataframe tbody tr th:only-of-type {\n",
       "        vertical-align: middle;\n",
       "    }\n",
       "\n",
       "    .dataframe tbody tr th {\n",
       "        vertical-align: top;\n",
       "    }\n",
       "\n",
       "    .dataframe thead th {\n",
       "        text-align: right;\n",
       "    }\n",
       "</style>\n",
       "<table border=\"1\" class=\"dataframe\">\n",
       "  <thead>\n",
       "    <tr style=\"text-align: right;\">\n",
       "      <th></th>\n",
       "      <th>Crop</th>\n",
       "      <th>Year</th>\n",
       "      <th>Production</th>\n",
       "    </tr>\n",
       "  </thead>\n",
       "  <tbody>\n",
       "    <tr>\n",
       "      <th>163</th>\n",
       "      <td>Maize</td>\n",
       "      <td>1997</td>\n",
       "      <td>345000.0</td>\n",
       "    </tr>\n",
       "    <tr>\n",
       "      <th>164</th>\n",
       "      <td>Maize</td>\n",
       "      <td>1998</td>\n",
       "      <td>352000.0</td>\n",
       "    </tr>\n",
       "    <tr>\n",
       "      <th>165</th>\n",
       "      <td>Maize</td>\n",
       "      <td>1999</td>\n",
       "      <td>417000.0</td>\n",
       "    </tr>\n",
       "    <tr>\n",
       "      <th>166</th>\n",
       "      <td>Maize</td>\n",
       "      <td>2000</td>\n",
       "      <td>461000.0</td>\n",
       "    </tr>\n",
       "    <tr>\n",
       "      <th>167</th>\n",
       "      <td>Maize</td>\n",
       "      <td>2001</td>\n",
       "      <td>449000.0</td>\n",
       "    </tr>\n",
       "  </tbody>\n",
       "</table>\n",
       "</div>"
      ],
      "text/plain": [
       "      Crop  Year  Production\n",
       "163  Maize  1997    345000.0\n",
       "164  Maize  1998    352000.0\n",
       "165  Maize  1999    417000.0\n",
       "166  Maize  2000    461000.0\n",
       "167  Maize  2001    449000.0"
      ]
     },
     "execution_count": 111,
     "metadata": {},
     "output_type": "execute_result"
    }
   ],
   "source": [
    "##Maize\n",
    "maize = pj_production[pj_production['Crop'] == 'Maize']\n",
    "maize.head(5)"
   ]
  },
  {
   "cell_type": "code",
   "execution_count": 112,
   "metadata": {},
   "outputs": [
    {
     "data": {
      "application/vnd.vegalite.v4+json": {
       "$schema": "https://vega.github.io/schema/vega-lite/v4.17.0.json",
       "config": {
        "view": {
         "continuousHeight": 300,
         "continuousWidth": 400
        }
       },
       "data": {
        "name": "data-d706b162238ae0e823445b4b7e760e83"
       },
       "datasets": {
        "data-d706b162238ae0e823445b4b7e760e83": [
         {
          "Crop": "Maize",
          "Production": 345000,
          "Year": 1997
         },
         {
          "Crop": "Maize",
          "Production": 352000,
          "Year": 1998
         },
         {
          "Crop": "Maize",
          "Production": 417000,
          "Year": 1999
         },
         {
          "Crop": "Maize",
          "Production": 461000,
          "Year": 2000
         },
         {
          "Crop": "Maize",
          "Production": 449000,
          "Year": 2001
         },
         {
          "Crop": "Maize",
          "Production": 310000,
          "Year": 2002
         },
         {
          "Crop": "Maize",
          "Production": 459000,
          "Year": 2003
         },
         {
          "Crop": "Maize",
          "Production": 422000,
          "Year": 2004
         },
         {
          "Crop": "Maize",
          "Production": 403000,
          "Year": 2005
         },
         {
          "Crop": "Maize",
          "Production": 481000,
          "Year": 2006
         },
         {
          "Crop": "Maize",
          "Production": 521000,
          "Year": 2007
         },
         {
          "Crop": "Maize",
          "Production": 514000,
          "Year": 2008
         },
         {
          "Crop": "Maize",
          "Production": 475000,
          "Year": 2009
         },
         {
          "Crop": "Maize",
          "Production": 491000,
          "Year": 2010
         },
         {
          "Crop": "Maize",
          "Production": 502000,
          "Year": 2011
         },
         {
          "Crop": "Maize",
          "Production": 483000,
          "Year": 2012
         },
         {
          "Crop": "Maize",
          "Production": 507000,
          "Year": 2013
         },
         {
          "Crop": "Maize",
          "Production": 460000,
          "Year": 2014
         },
         {
          "Crop": "Maize",
          "Production": 424000,
          "Year": 2015
         },
         {
          "Crop": "Maize",
          "Production": 445000,
          "Year": 2016
         },
         {
          "Crop": "Maize",
          "Production": 423000,
          "Year": 2017
         },
         {
          "Crop": "Maize",
          "Production": 395900,
          "Year": 2018
         },
         {
          "Crop": "Maize",
          "Production": 410500,
          "Year": 2019
         }
        ]
       },
       "encoding": {
        "x": {
         "field": "Year",
         "type": "quantitative"
        },
        "y": {
         "field": "Production",
         "type": "quantitative"
        }
       },
       "mark": "line",
       "title": "Maize production in Punjab from 1997-2020"
      },
      "text/plain": [
       "<VegaLite 4 object>\n",
       "\n",
       "If you see this message, it means the renderer has not been properly enabled\n",
       "for the frontend that you are using. For more information, see\n",
       "https://altair-viz.github.io/user_guide/troubleshooting.html\n"
      ]
     },
     "execution_count": 112,
     "metadata": {},
     "output_type": "execute_result"
    }
   ],
   "source": [
    "alt.Chart(maize).mark_line().encode(\n",
    "    x='Year',\n",
    "    y=('Production')\n",
    ").properties(\n",
    "    title='Maize production in Punjab from 1997-2020')"
   ]
  },
  {
   "cell_type": "markdown",
   "metadata": {},
   "source": [
    "![](maize.png)"
   ]
  },
  {
   "cell_type": "code",
   "execution_count": 113,
   "metadata": {},
   "outputs": [
    {
     "data": {
      "text/html": [
       "<div>\n",
       "<style scoped>\n",
       "    .dataframe tbody tr th:only-of-type {\n",
       "        vertical-align: middle;\n",
       "    }\n",
       "\n",
       "    .dataframe tbody tr th {\n",
       "        vertical-align: top;\n",
       "    }\n",
       "\n",
       "    .dataframe thead th {\n",
       "        text-align: right;\n",
       "    }\n",
       "</style>\n",
       "<table border=\"1\" class=\"dataframe\">\n",
       "  <thead>\n",
       "    <tr style=\"text-align: right;\">\n",
       "      <th></th>\n",
       "      <th>Crop</th>\n",
       "      <th>Year</th>\n",
       "      <th>Production</th>\n",
       "    </tr>\n",
       "  </thead>\n",
       "  <tbody>\n",
       "    <tr>\n",
       "      <th>186</th>\n",
       "      <td>Masoor</td>\n",
       "      <td>1997</td>\n",
       "      <td>3400.0</td>\n",
       "    </tr>\n",
       "    <tr>\n",
       "      <th>187</th>\n",
       "      <td>Masoor</td>\n",
       "      <td>1998</td>\n",
       "      <td>3200.0</td>\n",
       "    </tr>\n",
       "    <tr>\n",
       "      <th>188</th>\n",
       "      <td>Masoor</td>\n",
       "      <td>1999</td>\n",
       "      <td>2600.0</td>\n",
       "    </tr>\n",
       "    <tr>\n",
       "      <th>189</th>\n",
       "      <td>Masoor</td>\n",
       "      <td>2000</td>\n",
       "      <td>3100.0</td>\n",
       "    </tr>\n",
       "    <tr>\n",
       "      <th>190</th>\n",
       "      <td>Masoor</td>\n",
       "      <td>2001</td>\n",
       "      <td>3000.0</td>\n",
       "    </tr>\n",
       "  </tbody>\n",
       "</table>\n",
       "</div>"
      ],
      "text/plain": [
       "       Crop  Year  Production\n",
       "186  Masoor  1997      3400.0\n",
       "187  Masoor  1998      3200.0\n",
       "188  Masoor  1999      2600.0\n",
       "189  Masoor  2000      3100.0\n",
       "190  Masoor  2001      3000.0"
      ]
     },
     "execution_count": 113,
     "metadata": {},
     "output_type": "execute_result"
    }
   ],
   "source": [
    "#Masoor\n",
    "masoor = pj_production[pj_production['Crop'] == 'Masoor']\n",
    "masoor.head(5)\n"
   ]
  },
  {
   "cell_type": "code",
   "execution_count": 114,
   "metadata": {},
   "outputs": [
    {
     "data": {
      "application/vnd.vegalite.v4+json": {
       "$schema": "https://vega.github.io/schema/vega-lite/v4.17.0.json",
       "config": {
        "view": {
         "continuousHeight": 300,
         "continuousWidth": 400
        }
       },
       "data": {
        "name": "data-90e973bfd2739082609c0d29db63a463"
       },
       "datasets": {
        "data-90e973bfd2739082609c0d29db63a463": [
         {
          "Crop": "Masoor",
          "Production": 3400,
          "Year": 1997
         },
         {
          "Crop": "Masoor",
          "Production": 3200,
          "Year": 1998
         },
         {
          "Crop": "Masoor",
          "Production": 2600,
          "Year": 1999
         },
         {
          "Crop": "Masoor",
          "Production": 3100,
          "Year": 2000
         },
         {
          "Crop": "Masoor",
          "Production": 3000,
          "Year": 2001
         },
         {
          "Crop": "Masoor",
          "Production": 2700,
          "Year": 2002
         },
         {
          "Crop": "Masoor",
          "Production": 2300,
          "Year": 2003
         },
         {
          "Crop": "Masoor",
          "Production": 1600,
          "Year": 2004
         },
         {
          "Crop": "Masoor",
          "Production": 900,
          "Year": 2005
         },
         {
          "Crop": "Masoor",
          "Production": 800,
          "Year": 2006
         },
         {
          "Crop": "Masoor",
          "Production": 600,
          "Year": 2007
         },
         {
          "Crop": "Masoor",
          "Production": 600,
          "Year": 2008
         },
         {
          "Crop": "Masoor",
          "Production": 700,
          "Year": 2009
         },
         {
          "Crop": "Masoor",
          "Production": 739,
          "Year": 2010
         },
         {
          "Crop": "Masoor",
          "Production": 720,
          "Year": 2011
         },
         {
          "Crop": "Masoor",
          "Production": 700,
          "Year": 2012
         },
         {
          "Crop": "Masoor",
          "Production": 630,
          "Year": 2013
         },
         {
          "Crop": "Masoor",
          "Production": 470,
          "Year": 2014
         },
         {
          "Crop": "Masoor",
          "Production": 420,
          "Year": 2015
         },
         {
          "Crop": "Masoor",
          "Production": 400,
          "Year": 2016
         },
         {
          "Crop": "Masoor",
          "Production": 500,
          "Year": 2017
         },
         {
          "Crop": "Masoor",
          "Production": 500,
          "Year": 2018
         },
         {
          "Crop": "Masoor",
          "Production": 400,
          "Year": 2019
         }
        ]
       },
       "encoding": {
        "x": {
         "field": "Year",
         "type": "quantitative"
        },
        "y": {
         "field": "Production",
         "type": "quantitative"
        }
       },
       "mark": "line",
       "title": "Masoor production in Punjab from 1997-2020"
      },
      "text/plain": [
       "<VegaLite 4 object>\n",
       "\n",
       "If you see this message, it means the renderer has not been properly enabled\n",
       "for the frontend that you are using. For more information, see\n",
       "https://altair-viz.github.io/user_guide/troubleshooting.html\n"
      ]
     },
     "execution_count": 114,
     "metadata": {},
     "output_type": "execute_result"
    }
   ],
   "source": [
    "alt.Chart(masoor).mark_line().encode(\n",
    "    x='Year',\n",
    "    y=('Production')\n",
    ").properties(\n",
    "    title='Masoor production in Punjab from 1997-2020')"
   ]
  },
  {
   "cell_type": "markdown",
   "metadata": {},
   "source": [
    "![](masoor.png)"
   ]
  },
  {
   "cell_type": "markdown",
   "metadata": {},
   "source": [
    "Masoor is a dal or a legume crop. "
   ]
  },
  {
   "cell_type": "code",
   "execution_count": 115,
   "metadata": {},
   "outputs": [
    {
     "data": {
      "text/html": [
       "<div>\n",
       "<style scoped>\n",
       "    .dataframe tbody tr th:only-of-type {\n",
       "        vertical-align: middle;\n",
       "    }\n",
       "\n",
       "    .dataframe tbody tr th {\n",
       "        vertical-align: top;\n",
       "    }\n",
       "\n",
       "    .dataframe thead th {\n",
       "        text-align: right;\n",
       "    }\n",
       "</style>\n",
       "<table border=\"1\" class=\"dataframe\">\n",
       "  <thead>\n",
       "    <tr style=\"text-align: right;\">\n",
       "      <th></th>\n",
       "      <th>Crop</th>\n",
       "      <th>Year</th>\n",
       "      <th>Production</th>\n",
       "    </tr>\n",
       "  </thead>\n",
       "  <tbody>\n",
       "    <tr>\n",
       "      <th>209</th>\n",
       "      <td>Moong(Green Gram)</td>\n",
       "      <td>1997</td>\n",
       "      <td>31700.0</td>\n",
       "    </tr>\n",
       "    <tr>\n",
       "      <th>210</th>\n",
       "      <td>Moong(Green Gram)</td>\n",
       "      <td>1998</td>\n",
       "      <td>25600.0</td>\n",
       "    </tr>\n",
       "    <tr>\n",
       "      <th>211</th>\n",
       "      <td>Moong(Green Gram)</td>\n",
       "      <td>1999</td>\n",
       "      <td>22800.0</td>\n",
       "    </tr>\n",
       "    <tr>\n",
       "      <th>212</th>\n",
       "      <td>Moong(Green Gram)</td>\n",
       "      <td>2000</td>\n",
       "      <td>18400.0</td>\n",
       "    </tr>\n",
       "    <tr>\n",
       "      <th>213</th>\n",
       "      <td>Moong(Green Gram)</td>\n",
       "      <td>2001</td>\n",
       "      <td>11000.0</td>\n",
       "    </tr>\n",
       "  </tbody>\n",
       "</table>\n",
       "</div>"
      ],
      "text/plain": [
       "                  Crop  Year  Production\n",
       "209  Moong(Green Gram)  1997     31700.0\n",
       "210  Moong(Green Gram)  1998     25600.0\n",
       "211  Moong(Green Gram)  1999     22800.0\n",
       "212  Moong(Green Gram)  2000     18400.0\n",
       "213  Moong(Green Gram)  2001     11000.0"
      ]
     },
     "execution_count": 115,
     "metadata": {},
     "output_type": "execute_result"
    }
   ],
   "source": [
    "moong = pj_production[pj_production['Crop'] == 'Moong(Green Gram)']\n",
    "moong.head(5)"
   ]
  },
  {
   "cell_type": "code",
   "execution_count": 116,
   "metadata": {},
   "outputs": [
    {
     "data": {
      "application/vnd.vegalite.v4+json": {
       "$schema": "https://vega.github.io/schema/vega-lite/v4.17.0.json",
       "config": {
        "view": {
         "continuousHeight": 300,
         "continuousWidth": 400
        }
       },
       "data": {
        "name": "data-aa7e2594f81e8170d3290144e17ff576"
       },
       "datasets": {
        "data-aa7e2594f81e8170d3290144e17ff576": [
         {
          "Crop": "Moong(Green Gram)",
          "Production": 31700,
          "Year": 1997
         },
         {
          "Crop": "Moong(Green Gram)",
          "Production": 25600,
          "Year": 1998
         },
         {
          "Crop": "Moong(Green Gram)",
          "Production": 22800,
          "Year": 1999
         },
         {
          "Crop": "Moong(Green Gram)",
          "Production": 18400,
          "Year": 2000
         },
         {
          "Crop": "Moong(Green Gram)",
          "Production": 11000,
          "Year": 2001
         },
         {
          "Crop": "Moong(Green Gram)",
          "Production": 10500,
          "Year": 2002
         },
         {
          "Crop": "Moong(Green Gram)",
          "Production": 15800,
          "Year": 2003
         },
         {
          "Crop": "Moong(Green Gram)",
          "Production": 12000,
          "Year": 2004
         },
         {
          "Crop": "Moong(Green Gram)",
          "Production": 9900,
          "Year": 2005
         },
         {
          "Crop": "Moong(Green Gram)",
          "Production": 10700,
          "Year": 2006
         },
         {
          "Crop": "Moong(Green Gram)",
          "Production": 8400,
          "Year": 2007
         },
         {
          "Crop": "Moong(Green Gram)",
          "Production": 7900,
          "Year": 2008
         },
         {
          "Crop": "Moong(Green Gram)",
          "Production": 6400,
          "Year": 2009
         },
         {
          "Crop": "Moong(Green Gram)",
          "Production": 6300,
          "Year": 2010
         },
         {
          "Crop": "Moong(Green Gram)",
          "Production": 5600,
          "Year": 2011
         },
         {
          "Crop": "Moong(Green Gram)",
          "Production": 4200,
          "Year": 2012
         },
         {
          "Crop": "Moong(Green Gram)",
          "Production": 3800,
          "Year": 2013
         },
         {
          "Crop": "Moong(Green Gram)",
          "Production": 3100,
          "Year": 2014
         },
         {
          "Crop": "Moong(Green Gram)",
          "Production": 4290,
          "Year": 2015
         },
         {
          "Crop": "Moong(Green Gram)",
          "Production": 4000,
          "Year": 2016
         },
         {
          "Crop": "Moong(Green Gram)",
          "Production": 18500,
          "Year": 2017
         },
         {
          "Crop": "Moong(Green Gram)",
          "Production": 16800,
          "Year": 2018
         },
         {
          "Crop": "Moong(Green Gram)",
          "Production": 21800,
          "Year": 2019
         }
        ]
       },
       "encoding": {
        "x": {
         "field": "Year",
         "type": "quantitative"
        },
        "y": {
         "field": "Production",
         "type": "quantitative"
        }
       },
       "mark": "line",
       "title": "Moong (green gram) production in Punjab from 1997-2020"
      },
      "text/plain": [
       "<VegaLite 4 object>\n",
       "\n",
       "If you see this message, it means the renderer has not been properly enabled\n",
       "for the frontend that you are using. For more information, see\n",
       "https://altair-viz.github.io/user_guide/troubleshooting.html\n"
      ]
     },
     "execution_count": 116,
     "metadata": {},
     "output_type": "execute_result"
    }
   ],
   "source": [
    "alt.Chart(moong).mark_line().encode(\n",
    "    x='Year',\n",
    "    y=('Production')\n",
    ").properties(\n",
    "    title='Moong (green gram) production in Punjab from 1997-2020')"
   ]
  },
  {
   "cell_type": "markdown",
   "metadata": {},
   "source": [
    "![](moong.png)"
   ]
  },
  {
   "cell_type": "markdown",
   "metadata": {},
   "source": [
    "Moong production seems to be reviving. "
   ]
  },
  {
   "cell_type": "code",
   "execution_count": 117,
   "metadata": {},
   "outputs": [
    {
     "data": {
      "text/html": [
       "<div>\n",
       "<style scoped>\n",
       "    .dataframe tbody tr th:only-of-type {\n",
       "        vertical-align: middle;\n",
       "    }\n",
       "\n",
       "    .dataframe tbody tr th {\n",
       "        vertical-align: top;\n",
       "    }\n",
       "\n",
       "    .dataframe thead th {\n",
       "        text-align: right;\n",
       "    }\n",
       "</style>\n",
       "<table border=\"1\" class=\"dataframe\">\n",
       "  <thead>\n",
       "    <tr style=\"text-align: right;\">\n",
       "      <th></th>\n",
       "      <th>Crop</th>\n",
       "      <th>Year</th>\n",
       "      <th>Production</th>\n",
       "    </tr>\n",
       "  </thead>\n",
       "  <tbody>\n",
       "    <tr>\n",
       "      <th>232</th>\n",
       "      <td>Moth</td>\n",
       "      <td>2000</td>\n",
       "      <td>300.0</td>\n",
       "    </tr>\n",
       "    <tr>\n",
       "      <th>233</th>\n",
       "      <td>Moth</td>\n",
       "      <td>2001</td>\n",
       "      <td>300.0</td>\n",
       "    </tr>\n",
       "    <tr>\n",
       "      <th>234</th>\n",
       "      <td>Moth</td>\n",
       "      <td>2002</td>\n",
       "      <td>200.0</td>\n",
       "    </tr>\n",
       "    <tr>\n",
       "      <th>235</th>\n",
       "      <td>Moth</td>\n",
       "      <td>2003</td>\n",
       "      <td>400.0</td>\n",
       "    </tr>\n",
       "    <tr>\n",
       "      <th>236</th>\n",
       "      <td>Moth</td>\n",
       "      <td>2004</td>\n",
       "      <td>200.0</td>\n",
       "    </tr>\n",
       "    <tr>\n",
       "      <th>237</th>\n",
       "      <td>Moth</td>\n",
       "      <td>2005</td>\n",
       "      <td>300.0</td>\n",
       "    </tr>\n",
       "    <tr>\n",
       "      <th>238</th>\n",
       "      <td>Moth</td>\n",
       "      <td>2006</td>\n",
       "      <td>100.0</td>\n",
       "    </tr>\n",
       "  </tbody>\n",
       "</table>\n",
       "</div>"
      ],
      "text/plain": [
       "     Crop  Year  Production\n",
       "232  Moth  2000       300.0\n",
       "233  Moth  2001       300.0\n",
       "234  Moth  2002       200.0\n",
       "235  Moth  2003       400.0\n",
       "236  Moth  2004       200.0\n",
       "237  Moth  2005       300.0\n",
       "238  Moth  2006       100.0"
      ]
     },
     "execution_count": 117,
     "metadata": {},
     "output_type": "execute_result"
    }
   ],
   "source": [
    "#Moth\n",
    "moth = pj_production[pj_production['Crop'] == 'Moth']\n",
    "moth.head(20)\n"
   ]
  },
  {
   "cell_type": "code",
   "execution_count": 118,
   "metadata": {},
   "outputs": [
    {
     "data": {
      "application/vnd.vegalite.v4+json": {
       "$schema": "https://vega.github.io/schema/vega-lite/v4.17.0.json",
       "config": {
        "view": {
         "continuousHeight": 300,
         "continuousWidth": 400
        }
       },
       "data": {
        "name": "data-a6d9f3479dd9c7970d6d7a7523cde342"
       },
       "datasets": {
        "data-a6d9f3479dd9c7970d6d7a7523cde342": [
         {
          "Crop": "Moth",
          "Production": 300,
          "Year": 2000
         },
         {
          "Crop": "Moth",
          "Production": 300,
          "Year": 2001
         },
         {
          "Crop": "Moth",
          "Production": 200,
          "Year": 2002
         },
         {
          "Crop": "Moth",
          "Production": 400,
          "Year": 2003
         },
         {
          "Crop": "Moth",
          "Production": 200,
          "Year": 2004
         },
         {
          "Crop": "Moth",
          "Production": 300,
          "Year": 2005
         },
         {
          "Crop": "Moth",
          "Production": 100,
          "Year": 2006
         }
        ]
       },
       "encoding": {
        "x": {
         "field": "Year",
         "type": "quantitative"
        },
        "y": {
         "field": "Production",
         "type": "quantitative"
        }
       },
       "mark": "line",
       "title": "Moth production in Punjab from 1997-2020"
      },
      "text/plain": [
       "<VegaLite 4 object>\n",
       "\n",
       "If you see this message, it means the renderer has not been properly enabled\n",
       "for the frontend that you are using. For more information, see\n",
       "https://altair-viz.github.io/user_guide/troubleshooting.html\n"
      ]
     },
     "execution_count": 118,
     "metadata": {},
     "output_type": "execute_result"
    }
   ],
   "source": [
    "alt.Chart(moth).mark_line().encode(\n",
    "    x='Year',\n",
    "    y=('Production')\n",
    ").properties(\n",
    "    title='Moth production in Punjab from 1997-2020')"
   ]
  },
  {
   "cell_type": "markdown",
   "metadata": {},
   "source": [
    "![](moth.png)"
   ]
  },
  {
   "cell_type": "markdown",
   "metadata": {},
   "source": [
    "Moth was grown only from 2000-2006. "
   ]
  },
  {
   "cell_type": "code",
   "execution_count": 119,
   "metadata": {},
   "outputs": [
    {
     "data": {
      "text/html": [
       "<div>\n",
       "<style scoped>\n",
       "    .dataframe tbody tr th:only-of-type {\n",
       "        vertical-align: middle;\n",
       "    }\n",
       "\n",
       "    .dataframe tbody tr th {\n",
       "        vertical-align: top;\n",
       "    }\n",
       "\n",
       "    .dataframe thead th {\n",
       "        text-align: right;\n",
       "    }\n",
       "</style>\n",
       "<table border=\"1\" class=\"dataframe\">\n",
       "  <thead>\n",
       "    <tr style=\"text-align: right;\">\n",
       "      <th></th>\n",
       "      <th>Crop</th>\n",
       "      <th>Year</th>\n",
       "      <th>Production</th>\n",
       "    </tr>\n",
       "  </thead>\n",
       "  <tbody>\n",
       "    <tr>\n",
       "      <th>239</th>\n",
       "      <td>Other Rabi pulses</td>\n",
       "      <td>2000</td>\n",
       "      <td>6300.0</td>\n",
       "    </tr>\n",
       "  </tbody>\n",
       "</table>\n",
       "</div>"
      ],
      "text/plain": [
       "                  Crop  Year  Production\n",
       "239  Other Rabi pulses  2000      6300.0"
      ]
     },
     "execution_count": 119,
     "metadata": {},
     "output_type": "execute_result"
    }
   ],
   "source": [
    "#Other Rabi Pulses - rabi is the winter cropping season\n",
    "rabi = pj_production[pj_production['Crop'] == 'Other Rabi pulses']\n",
    "rabi.head(5)"
   ]
  },
  {
   "cell_type": "markdown",
   "metadata": {},
   "source": [
    "Only 2000 year has this dataset recorded. "
   ]
  },
  {
   "cell_type": "code",
   "execution_count": 120,
   "metadata": {},
   "outputs": [
    {
     "data": {
      "text/html": [
       "<div>\n",
       "<style scoped>\n",
       "    .dataframe tbody tr th:only-of-type {\n",
       "        vertical-align: middle;\n",
       "    }\n",
       "\n",
       "    .dataframe tbody tr th {\n",
       "        vertical-align: top;\n",
       "    }\n",
       "\n",
       "    .dataframe thead th {\n",
       "        text-align: right;\n",
       "    }\n",
       "</style>\n",
       "<table border=\"1\" class=\"dataframe\">\n",
       "  <thead>\n",
       "    <tr style=\"text-align: right;\">\n",
       "      <th></th>\n",
       "      <th>Crop</th>\n",
       "      <th>Year</th>\n",
       "      <th>Production</th>\n",
       "    </tr>\n",
       "  </thead>\n",
       "  <tbody>\n",
       "    <tr>\n",
       "      <th>240</th>\n",
       "      <td>Peas &amp; beans (Pulses)</td>\n",
       "      <td>1998</td>\n",
       "      <td>4100.0</td>\n",
       "    </tr>\n",
       "    <tr>\n",
       "      <th>241</th>\n",
       "      <td>Peas &amp; beans (Pulses)</td>\n",
       "      <td>1999</td>\n",
       "      <td>2800.0</td>\n",
       "    </tr>\n",
       "    <tr>\n",
       "      <th>242</th>\n",
       "      <td>Peas &amp; beans (Pulses)</td>\n",
       "      <td>2005</td>\n",
       "      <td>4000.0</td>\n",
       "    </tr>\n",
       "    <tr>\n",
       "      <th>243</th>\n",
       "      <td>Peas &amp; beans (Pulses)</td>\n",
       "      <td>2006</td>\n",
       "      <td>3600.0</td>\n",
       "    </tr>\n",
       "    <tr>\n",
       "      <th>244</th>\n",
       "      <td>Peas &amp; beans (Pulses)</td>\n",
       "      <td>2008</td>\n",
       "      <td>2300.0</td>\n",
       "    </tr>\n",
       "  </tbody>\n",
       "</table>\n",
       "</div>"
      ],
      "text/plain": [
       "                      Crop  Year  Production\n",
       "240  Peas & beans (Pulses)  1998      4100.0\n",
       "241  Peas & beans (Pulses)  1999      2800.0\n",
       "242  Peas & beans (Pulses)  2005      4000.0\n",
       "243  Peas & beans (Pulses)  2006      3600.0\n",
       "244  Peas & beans (Pulses)  2008      2300.0"
      ]
     },
     "execution_count": 120,
     "metadata": {},
     "output_type": "execute_result"
    }
   ],
   "source": [
    "#Peas and beans\n",
    "pb = pj_production[pj_production['Crop'] == 'Peas & beans (Pulses)']\n",
    "pb.head(5)"
   ]
  },
  {
   "cell_type": "code",
   "execution_count": 121,
   "metadata": {},
   "outputs": [
    {
     "data": {
      "application/vnd.vegalite.v4+json": {
       "$schema": "https://vega.github.io/schema/vega-lite/v4.17.0.json",
       "config": {
        "view": {
         "continuousHeight": 300,
         "continuousWidth": 400
        }
       },
       "data": {
        "name": "data-d5fc2960844360cc6ff925cf957e8c14"
       },
       "datasets": {
        "data-d5fc2960844360cc6ff925cf957e8c14": [
         {
          "Crop": "Peas & beans (Pulses)",
          "Production": 4100,
          "Year": 1998
         },
         {
          "Crop": "Peas & beans (Pulses)",
          "Production": 2800,
          "Year": 1999
         },
         {
          "Crop": "Peas & beans (Pulses)",
          "Production": 4000,
          "Year": 2005
         },
         {
          "Crop": "Peas & beans (Pulses)",
          "Production": 3600,
          "Year": 2006
         },
         {
          "Crop": "Peas & beans (Pulses)",
          "Production": 2300,
          "Year": 2008
         },
         {
          "Crop": "Peas & beans (Pulses)",
          "Production": 1800,
          "Year": 2009
         },
         {
          "Crop": "Peas & beans (Pulses)",
          "Production": 4100,
          "Year": 2010
         },
         {
          "Crop": "Peas & beans (Pulses)",
          "Production": 3500,
          "Year": 2011
         },
         {
          "Crop": "Peas & beans (Pulses)",
          "Production": 1200,
          "Year": 2012
         },
         {
          "Crop": "Peas & beans (Pulses)",
          "Production": 1260,
          "Year": 2013
         },
         {
          "Crop": "Peas & beans (Pulses)",
          "Production": 2560,
          "Year": 2014
         },
         {
          "Crop": "Peas & beans (Pulses)",
          "Production": 5300,
          "Year": 2015
         },
         {
          "Crop": "Peas & beans (Pulses)",
          "Production": 4200,
          "Year": 2016
         },
         {
          "Crop": "Peas & beans (Pulses)",
          "Production": 1900,
          "Year": 2017
         },
         {
          "Crop": "Peas & beans (Pulses)",
          "Production": 4400,
          "Year": 2018
         },
         {
          "Crop": "Peas & beans (Pulses)",
          "Production": 1600,
          "Year": 2019
         }
        ]
       },
       "encoding": {
        "x": {
         "field": "Year",
         "type": "quantitative"
        },
        "y": {
         "field": "Production",
         "type": "quantitative"
        }
       },
       "mark": "line",
       "title": "Peas and beans production in Punjab from 1997-2020"
      },
      "text/plain": [
       "<VegaLite 4 object>\n",
       "\n",
       "If you see this message, it means the renderer has not been properly enabled\n",
       "for the frontend that you are using. For more information, see\n",
       "https://altair-viz.github.io/user_guide/troubleshooting.html\n"
      ]
     },
     "execution_count": 121,
     "metadata": {},
     "output_type": "execute_result"
    }
   ],
   "source": [
    "alt.Chart(pb).mark_line().encode(\n",
    "    x='Year',\n",
    "    y=('Production')\n",
    ").properties(\n",
    "    title='Peas and beans production in Punjab from 1997-2020')"
   ]
  },
  {
   "cell_type": "markdown",
   "metadata": {},
   "source": [
    "![](peas%20and%20beans.png)"
   ]
  },
  {
   "cell_type": "code",
   "execution_count": 122,
   "metadata": {},
   "outputs": [
    {
     "data": {
      "text/html": [
       "<div>\n",
       "<style scoped>\n",
       "    .dataframe tbody tr th:only-of-type {\n",
       "        vertical-align: middle;\n",
       "    }\n",
       "\n",
       "    .dataframe tbody tr th {\n",
       "        vertical-align: top;\n",
       "    }\n",
       "\n",
       "    .dataframe thead th {\n",
       "        text-align: right;\n",
       "    }\n",
       "</style>\n",
       "<table border=\"1\" class=\"dataframe\">\n",
       "  <thead>\n",
       "    <tr style=\"text-align: right;\">\n",
       "      <th></th>\n",
       "      <th>Crop</th>\n",
       "      <th>Year</th>\n",
       "      <th>Production</th>\n",
       "    </tr>\n",
       "  </thead>\n",
       "  <tbody>\n",
       "    <tr>\n",
       "      <th>256</th>\n",
       "      <td>Rapeseed &amp;Mustard</td>\n",
       "      <td>1997</td>\n",
       "      <td>63000.0</td>\n",
       "    </tr>\n",
       "    <tr>\n",
       "      <th>257</th>\n",
       "      <td>Rapeseed &amp;Mustard</td>\n",
       "      <td>1998</td>\n",
       "      <td>69000.0</td>\n",
       "    </tr>\n",
       "    <tr>\n",
       "      <th>258</th>\n",
       "      <td>Rapeseed &amp;Mustard</td>\n",
       "      <td>1999</td>\n",
       "      <td>63000.0</td>\n",
       "    </tr>\n",
       "    <tr>\n",
       "      <th>259</th>\n",
       "      <td>Rapeseed &amp;Mustard</td>\n",
       "      <td>2001</td>\n",
       "      <td>6500.0</td>\n",
       "    </tr>\n",
       "    <tr>\n",
       "      <th>260</th>\n",
       "      <td>Rapeseed &amp;Mustard</td>\n",
       "      <td>2002</td>\n",
       "      <td>60000.0</td>\n",
       "    </tr>\n",
       "  </tbody>\n",
       "</table>\n",
       "</div>"
      ],
      "text/plain": [
       "                  Crop  Year  Production\n",
       "256  Rapeseed &Mustard  1997     63000.0\n",
       "257  Rapeseed &Mustard  1998     69000.0\n",
       "258  Rapeseed &Mustard  1999     63000.0\n",
       "259  Rapeseed &Mustard  2001      6500.0\n",
       "260  Rapeseed &Mustard  2002     60000.0"
      ]
     },
     "execution_count": 122,
     "metadata": {},
     "output_type": "execute_result"
    }
   ],
   "source": [
    "#Rapeseed and mustard\n",
    "rm = pj_production[pj_production['Crop'] == 'Rapeseed &Mustard']\n",
    "rm.head(5)"
   ]
  },
  {
   "cell_type": "code",
   "execution_count": 123,
   "metadata": {},
   "outputs": [
    {
     "data": {
      "application/vnd.vegalite.v4+json": {
       "$schema": "https://vega.github.io/schema/vega-lite/v4.17.0.json",
       "config": {
        "view": {
         "continuousHeight": 300,
         "continuousWidth": 400
        }
       },
       "data": {
        "name": "data-8ad4e07fdf9b0c6eb0960cbfa8527ade"
       },
       "datasets": {
        "data-8ad4e07fdf9b0c6eb0960cbfa8527ade": [
         {
          "Crop": "Rapeseed &Mustard",
          "Production": 63000,
          "Year": 1997
         },
         {
          "Crop": "Rapeseed &Mustard",
          "Production": 69000,
          "Year": 1998
         },
         {
          "Crop": "Rapeseed &Mustard",
          "Production": 63000,
          "Year": 1999
         },
         {
          "Crop": "Rapeseed &Mustard",
          "Production": 6500,
          "Year": 2001
         },
         {
          "Crop": "Rapeseed &Mustard",
          "Production": 60000,
          "Year": 2002
         },
         {
          "Crop": "Rapeseed &Mustard",
          "Production": 62000,
          "Year": 2003
         },
         {
          "Crop": "Rapeseed &Mustard",
          "Production": 62000,
          "Year": 2004
         },
         {
          "Crop": "Rapeseed &Mustard",
          "Production": 54000,
          "Year": 2005
         },
         {
          "Crop": "Rapeseed &Mustard",
          "Production": 46000,
          "Year": 2006
         },
         {
          "Crop": "Rapeseed &Mustard",
          "Production": 33000,
          "Year": 2007
         },
         {
          "Crop": "Rapeseed &Mustard",
          "Production": 33000,
          "Year": 2008
         },
         {
          "Crop": "Rapeseed &Mustard",
          "Production": 39000,
          "Year": 2009
         },
         {
          "Crop": "Rapeseed &Mustard",
          "Production": 41000,
          "Year": 2010
         },
         {
          "Crop": "Rapeseed &Mustard",
          "Production": 37000,
          "Year": 2011
         },
         {
          "Crop": "Rapeseed &Mustard",
          "Production": 41700,
          "Year": 2012
         },
         {
          "Crop": "Rapeseed &Mustard",
          "Production": 41800,
          "Year": 2013
         },
         {
          "Crop": "Rapeseed &Mustard",
          "Production": 38700,
          "Year": 2014
         },
         {
          "Crop": "Rapeseed &Mustard",
          "Production": 41800,
          "Year": 2015
         },
         {
          "Crop": "Rapeseed &Mustard",
          "Production": 44800,
          "Year": 2016
         },
         {
          "Crop": "Rapeseed &Mustard",
          "Production": 45700,
          "Year": 2017
         },
         {
          "Crop": "Rapeseed &Mustard",
          "Production": 46500,
          "Year": 2018
         },
         {
          "Crop": "Rapeseed &Mustard",
          "Production": 42600,
          "Year": 2019
         }
        ]
       },
       "encoding": {
        "x": {
         "field": "Year",
         "type": "quantitative"
        },
        "y": {
         "field": "Production",
         "type": "quantitative"
        }
       },
       "mark": "line",
       "title": "Rapeseed & mustard production in Punjab from 1997-2020"
      },
      "text/plain": [
       "<VegaLite 4 object>\n",
       "\n",
       "If you see this message, it means the renderer has not been properly enabled\n",
       "for the frontend that you are using. For more information, see\n",
       "https://altair-viz.github.io/user_guide/troubleshooting.html\n"
      ]
     },
     "execution_count": 123,
     "metadata": {},
     "output_type": "execute_result"
    }
   ],
   "source": [
    "alt.Chart(rm).mark_line().encode(\n",
    "    x='Year',\n",
    "    y=('Production')\n",
    ").properties(\n",
    "    title='Rapeseed & mustard production in Punjab from 1997-2020')"
   ]
  },
  {
   "cell_type": "markdown",
   "metadata": {},
   "source": [
    "![](rapeseed%20and%20mustard.png)"
   ]
  },
  {
   "cell_type": "code",
   "execution_count": 124,
   "metadata": {},
   "outputs": [
    {
     "data": {
      "text/html": [
       "<div>\n",
       "<style scoped>\n",
       "    .dataframe tbody tr th:only-of-type {\n",
       "        vertical-align: middle;\n",
       "    }\n",
       "\n",
       "    .dataframe tbody tr th {\n",
       "        vertical-align: top;\n",
       "    }\n",
       "\n",
       "    .dataframe thead th {\n",
       "        text-align: right;\n",
       "    }\n",
       "</style>\n",
       "<table border=\"1\" class=\"dataframe\">\n",
       "  <thead>\n",
       "    <tr style=\"text-align: right;\">\n",
       "      <th></th>\n",
       "      <th>Crop</th>\n",
       "      <th>Year</th>\n",
       "      <th>Production</th>\n",
       "    </tr>\n",
       "  </thead>\n",
       "  <tbody>\n",
       "    <tr>\n",
       "      <th>301</th>\n",
       "      <td>Sesamum</td>\n",
       "      <td>1997</td>\n",
       "      <td>4500.0</td>\n",
       "    </tr>\n",
       "    <tr>\n",
       "      <th>302</th>\n",
       "      <td>Sesamum</td>\n",
       "      <td>1998</td>\n",
       "      <td>4200.0</td>\n",
       "    </tr>\n",
       "    <tr>\n",
       "      <th>303</th>\n",
       "      <td>Sesamum</td>\n",
       "      <td>1999</td>\n",
       "      <td>5200.0</td>\n",
       "    </tr>\n",
       "    <tr>\n",
       "      <th>304</th>\n",
       "      <td>Sesamum</td>\n",
       "      <td>2000</td>\n",
       "      <td>7660.0</td>\n",
       "    </tr>\n",
       "    <tr>\n",
       "      <th>305</th>\n",
       "      <td>Sesamum</td>\n",
       "      <td>2001</td>\n",
       "      <td>8000.0</td>\n",
       "    </tr>\n",
       "  </tbody>\n",
       "</table>\n",
       "</div>"
      ],
      "text/plain": [
       "        Crop  Year  Production\n",
       "301  Sesamum  1997      4500.0\n",
       "302  Sesamum  1998      4200.0\n",
       "303  Sesamum  1999      5200.0\n",
       "304  Sesamum  2000      7660.0\n",
       "305  Sesamum  2001      8000.0"
      ]
     },
     "execution_count": 124,
     "metadata": {},
     "output_type": "execute_result"
    }
   ],
   "source": [
    "#Sesamum\n",
    "ses = pj_production[pj_production['Crop'] == 'Sesamum']\n",
    "ses.head(5)"
   ]
  },
  {
   "cell_type": "code",
   "execution_count": 125,
   "metadata": {},
   "outputs": [
    {
     "data": {
      "application/vnd.vegalite.v4+json": {
       "$schema": "https://vega.github.io/schema/vega-lite/v4.17.0.json",
       "config": {
        "view": {
         "continuousHeight": 300,
         "continuousWidth": 400
        }
       },
       "data": {
        "name": "data-138e8464340068131385e6213b43baeb"
       },
       "datasets": {
        "data-138e8464340068131385e6213b43baeb": [
         {
          "Crop": "Sesamum",
          "Production": 4500,
          "Year": 1997
         },
         {
          "Crop": "Sesamum",
          "Production": 4200,
          "Year": 1998
         },
         {
          "Crop": "Sesamum",
          "Production": 5200,
          "Year": 1999
         },
         {
          "Crop": "Sesamum",
          "Production": 7660,
          "Year": 2000
         },
         {
          "Crop": "Sesamum",
          "Production": 8000,
          "Year": 2001
         },
         {
          "Crop": "Sesamum",
          "Production": 4900,
          "Year": 2002
         },
         {
          "Crop": "Sesamum",
          "Production": 3600,
          "Year": 2003
         },
         {
          "Crop": "Sesamum",
          "Production": 4100,
          "Year": 2004
         },
         {
          "Crop": "Sesamum",
          "Production": 4000,
          "Year": 2005
         },
         {
          "Crop": "Sesamum",
          "Production": 3200,
          "Year": 2006
         },
         {
          "Crop": "Sesamum",
          "Production": 2700,
          "Year": 2007
         },
         {
          "Crop": "Sesamum",
          "Production": 2800,
          "Year": 2008
         },
         {
          "Crop": "Sesamum",
          "Production": 2600,
          "Year": 2009
         },
         {
          "Crop": "Sesamum",
          "Production": 2300,
          "Year": 2010
         },
         {
          "Crop": "Sesamum",
          "Production": 1600,
          "Year": 2011
         },
         {
          "Crop": "Sesamum",
          "Production": 1900,
          "Year": 2012
         },
         {
          "Crop": "Sesamum",
          "Production": 1400,
          "Year": 2013
         },
         {
          "Crop": "Sesamum",
          "Production": 1400,
          "Year": 2014
         },
         {
          "Crop": "Sesamum",
          "Production": 1550,
          "Year": 2015
         },
         {
          "Crop": "Sesamum",
          "Production": 1100,
          "Year": 2016
         },
         {
          "Crop": "Sesamum",
          "Production": 900,
          "Year": 2017
         },
         {
          "Crop": "Sesamum",
          "Production": 800,
          "Year": 2018
         },
         {
          "Crop": "Sesamum",
          "Production": 1000,
          "Year": 2019
         }
        ]
       },
       "encoding": {
        "x": {
         "field": "Year",
         "type": "quantitative"
        },
        "y": {
         "field": "Production",
         "type": "quantitative"
        }
       },
       "mark": "line",
       "title": "Sesamum production in Punjab from 1997-2020"
      },
      "text/plain": [
       "<VegaLite 4 object>\n",
       "\n",
       "If you see this message, it means the renderer has not been properly enabled\n",
       "for the frontend that you are using. For more information, see\n",
       "https://altair-viz.github.io/user_guide/troubleshooting.html\n"
      ]
     },
     "execution_count": 125,
     "metadata": {},
     "output_type": "execute_result"
    }
   ],
   "source": [
    "alt.Chart(ses).mark_line().encode(\n",
    "    x='Year',\n",
    "    y=('Production')\n",
    ").properties(\n",
    "    title='Sesamum production in Punjab from 1997-2020')"
   ]
  },
  {
   "cell_type": "markdown",
   "metadata": {},
   "source": [
    "![](sesamum.png)"
   ]
  },
  {
   "cell_type": "code",
   "execution_count": 126,
   "metadata": {},
   "outputs": [
    {
     "data": {
      "text/html": [
       "<div>\n",
       "<style scoped>\n",
       "    .dataframe tbody tr th:only-of-type {\n",
       "        vertical-align: middle;\n",
       "    }\n",
       "\n",
       "    .dataframe tbody tr th {\n",
       "        vertical-align: top;\n",
       "    }\n",
       "\n",
       "    .dataframe thead th {\n",
       "        text-align: right;\n",
       "    }\n",
       "</style>\n",
       "<table border=\"1\" class=\"dataframe\">\n",
       "  <thead>\n",
       "    <tr style=\"text-align: right;\">\n",
       "      <th></th>\n",
       "      <th>Crop</th>\n",
       "      <th>Year</th>\n",
       "      <th>Production</th>\n",
       "    </tr>\n",
       "  </thead>\n",
       "  <tbody>\n",
       "    <tr>\n",
       "      <th>324</th>\n",
       "      <td>Sugarcane</td>\n",
       "      <td>1997</td>\n",
       "      <td>7150000.0</td>\n",
       "    </tr>\n",
       "    <tr>\n",
       "      <th>325</th>\n",
       "      <td>Sugarcane</td>\n",
       "      <td>1998</td>\n",
       "      <td>6130000.0</td>\n",
       "    </tr>\n",
       "    <tr>\n",
       "      <th>326</th>\n",
       "      <td>Sugarcane</td>\n",
       "      <td>1999</td>\n",
       "      <td>6770000.0</td>\n",
       "    </tr>\n",
       "    <tr>\n",
       "      <th>327</th>\n",
       "      <td>Sugarcane</td>\n",
       "      <td>2000</td>\n",
       "      <td>7770000.0</td>\n",
       "    </tr>\n",
       "    <tr>\n",
       "      <th>328</th>\n",
       "      <td>Sugarcane</td>\n",
       "      <td>2001</td>\n",
       "      <td>9250000.0</td>\n",
       "    </tr>\n",
       "  </tbody>\n",
       "</table>\n",
       "</div>"
      ],
      "text/plain": [
       "          Crop  Year  Production\n",
       "324  Sugarcane  1997   7150000.0\n",
       "325  Sugarcane  1998   6130000.0\n",
       "326  Sugarcane  1999   6770000.0\n",
       "327  Sugarcane  2000   7770000.0\n",
       "328  Sugarcane  2001   9250000.0"
      ]
     },
     "execution_count": 126,
     "metadata": {},
     "output_type": "execute_result"
    }
   ],
   "source": [
    "##Sugarcane\n",
    "sugarcane = pj_production[pj_production['Crop'] == 'Sugarcane']\n",
    "sugarcane.head(5)"
   ]
  },
  {
   "cell_type": "code",
   "execution_count": 127,
   "metadata": {},
   "outputs": [
    {
     "data": {
      "application/vnd.vegalite.v4+json": {
       "$schema": "https://vega.github.io/schema/vega-lite/v4.17.0.json",
       "config": {
        "view": {
         "continuousHeight": 300,
         "continuousWidth": 400
        }
       },
       "data": {
        "name": "data-9f35e0e91ca440927b2ad3f1359a5c6c"
       },
       "datasets": {
        "data-9f35e0e91ca440927b2ad3f1359a5c6c": [
         {
          "Crop": "Sugarcane",
          "Production": 7150000,
          "Year": 1997
         },
         {
          "Crop": "Sugarcane",
          "Production": 6130000,
          "Year": 1998
         },
         {
          "Crop": "Sugarcane",
          "Production": 6770000,
          "Year": 1999
         },
         {
          "Crop": "Sugarcane",
          "Production": 7770000,
          "Year": 2000
         },
         {
          "Crop": "Sugarcane",
          "Production": 9250000,
          "Year": 2001
         },
         {
          "Crop": "Sugarcane",
          "Production": 9110000,
          "Year": 2002
         },
         {
          "Crop": "Sugarcane",
          "Production": 6620000,
          "Year": 2003
         },
         {
          "Crop": "Sugarcane",
          "Production": 5170000,
          "Year": 2004
         },
         {
          "Crop": "Sugarcane",
          "Production": 5241000,
          "Year": 2005
         },
         {
          "Crop": "Sugarcane",
          "Production": 370000,
          "Year": 2009
         },
         {
          "Crop": "Sugarcane",
          "Production": 5653000,
          "Year": 2011
         },
         {
          "Crop": "Sugarcane",
          "Production": 5832000,
          "Year": 2012
         },
         {
          "Crop": "Sugarcane",
          "Production": 6675000,
          "Year": 2013
         },
         {
          "Crop": "Sugarcane",
          "Production": 7039000,
          "Year": 2014
         },
         {
          "Crop": "Sugarcane",
          "Production": 6607000,
          "Year": 2015
         },
         {
          "Crop": "Sugarcane",
          "Production": 7152000,
          "Year": 2016
         },
         {
          "Crop": "Sugarcane",
          "Production": 8024000,
          "Year": 2017
         },
         {
          "Crop": "Sugarcane",
          "Production": 7774000,
          "Year": 2018
         },
         {
          "Crop": "Sugarcane",
          "Production": 7302000,
          "Year": 2019
         }
        ]
       },
       "encoding": {
        "x": {
         "field": "Year",
         "type": "quantitative"
        },
        "y": {
         "field": "Production",
         "type": "quantitative"
        }
       },
       "mark": "line",
       "title": "Sugarcane production in Punjab from 1997-2020"
      },
      "text/plain": [
       "<VegaLite 4 object>\n",
       "\n",
       "If you see this message, it means the renderer has not been properly enabled\n",
       "for the frontend that you are using. For more information, see\n",
       "https://altair-viz.github.io/user_guide/troubleshooting.html\n"
      ]
     },
     "execution_count": 127,
     "metadata": {},
     "output_type": "execute_result"
    }
   ],
   "source": [
    "alt.Chart(sugarcane).mark_line().encode(\n",
    "    x='Year',\n",
    "    y=('Production')\n",
    ").properties(\n",
    "    title='Sugarcane production in Punjab from 1997-2020')"
   ]
  },
  {
   "cell_type": "markdown",
   "metadata": {},
   "source": [
    "![](sugarcane.png)"
   ]
  },
  {
   "cell_type": "code",
   "execution_count": 128,
   "metadata": {},
   "outputs": [
    {
     "data": {
      "text/html": [
       "<div>\n",
       "<style scoped>\n",
       "    .dataframe tbody tr th:only-of-type {\n",
       "        vertical-align: middle;\n",
       "    }\n",
       "\n",
       "    .dataframe tbody tr th {\n",
       "        vertical-align: top;\n",
       "    }\n",
       "\n",
       "    .dataframe thead th {\n",
       "        text-align: right;\n",
       "    }\n",
       "</style>\n",
       "<table border=\"1\" class=\"dataframe\">\n",
       "  <thead>\n",
       "    <tr style=\"text-align: right;\">\n",
       "      <th></th>\n",
       "      <th>Crop</th>\n",
       "      <th>Year</th>\n",
       "      <th>Production</th>\n",
       "    </tr>\n",
       "  </thead>\n",
       "  <tbody>\n",
       "    <tr>\n",
       "      <th>343</th>\n",
       "      <td>Sunflower</td>\n",
       "      <td>2003</td>\n",
       "      <td>34000.0</td>\n",
       "    </tr>\n",
       "    <tr>\n",
       "      <th>344</th>\n",
       "      <td>Sunflower</td>\n",
       "      <td>2012</td>\n",
       "      <td>23700.0</td>\n",
       "    </tr>\n",
       "    <tr>\n",
       "      <th>345</th>\n",
       "      <td>Sunflower</td>\n",
       "      <td>2016</td>\n",
       "      <td>9600.0</td>\n",
       "    </tr>\n",
       "    <tr>\n",
       "      <th>346</th>\n",
       "      <td>Sunflower</td>\n",
       "      <td>2017</td>\n",
       "      <td>11600.0</td>\n",
       "    </tr>\n",
       "    <tr>\n",
       "      <th>347</th>\n",
       "      <td>Sunflower</td>\n",
       "      <td>2018</td>\n",
       "      <td>9700.0</td>\n",
       "    </tr>\n",
       "  </tbody>\n",
       "</table>\n",
       "</div>"
      ],
      "text/plain": [
       "          Crop  Year  Production\n",
       "343  Sunflower  2003     34000.0\n",
       "344  Sunflower  2012     23700.0\n",
       "345  Sunflower  2016      9600.0\n",
       "346  Sunflower  2017     11600.0\n",
       "347  Sunflower  2018      9700.0"
      ]
     },
     "execution_count": 128,
     "metadata": {},
     "output_type": "execute_result"
    }
   ],
   "source": [
    "##Sunflower\n",
    "sunflower = pj_production[pj_production['Crop'] == 'Sunflower']\n",
    "sunflower.head(5)"
   ]
  },
  {
   "cell_type": "markdown",
   "metadata": {},
   "source": [
    "This is an incomplete dataset. "
   ]
  },
  {
   "cell_type": "code",
   "execution_count": 129,
   "metadata": {},
   "outputs": [
    {
     "data": {
      "application/vnd.vegalite.v4+json": {
       "$schema": "https://vega.github.io/schema/vega-lite/v4.17.0.json",
       "config": {
        "view": {
         "continuousHeight": 300,
         "continuousWidth": 400
        }
       },
       "data": {
        "name": "data-45e112c466daf08f65d0a26397a9da29"
       },
       "datasets": {
        "data-45e112c466daf08f65d0a26397a9da29": [
         {
          "Crop": "Sunflower",
          "Production": 34000,
          "Year": 2003
         },
         {
          "Crop": "Sunflower",
          "Production": 23700,
          "Year": 2012
         },
         {
          "Crop": "Sunflower",
          "Production": 9600,
          "Year": 2016
         },
         {
          "Crop": "Sunflower",
          "Production": 11600,
          "Year": 2017
         },
         {
          "Crop": "Sunflower",
          "Production": 9700,
          "Year": 2018
         },
         {
          "Crop": "Sunflower",
          "Production": 8000,
          "Year": 2019
         }
        ]
       },
       "encoding": {
        "x": {
         "field": "Year",
         "type": "quantitative"
        },
        "y": {
         "field": "Production",
         "type": "quantitative"
        }
       },
       "mark": "line",
       "title": "Sunflower production in Punjab from 1997-2020"
      },
      "text/plain": [
       "<VegaLite 4 object>\n",
       "\n",
       "If you see this message, it means the renderer has not been properly enabled\n",
       "for the frontend that you are using. For more information, see\n",
       "https://altair-viz.github.io/user_guide/troubleshooting.html\n"
      ]
     },
     "execution_count": 129,
     "metadata": {},
     "output_type": "execute_result"
    }
   ],
   "source": [
    "alt.Chart(sunflower).mark_line().encode(\n",
    "    x='Year',\n",
    "    y=('Production')\n",
    ").properties(\n",
    "    title='Sunflower production in Punjab from 1997-2020')"
   ]
  },
  {
   "cell_type": "markdown",
   "metadata": {},
   "source": [
    "![](sunflower.png)"
   ]
  },
  {
   "cell_type": "code",
   "execution_count": 130,
   "metadata": {},
   "outputs": [
    {
     "data": {
      "text/html": [
       "<div>\n",
       "<style scoped>\n",
       "    .dataframe tbody tr th:only-of-type {\n",
       "        vertical-align: middle;\n",
       "    }\n",
       "\n",
       "    .dataframe tbody tr th {\n",
       "        vertical-align: top;\n",
       "    }\n",
       "\n",
       "    .dataframe thead th {\n",
       "        text-align: right;\n",
       "    }\n",
       "</style>\n",
       "<table border=\"1\" class=\"dataframe\">\n",
       "  <thead>\n",
       "    <tr style=\"text-align: right;\">\n",
       "      <th></th>\n",
       "      <th>Crop</th>\n",
       "      <th>Year</th>\n",
       "      <th>Production</th>\n",
       "    </tr>\n",
       "  </thead>\n",
       "  <tbody>\n",
       "    <tr>\n",
       "      <th>349</th>\n",
       "      <td>Urad</td>\n",
       "      <td>1997</td>\n",
       "      <td>1900.0</td>\n",
       "    </tr>\n",
       "    <tr>\n",
       "      <th>350</th>\n",
       "      <td>Urad</td>\n",
       "      <td>1998</td>\n",
       "      <td>2000.0</td>\n",
       "    </tr>\n",
       "    <tr>\n",
       "      <th>351</th>\n",
       "      <td>Urad</td>\n",
       "      <td>1999</td>\n",
       "      <td>1710.0</td>\n",
       "    </tr>\n",
       "    <tr>\n",
       "      <th>352</th>\n",
       "      <td>Urad</td>\n",
       "      <td>2002</td>\n",
       "      <td>1900.0</td>\n",
       "    </tr>\n",
       "    <tr>\n",
       "      <th>353</th>\n",
       "      <td>Urad</td>\n",
       "      <td>2003</td>\n",
       "      <td>2200.0</td>\n",
       "    </tr>\n",
       "  </tbody>\n",
       "</table>\n",
       "</div>"
      ],
      "text/plain": [
       "     Crop  Year  Production\n",
       "349  Urad  1997      1900.0\n",
       "350  Urad  1998      2000.0\n",
       "351  Urad  1999      1710.0\n",
       "352  Urad  2002      1900.0\n",
       "353  Urad  2003      2200.0"
      ]
     },
     "execution_count": 130,
     "metadata": {},
     "output_type": "execute_result"
    }
   ],
   "source": [
    "##Urad dal\n",
    "urad = pj_production[pj_production['Crop'] == 'Urad']\n",
    "urad.head(5)\n"
   ]
  },
  {
   "cell_type": "markdown",
   "metadata": {},
   "source": [
    "Certain years' data is missing from this list. "
   ]
  },
  {
   "cell_type": "code",
   "execution_count": 131,
   "metadata": {},
   "outputs": [
    {
     "data": {
      "application/vnd.vegalite.v4+json": {
       "$schema": "https://vega.github.io/schema/vega-lite/v4.17.0.json",
       "config": {
        "view": {
         "continuousHeight": 300,
         "continuousWidth": 400
        }
       },
       "data": {
        "name": "data-e7ffa582ca54a0c62e40913f2f5ace3d"
       },
       "datasets": {
        "data-e7ffa582ca54a0c62e40913f2f5ace3d": [
         {
          "Crop": "Urad",
          "Production": 1900,
          "Year": 1997
         },
         {
          "Crop": "Urad",
          "Production": 2000,
          "Year": 1998
         },
         {
          "Crop": "Urad",
          "Production": 1710,
          "Year": 1999
         },
         {
          "Crop": "Urad",
          "Production": 1900,
          "Year": 2002
         },
         {
          "Crop": "Urad",
          "Production": 2200,
          "Year": 2003
         },
         {
          "Crop": "Urad",
          "Production": 1800,
          "Year": 2004
         },
         {
          "Crop": "Urad",
          "Production": 1500,
          "Year": 2005
         },
         {
          "Crop": "Urad",
          "Production": 1400,
          "Year": 2006
         },
         {
          "Crop": "Urad",
          "Production": 1600,
          "Year": 2007
         },
         {
          "Crop": "Urad",
          "Production": 1400,
          "Year": 2008
         },
         {
          "Crop": "Urad",
          "Production": 1400,
          "Year": 2009
         },
         {
          "Crop": "Urad",
          "Production": 1600,
          "Year": 2010
         },
         {
          "Crop": "Urad",
          "Production": 1100,
          "Year": 2011
         },
         {
          "Crop": "Urad",
          "Production": 1200,
          "Year": 2012
         },
         {
          "Crop": "Urad",
          "Production": 1050,
          "Year": 2013
         },
         {
          "Crop": "Urad",
          "Production": 1210,
          "Year": 2014
         },
         {
          "Crop": "Urad",
          "Production": 1080,
          "Year": 2015
         },
         {
          "Crop": "Urad",
          "Production": 1100,
          "Year": 2016
         },
         {
          "Crop": "Urad",
          "Production": 900,
          "Year": 2017
         },
         {
          "Crop": "Urad",
          "Production": 1100,
          "Year": 2018
         },
         {
          "Crop": "Urad",
          "Production": 1200,
          "Year": 2019
         }
        ]
       },
       "encoding": {
        "x": {
         "field": "Year",
         "type": "quantitative"
        },
        "y": {
         "field": "Production",
         "type": "quantitative"
        }
       },
       "mark": "line",
       "title": "Urad production in Punjab from 1997-2020"
      },
      "text/plain": [
       "<VegaLite 4 object>\n",
       "\n",
       "If you see this message, it means the renderer has not been properly enabled\n",
       "for the frontend that you are using. For more information, see\n",
       "https://altair-viz.github.io/user_guide/troubleshooting.html\n"
      ]
     },
     "execution_count": 131,
     "metadata": {},
     "output_type": "execute_result"
    }
   ],
   "source": [
    "alt.Chart(urad).mark_line().encode(\n",
    "    x='Year',\n",
    "    y=('Production')\n",
    ").properties(\n",
    "    title='Urad production in Punjab from 1997-2020')"
   ]
  },
  {
   "cell_type": "markdown",
   "metadata": {},
   "source": [
    "![](urad.png)"
   ]
  },
  {
   "cell_type": "code",
   "execution_count": 132,
   "metadata": {},
   "outputs": [
    {
     "data": {
      "text/html": [
       "<div>\n",
       "<style scoped>\n",
       "    .dataframe tbody tr th:only-of-type {\n",
       "        vertical-align: middle;\n",
       "    }\n",
       "\n",
       "    .dataframe tbody tr th {\n",
       "        vertical-align: top;\n",
       "    }\n",
       "\n",
       "    .dataframe thead th {\n",
       "        text-align: right;\n",
       "    }\n",
       "</style>\n",
       "<table border=\"1\" class=\"dataframe\">\n",
       "  <thead>\n",
       "    <tr style=\"text-align: right;\">\n",
       "      <th></th>\n",
       "      <th>Crop</th>\n",
       "      <th>Year</th>\n",
       "      <th>Production</th>\n",
       "    </tr>\n",
       "  </thead>\n",
       "  <tbody>\n",
       "    <tr>\n",
       "      <th>393</th>\n",
       "      <td>other oilseeds</td>\n",
       "      <td>2019</td>\n",
       "      <td>3300.0</td>\n",
       "    </tr>\n",
       "  </tbody>\n",
       "</table>\n",
       "</div>"
      ],
      "text/plain": [
       "               Crop  Year  Production\n",
       "393  other oilseeds  2019      3300.0"
      ]
     },
     "execution_count": 132,
     "metadata": {},
     "output_type": "execute_result"
    }
   ],
   "source": [
    "##other oilseeds \n",
    "oilseeds = pj_production[pj_production['Crop'] == 'other oilseeds']\n",
    "oilseeds.head(5)"
   ]
  },
  {
   "cell_type": "markdown",
   "metadata": {},
   "source": [
    "Incomplete data, only recorded for 2019. "
   ]
  },
  {
   "cell_type": "markdown",
   "metadata": {},
   "source": [
    "## Conclusion\n",
    "Between 2015-2020, we see a declining production of various crops, especially the major ones: rice and wheat. Since the trajectory of rice and wheat production fluctuates a lot, this could be a temporary slow down before it picks up and exceeds previous years'. \n",
    "\n",
    "#### Rice\n",
    "\n",
    "Even though most districts in Punjab are witnessing declining production of rice, its cumulative production value has only increased with time, with a slight decline occuring from 2017 onwards. \n",
    "\n",
    "The increase in the cultivation of paddy over the decades has had serious environmental effects. Seen in relation with the production of other crop types, it is evident that over the years Punjab farmers shifted away from more diverse crop production to wheat/rice. News articles also suggest that increase of landholding sizes, farm mechanizations, etc, (there could be other factors, such as the fact that the government provides minimum support prices for rice and wheat) have led to a monoculture-type trend in Punjab. This began with the Green Revolution when genetically modified seeds for rice and other crops were introduced in the state. We see today how this decades long practice of cultivating paddy has contributed to the declining ground water tables (as paddy is a water intensive crop) to increase in stubble burning, which directly impacts the air quality of the northern plains (though, this is not the only contributing factor of the increasing air pollution, especially in a densely populated city like Delhi with millions of cars, dust, construction work, industrial output, etc). \n",
    "We see a sharp decline in the cultivation and production of other crops over the decades, such as: arahar/tur, barley, cotton, gram, groundnut, guar seed, linseed, maize (this one has been declining steadly but not as sharply as others), masoor, moong (saw a sharp decline, and its production has increased sharply since 2016), moth, peas & beans, rapeseed and mustard (slight decline over the past decade or so), sesamum, sugarcane (like moong, its production declined sharply and revived from 2008 onwards - it is not on a slow decline, like rice and wheat), sunflower, and urad.\n",
    "There are a few unique cases, as mentioned, where the production levels declined or tanked in the noughts, and is now reviving: moong, rapeseed and mustard, sugarcane. \n",
    " "
   ]
  }
 ],
 "metadata": {
  "kernelspec": {
   "display_name": "Python 3.9.12 ('base')",
   "language": "python",
   "name": "python3"
  },
  "language_info": {
   "codemirror_mode": {
    "name": "ipython",
    "version": 3
   },
   "file_extension": ".py",
   "mimetype": "text/x-python",
   "name": "python",
   "nbconvert_exporter": "python",
   "pygments_lexer": "ipython3",
   "version": "3.9.12"
  },
  "orig_nbformat": 4,
  "vscode": {
   "interpreter": {
    "hash": "40d3a090f54c6569ab1632332b64b2c03c39dcf918b08424e98f38b5ae0af88f"
   }
  }
 },
 "nbformat": 4,
 "nbformat_minor": 2
}
