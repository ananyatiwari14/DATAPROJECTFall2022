{
 "cells": [
  {
   "cell_type": "code",
   "execution_count": 1,
   "metadata": {},
   "outputs": [
    {
     "data": {
      "text/plain": [
       "RendererRegistry.enable('png')"
      ]
     },
     "execution_count": 1,
     "metadata": {},
     "output_type": "execute_result"
    }
   ],
   "source": [
    "import pandas as pd\n",
    "import numpy as np\n",
    "import altair as alt\n",
    "import matplotlib as plt\n",
    "\n",
    "alt.renderers.enable('png')\n"
   ]
  },
  {
   "cell_type": "code",
   "execution_count": 2,
   "metadata": {},
   "outputs": [
    {
     "name": "stdout",
     "output_type": "stream",
     "text": [
      "RendererRegistry(active='png', registered=['altair_viewer', 'colab', 'default', 'html', 'json', 'jupyterlab', 'kaggle', 'mimetype', 'nteract', 'png', 'svg', 'zeppelin'])\n"
     ]
    }
   ],
   "source": [
    "alt.__version__\n",
    "\n",
    "print(alt.renderers)"
   ]
  },
  {
   "cell_type": "code",
   "execution_count": 3,
   "metadata": {},
   "outputs": [],
   "source": [
    "df = pd.read_csv('/Users/ananyatiwari/Desktop/India Agriculture Crop Production.csv')"
   ]
  },
  {
   "cell_type": "code",
   "execution_count": 4,
   "metadata": {},
   "outputs": [],
   "source": [
    "df.to_csv('Agricultural production since 1997 in India') ## To "
   ]
  },
  {
   "cell_type": "markdown",
   "metadata": {},
   "source": [
    "After discussing the other datasets with you during office hours, I realized that I should try to find data from more legitimate sources. Unfortunately, I was unsuccessful in reaching the US Foreign Agricultural Service for data. However, I found a great Indian government data website where I was able to find a great dataset which was similar to what I found on Kaggle. \n",
    "\n",
    "This dataset is available here: https://aps.dac.gov.in/APY/Public_Report1.aspx\n",
    "\n",
    "I had to go on the Ministry of Agriculture and Farmers Welfare website and in particular, here: https://aps.dac.gov.in/Home.aspx?ReturnUrl=%2f where I chose APY. This led me to this page -https://aps.dac.gov.in/APY/Index.htm where I chose District wise crop production statistics. And then I could generate my report from these selections - https://aps.dac.gov.in/APY/Public_Report1.aspx . I chose to check all the boxes in every field. \n",
    "\n",
    "It was downloaded as an Excel file. "
   ]
  },
  {
   "cell_type": "code",
   "execution_count": 5,
   "metadata": {},
   "outputs": [
    {
     "name": "stdout",
     "output_type": "stream",
     "text": [
      "<class 'pandas.core.frame.DataFrame'>\n",
      "RangeIndex: 344208 entries, 0 to 344207\n",
      "Data columns (total 11 columns):\n",
      " #   Column            Non-Null Count   Dtype  \n",
      "---  ------            --------------   -----  \n",
      " 0   Unnamed: 0        344208 non-null  int64  \n",
      " 1   State             344208 non-null  object \n",
      " 2   District          344208 non-null  object \n",
      " 3   Crop              344099 non-null  object \n",
      " 4   Year              344208 non-null  object \n",
      " 5   Season            344208 non-null  object \n",
      " 6   Area              344099 non-null  float64\n",
      " 7   Area Units        344208 non-null  object \n",
      " 8   Production        339187 non-null  float64\n",
      " 9   Production Units  344208 non-null  object \n",
      " 10  Yield             344099 non-null  float64\n",
      "dtypes: float64(3), int64(1), object(7)\n",
      "memory usage: 28.9+ MB\n"
     ]
    }
   ],
   "source": [
    "df.info()"
   ]
  },
  {
   "cell_type": "code",
   "execution_count": 6,
   "metadata": {},
   "outputs": [],
   "source": [
    "del df['Unnamed: 0']"
   ]
  },
  {
   "cell_type": "code",
   "execution_count": 7,
   "metadata": {},
   "outputs": [
    {
     "data": {
      "text/html": [
       "<div>\n",
       "<style scoped>\n",
       "    .dataframe tbody tr th:only-of-type {\n",
       "        vertical-align: middle;\n",
       "    }\n",
       "\n",
       "    .dataframe tbody tr th {\n",
       "        vertical-align: top;\n",
       "    }\n",
       "\n",
       "    .dataframe thead th {\n",
       "        text-align: right;\n",
       "    }\n",
       "</style>\n",
       "<table border=\"1\" class=\"dataframe\">\n",
       "  <thead>\n",
       "    <tr style=\"text-align: right;\">\n",
       "      <th></th>\n",
       "      <th>State</th>\n",
       "      <th>District</th>\n",
       "      <th>Crop</th>\n",
       "      <th>Year</th>\n",
       "      <th>Season</th>\n",
       "      <th>Area</th>\n",
       "      <th>Area Units</th>\n",
       "      <th>Production</th>\n",
       "      <th>Production Units</th>\n",
       "      <th>Yield</th>\n",
       "    </tr>\n",
       "  </thead>\n",
       "  <tbody>\n",
       "    <tr>\n",
       "      <th>0</th>\n",
       "      <td>Andaman and Nicobar Islands</td>\n",
       "      <td>NICOBARS</td>\n",
       "      <td>Arecanut</td>\n",
       "      <td>2001-02</td>\n",
       "      <td>Kharif</td>\n",
       "      <td>1254.0</td>\n",
       "      <td>Hectare</td>\n",
       "      <td>2061.0</td>\n",
       "      <td>Tonnes</td>\n",
       "      <td>1.643541</td>\n",
       "    </tr>\n",
       "    <tr>\n",
       "      <th>1</th>\n",
       "      <td>Andaman and Nicobar Islands</td>\n",
       "      <td>NICOBARS</td>\n",
       "      <td>Arecanut</td>\n",
       "      <td>2002-03</td>\n",
       "      <td>Whole Year</td>\n",
       "      <td>1258.0</td>\n",
       "      <td>Hectare</td>\n",
       "      <td>2083.0</td>\n",
       "      <td>Tonnes</td>\n",
       "      <td>1.655803</td>\n",
       "    </tr>\n",
       "    <tr>\n",
       "      <th>2</th>\n",
       "      <td>Andaman and Nicobar Islands</td>\n",
       "      <td>NICOBARS</td>\n",
       "      <td>Arecanut</td>\n",
       "      <td>2003-04</td>\n",
       "      <td>Whole Year</td>\n",
       "      <td>1261.0</td>\n",
       "      <td>Hectare</td>\n",
       "      <td>1525.0</td>\n",
       "      <td>Tonnes</td>\n",
       "      <td>1.209358</td>\n",
       "    </tr>\n",
       "    <tr>\n",
       "      <th>3</th>\n",
       "      <td>Andaman and Nicobar Islands</td>\n",
       "      <td>NORTH AND MIDDLE ANDAMAN</td>\n",
       "      <td>Arecanut</td>\n",
       "      <td>2001-02</td>\n",
       "      <td>Kharif</td>\n",
       "      <td>3100.0</td>\n",
       "      <td>Hectare</td>\n",
       "      <td>5239.0</td>\n",
       "      <td>Tonnes</td>\n",
       "      <td>1.690000</td>\n",
       "    </tr>\n",
       "    <tr>\n",
       "      <th>4</th>\n",
       "      <td>Andaman and Nicobar Islands</td>\n",
       "      <td>SOUTH ANDAMANS</td>\n",
       "      <td>Arecanut</td>\n",
       "      <td>2002-03</td>\n",
       "      <td>Whole Year</td>\n",
       "      <td>3105.0</td>\n",
       "      <td>Hectare</td>\n",
       "      <td>5267.0</td>\n",
       "      <td>Tonnes</td>\n",
       "      <td>1.696296</td>\n",
       "    </tr>\n",
       "    <tr>\n",
       "      <th>5</th>\n",
       "      <td>Andaman and Nicobar Islands</td>\n",
       "      <td>SOUTH ANDAMANS</td>\n",
       "      <td>Arecanut</td>\n",
       "      <td>2003-04</td>\n",
       "      <td>Whole Year</td>\n",
       "      <td>3118.0</td>\n",
       "      <td>Hectare</td>\n",
       "      <td>5182.0</td>\n",
       "      <td>Tonnes</td>\n",
       "      <td>1.661963</td>\n",
       "    </tr>\n",
       "    <tr>\n",
       "      <th>6</th>\n",
       "      <td>Andaman and Nicobar Islands</td>\n",
       "      <td>NICOBARS</td>\n",
       "      <td>Banana</td>\n",
       "      <td>2002-03</td>\n",
       "      <td>Whole Year</td>\n",
       "      <td>213.0</td>\n",
       "      <td>Hectare</td>\n",
       "      <td>1278.0</td>\n",
       "      <td>Tonnes</td>\n",
       "      <td>6.000000</td>\n",
       "    </tr>\n",
       "    <tr>\n",
       "      <th>7</th>\n",
       "      <td>Andaman and Nicobar Islands</td>\n",
       "      <td>NICOBARS</td>\n",
       "      <td>Banana</td>\n",
       "      <td>2003-04</td>\n",
       "      <td>Whole Year</td>\n",
       "      <td>266.0</td>\n",
       "      <td>Hectare</td>\n",
       "      <td>1763.0</td>\n",
       "      <td>Tonnes</td>\n",
       "      <td>6.627820</td>\n",
       "    </tr>\n",
       "    <tr>\n",
       "      <th>8</th>\n",
       "      <td>Andaman and Nicobar Islands</td>\n",
       "      <td>SOUTH ANDAMANS</td>\n",
       "      <td>Banana</td>\n",
       "      <td>2002-03</td>\n",
       "      <td>Whole Year</td>\n",
       "      <td>1524.0</td>\n",
       "      <td>Hectare</td>\n",
       "      <td>10882.0</td>\n",
       "      <td>Tonnes</td>\n",
       "      <td>7.140420</td>\n",
       "    </tr>\n",
       "    <tr>\n",
       "      <th>9</th>\n",
       "      <td>Andaman and Nicobar Islands</td>\n",
       "      <td>SOUTH ANDAMANS</td>\n",
       "      <td>Banana</td>\n",
       "      <td>2003-04</td>\n",
       "      <td>Whole Year</td>\n",
       "      <td>1530.0</td>\n",
       "      <td>Hectare</td>\n",
       "      <td>11558.0</td>\n",
       "      <td>Tonnes</td>\n",
       "      <td>7.554248</td>\n",
       "    </tr>\n",
       "  </tbody>\n",
       "</table>\n",
       "</div>"
      ],
      "text/plain": [
       "                         State                  District      Crop     Year  \\\n",
       "0  Andaman and Nicobar Islands                  NICOBARS  Arecanut  2001-02   \n",
       "1  Andaman and Nicobar Islands                  NICOBARS  Arecanut  2002-03   \n",
       "2  Andaman and Nicobar Islands                  NICOBARS  Arecanut  2003-04   \n",
       "3  Andaman and Nicobar Islands  NORTH AND MIDDLE ANDAMAN  Arecanut  2001-02   \n",
       "4  Andaman and Nicobar Islands            SOUTH ANDAMANS  Arecanut  2002-03   \n",
       "5  Andaman and Nicobar Islands            SOUTH ANDAMANS  Arecanut  2003-04   \n",
       "6  Andaman and Nicobar Islands                  NICOBARS    Banana  2002-03   \n",
       "7  Andaman and Nicobar Islands                  NICOBARS    Banana  2003-04   \n",
       "8  Andaman and Nicobar Islands            SOUTH ANDAMANS    Banana  2002-03   \n",
       "9  Andaman and Nicobar Islands            SOUTH ANDAMANS    Banana  2003-04   \n",
       "\n",
       "       Season    Area Area Units  Production Production Units     Yield  \n",
       "0      Kharif  1254.0    Hectare      2061.0           Tonnes  1.643541  \n",
       "1  Whole Year  1258.0    Hectare      2083.0           Tonnes  1.655803  \n",
       "2  Whole Year  1261.0    Hectare      1525.0           Tonnes  1.209358  \n",
       "3      Kharif  3100.0    Hectare      5239.0           Tonnes  1.690000  \n",
       "4  Whole Year  3105.0    Hectare      5267.0           Tonnes  1.696296  \n",
       "5  Whole Year  3118.0    Hectare      5182.0           Tonnes  1.661963  \n",
       "6  Whole Year   213.0    Hectare      1278.0           Tonnes  6.000000  \n",
       "7  Whole Year   266.0    Hectare      1763.0           Tonnes  6.627820  \n",
       "8  Whole Year  1524.0    Hectare     10882.0           Tonnes  7.140420  \n",
       "9  Whole Year  1530.0    Hectare     11558.0           Tonnes  7.554248  "
      ]
     },
     "execution_count": 7,
     "metadata": {},
     "output_type": "execute_result"
    }
   ],
   "source": [
    "df.head(10)"
   ]
  },
  {
   "cell_type": "markdown",
   "metadata": {},
   "source": [
    "This dataset has detailed information on the various districts in each state and union territory, and the crop production for various seasons. Rabi is the winter season, and kharif is the summer season. Rabi crops are sown in the winter around November, and harvested in the spring. Kharif crops are sown in the summer around May and harvested in autumn in around October/November. For my purposes, I will choose to stick to these two seasons as they are the main cropping seasons. \n",
    "\n",
    "Since I am interested in how the crop production of various yields has progressed over time, I will choose specific states-districts for my analysis. This is because in India certain areas are more vulnerable to climatic stresses or unpredictable weather than other places. I am still doing my research on which areas are more prone to such changes. But, I will use this dataset to see if there are some irregular patterns in certain crops/fruits too. It will be a repetitive process of selecting various kinds of datasets and creating line charts to see the trends over the decades from 1997-2020."
   ]
  },
  {
   "cell_type": "markdown",
   "metadata": {},
   "source": [
    "I noticed that the year column is formatted in YYYY-YY and I wish to make it simpler, into a YYYY format. This will help later in the data vizualizations. I will convert the column to string dtype, and strip it. "
   ]
  },
  {
   "cell_type": "code",
   "execution_count": 8,
   "metadata": {},
   "outputs": [
    {
     "name": "stdout",
     "output_type": "stream",
     "text": [
      "State                object\n",
      "District             object\n",
      "Crop                 object\n",
      "Year                 string\n",
      "Season               object\n",
      "Area                float64\n",
      "Area Units           object\n",
      "Production          float64\n",
      "Production Units     object\n",
      "Yield               float64\n",
      "dtype: object\n"
     ]
    }
   ],
   "source": [
    "df[\"Year\"]=df[\"Year\"].astype('string')\n",
    "print(df.dtypes)"
   ]
  },
  {
   "cell_type": "code",
   "execution_count": 9,
   "metadata": {},
   "outputs": [
    {
     "data": {
      "text/html": [
       "<div>\n",
       "<style scoped>\n",
       "    .dataframe tbody tr th:only-of-type {\n",
       "        vertical-align: middle;\n",
       "    }\n",
       "\n",
       "    .dataframe tbody tr th {\n",
       "        vertical-align: top;\n",
       "    }\n",
       "\n",
       "    .dataframe thead th {\n",
       "        text-align: right;\n",
       "    }\n",
       "</style>\n",
       "<table border=\"1\" class=\"dataframe\">\n",
       "  <thead>\n",
       "    <tr style=\"text-align: right;\">\n",
       "      <th></th>\n",
       "      <th>State</th>\n",
       "      <th>District</th>\n",
       "      <th>Crop</th>\n",
       "      <th>Year</th>\n",
       "      <th>Season</th>\n",
       "      <th>Area</th>\n",
       "      <th>Area Units</th>\n",
       "      <th>Production</th>\n",
       "      <th>Production Units</th>\n",
       "      <th>Yield</th>\n",
       "    </tr>\n",
       "  </thead>\n",
       "  <tbody>\n",
       "    <tr>\n",
       "      <th>0</th>\n",
       "      <td>Andaman and Nicobar Islands</td>\n",
       "      <td>NICOBARS</td>\n",
       "      <td>Arecanut</td>\n",
       "      <td>2001</td>\n",
       "      <td>Kharif</td>\n",
       "      <td>1254.0</td>\n",
       "      <td>Hectare</td>\n",
       "      <td>2061.0</td>\n",
       "      <td>Tonnes</td>\n",
       "      <td>1.643541</td>\n",
       "    </tr>\n",
       "    <tr>\n",
       "      <th>1</th>\n",
       "      <td>Andaman and Nicobar Islands</td>\n",
       "      <td>NICOBARS</td>\n",
       "      <td>Arecanut</td>\n",
       "      <td>2002</td>\n",
       "      <td>Whole Year</td>\n",
       "      <td>1258.0</td>\n",
       "      <td>Hectare</td>\n",
       "      <td>2083.0</td>\n",
       "      <td>Tonnes</td>\n",
       "      <td>1.655803</td>\n",
       "    </tr>\n",
       "    <tr>\n",
       "      <th>2</th>\n",
       "      <td>Andaman and Nicobar Islands</td>\n",
       "      <td>NICOBARS</td>\n",
       "      <td>Arecanut</td>\n",
       "      <td>2003</td>\n",
       "      <td>Whole Year</td>\n",
       "      <td>1261.0</td>\n",
       "      <td>Hectare</td>\n",
       "      <td>1525.0</td>\n",
       "      <td>Tonnes</td>\n",
       "      <td>1.209358</td>\n",
       "    </tr>\n",
       "    <tr>\n",
       "      <th>3</th>\n",
       "      <td>Andaman and Nicobar Islands</td>\n",
       "      <td>NORTH AND MIDDLE ANDAMAN</td>\n",
       "      <td>Arecanut</td>\n",
       "      <td>2001</td>\n",
       "      <td>Kharif</td>\n",
       "      <td>3100.0</td>\n",
       "      <td>Hectare</td>\n",
       "      <td>5239.0</td>\n",
       "      <td>Tonnes</td>\n",
       "      <td>1.690000</td>\n",
       "    </tr>\n",
       "    <tr>\n",
       "      <th>4</th>\n",
       "      <td>Andaman and Nicobar Islands</td>\n",
       "      <td>SOUTH ANDAMANS</td>\n",
       "      <td>Arecanut</td>\n",
       "      <td>2002</td>\n",
       "      <td>Whole Year</td>\n",
       "      <td>3105.0</td>\n",
       "      <td>Hectare</td>\n",
       "      <td>5267.0</td>\n",
       "      <td>Tonnes</td>\n",
       "      <td>1.696296</td>\n",
       "    </tr>\n",
       "    <tr>\n",
       "      <th>5</th>\n",
       "      <td>Andaman and Nicobar Islands</td>\n",
       "      <td>SOUTH ANDAMANS</td>\n",
       "      <td>Arecanut</td>\n",
       "      <td>2003</td>\n",
       "      <td>Whole Year</td>\n",
       "      <td>3118.0</td>\n",
       "      <td>Hectare</td>\n",
       "      <td>5182.0</td>\n",
       "      <td>Tonnes</td>\n",
       "      <td>1.661963</td>\n",
       "    </tr>\n",
       "    <tr>\n",
       "      <th>6</th>\n",
       "      <td>Andaman and Nicobar Islands</td>\n",
       "      <td>NICOBARS</td>\n",
       "      <td>Banana</td>\n",
       "      <td>2002</td>\n",
       "      <td>Whole Year</td>\n",
       "      <td>213.0</td>\n",
       "      <td>Hectare</td>\n",
       "      <td>1278.0</td>\n",
       "      <td>Tonnes</td>\n",
       "      <td>6.000000</td>\n",
       "    </tr>\n",
       "    <tr>\n",
       "      <th>7</th>\n",
       "      <td>Andaman and Nicobar Islands</td>\n",
       "      <td>NICOBARS</td>\n",
       "      <td>Banana</td>\n",
       "      <td>2003</td>\n",
       "      <td>Whole Year</td>\n",
       "      <td>266.0</td>\n",
       "      <td>Hectare</td>\n",
       "      <td>1763.0</td>\n",
       "      <td>Tonnes</td>\n",
       "      <td>6.627820</td>\n",
       "    </tr>\n",
       "    <tr>\n",
       "      <th>8</th>\n",
       "      <td>Andaman and Nicobar Islands</td>\n",
       "      <td>SOUTH ANDAMANS</td>\n",
       "      <td>Banana</td>\n",
       "      <td>2002</td>\n",
       "      <td>Whole Year</td>\n",
       "      <td>1524.0</td>\n",
       "      <td>Hectare</td>\n",
       "      <td>10882.0</td>\n",
       "      <td>Tonnes</td>\n",
       "      <td>7.140420</td>\n",
       "    </tr>\n",
       "    <tr>\n",
       "      <th>9</th>\n",
       "      <td>Andaman and Nicobar Islands</td>\n",
       "      <td>SOUTH ANDAMANS</td>\n",
       "      <td>Banana</td>\n",
       "      <td>2003</td>\n",
       "      <td>Whole Year</td>\n",
       "      <td>1530.0</td>\n",
       "      <td>Hectare</td>\n",
       "      <td>11558.0</td>\n",
       "      <td>Tonnes</td>\n",
       "      <td>7.554248</td>\n",
       "    </tr>\n",
       "  </tbody>\n",
       "</table>\n",
       "</div>"
      ],
      "text/plain": [
       "                         State                  District      Crop  Year  \\\n",
       "0  Andaman and Nicobar Islands                  NICOBARS  Arecanut  2001   \n",
       "1  Andaman and Nicobar Islands                  NICOBARS  Arecanut  2002   \n",
       "2  Andaman and Nicobar Islands                  NICOBARS  Arecanut  2003   \n",
       "3  Andaman and Nicobar Islands  NORTH AND MIDDLE ANDAMAN  Arecanut  2001   \n",
       "4  Andaman and Nicobar Islands            SOUTH ANDAMANS  Arecanut  2002   \n",
       "5  Andaman and Nicobar Islands            SOUTH ANDAMANS  Arecanut  2003   \n",
       "6  Andaman and Nicobar Islands                  NICOBARS    Banana  2002   \n",
       "7  Andaman and Nicobar Islands                  NICOBARS    Banana  2003   \n",
       "8  Andaman and Nicobar Islands            SOUTH ANDAMANS    Banana  2002   \n",
       "9  Andaman and Nicobar Islands            SOUTH ANDAMANS    Banana  2003   \n",
       "\n",
       "       Season    Area Area Units  Production Production Units     Yield  \n",
       "0      Kharif  1254.0    Hectare      2061.0           Tonnes  1.643541  \n",
       "1  Whole Year  1258.0    Hectare      2083.0           Tonnes  1.655803  \n",
       "2  Whole Year  1261.0    Hectare      1525.0           Tonnes  1.209358  \n",
       "3      Kharif  3100.0    Hectare      5239.0           Tonnes  1.690000  \n",
       "4  Whole Year  3105.0    Hectare      5267.0           Tonnes  1.696296  \n",
       "5  Whole Year  3118.0    Hectare      5182.0           Tonnes  1.661963  \n",
       "6  Whole Year   213.0    Hectare      1278.0           Tonnes  6.000000  \n",
       "7  Whole Year   266.0    Hectare      1763.0           Tonnes  6.627820  \n",
       "8  Whole Year  1524.0    Hectare     10882.0           Tonnes  7.140420  \n",
       "9  Whole Year  1530.0    Hectare     11558.0           Tonnes  7.554248  "
      ]
     },
     "execution_count": 9,
     "metadata": {},
     "output_type": "execute_result"
    }
   ],
   "source": [
    "\n",
    "df['Year'] = df['Year'].str[:4]\n",
    "df.head(10)"
   ]
  },
  {
   "cell_type": "code",
   "execution_count": 10,
   "metadata": {},
   "outputs": [
    {
     "name": "stdout",
     "output_type": "stream",
     "text": [
      "State                object\n",
      "District             object\n",
      "Crop                 object\n",
      "Year                  int64\n",
      "Season               object\n",
      "Area                float64\n",
      "Area Units           object\n",
      "Production          float64\n",
      "Production Units     object\n",
      "Yield               float64\n",
      "dtype: object\n"
     ]
    }
   ],
   "source": [
    "df[\"Year\"]=df[\"Year\"].astype('int')\n",
    "print(df.dtypes)"
   ]
  },
  {
   "cell_type": "code",
   "execution_count": 11,
   "metadata": {},
   "outputs": [
    {
     "data": {
      "text/html": [
       "<div>\n",
       "<style scoped>\n",
       "    .dataframe tbody tr th:only-of-type {\n",
       "        vertical-align: middle;\n",
       "    }\n",
       "\n",
       "    .dataframe tbody tr th {\n",
       "        vertical-align: top;\n",
       "    }\n",
       "\n",
       "    .dataframe thead th {\n",
       "        text-align: right;\n",
       "    }\n",
       "</style>\n",
       "<table border=\"1\" class=\"dataframe\">\n",
       "  <thead>\n",
       "    <tr style=\"text-align: right;\">\n",
       "      <th></th>\n",
       "      <th>State</th>\n",
       "      <th>District</th>\n",
       "      <th>Crop</th>\n",
       "      <th>Year</th>\n",
       "      <th>Season</th>\n",
       "      <th>Area</th>\n",
       "      <th>Area Units</th>\n",
       "      <th>Production</th>\n",
       "      <th>Production Units</th>\n",
       "      <th>Yield</th>\n",
       "    </tr>\n",
       "  </thead>\n",
       "  <tbody>\n",
       "    <tr>\n",
       "      <th>0</th>\n",
       "      <td>Andaman and Nicobar Islands</td>\n",
       "      <td>NICOBARS</td>\n",
       "      <td>Arecanut</td>\n",
       "      <td>2001</td>\n",
       "      <td>Kharif</td>\n",
       "      <td>1254.0</td>\n",
       "      <td>Hectare</td>\n",
       "      <td>2061.0</td>\n",
       "      <td>Tonnes</td>\n",
       "      <td>1.643541</td>\n",
       "    </tr>\n",
       "    <tr>\n",
       "      <th>1</th>\n",
       "      <td>Andaman and Nicobar Islands</td>\n",
       "      <td>NICOBARS</td>\n",
       "      <td>Arecanut</td>\n",
       "      <td>2002</td>\n",
       "      <td>Whole Year</td>\n",
       "      <td>1258.0</td>\n",
       "      <td>Hectare</td>\n",
       "      <td>2083.0</td>\n",
       "      <td>Tonnes</td>\n",
       "      <td>1.655803</td>\n",
       "    </tr>\n",
       "    <tr>\n",
       "      <th>2</th>\n",
       "      <td>Andaman and Nicobar Islands</td>\n",
       "      <td>NICOBARS</td>\n",
       "      <td>Arecanut</td>\n",
       "      <td>2003</td>\n",
       "      <td>Whole Year</td>\n",
       "      <td>1261.0</td>\n",
       "      <td>Hectare</td>\n",
       "      <td>1525.0</td>\n",
       "      <td>Tonnes</td>\n",
       "      <td>1.209358</td>\n",
       "    </tr>\n",
       "    <tr>\n",
       "      <th>3</th>\n",
       "      <td>Andaman and Nicobar Islands</td>\n",
       "      <td>NORTH AND MIDDLE ANDAMAN</td>\n",
       "      <td>Arecanut</td>\n",
       "      <td>2001</td>\n",
       "      <td>Kharif</td>\n",
       "      <td>3100.0</td>\n",
       "      <td>Hectare</td>\n",
       "      <td>5239.0</td>\n",
       "      <td>Tonnes</td>\n",
       "      <td>1.690000</td>\n",
       "    </tr>\n",
       "    <tr>\n",
       "      <th>4</th>\n",
       "      <td>Andaman and Nicobar Islands</td>\n",
       "      <td>SOUTH ANDAMANS</td>\n",
       "      <td>Arecanut</td>\n",
       "      <td>2002</td>\n",
       "      <td>Whole Year</td>\n",
       "      <td>3105.0</td>\n",
       "      <td>Hectare</td>\n",
       "      <td>5267.0</td>\n",
       "      <td>Tonnes</td>\n",
       "      <td>1.696296</td>\n",
       "    </tr>\n",
       "  </tbody>\n",
       "</table>\n",
       "</div>"
      ],
      "text/plain": [
       "                         State                  District      Crop  Year  \\\n",
       "0  Andaman and Nicobar Islands                  NICOBARS  Arecanut  2001   \n",
       "1  Andaman and Nicobar Islands                  NICOBARS  Arecanut  2002   \n",
       "2  Andaman and Nicobar Islands                  NICOBARS  Arecanut  2003   \n",
       "3  Andaman and Nicobar Islands  NORTH AND MIDDLE ANDAMAN  Arecanut  2001   \n",
       "4  Andaman and Nicobar Islands            SOUTH ANDAMANS  Arecanut  2002   \n",
       "\n",
       "       Season    Area Area Units  Production Production Units     Yield  \n",
       "0      Kharif  1254.0    Hectare      2061.0           Tonnes  1.643541  \n",
       "1  Whole Year  1258.0    Hectare      2083.0           Tonnes  1.655803  \n",
       "2  Whole Year  1261.0    Hectare      1525.0           Tonnes  1.209358  \n",
       "3      Kharif  3100.0    Hectare      5239.0           Tonnes  1.690000  \n",
       "4  Whole Year  3105.0    Hectare      5267.0           Tonnes  1.696296  "
      ]
     },
     "execution_count": 11,
     "metadata": {},
     "output_type": "execute_result"
    }
   ],
   "source": [
    "df.head(5)"
   ]
  },
  {
   "cell_type": "code",
   "execution_count": 12,
   "metadata": {},
   "outputs": [
    {
     "data": {
      "text/plain": [
       "array(['Arecanut', 'Banana', 'Black pepper', 'Cashewnut', 'Coconut',\n",
       "       'Dry chillies', 'Ginger', 'Other Kharif pulses', 'other oilseeds',\n",
       "       'Rice', 'Sugarcane', 'Sweet potato', 'Arhar/Tur', 'Bajra',\n",
       "       'Castor seed', 'Coriander', 'Cotton(lint)', 'Gram', 'Groundnut',\n",
       "       'Horse-gram', 'Jowar', 'Linseed', 'Maize', 'Mesta',\n",
       "       'Moong(Green Gram)', 'Niger seed', 'Onion', 'Other Rabi pulses',\n",
       "       'Potato', 'Ragi', 'Rapeseed &Mustard', 'Safflower', 'Sesamum',\n",
       "       'Small millets', 'Soyabean', 'Sunflower', 'Tapioca', 'Tobacco',\n",
       "       'Turmeric', 'Urad', 'Wheat', 'Oilseeds total', 'Jute', 'Masoor',\n",
       "       'Peas & beans (Pulses)', 'Barley', 'Garlic', 'Khesari', 'Sannhamp',\n",
       "       'Guar seed', 'Moth', 'Cardamom', 'Other Cereals', 'Cowpea(Lobia)',\n",
       "       'Dry Ginger', 'Other Summer Pulses', nan], dtype=object)"
      ]
     },
     "execution_count": 12,
     "metadata": {},
     "output_type": "execute_result"
    }
   ],
   "source": [
    "df.Crop.unique()"
   ]
  },
  {
   "cell_type": "markdown",
   "metadata": {},
   "source": [
    "Right now, I am exploring the dataset so that I can see which crops, states, districts, etc, are in it. Above, is a list of the crops whose production values across different states is being calculated. "
   ]
  },
  {
   "cell_type": "code",
   "execution_count": 13,
   "metadata": {},
   "outputs": [
    {
     "data": {
      "text/plain": [
       "array(['Kharif', 'Whole Year', 'Rabi', 'Autumn', 'Summer', 'Winter'],\n",
       "      dtype=object)"
      ]
     },
     "execution_count": 13,
     "metadata": {},
     "output_type": "execute_result"
    }
   ],
   "source": [
    "df.Season.unique() "
   ]
  },
  {
   "cell_type": "markdown",
   "metadata": {},
   "source": [
    "Here I am seeing six seasons, and I know that many of them overlap with each other. Kharif season runs from May-September/October, and the Rabi season begins from November to April/May. These two seasons tend to incorporate the Summer and Winter seasons. I will use these two seasons for my analysis. "
   ]
  },
  {
   "cell_type": "markdown",
   "metadata": {},
   "source": [
    "When it comes to the states, I would need to know which ones since I want to explore this dataset state-wise, and not crop-wise, for more precise patterns. "
   ]
  },
  {
   "cell_type": "code",
   "execution_count": 14,
   "metadata": {},
   "outputs": [
    {
     "data": {
      "text/plain": [
       "array(['Andaman and Nicobar Islands', 'Andhra Pradesh',\n",
       "       'Arunachal Pradesh', 'Assam', 'Bihar', 'Chandigarh',\n",
       "       'Chhattisgarh', 'Dadra and Nagar Haveli', 'Daman and Diu', 'Delhi',\n",
       "       'Goa', 'Gujarat', 'Haryana', 'Himachal Pradesh',\n",
       "       'Jammu and Kashmir', 'Jharkhand', 'Karnataka', 'Kerala',\n",
       "       'Madhya Pradesh', 'Maharashtra', 'Manipur', 'Meghalaya', 'Mizoram',\n",
       "       'Nagaland', 'Odisha', 'Puducherry', 'Punjab', 'Rajasthan',\n",
       "       'Sikkim', 'Tamil Nadu', 'Tripura', 'Uttar Pradesh', 'Uttarakhand',\n",
       "       'West Bengal', 'Telangana'], dtype=object)"
      ]
     },
     "execution_count": 14,
     "metadata": {},
     "output_type": "execute_result"
    }
   ],
   "source": [
    "df.State.unique() "
   ]
  },
  {
   "cell_type": "markdown",
   "metadata": {},
   "source": [
    "Each state has its districts, which are usually but not always, predominated by one or two crop types. For example, West Bengal is known for being a major cultivator of rice. However, rice is grown all over India also, such as in the states of Punjab, and others.In my exploration of this dataset (which I discussed with you during office hours) I had already found a few crops showing an alarming rate of decline, and I was later able to find news sources to help me figure out why this might be the case. Production of some crops have increased, though, and these variations are very crop and region specific. I will explore an interesting case of Punjab, and for this, I will subset data from the state, particularly its rice production.  "
   ]
  },
  {
   "cell_type": "markdown",
   "metadata": {},
   "source": [
    "## Production for all states, all crops, by year"
   ]
  },
  {
   "cell_type": "code",
   "execution_count": 15,
   "metadata": {},
   "outputs": [
    {
     "name": "stderr",
     "output_type": "stream",
     "text": [
      "/var/folders/5m/nykgw7dn67q73dqxfgtdnfhm0000gn/T/ipykernel_82711/201649395.py:1: FutureWarning: The default value of numeric_only in DataFrameGroupBy.sum is deprecated. In a future version, numeric_only will default to False. Either specify numeric_only or select only columns which should be valid for the function.\n",
      "  production_all = df.groupby(['State', 'Crop', 'Year', 'Season']).sum()[['Production']].reset_index()\n"
     ]
    },
    {
     "data": {
      "text/html": [
       "<div>\n",
       "<style scoped>\n",
       "    .dataframe tbody tr th:only-of-type {\n",
       "        vertical-align: middle;\n",
       "    }\n",
       "\n",
       "    .dataframe tbody tr th {\n",
       "        vertical-align: top;\n",
       "    }\n",
       "\n",
       "    .dataframe thead th {\n",
       "        text-align: right;\n",
       "    }\n",
       "</style>\n",
       "<table border=\"1\" class=\"dataframe\">\n",
       "  <thead>\n",
       "    <tr style=\"text-align: right;\">\n",
       "      <th></th>\n",
       "      <th>State</th>\n",
       "      <th>Crop</th>\n",
       "      <th>Year</th>\n",
       "      <th>Season</th>\n",
       "      <th>Production</th>\n",
       "    </tr>\n",
       "  </thead>\n",
       "  <tbody>\n",
       "    <tr>\n",
       "      <th>0</th>\n",
       "      <td>Andaman and Nicobar Islands</td>\n",
       "      <td>Arecanut</td>\n",
       "      <td>2000</td>\n",
       "      <td>Kharif</td>\n",
       "      <td>7200.00</td>\n",
       "    </tr>\n",
       "    <tr>\n",
       "      <th>1</th>\n",
       "      <td>Andaman and Nicobar Islands</td>\n",
       "      <td>Arecanut</td>\n",
       "      <td>2001</td>\n",
       "      <td>Kharif</td>\n",
       "      <td>7300.00</td>\n",
       "    </tr>\n",
       "    <tr>\n",
       "      <th>2</th>\n",
       "      <td>Andaman and Nicobar Islands</td>\n",
       "      <td>Arecanut</td>\n",
       "      <td>2002</td>\n",
       "      <td>Whole Year</td>\n",
       "      <td>7350.00</td>\n",
       "    </tr>\n",
       "    <tr>\n",
       "      <th>3</th>\n",
       "      <td>Andaman and Nicobar Islands</td>\n",
       "      <td>Arecanut</td>\n",
       "      <td>2003</td>\n",
       "      <td>Whole Year</td>\n",
       "      <td>6707.00</td>\n",
       "    </tr>\n",
       "    <tr>\n",
       "      <th>4</th>\n",
       "      <td>Andaman and Nicobar Islands</td>\n",
       "      <td>Arecanut</td>\n",
       "      <td>2004</td>\n",
       "      <td>Whole Year</td>\n",
       "      <td>4781.05</td>\n",
       "    </tr>\n",
       "    <tr>\n",
       "      <th>...</th>\n",
       "      <td>...</td>\n",
       "      <td>...</td>\n",
       "      <td>...</td>\n",
       "      <td>...</td>\n",
       "      <td>...</td>\n",
       "    </tr>\n",
       "    <tr>\n",
       "      <th>21383</th>\n",
       "      <td>West Bengal</td>\n",
       "      <td>Wheat</td>\n",
       "      <td>2015</td>\n",
       "      <td>Rabi</td>\n",
       "      <td>788503.00</td>\n",
       "    </tr>\n",
       "    <tr>\n",
       "      <th>21384</th>\n",
       "      <td>West Bengal</td>\n",
       "      <td>Wheat</td>\n",
       "      <td>2016</td>\n",
       "      <td>Rabi</td>\n",
       "      <td>862712.00</td>\n",
       "    </tr>\n",
       "    <tr>\n",
       "      <th>21385</th>\n",
       "      <td>West Bengal</td>\n",
       "      <td>Wheat</td>\n",
       "      <td>2017</td>\n",
       "      <td>Rabi</td>\n",
       "      <td>362744.00</td>\n",
       "    </tr>\n",
       "    <tr>\n",
       "      <th>21386</th>\n",
       "      <td>West Bengal</td>\n",
       "      <td>Wheat</td>\n",
       "      <td>2018</td>\n",
       "      <td>Rabi</td>\n",
       "      <td>337751.00</td>\n",
       "    </tr>\n",
       "    <tr>\n",
       "      <th>21387</th>\n",
       "      <td>West Bengal</td>\n",
       "      <td>Wheat</td>\n",
       "      <td>2019</td>\n",
       "      <td>Rabi</td>\n",
       "      <td>509970.00</td>\n",
       "    </tr>\n",
       "  </tbody>\n",
       "</table>\n",
       "<p>21388 rows × 5 columns</p>\n",
       "</div>"
      ],
      "text/plain": [
       "                             State      Crop  Year      Season  Production\n",
       "0      Andaman and Nicobar Islands  Arecanut  2000      Kharif     7200.00\n",
       "1      Andaman and Nicobar Islands  Arecanut  2001      Kharif     7300.00\n",
       "2      Andaman and Nicobar Islands  Arecanut  2002  Whole Year     7350.00\n",
       "3      Andaman and Nicobar Islands  Arecanut  2003  Whole Year     6707.00\n",
       "4      Andaman and Nicobar Islands  Arecanut  2004  Whole Year     4781.05\n",
       "...                            ...       ...   ...         ...         ...\n",
       "21383                  West Bengal     Wheat  2015        Rabi   788503.00\n",
       "21384                  West Bengal     Wheat  2016        Rabi   862712.00\n",
       "21385                  West Bengal     Wheat  2017        Rabi   362744.00\n",
       "21386                  West Bengal     Wheat  2018        Rabi   337751.00\n",
       "21387                  West Bengal     Wheat  2019        Rabi   509970.00\n",
       "\n",
       "[21388 rows x 5 columns]"
      ]
     },
     "execution_count": 15,
     "metadata": {},
     "output_type": "execute_result"
    }
   ],
   "source": [
    "production_all = df.groupby(['State', 'Crop', 'Year', 'Season']).sum()[['Production']].reset_index()\n",
    "production_all"
   ]
  },
  {
   "cell_type": "code",
   "execution_count": 16,
   "metadata": {},
   "outputs": [
    {
     "data": {
      "text/html": [
       "<div>\n",
       "<style scoped>\n",
       "    .dataframe tbody tr th:only-of-type {\n",
       "        vertical-align: middle;\n",
       "    }\n",
       "\n",
       "    .dataframe tbody tr th {\n",
       "        vertical-align: top;\n",
       "    }\n",
       "\n",
       "    .dataframe thead th {\n",
       "        text-align: right;\n",
       "    }\n",
       "</style>\n",
       "<table border=\"1\" class=\"dataframe\">\n",
       "  <thead>\n",
       "    <tr style=\"text-align: right;\">\n",
       "      <th></th>\n",
       "      <th>index</th>\n",
       "      <th>State</th>\n",
       "      <th>Crop</th>\n",
       "      <th>Year</th>\n",
       "      <th>Season</th>\n",
       "      <th>Production</th>\n",
       "    </tr>\n",
       "  </thead>\n",
       "  <tbody>\n",
       "    <tr>\n",
       "      <th>0</th>\n",
       "      <td>15849</td>\n",
       "      <td>Punjab</td>\n",
       "      <td>Rice</td>\n",
       "      <td>1997</td>\n",
       "      <td>Kharif</td>\n",
       "      <td>7904000.0</td>\n",
       "    </tr>\n",
       "    <tr>\n",
       "      <th>1</th>\n",
       "      <td>15850</td>\n",
       "      <td>Punjab</td>\n",
       "      <td>Rice</td>\n",
       "      <td>1998</td>\n",
       "      <td>Kharif</td>\n",
       "      <td>7940000.0</td>\n",
       "    </tr>\n",
       "    <tr>\n",
       "      <th>2</th>\n",
       "      <td>15851</td>\n",
       "      <td>Punjab</td>\n",
       "      <td>Rice</td>\n",
       "      <td>1999</td>\n",
       "      <td>Kharif</td>\n",
       "      <td>8716000.0</td>\n",
       "    </tr>\n",
       "    <tr>\n",
       "      <th>3</th>\n",
       "      <td>15852</td>\n",
       "      <td>Punjab</td>\n",
       "      <td>Rice</td>\n",
       "      <td>2000</td>\n",
       "      <td>Kharif</td>\n",
       "      <td>9154000.0</td>\n",
       "    </tr>\n",
       "    <tr>\n",
       "      <th>4</th>\n",
       "      <td>15853</td>\n",
       "      <td>Punjab</td>\n",
       "      <td>Rice</td>\n",
       "      <td>2001</td>\n",
       "      <td>Kharif</td>\n",
       "      <td>8816000.0</td>\n",
       "    </tr>\n",
       "    <tr>\n",
       "      <th>5</th>\n",
       "      <td>15854</td>\n",
       "      <td>Punjab</td>\n",
       "      <td>Rice</td>\n",
       "      <td>2002</td>\n",
       "      <td>Kharif</td>\n",
       "      <td>8880000.0</td>\n",
       "    </tr>\n",
       "    <tr>\n",
       "      <th>6</th>\n",
       "      <td>15855</td>\n",
       "      <td>Punjab</td>\n",
       "      <td>Rice</td>\n",
       "      <td>2003</td>\n",
       "      <td>Kharif</td>\n",
       "      <td>9656000.0</td>\n",
       "    </tr>\n",
       "    <tr>\n",
       "      <th>7</th>\n",
       "      <td>15856</td>\n",
       "      <td>Punjab</td>\n",
       "      <td>Rice</td>\n",
       "      <td>2004</td>\n",
       "      <td>Kharif</td>\n",
       "      <td>10437000.0</td>\n",
       "    </tr>\n",
       "    <tr>\n",
       "      <th>8</th>\n",
       "      <td>15857</td>\n",
       "      <td>Punjab</td>\n",
       "      <td>Rice</td>\n",
       "      <td>2005</td>\n",
       "      <td>Kharif</td>\n",
       "      <td>10193000.0</td>\n",
       "    </tr>\n",
       "    <tr>\n",
       "      <th>9</th>\n",
       "      <td>15858</td>\n",
       "      <td>Punjab</td>\n",
       "      <td>Rice</td>\n",
       "      <td>2006</td>\n",
       "      <td>Kharif</td>\n",
       "      <td>10138000.0</td>\n",
       "    </tr>\n",
       "    <tr>\n",
       "      <th>10</th>\n",
       "      <td>15859</td>\n",
       "      <td>Punjab</td>\n",
       "      <td>Rice</td>\n",
       "      <td>2007</td>\n",
       "      <td>Kharif</td>\n",
       "      <td>10489000.0</td>\n",
       "    </tr>\n",
       "    <tr>\n",
       "      <th>11</th>\n",
       "      <td>15860</td>\n",
       "      <td>Punjab</td>\n",
       "      <td>Rice</td>\n",
       "      <td>2008</td>\n",
       "      <td>Kharif</td>\n",
       "      <td>11000000.0</td>\n",
       "    </tr>\n",
       "    <tr>\n",
       "      <th>12</th>\n",
       "      <td>15861</td>\n",
       "      <td>Punjab</td>\n",
       "      <td>Rice</td>\n",
       "      <td>2009</td>\n",
       "      <td>Kharif</td>\n",
       "      <td>11236000.0</td>\n",
       "    </tr>\n",
       "    <tr>\n",
       "      <th>13</th>\n",
       "      <td>15862</td>\n",
       "      <td>Punjab</td>\n",
       "      <td>Rice</td>\n",
       "      <td>2010</td>\n",
       "      <td>Kharif</td>\n",
       "      <td>10837000.0</td>\n",
       "    </tr>\n",
       "    <tr>\n",
       "      <th>14</th>\n",
       "      <td>15863</td>\n",
       "      <td>Punjab</td>\n",
       "      <td>Rice</td>\n",
       "      <td>2011</td>\n",
       "      <td>Kharif</td>\n",
       "      <td>10542000.0</td>\n",
       "    </tr>\n",
       "    <tr>\n",
       "      <th>15</th>\n",
       "      <td>15864</td>\n",
       "      <td>Punjab</td>\n",
       "      <td>Rice</td>\n",
       "      <td>2012</td>\n",
       "      <td>Kharif</td>\n",
       "      <td>11390000.0</td>\n",
       "    </tr>\n",
       "    <tr>\n",
       "      <th>16</th>\n",
       "      <td>15865</td>\n",
       "      <td>Punjab</td>\n",
       "      <td>Rice</td>\n",
       "      <td>2013</td>\n",
       "      <td>Kharif</td>\n",
       "      <td>11267000.0</td>\n",
       "    </tr>\n",
       "    <tr>\n",
       "      <th>17</th>\n",
       "      <td>15866</td>\n",
       "      <td>Punjab</td>\n",
       "      <td>Rice</td>\n",
       "      <td>2014</td>\n",
       "      <td>Kharif</td>\n",
       "      <td>11107000.0</td>\n",
       "    </tr>\n",
       "    <tr>\n",
       "      <th>18</th>\n",
       "      <td>15867</td>\n",
       "      <td>Punjab</td>\n",
       "      <td>Rice</td>\n",
       "      <td>2015</td>\n",
       "      <td>Kharif</td>\n",
       "      <td>11823000.0</td>\n",
       "    </tr>\n",
       "    <tr>\n",
       "      <th>19</th>\n",
       "      <td>15868</td>\n",
       "      <td>Punjab</td>\n",
       "      <td>Rice</td>\n",
       "      <td>2016</td>\n",
       "      <td>Kharif</td>\n",
       "      <td>12638000.0</td>\n",
       "    </tr>\n",
       "    <tr>\n",
       "      <th>20</th>\n",
       "      <td>15869</td>\n",
       "      <td>Punjab</td>\n",
       "      <td>Rice</td>\n",
       "      <td>2017</td>\n",
       "      <td>Kharif</td>\n",
       "      <td>13382000.0</td>\n",
       "    </tr>\n",
       "    <tr>\n",
       "      <th>21</th>\n",
       "      <td>15870</td>\n",
       "      <td>Punjab</td>\n",
       "      <td>Rice</td>\n",
       "      <td>2018</td>\n",
       "      <td>Kharif</td>\n",
       "      <td>12822000.0</td>\n",
       "    </tr>\n",
       "    <tr>\n",
       "      <th>22</th>\n",
       "      <td>15871</td>\n",
       "      <td>Punjab</td>\n",
       "      <td>Rice</td>\n",
       "      <td>2019</td>\n",
       "      <td>Kharif</td>\n",
       "      <td>12675000.0</td>\n",
       "    </tr>\n",
       "  </tbody>\n",
       "</table>\n",
       "</div>"
      ],
      "text/plain": [
       "    index   State  Crop  Year  Season  Production\n",
       "0   15849  Punjab  Rice  1997  Kharif   7904000.0\n",
       "1   15850  Punjab  Rice  1998  Kharif   7940000.0\n",
       "2   15851  Punjab  Rice  1999  Kharif   8716000.0\n",
       "3   15852  Punjab  Rice  2000  Kharif   9154000.0\n",
       "4   15853  Punjab  Rice  2001  Kharif   8816000.0\n",
       "5   15854  Punjab  Rice  2002  Kharif   8880000.0\n",
       "6   15855  Punjab  Rice  2003  Kharif   9656000.0\n",
       "7   15856  Punjab  Rice  2004  Kharif  10437000.0\n",
       "8   15857  Punjab  Rice  2005  Kharif  10193000.0\n",
       "9   15858  Punjab  Rice  2006  Kharif  10138000.0\n",
       "10  15859  Punjab  Rice  2007  Kharif  10489000.0\n",
       "11  15860  Punjab  Rice  2008  Kharif  11000000.0\n",
       "12  15861  Punjab  Rice  2009  Kharif  11236000.0\n",
       "13  15862  Punjab  Rice  2010  Kharif  10837000.0\n",
       "14  15863  Punjab  Rice  2011  Kharif  10542000.0\n",
       "15  15864  Punjab  Rice  2012  Kharif  11390000.0\n",
       "16  15865  Punjab  Rice  2013  Kharif  11267000.0\n",
       "17  15866  Punjab  Rice  2014  Kharif  11107000.0\n",
       "18  15867  Punjab  Rice  2015  Kharif  11823000.0\n",
       "19  15868  Punjab  Rice  2016  Kharif  12638000.0\n",
       "20  15869  Punjab  Rice  2017  Kharif  13382000.0\n",
       "21  15870  Punjab  Rice  2018  Kharif  12822000.0\n",
       "22  15871  Punjab  Rice  2019  Kharif  12675000.0"
      ]
     },
     "execution_count": 16,
     "metadata": {},
     "output_type": "execute_result"
    }
   ],
   "source": [
    "# subset for Punjab and Rice\n",
    "production_all[\n",
    "    (production_all['State'] == 'Punjab') &\n",
    "    (production_all['Crop'] == 'Rice') \n",
    "].reset_index()"
   ]
  },
  {
   "cell_type": "markdown",
   "metadata": {},
   "source": [
    "## Crop production in Punjab"
   ]
  },
  {
   "cell_type": "markdown",
   "metadata": {},
   "source": [
    "HYPOTHESIS: One interesting case study of sorts is Punjab, where rice yeilds have declined over time, due to various reasons. [In this article](https://drive.google.com/file/d/1WW44UyHMZjKfRrE0lnKlMPbwW_CWhI3-/view?usp=share_link), Punjab's ground-water level has been declining sharply ever since rice cultivation was introduced into the state. Rice is a water-intensive crop. The government there is pushing the farmers to diversify the crops growns to reduce rice cultivation to help with this issue. This could be a good reason why over time rice cultivation in the area is declining. This policy is also a few years old only. "
   ]
  },
  {
   "cell_type": "code",
   "execution_count": 17,
   "metadata": {},
   "outputs": [
    {
     "data": {
      "text/html": [
       "<div>\n",
       "<style scoped>\n",
       "    .dataframe tbody tr th:only-of-type {\n",
       "        vertical-align: middle;\n",
       "    }\n",
       "\n",
       "    .dataframe tbody tr th {\n",
       "        vertical-align: top;\n",
       "    }\n",
       "\n",
       "    .dataframe thead th {\n",
       "        text-align: right;\n",
       "    }\n",
       "</style>\n",
       "<table border=\"1\" class=\"dataframe\">\n",
       "  <thead>\n",
       "    <tr style=\"text-align: right;\">\n",
       "      <th></th>\n",
       "      <th>State</th>\n",
       "      <th>District</th>\n",
       "      <th>Crop</th>\n",
       "      <th>Year</th>\n",
       "      <th>Season</th>\n",
       "      <th>Area</th>\n",
       "      <th>Area Units</th>\n",
       "      <th>Production</th>\n",
       "      <th>Production Units</th>\n",
       "      <th>Yield</th>\n",
       "    </tr>\n",
       "  </thead>\n",
       "  <tbody>\n",
       "    <tr>\n",
       "      <th>0</th>\n",
       "      <td>Punjab</td>\n",
       "      <td>AMRITSAR</td>\n",
       "      <td>Arhar/Tur</td>\n",
       "      <td>2001</td>\n",
       "      <td>Kharif</td>\n",
       "      <td>1400.0</td>\n",
       "      <td>Hectare</td>\n",
       "      <td>1100.0</td>\n",
       "      <td>Tonnes</td>\n",
       "      <td>0.785714</td>\n",
       "    </tr>\n",
       "    <tr>\n",
       "      <th>1</th>\n",
       "      <td>Punjab</td>\n",
       "      <td>AMRITSAR</td>\n",
       "      <td>Arhar/Tur</td>\n",
       "      <td>2002</td>\n",
       "      <td>Kharif</td>\n",
       "      <td>1200.0</td>\n",
       "      <td>Hectare</td>\n",
       "      <td>1000.0</td>\n",
       "      <td>Tonnes</td>\n",
       "      <td>0.833333</td>\n",
       "    </tr>\n",
       "    <tr>\n",
       "      <th>2</th>\n",
       "      <td>Punjab</td>\n",
       "      <td>AMRITSAR</td>\n",
       "      <td>Arhar/Tur</td>\n",
       "      <td>2003</td>\n",
       "      <td>Kharif</td>\n",
       "      <td>1500.0</td>\n",
       "      <td>Hectare</td>\n",
       "      <td>1400.0</td>\n",
       "      <td>Tonnes</td>\n",
       "      <td>0.933333</td>\n",
       "    </tr>\n",
       "    <tr>\n",
       "      <th>3</th>\n",
       "      <td>Punjab</td>\n",
       "      <td>BATHINDA</td>\n",
       "      <td>Arhar/Tur</td>\n",
       "      <td>2003</td>\n",
       "      <td>Kharif</td>\n",
       "      <td>100.0</td>\n",
       "      <td>Hectare</td>\n",
       "      <td>100.0</td>\n",
       "      <td>Tonnes</td>\n",
       "      <td>1.000000</td>\n",
       "    </tr>\n",
       "    <tr>\n",
       "      <th>4</th>\n",
       "      <td>Punjab</td>\n",
       "      <td>FARIDKOT</td>\n",
       "      <td>Arhar/Tur</td>\n",
       "      <td>2001</td>\n",
       "      <td>Kharif</td>\n",
       "      <td>100.0</td>\n",
       "      <td>Hectare</td>\n",
       "      <td>100.0</td>\n",
       "      <td>Tonnes</td>\n",
       "      <td>1.000000</td>\n",
       "    </tr>\n",
       "    <tr>\n",
       "      <th>...</th>\n",
       "      <td>...</td>\n",
       "      <td>...</td>\n",
       "      <td>...</td>\n",
       "      <td>...</td>\n",
       "      <td>...</td>\n",
       "      <td>...</td>\n",
       "      <td>...</td>\n",
       "      <td>...</td>\n",
       "      <td>...</td>\n",
       "      <td>...</td>\n",
       "    </tr>\n",
       "    <tr>\n",
       "      <th>4137</th>\n",
       "      <td>Punjab</td>\n",
       "      <td>RUPNAGAR</td>\n",
       "      <td>Wheat</td>\n",
       "      <td>2000</td>\n",
       "      <td>Rabi</td>\n",
       "      <td>86000.0</td>\n",
       "      <td>Hectare</td>\n",
       "      <td>312000.0</td>\n",
       "      <td>Tonnes</td>\n",
       "      <td>3.627907</td>\n",
       "    </tr>\n",
       "    <tr>\n",
       "      <th>4138</th>\n",
       "      <td>Punjab</td>\n",
       "      <td>SANGRUR</td>\n",
       "      <td>Wheat</td>\n",
       "      <td>1997</td>\n",
       "      <td>Rabi</td>\n",
       "      <td>401000.0</td>\n",
       "      <td>Hectare</td>\n",
       "      <td>1732000.0</td>\n",
       "      <td>Tonnes</td>\n",
       "      <td>4.319202</td>\n",
       "    </tr>\n",
       "    <tr>\n",
       "      <th>4139</th>\n",
       "      <td>Punjab</td>\n",
       "      <td>SANGRUR</td>\n",
       "      <td>Wheat</td>\n",
       "      <td>1998</td>\n",
       "      <td>Rabi</td>\n",
       "      <td>86000.0</td>\n",
       "      <td>Hectare</td>\n",
       "      <td>325000.0</td>\n",
       "      <td>Tonnes</td>\n",
       "      <td>3.779070</td>\n",
       "    </tr>\n",
       "    <tr>\n",
       "      <th>4140</th>\n",
       "      <td>Punjab</td>\n",
       "      <td>SANGRUR</td>\n",
       "      <td>Wheat</td>\n",
       "      <td>1999</td>\n",
       "      <td>Rabi</td>\n",
       "      <td>394000.0</td>\n",
       "      <td>Hectare</td>\n",
       "      <td>1902000.0</td>\n",
       "      <td>Tonnes</td>\n",
       "      <td>4.827411</td>\n",
       "    </tr>\n",
       "    <tr>\n",
       "      <th>4141</th>\n",
       "      <td>Punjab</td>\n",
       "      <td>SANGRUR</td>\n",
       "      <td>Wheat</td>\n",
       "      <td>2000</td>\n",
       "      <td>Rabi</td>\n",
       "      <td>393000.0</td>\n",
       "      <td>Hectare</td>\n",
       "      <td>1921000.0</td>\n",
       "      <td>Tonnes</td>\n",
       "      <td>4.888041</td>\n",
       "    </tr>\n",
       "  </tbody>\n",
       "</table>\n",
       "<p>4142 rows × 10 columns</p>\n",
       "</div>"
      ],
      "text/plain": [
       "       State  District       Crop  Year  Season      Area Area Units  \\\n",
       "0     Punjab  AMRITSAR  Arhar/Tur  2001  Kharif    1400.0    Hectare   \n",
       "1     Punjab  AMRITSAR  Arhar/Tur  2002  Kharif    1200.0    Hectare   \n",
       "2     Punjab  AMRITSAR  Arhar/Tur  2003  Kharif    1500.0    Hectare   \n",
       "3     Punjab  BATHINDA  Arhar/Tur  2003  Kharif     100.0    Hectare   \n",
       "4     Punjab  FARIDKOT  Arhar/Tur  2001  Kharif     100.0    Hectare   \n",
       "...      ...       ...        ...   ...     ...       ...        ...   \n",
       "4137  Punjab  RUPNAGAR      Wheat  2000    Rabi   86000.0    Hectare   \n",
       "4138  Punjab   SANGRUR      Wheat  1997    Rabi  401000.0    Hectare   \n",
       "4139  Punjab   SANGRUR      Wheat  1998    Rabi   86000.0    Hectare   \n",
       "4140  Punjab   SANGRUR      Wheat  1999    Rabi  394000.0    Hectare   \n",
       "4141  Punjab   SANGRUR      Wheat  2000    Rabi  393000.0    Hectare   \n",
       "\n",
       "      Production Production Units     Yield  \n",
       "0         1100.0           Tonnes  0.785714  \n",
       "1         1000.0           Tonnes  0.833333  \n",
       "2         1400.0           Tonnes  0.933333  \n",
       "3          100.0           Tonnes  1.000000  \n",
       "4          100.0           Tonnes  1.000000  \n",
       "...          ...              ...       ...  \n",
       "4137    312000.0           Tonnes  3.627907  \n",
       "4138   1732000.0           Tonnes  4.319202  \n",
       "4139    325000.0           Tonnes  3.779070  \n",
       "4140   1902000.0           Tonnes  4.827411  \n",
       "4141   1921000.0           Tonnes  4.888041  \n",
       "\n",
       "[4142 rows x 10 columns]"
      ]
     },
     "execution_count": 17,
     "metadata": {},
     "output_type": "execute_result"
    }
   ],
   "source": [
    "df_pj  =  df[(df['State'] == 'Punjab')].reset_index(drop=True)\n",
    "df_pj "
   ]
  },
  {
   "cell_type": "code",
   "execution_count": 18,
   "metadata": {},
   "outputs": [
    {
     "name": "stderr",
     "output_type": "stream",
     "text": [
      "/var/folders/5m/nykgw7dn67q73dqxfgtdnfhm0000gn/T/ipykernel_82711/467603020.py:2: FutureWarning: The default value of numeric_only in DataFrameGroupBy.sum is deprecated. In a future version, numeric_only will default to False. Either specify numeric_only or select only columns which should be valid for the function.\n",
      "  punjab_crop_pro = df_pj.groupby(['Crop']).sum()[['Production']].reset_index()\n"
     ]
    },
    {
     "data": {
      "text/html": [
       "<div>\n",
       "<style scoped>\n",
       "    .dataframe tbody tr th:only-of-type {\n",
       "        vertical-align: middle;\n",
       "    }\n",
       "\n",
       "    .dataframe tbody tr th {\n",
       "        vertical-align: top;\n",
       "    }\n",
       "\n",
       "    .dataframe thead th {\n",
       "        text-align: right;\n",
       "    }\n",
       "</style>\n",
       "<table border=\"1\" class=\"dataframe\">\n",
       "  <thead>\n",
       "    <tr style=\"text-align: right;\">\n",
       "      <th></th>\n",
       "      <th>Crop</th>\n",
       "      <th>Production</th>\n",
       "    </tr>\n",
       "  </thead>\n",
       "  <tbody>\n",
       "    <tr>\n",
       "      <th>0</th>\n",
       "      <td>Arhar/Tur</td>\n",
       "      <td>118120.0</td>\n",
       "    </tr>\n",
       "    <tr>\n",
       "      <th>1</th>\n",
       "      <td>Bajra</td>\n",
       "      <td>78100.0</td>\n",
       "    </tr>\n",
       "    <tr>\n",
       "      <th>2</th>\n",
       "      <td>Barley</td>\n",
       "      <td>1393000.0</td>\n",
       "    </tr>\n",
       "    <tr>\n",
       "      <th>3</th>\n",
       "      <td>Cotton(lint)</td>\n",
       "      <td>34634200.0</td>\n",
       "    </tr>\n",
       "    <tr>\n",
       "      <th>4</th>\n",
       "      <td>Gram</td>\n",
       "      <td>97300.0</td>\n",
       "    </tr>\n",
       "    <tr>\n",
       "      <th>5</th>\n",
       "      <td>Groundnut</td>\n",
       "      <td>76500.0</td>\n",
       "    </tr>\n",
       "    <tr>\n",
       "      <th>6</th>\n",
       "      <td>Guar seed</td>\n",
       "      <td>369740.0</td>\n",
       "    </tr>\n",
       "    <tr>\n",
       "      <th>7</th>\n",
       "      <td>Jowar</td>\n",
       "      <td>400.0</td>\n",
       "    </tr>\n",
       "    <tr>\n",
       "      <th>8</th>\n",
       "      <td>Linseed</td>\n",
       "      <td>1700.0</td>\n",
       "    </tr>\n",
       "    <tr>\n",
       "      <th>9</th>\n",
       "      <td>Maize</td>\n",
       "      <td>10150400.0</td>\n",
       "    </tr>\n",
       "    <tr>\n",
       "      <th>10</th>\n",
       "      <td>Masoor</td>\n",
       "      <td>30979.0</td>\n",
       "    </tr>\n",
       "    <tr>\n",
       "      <th>11</th>\n",
       "      <td>Moong(Green Gram)</td>\n",
       "      <td>279490.0</td>\n",
       "    </tr>\n",
       "    <tr>\n",
       "      <th>12</th>\n",
       "      <td>Moth</td>\n",
       "      <td>1800.0</td>\n",
       "    </tr>\n",
       "    <tr>\n",
       "      <th>13</th>\n",
       "      <td>Other Rabi pulses</td>\n",
       "      <td>6300.0</td>\n",
       "    </tr>\n",
       "    <tr>\n",
       "      <th>14</th>\n",
       "      <td>Peas &amp; beans (Pulses)</td>\n",
       "      <td>48620.0</td>\n",
       "    </tr>\n",
       "    <tr>\n",
       "      <th>15</th>\n",
       "      <td>Rapeseed &amp;Mustard</td>\n",
       "      <td>1012100.0</td>\n",
       "    </tr>\n",
       "    <tr>\n",
       "      <th>16</th>\n",
       "      <td>Rice</td>\n",
       "      <td>243042000.0</td>\n",
       "    </tr>\n",
       "    <tr>\n",
       "      <th>17</th>\n",
       "      <td>Sesamum</td>\n",
       "      <td>71410.0</td>\n",
       "    </tr>\n",
       "    <tr>\n",
       "      <th>18</th>\n",
       "      <td>Sugarcane</td>\n",
       "      <td>125639000.0</td>\n",
       "    </tr>\n",
       "    <tr>\n",
       "      <th>19</th>\n",
       "      <td>Sunflower</td>\n",
       "      <td>96600.0</td>\n",
       "    </tr>\n",
       "    <tr>\n",
       "      <th>20</th>\n",
       "      <td>Urad</td>\n",
       "      <td>30350.0</td>\n",
       "    </tr>\n",
       "    <tr>\n",
       "      <th>21</th>\n",
       "      <td>Wheat</td>\n",
       "      <td>364370000.0</td>\n",
       "    </tr>\n",
       "    <tr>\n",
       "      <th>22</th>\n",
       "      <td>other oilseeds</td>\n",
       "      <td>3300.0</td>\n",
       "    </tr>\n",
       "  </tbody>\n",
       "</table>\n",
       "</div>"
      ],
      "text/plain": [
       "                     Crop   Production\n",
       "0               Arhar/Tur     118120.0\n",
       "1                   Bajra      78100.0\n",
       "2                  Barley    1393000.0\n",
       "3            Cotton(lint)   34634200.0\n",
       "4                    Gram      97300.0\n",
       "5               Groundnut      76500.0\n",
       "6               Guar seed     369740.0\n",
       "7                   Jowar        400.0\n",
       "8                 Linseed       1700.0\n",
       "9                   Maize   10150400.0\n",
       "10                 Masoor      30979.0\n",
       "11      Moong(Green Gram)     279490.0\n",
       "12                   Moth       1800.0\n",
       "13      Other Rabi pulses       6300.0\n",
       "14  Peas & beans (Pulses)      48620.0\n",
       "15      Rapeseed &Mustard    1012100.0\n",
       "16                   Rice  243042000.0\n",
       "17                Sesamum      71410.0\n",
       "18              Sugarcane  125639000.0\n",
       "19              Sunflower      96600.0\n",
       "20                   Urad      30350.0\n",
       "21                  Wheat  364370000.0\n",
       "22         other oilseeds       3300.0"
      ]
     },
     "execution_count": 18,
     "metadata": {},
     "output_type": "execute_result"
    }
   ],
   "source": [
    "##Calculating the total production of various crops in Punjab since 1997, in tonnes. \n",
    "punjab_crop_pro = df_pj.groupby(['Crop']).sum()[['Production']].reset_index()\n",
    "punjab_crop_pro"
   ]
  },
  {
   "cell_type": "code",
   "execution_count": 19,
   "metadata": {},
   "outputs": [
    {
     "data": {
      "text/html": [
       "<div>\n",
       "<style scoped>\n",
       "    .dataframe tbody tr th:only-of-type {\n",
       "        vertical-align: middle;\n",
       "    }\n",
       "\n",
       "    .dataframe tbody tr th {\n",
       "        vertical-align: top;\n",
       "    }\n",
       "\n",
       "    .dataframe thead th {\n",
       "        text-align: right;\n",
       "    }\n",
       "</style>\n",
       "<table border=\"1\" class=\"dataframe\">\n",
       "  <thead>\n",
       "    <tr style=\"text-align: right;\">\n",
       "      <th></th>\n",
       "      <th>Crop</th>\n",
       "      <th>Production</th>\n",
       "    </tr>\n",
       "  </thead>\n",
       "  <tbody>\n",
       "    <tr>\n",
       "      <th>7</th>\n",
       "      <td>Jowar</td>\n",
       "      <td>400.0</td>\n",
       "    </tr>\n",
       "    <tr>\n",
       "      <th>8</th>\n",
       "      <td>Linseed</td>\n",
       "      <td>1700.0</td>\n",
       "    </tr>\n",
       "    <tr>\n",
       "      <th>12</th>\n",
       "      <td>Moth</td>\n",
       "      <td>1800.0</td>\n",
       "    </tr>\n",
       "    <tr>\n",
       "      <th>22</th>\n",
       "      <td>other oilseeds</td>\n",
       "      <td>3300.0</td>\n",
       "    </tr>\n",
       "    <tr>\n",
       "      <th>13</th>\n",
       "      <td>Other Rabi pulses</td>\n",
       "      <td>6300.0</td>\n",
       "    </tr>\n",
       "    <tr>\n",
       "      <th>20</th>\n",
       "      <td>Urad</td>\n",
       "      <td>30350.0</td>\n",
       "    </tr>\n",
       "    <tr>\n",
       "      <th>10</th>\n",
       "      <td>Masoor</td>\n",
       "      <td>30979.0</td>\n",
       "    </tr>\n",
       "    <tr>\n",
       "      <th>14</th>\n",
       "      <td>Peas &amp; beans (Pulses)</td>\n",
       "      <td>48620.0</td>\n",
       "    </tr>\n",
       "    <tr>\n",
       "      <th>17</th>\n",
       "      <td>Sesamum</td>\n",
       "      <td>71410.0</td>\n",
       "    </tr>\n",
       "    <tr>\n",
       "      <th>5</th>\n",
       "      <td>Groundnut</td>\n",
       "      <td>76500.0</td>\n",
       "    </tr>\n",
       "    <tr>\n",
       "      <th>1</th>\n",
       "      <td>Bajra</td>\n",
       "      <td>78100.0</td>\n",
       "    </tr>\n",
       "    <tr>\n",
       "      <th>19</th>\n",
       "      <td>Sunflower</td>\n",
       "      <td>96600.0</td>\n",
       "    </tr>\n",
       "    <tr>\n",
       "      <th>4</th>\n",
       "      <td>Gram</td>\n",
       "      <td>97300.0</td>\n",
       "    </tr>\n",
       "    <tr>\n",
       "      <th>0</th>\n",
       "      <td>Arhar/Tur</td>\n",
       "      <td>118120.0</td>\n",
       "    </tr>\n",
       "    <tr>\n",
       "      <th>11</th>\n",
       "      <td>Moong(Green Gram)</td>\n",
       "      <td>279490.0</td>\n",
       "    </tr>\n",
       "    <tr>\n",
       "      <th>6</th>\n",
       "      <td>Guar seed</td>\n",
       "      <td>369740.0</td>\n",
       "    </tr>\n",
       "    <tr>\n",
       "      <th>15</th>\n",
       "      <td>Rapeseed &amp;Mustard</td>\n",
       "      <td>1012100.0</td>\n",
       "    </tr>\n",
       "    <tr>\n",
       "      <th>2</th>\n",
       "      <td>Barley</td>\n",
       "      <td>1393000.0</td>\n",
       "    </tr>\n",
       "    <tr>\n",
       "      <th>9</th>\n",
       "      <td>Maize</td>\n",
       "      <td>10150400.0</td>\n",
       "    </tr>\n",
       "    <tr>\n",
       "      <th>3</th>\n",
       "      <td>Cotton(lint)</td>\n",
       "      <td>34634200.0</td>\n",
       "    </tr>\n",
       "    <tr>\n",
       "      <th>18</th>\n",
       "      <td>Sugarcane</td>\n",
       "      <td>125639000.0</td>\n",
       "    </tr>\n",
       "    <tr>\n",
       "      <th>16</th>\n",
       "      <td>Rice</td>\n",
       "      <td>243042000.0</td>\n",
       "    </tr>\n",
       "    <tr>\n",
       "      <th>21</th>\n",
       "      <td>Wheat</td>\n",
       "      <td>364370000.0</td>\n",
       "    </tr>\n",
       "  </tbody>\n",
       "</table>\n",
       "</div>"
      ],
      "text/plain": [
       "                     Crop   Production\n",
       "7                   Jowar        400.0\n",
       "8                 Linseed       1700.0\n",
       "12                   Moth       1800.0\n",
       "22         other oilseeds       3300.0\n",
       "13      Other Rabi pulses       6300.0\n",
       "20                   Urad      30350.0\n",
       "10                 Masoor      30979.0\n",
       "14  Peas & beans (Pulses)      48620.0\n",
       "17                Sesamum      71410.0\n",
       "5               Groundnut      76500.0\n",
       "1                   Bajra      78100.0\n",
       "19              Sunflower      96600.0\n",
       "4                    Gram      97300.0\n",
       "0               Arhar/Tur     118120.0\n",
       "11      Moong(Green Gram)     279490.0\n",
       "6               Guar seed     369740.0\n",
       "15      Rapeseed &Mustard    1012100.0\n",
       "2                  Barley    1393000.0\n",
       "9                   Maize   10150400.0\n",
       "3            Cotton(lint)   34634200.0\n",
       "18              Sugarcane  125639000.0\n",
       "16                   Rice  243042000.0\n",
       "21                  Wheat  364370000.0"
      ]
     },
     "execution_count": 19,
     "metadata": {},
     "output_type": "execute_result"
    }
   ],
   "source": [
    "##Sorting to see which crops were produced more in Punjab since 1997\n",
    "punjab_crop_pro.sort_values(by=['Production'])"
   ]
  },
  {
   "cell_type": "markdown",
   "metadata": {},
   "source": [
    "Wheat, rice, sugarcane, cotton and maize are the most cultivated crops in Punjab, with the least five being jowar, linseed, moth, other oilseeds and other rabi pulses. "
   ]
  },
  {
   "cell_type": "code",
   "execution_count": 20,
   "metadata": {},
   "outputs": [],
   "source": [
    "##Creating a pie chart using matplotlib to vizualize the following crop distribution over the decades in Punjab. "
   ]
  },
  {
   "cell_type": "code",
   "execution_count": 21,
   "metadata": {},
   "outputs": [],
   "source": [
    "##Exporting this data to a CSV. \n",
    "punjab_crop_pro.to_csv('Crop production over years.csv')"
   ]
  },
  {
   "cell_type": "code",
   "execution_count": 22,
   "metadata": {},
   "outputs": [
    {
     "data": {
      "text/plain": [
       "Crop          object\n",
       "Production     int64\n",
       "dtype: object"
      ]
     },
     "execution_count": 22,
     "metadata": {},
     "output_type": "execute_result"
    }
   ],
   "source": [
    "punjab_crop_pro.astype({'Production': 'int'}).dtypes"
   ]
  },
  {
   "cell_type": "code",
   "execution_count": 23,
   "metadata": {},
   "outputs": [
    {
     "data": {
      "text/plain": [
       "['Arhar/Tur',\n",
       " 'Bajra',\n",
       " 'Barley',\n",
       " 'Cotton(lint)',\n",
       " 'Gram',\n",
       " 'Groundnut',\n",
       " 'Guar seed',\n",
       " 'Jowar',\n",
       " 'Linseed',\n",
       " 'Maize',\n",
       " 'Masoor',\n",
       " 'Moong(Green Gram)',\n",
       " 'Moth',\n",
       " 'Other Rabi pulses',\n",
       " 'Peas & beans (Pulses)',\n",
       " 'Rapeseed &Mustard',\n",
       " 'Rice',\n",
       " 'Sesamum',\n",
       " 'Sugarcane',\n",
       " 'Sunflower',\n",
       " 'Urad',\n",
       " 'Wheat',\n",
       " 'other oilseeds']"
      ]
     },
     "execution_count": 23,
     "metadata": {},
     "output_type": "execute_result"
    }
   ],
   "source": [
    "##Converting the columns to lists.\n",
    "crops_name = punjab_crop_pro.Crop.to_list()\n",
    "crops_name"
   ]
  },
  {
   "cell_type": "code",
   "execution_count": 24,
   "metadata": {},
   "outputs": [
    {
     "data": {
      "text/plain": [
       "[118120.0,\n",
       " 78100.0,\n",
       " 1393000.0,\n",
       " 34634200.0,\n",
       " 97300.0,\n",
       " 76500.0,\n",
       " 369740.0,\n",
       " 400.0,\n",
       " 1700.0,\n",
       " 10150400.0,\n",
       " 30979.0,\n",
       " 279490.0,\n",
       " 1800.0,\n",
       " 6300.0,\n",
       " 48620.0,\n",
       " 1012100.0,\n",
       " 243042000.0,\n",
       " 71410.0,\n",
       " 125639000.0,\n",
       " 96600.0,\n",
       " 30350.0,\n",
       " 364370000.0,\n",
       " 3300.0]"
      ]
     },
     "execution_count": 24,
     "metadata": {},
     "output_type": "execute_result"
    }
   ],
   "source": [
    "crops_production_total = punjab_crop_pro.Production.to_list()\n",
    "crops_production_total"
   ]
  },
  {
   "cell_type": "code",
   "execution_count": 25,
   "metadata": {},
   "outputs": [
    {
     "name": "stdout",
     "output_type": "stream",
     "text": [
      "<class 'float'>\n",
      "<class 'float'>\n",
      "<class 'float'>\n",
      "<class 'float'>\n",
      "<class 'float'>\n",
      "<class 'float'>\n",
      "<class 'float'>\n",
      "<class 'float'>\n",
      "<class 'float'>\n",
      "<class 'float'>\n",
      "<class 'float'>\n",
      "<class 'float'>\n",
      "<class 'float'>\n",
      "<class 'float'>\n",
      "<class 'float'>\n",
      "<class 'float'>\n",
      "<class 'float'>\n",
      "<class 'float'>\n",
      "<class 'float'>\n",
      "<class 'float'>\n",
      "<class 'float'>\n",
      "<class 'float'>\n",
      "<class 'float'>\n"
     ]
    }
   ],
   "source": [
    " \n",
    "for element in crops_production_total:\n",
    "    print (type(element))"
   ]
  },
  {
   "cell_type": "code",
   "execution_count": 26,
   "metadata": {},
   "outputs": [
    {
     "name": "stdout",
     "output_type": "stream",
     "text": [
      "<class 'int'>\n",
      "<class 'int'>\n",
      "<class 'int'>\n",
      "<class 'int'>\n",
      "<class 'int'>\n",
      "<class 'int'>\n",
      "<class 'int'>\n",
      "<class 'int'>\n",
      "<class 'int'>\n",
      "<class 'int'>\n",
      "<class 'int'>\n",
      "<class 'int'>\n",
      "<class 'int'>\n",
      "<class 'int'>\n",
      "<class 'int'>\n",
      "<class 'int'>\n",
      "<class 'int'>\n",
      "<class 'int'>\n",
      "<class 'int'>\n",
      "<class 'int'>\n",
      "<class 'int'>\n",
      "<class 'int'>\n",
      "<class 'int'>\n"
     ]
    }
   ],
   "source": [
    "##Using list comprehension to convert the list to int\n",
    "crops_production_total = [int(x) for x in crops_production_total]\n",
    "for element in crops_production_total:\n",
    "    print (type(element))\n"
   ]
  },
  {
   "cell_type": "code",
   "execution_count": 27,
   "metadata": {},
   "outputs": [
    {
     "data": {
      "text/plain": [
       "array([   118120,     78100,   1393000,  34634200,     97300,     76500,\n",
       "          369740,       400,      1700,  10150400,     30979,    279490,\n",
       "            1800,      6300,     48620,   1012100, 243042000,     71410,\n",
       "       125639000,     96600,     30350, 364370000,      3300])"
      ]
     },
     "execution_count": 27,
     "metadata": {},
     "output_type": "execute_result"
    }
   ],
   "source": [
    "##Converting this list to an array using numpy\n",
    "crops_prod_array = np.array(crops_production_total)\n",
    "crops_prod_array"
   ]
  },
  {
   "cell_type": "code",
   "execution_count": 28,
   "metadata": {},
   "outputs": [
    {
     "name": "stdout",
     "output_type": "stream",
     "text": [
      "781551409\n"
     ]
    }
   ],
   "source": [
    "##Finding the sum of the array\n",
    "sumproduction = np.sum(crops_prod_array)\n",
    "print(sumproduction)"
   ]
  },
  {
   "cell_type": "code",
   "execution_count": 29,
   "metadata": {},
   "outputs": [
    {
     "name": "stdout",
     "output_type": "stream",
     "text": [
      "23\n"
     ]
    }
   ],
   "source": [
    "## Finding length of array\n",
    "length = len(crops_prod_array)\n",
    "print(length)"
   ]
  },
  {
   "cell_type": "code",
   "execution_count": 30,
   "metadata": {},
   "outputs": [],
   "source": [
    "## Defining a function to calculate each crop percentage of total crop production over the years \n",
    "percentlist = []\n",
    "def percentile(x):\n",
    "    for i in x, range (0, 22):\n",
    "        croppercent = (i/sumproduction) * 100\n",
    "        percentlist.extend(croppercent)\n",
    "\n",
    "percentile(crops_production_total)\n",
    "\n",
    " "
   ]
  },
  {
   "cell_type": "code",
   "execution_count": 31,
   "metadata": {},
   "outputs": [
    {
     "name": "stdout",
     "output_type": "stream",
     "text": [
      "[0.015113529147255366, 0.00999294468676468, 0.17823523621847887, 4.431467924076124, 0.012449596901692745, 0.009788223668854009, 0.047308468226432435, 5.1180254477668025e-05, 0.00021751608153008909, 1.2987501376253037, 0.003963782758659194, 0.035760923309908585, 0.00023031114514950607, 0.0008060890080232712, 0.006220959931760547, 0.12949883889211952, 31.09737852190348, 0.009136954930625683, 16.075589980799332, 0.012360031456356828, 0.003883301808493061, 46.62137331006974, 0.0004222370994407612, 0.0, 1.2795063619417006e-07, 2.559012723883401e-07, 3.8385190858251014e-07, 5.118025447766802e-07, 6.397531809708502e-07, 7.677038171650203e-07, 8.956544533591903e-07, 1.0236050895533604e-06, 1.1515557257475304e-06, 1.2795063619417004e-06, 1.4074569981358706e-06, 1.5354076343300406e-06, 1.6633582705242108e-06, 1.7913089067183805e-06, 1.919259542912551e-06, 2.047210179106721e-06, 2.175160815300891e-06, 2.303111451495061e-06, 2.4310620876892313e-06, 2.559012723883401e-06, 2.686963360077571e-06]\n"
     ]
    }
   ],
   "source": [
    "print(percentlist)"
   ]
  },
  {
   "cell_type": "code",
   "execution_count": 32,
   "metadata": {},
   "outputs": [
    {
     "data": {
      "text/html": [
       "<div>\n",
       "<style scoped>\n",
       "    .dataframe tbody tr th:only-of-type {\n",
       "        vertical-align: middle;\n",
       "    }\n",
       "\n",
       "    .dataframe tbody tr th {\n",
       "        vertical-align: top;\n",
       "    }\n",
       "\n",
       "    .dataframe thead th {\n",
       "        text-align: right;\n",
       "    }\n",
       "</style>\n",
       "<table border=\"1\" class=\"dataframe\">\n",
       "  <thead>\n",
       "    <tr style=\"text-align: right;\">\n",
       "      <th></th>\n",
       "      <th>Crop</th>\n",
       "      <th>Total Production</th>\n",
       "      <th>Percentage of total production</th>\n",
       "    </tr>\n",
       "  </thead>\n",
       "  <tbody>\n",
       "    <tr>\n",
       "      <th>0</th>\n",
       "      <td>Arhar/Tur</td>\n",
       "      <td>118120</td>\n",
       "      <td>0.015114</td>\n",
       "    </tr>\n",
       "    <tr>\n",
       "      <th>1</th>\n",
       "      <td>Bajra</td>\n",
       "      <td>78100</td>\n",
       "      <td>0.009993</td>\n",
       "    </tr>\n",
       "    <tr>\n",
       "      <th>2</th>\n",
       "      <td>Barley</td>\n",
       "      <td>1393000</td>\n",
       "      <td>0.178235</td>\n",
       "    </tr>\n",
       "    <tr>\n",
       "      <th>3</th>\n",
       "      <td>Cotton(lint)</td>\n",
       "      <td>34634200</td>\n",
       "      <td>4.431468</td>\n",
       "    </tr>\n",
       "    <tr>\n",
       "      <th>4</th>\n",
       "      <td>Gram</td>\n",
       "      <td>97300</td>\n",
       "      <td>0.012450</td>\n",
       "    </tr>\n",
       "    <tr>\n",
       "      <th>5</th>\n",
       "      <td>Groundnut</td>\n",
       "      <td>76500</td>\n",
       "      <td>0.009788</td>\n",
       "    </tr>\n",
       "    <tr>\n",
       "      <th>6</th>\n",
       "      <td>Guar seed</td>\n",
       "      <td>369740</td>\n",
       "      <td>0.047308</td>\n",
       "    </tr>\n",
       "    <tr>\n",
       "      <th>7</th>\n",
       "      <td>Jowar</td>\n",
       "      <td>400</td>\n",
       "      <td>0.000051</td>\n",
       "    </tr>\n",
       "    <tr>\n",
       "      <th>8</th>\n",
       "      <td>Linseed</td>\n",
       "      <td>1700</td>\n",
       "      <td>0.000218</td>\n",
       "    </tr>\n",
       "    <tr>\n",
       "      <th>9</th>\n",
       "      <td>Maize</td>\n",
       "      <td>10150400</td>\n",
       "      <td>1.298750</td>\n",
       "    </tr>\n",
       "  </tbody>\n",
       "</table>\n",
       "</div>"
      ],
      "text/plain": [
       "           Crop  Total Production  Percentage of total production\n",
       "0     Arhar/Tur            118120                        0.015114\n",
       "1         Bajra             78100                        0.009993\n",
       "2        Barley           1393000                        0.178235\n",
       "3  Cotton(lint)          34634200                        4.431468\n",
       "4          Gram             97300                        0.012450\n",
       "5     Groundnut             76500                        0.009788\n",
       "6     Guar seed            369740                        0.047308\n",
       "7         Jowar               400                        0.000051\n",
       "8       Linseed              1700                        0.000218\n",
       "9         Maize          10150400                        1.298750"
      ]
     },
     "execution_count": 32,
     "metadata": {},
     "output_type": "execute_result"
    }
   ],
   "source": [
    "##Adding this percentage list to a new dataframe\n",
    "##lists - percentlist, crops_name, crops_production_total\n",
    "\n",
    "percentile_list_crops = pd.DataFrame(list(zip(crops_name,crops_production_total,percentlist)), columns=['Crop','Total Production', 'Percentage of total production'])\n",
    "\n",
    "percentile_list_crops.head(10)"
   ]
  },
  {
   "cell_type": "code",
   "execution_count": 33,
   "metadata": {},
   "outputs": [
    {
     "data": {
      "text/html": [
       "<div>\n",
       "<style scoped>\n",
       "    .dataframe tbody tr th:only-of-type {\n",
       "        vertical-align: middle;\n",
       "    }\n",
       "\n",
       "    .dataframe tbody tr th {\n",
       "        vertical-align: top;\n",
       "    }\n",
       "\n",
       "    .dataframe thead th {\n",
       "        text-align: right;\n",
       "    }\n",
       "</style>\n",
       "<table border=\"1\" class=\"dataframe\">\n",
       "  <thead>\n",
       "    <tr style=\"text-align: right;\">\n",
       "      <th></th>\n",
       "      <th>Crop</th>\n",
       "      <th>Total Production</th>\n",
       "      <th>Percentage of total production</th>\n",
       "    </tr>\n",
       "  </thead>\n",
       "  <tbody>\n",
       "    <tr>\n",
       "      <th>7</th>\n",
       "      <td>Jowar</td>\n",
       "      <td>400</td>\n",
       "      <td>0.000051</td>\n",
       "    </tr>\n",
       "    <tr>\n",
       "      <th>8</th>\n",
       "      <td>Linseed</td>\n",
       "      <td>1700</td>\n",
       "      <td>0.000218</td>\n",
       "    </tr>\n",
       "    <tr>\n",
       "      <th>12</th>\n",
       "      <td>Moth</td>\n",
       "      <td>1800</td>\n",
       "      <td>0.000230</td>\n",
       "    </tr>\n",
       "    <tr>\n",
       "      <th>22</th>\n",
       "      <td>other oilseeds</td>\n",
       "      <td>3300</td>\n",
       "      <td>0.000422</td>\n",
       "    </tr>\n",
       "    <tr>\n",
       "      <th>13</th>\n",
       "      <td>Other Rabi pulses</td>\n",
       "      <td>6300</td>\n",
       "      <td>0.000806</td>\n",
       "    </tr>\n",
       "    <tr>\n",
       "      <th>20</th>\n",
       "      <td>Urad</td>\n",
       "      <td>30350</td>\n",
       "      <td>0.003883</td>\n",
       "    </tr>\n",
       "    <tr>\n",
       "      <th>10</th>\n",
       "      <td>Masoor</td>\n",
       "      <td>30979</td>\n",
       "      <td>0.003964</td>\n",
       "    </tr>\n",
       "    <tr>\n",
       "      <th>14</th>\n",
       "      <td>Peas &amp; beans (Pulses)</td>\n",
       "      <td>48620</td>\n",
       "      <td>0.006221</td>\n",
       "    </tr>\n",
       "    <tr>\n",
       "      <th>17</th>\n",
       "      <td>Sesamum</td>\n",
       "      <td>71410</td>\n",
       "      <td>0.009137</td>\n",
       "    </tr>\n",
       "    <tr>\n",
       "      <th>5</th>\n",
       "      <td>Groundnut</td>\n",
       "      <td>76500</td>\n",
       "      <td>0.009788</td>\n",
       "    </tr>\n",
       "    <tr>\n",
       "      <th>1</th>\n",
       "      <td>Bajra</td>\n",
       "      <td>78100</td>\n",
       "      <td>0.009993</td>\n",
       "    </tr>\n",
       "    <tr>\n",
       "      <th>19</th>\n",
       "      <td>Sunflower</td>\n",
       "      <td>96600</td>\n",
       "      <td>0.012360</td>\n",
       "    </tr>\n",
       "    <tr>\n",
       "      <th>4</th>\n",
       "      <td>Gram</td>\n",
       "      <td>97300</td>\n",
       "      <td>0.012450</td>\n",
       "    </tr>\n",
       "    <tr>\n",
       "      <th>0</th>\n",
       "      <td>Arhar/Tur</td>\n",
       "      <td>118120</td>\n",
       "      <td>0.015114</td>\n",
       "    </tr>\n",
       "    <tr>\n",
       "      <th>11</th>\n",
       "      <td>Moong(Green Gram)</td>\n",
       "      <td>279490</td>\n",
       "      <td>0.035761</td>\n",
       "    </tr>\n",
       "    <tr>\n",
       "      <th>6</th>\n",
       "      <td>Guar seed</td>\n",
       "      <td>369740</td>\n",
       "      <td>0.047308</td>\n",
       "    </tr>\n",
       "    <tr>\n",
       "      <th>15</th>\n",
       "      <td>Rapeseed &amp;Mustard</td>\n",
       "      <td>1012100</td>\n",
       "      <td>0.129499</td>\n",
       "    </tr>\n",
       "    <tr>\n",
       "      <th>2</th>\n",
       "      <td>Barley</td>\n",
       "      <td>1393000</td>\n",
       "      <td>0.178235</td>\n",
       "    </tr>\n",
       "    <tr>\n",
       "      <th>9</th>\n",
       "      <td>Maize</td>\n",
       "      <td>10150400</td>\n",
       "      <td>1.298750</td>\n",
       "    </tr>\n",
       "    <tr>\n",
       "      <th>3</th>\n",
       "      <td>Cotton(lint)</td>\n",
       "      <td>34634200</td>\n",
       "      <td>4.431468</td>\n",
       "    </tr>\n",
       "    <tr>\n",
       "      <th>18</th>\n",
       "      <td>Sugarcane</td>\n",
       "      <td>125639000</td>\n",
       "      <td>16.075590</td>\n",
       "    </tr>\n",
       "    <tr>\n",
       "      <th>16</th>\n",
       "      <td>Rice</td>\n",
       "      <td>243042000</td>\n",
       "      <td>31.097379</td>\n",
       "    </tr>\n",
       "    <tr>\n",
       "      <th>21</th>\n",
       "      <td>Wheat</td>\n",
       "      <td>364370000</td>\n",
       "      <td>46.621373</td>\n",
       "    </tr>\n",
       "  </tbody>\n",
       "</table>\n",
       "</div>"
      ],
      "text/plain": [
       "                     Crop  Total Production  Percentage of total production\n",
       "7                   Jowar               400                        0.000051\n",
       "8                 Linseed              1700                        0.000218\n",
       "12                   Moth              1800                        0.000230\n",
       "22         other oilseeds              3300                        0.000422\n",
       "13      Other Rabi pulses              6300                        0.000806\n",
       "20                   Urad             30350                        0.003883\n",
       "10                 Masoor             30979                        0.003964\n",
       "14  Peas & beans (Pulses)             48620                        0.006221\n",
       "17                Sesamum             71410                        0.009137\n",
       "5               Groundnut             76500                        0.009788\n",
       "1                   Bajra             78100                        0.009993\n",
       "19              Sunflower             96600                        0.012360\n",
       "4                    Gram             97300                        0.012450\n",
       "0               Arhar/Tur            118120                        0.015114\n",
       "11      Moong(Green Gram)            279490                        0.035761\n",
       "6               Guar seed            369740                        0.047308\n",
       "15      Rapeseed &Mustard           1012100                        0.129499\n",
       "2                  Barley           1393000                        0.178235\n",
       "9                   Maize          10150400                        1.298750\n",
       "3            Cotton(lint)          34634200                        4.431468\n",
       "18              Sugarcane         125639000                       16.075590\n",
       "16                   Rice         243042000                       31.097379\n",
       "21                  Wheat         364370000                       46.621373"
      ]
     },
     "execution_count": 33,
     "metadata": {},
     "output_type": "execute_result"
    }
   ],
   "source": [
    "##Sorting this \n",
    "percentile_list_crops.sort_values(by=['Percentage of total production'])"
   ]
  },
  {
   "cell_type": "code",
   "execution_count": 34,
   "metadata": {},
   "outputs": [
    {
     "name": "stderr",
     "output_type": "stream",
     "text": [
      "/Library/Frameworks/Python.framework/Versions/3.10/lib/python3.10/site-packages/altair/utils/core.py:317: FutureWarning: iteritems is deprecated and will be removed in a future version. Use .items instead.\n",
      "  for col_name, dtype in df.dtypes.iteritems():\n"
     ]
    },
    {
     "ename": "ValueError",
     "evalue": "Saving charts in 'png' format requires the altair_saver package: see http://github.com/altair-viz/altair_saver/",
     "output_type": "error",
     "traceback": [
      "\u001b[0;31m---------------------------------------------------------------------------\u001b[0m",
      "\u001b[0;31mModuleNotFoundError\u001b[0m                       Traceback (most recent call last)",
      "File \u001b[0;32m/Library/Frameworks/Python.framework/Versions/3.10/lib/python3.10/site-packages/altair/utils/mimebundle.py:54\u001b[0m, in \u001b[0;36mspec_to_mimebundle\u001b[0;34m(spec, format, mode, vega_version, vegaembed_version, vegalite_version, **kwargs)\u001b[0m\n\u001b[1;32m     53\u001b[0m \u001b[39mtry\u001b[39;00m:\n\u001b[0;32m---> 54\u001b[0m     \u001b[39mimport\u001b[39;00m \u001b[39maltair_saver\u001b[39;00m\n\u001b[1;32m     55\u001b[0m \u001b[39mexcept\u001b[39;00m \u001b[39mImportError\u001b[39;00m:\n",
      "\u001b[0;31mModuleNotFoundError\u001b[0m: No module named 'altair_saver'",
      "\nDuring handling of the above exception, another exception occurred:\n",
      "\u001b[0;31mValueError\u001b[0m                                Traceback (most recent call last)",
      "File \u001b[0;32m~/Library/Python/3.10/lib/python/site-packages/IPython/core/formatters.py:973\u001b[0m, in \u001b[0;36mMimeBundleFormatter.__call__\u001b[0;34m(self, obj, include, exclude)\u001b[0m\n\u001b[1;32m    970\u001b[0m     method \u001b[39m=\u001b[39m get_real_method(obj, \u001b[39mself\u001b[39m\u001b[39m.\u001b[39mprint_method)\n\u001b[1;32m    972\u001b[0m     \u001b[39mif\u001b[39;00m method \u001b[39mis\u001b[39;00m \u001b[39mnot\u001b[39;00m \u001b[39mNone\u001b[39;00m:\n\u001b[0;32m--> 973\u001b[0m         \u001b[39mreturn\u001b[39;00m method(include\u001b[39m=\u001b[39;49minclude, exclude\u001b[39m=\u001b[39;49mexclude)\n\u001b[1;32m    974\u001b[0m     \u001b[39mreturn\u001b[39;00m \u001b[39mNone\u001b[39;00m\n\u001b[1;32m    975\u001b[0m \u001b[39melse\u001b[39;00m:\n",
      "File \u001b[0;32m/Library/Frameworks/Python.framework/Versions/3.10/lib/python3.10/site-packages/altair/vegalite/v4/api.py:1679\u001b[0m, in \u001b[0;36mTopLevelMixin._repr_mimebundle_\u001b[0;34m(self, include, exclude)\u001b[0m\n\u001b[1;32m   1677\u001b[0m     \u001b[39mreturn\u001b[39;00m {}\n\u001b[1;32m   1678\u001b[0m \u001b[39melse\u001b[39;00m:\n\u001b[0;32m-> 1679\u001b[0m     \u001b[39mreturn\u001b[39;00m renderers\u001b[39m.\u001b[39;49mget()(dct)\n",
      "File \u001b[0;32m/Library/Frameworks/Python.framework/Versions/3.10/lib/python3.10/site-packages/altair/vegalite/v4/display.py:53\u001b[0m, in \u001b[0;36mpng_renderer\u001b[0;34m(spec, **metadata)\u001b[0m\n\u001b[1;32m     52\u001b[0m \u001b[39mdef\u001b[39;00m \u001b[39mpng_renderer\u001b[39m(spec, \u001b[39m*\u001b[39m\u001b[39m*\u001b[39mmetadata):\n\u001b[0;32m---> 53\u001b[0m     \u001b[39mreturn\u001b[39;00m spec_to_mimebundle(\n\u001b[1;32m     54\u001b[0m         spec,\n\u001b[1;32m     55\u001b[0m         \u001b[39mformat\u001b[39;49m\u001b[39m=\u001b[39;49m\u001b[39m\"\u001b[39;49m\u001b[39mpng\u001b[39;49m\u001b[39m\"\u001b[39;49m,\n\u001b[1;32m     56\u001b[0m         mode\u001b[39m=\u001b[39;49m\u001b[39m\"\u001b[39;49m\u001b[39mvega-lite\u001b[39;49m\u001b[39m\"\u001b[39;49m,\n\u001b[1;32m     57\u001b[0m         vega_version\u001b[39m=\u001b[39;49mVEGA_VERSION,\n\u001b[1;32m     58\u001b[0m         vegaembed_version\u001b[39m=\u001b[39;49mVEGAEMBED_VERSION,\n\u001b[1;32m     59\u001b[0m         vegalite_version\u001b[39m=\u001b[39;49mVEGALITE_VERSION,\n\u001b[1;32m     60\u001b[0m         \u001b[39m*\u001b[39;49m\u001b[39m*\u001b[39;49mmetadata,\n\u001b[1;32m     61\u001b[0m     )\n",
      "File \u001b[0;32m/Library/Frameworks/Python.framework/Versions/3.10/lib/python3.10/site-packages/altair/utils/mimebundle.py:56\u001b[0m, in \u001b[0;36mspec_to_mimebundle\u001b[0;34m(spec, format, mode, vega_version, vegaembed_version, vegalite_version, **kwargs)\u001b[0m\n\u001b[1;32m     54\u001b[0m         \u001b[39mimport\u001b[39;00m \u001b[39maltair_saver\u001b[39;00m\n\u001b[1;32m     55\u001b[0m     \u001b[39mexcept\u001b[39;00m \u001b[39mImportError\u001b[39;00m:\n\u001b[0;32m---> 56\u001b[0m         \u001b[39mraise\u001b[39;00m \u001b[39mValueError\u001b[39;00m(\n\u001b[1;32m     57\u001b[0m             \u001b[39m\"\u001b[39m\u001b[39mSaving charts in \u001b[39m\u001b[39m{fmt!r}\u001b[39;00m\u001b[39m format requires the altair_saver package: \u001b[39m\u001b[39m\"\u001b[39m\n\u001b[1;32m     58\u001b[0m             \u001b[39m\"\u001b[39m\u001b[39msee http://github.com/altair-viz/altair_saver/\u001b[39m\u001b[39m\"\u001b[39m\u001b[39m.\u001b[39mformat(fmt\u001b[39m=\u001b[39m\u001b[39mformat\u001b[39m)\n\u001b[1;32m     59\u001b[0m         )\n\u001b[1;32m     60\u001b[0m     \u001b[39mreturn\u001b[39;00m altair_saver\u001b[39m.\u001b[39mrender(spec, \u001b[39mformat\u001b[39m, mode\u001b[39m=\u001b[39mmode, \u001b[39m*\u001b[39m\u001b[39m*\u001b[39mkwargs)\n\u001b[1;32m     61\u001b[0m \u001b[39mif\u001b[39;00m \u001b[39mformat\u001b[39m \u001b[39m==\u001b[39m \u001b[39m\"\u001b[39m\u001b[39mhtml\u001b[39m\u001b[39m\"\u001b[39m:\n",
      "\u001b[0;31mValueError\u001b[0m: Saving charts in 'png' format requires the altair_saver package: see http://github.com/altair-viz/altair_saver/"
     ]
    },
    {
     "data": {
      "text/plain": [
       "alt.Chart(...)"
      ]
     },
     "execution_count": 34,
     "metadata": {},
     "output_type": "execute_result"
    }
   ],
   "source": [
    "##Plotting a bar chart to represent the following information\n",
    "percentilechart = alt.Chart(percentile_list_crops).mark_bar().encode(\n",
    "    x='Crop',\n",
    "    y='Percentage of total production'\n",
    ")\n",
    "\n",
    "percentilechart"
   ]
  },
  {
   "cell_type": "markdown",
   "metadata": {},
   "source": []
  },
  {
   "cell_type": "markdown",
   "metadata": {},
   "source": [
    "![](percent%20of%20total.png)"
   ]
  },
  {
   "cell_type": "markdown",
   "metadata": {},
   "source": [
    "It is clear that compared to major crops such as wheat, rice, sugarcane and cotton, cultivation of other crops is largely miniscule. This can also be seen by the pie chart below:"
   ]
  },
  {
   "cell_type": "code",
   "execution_count": null,
   "metadata": {},
   "outputs": [],
   "source": [
    "# ##Using matplotlib to create a pie chart to show the same distribution of percentage\n",
    "# ##plt.pie(percentlist)\n",
    "# plt.axis('equal')\n",
    "# plt.legend(crops_name, loc = 5)\n",
    "# plt.show()"
   ]
  },
  {
   "cell_type": "markdown",
   "metadata": {},
   "source": [
    "Wheat, rice, sugarcane and cotton are the major crops grown in Punjab."
   ]
  },
  {
   "cell_type": "code",
   "execution_count": null,
   "metadata": {},
   "outputs": [],
   "source": [
    "df_pj_rice =  df[(df['State'] == 'Punjab') & (df['Crop'] == 'Rice')].reset_index(drop=True)\n",
    "df_pj_rice"
   ]
  },
  {
   "cell_type": "code",
   "execution_count": null,
   "metadata": {},
   "outputs": [],
   "source": [
    "pj_rice_prod = df_pj_rice.groupby(['Year']).sum()[['Production']].reset_index()\n",
    "pj_rice_prod"
   ]
  },
  {
   "cell_type": "code",
   "execution_count": null,
   "metadata": {},
   "outputs": [],
   "source": [
    "pj_rice_prod.plot.line(x='Year', y='Production') "
   ]
  },
  {
   "cell_type": "code",
   "execution_count": null,
   "metadata": {},
   "outputs": [],
   "source": [
    "source =  pj_rice_prod\n",
    "\n",
    "bars = alt.Chart(source).mark_bar().encode(\n",
    "    x='Production:Q',\n",
    "    y=\"Year:O\"\n",
    ")\n",
    "\n",
    "text = bars.mark_text(\n",
    "    align='left',\n",
    "    baseline='middle',\n",
    "    dx=3  # Nudges text to right so it doesn't appear on top of the bar\n",
    ").encode(\n",
    "    text='wheat:Q'\n",
    ")\n",
    "\n",
    "(bars + text).properties(height=900)"
   ]
  },
  {
   "cell_type": "markdown",
   "metadata": {},
   "source": [
    "For all the data viz developed using Altair, I will be dropping in the image files into the markdown so that it can render on Github. "
   ]
  },
  {
   "cell_type": "markdown",
   "metadata": {},
   "source": [
    "![](V1.png)"
   ]
  },
  {
   "cell_type": "code",
   "execution_count": null,
   "metadata": {},
   "outputs": [],
   "source": [
    "\n",
    "alt.Chart(pj_rice_prod).mark_line().encode(\n",
    "    x='Year',\n",
    "    y=('Production')\n",
    ").properties(\n",
    "    title='Rice production, in tonnes, Punjab from 1997-2020')"
   ]
  },
  {
   "cell_type": "markdown",
   "metadata": {},
   "source": [
    "![](v2.png)"
   ]
  },
  {
   "cell_type": "code",
   "execution_count": null,
   "metadata": {},
   "outputs": [],
   "source": [
    "df_pj_rice  = df.loc[(df['State'] == 'Punjab') & (df['Crop'] == 'Rice')] ## I am subsetting the data and only keeping that related to rice production.\n",
    "df_pj_rice.head(20)"
   ]
  },
  {
   "cell_type": "code",
   "execution_count": null,
   "metadata": {},
   "outputs": [],
   "source": [
    "df_pj_rice.District.unique() ## To find the various districts where rice is grown in Punjab. I am going to keep this aside separately for later use. "
   ]
  },
  {
   "cell_type": "markdown",
   "metadata": {},
   "source": [
    "## Across districts of Punjab"
   ]
  },
  {
   "cell_type": "markdown",
   "metadata": {},
   "source": [
    "Punjab has 22 districts, of which 21 are represented here clearly. "
   ]
  },
  {
   "cell_type": "markdown",
   "metadata": {},
   "source": [
    "![](punjab-district-map.jpeg)"
   ]
  },
  {
   "cell_type": "markdown",
   "metadata": {},
   "source": [
    "### Firozpur"
   ]
  },
  {
   "cell_type": "code",
   "execution_count": null,
   "metadata": {},
   "outputs": [],
   "source": [
    "df_pj_fi = df_pj_rice.loc[df['District'] == 'FIROZEPUR']\n",
    "\n",
    "alt.Chart(df_pj_fi).mark_line().encode(\n",
    "    x='Year',\n",
    "    y=('Production')\n",
    ").properties(\n",
    "    title='Rice production, in tonnes, Firozpur, Punjab from 1997-2020')"
   ]
  },
  {
   "cell_type": "markdown",
   "metadata": {},
   "source": [
    "![](firozpur.png)"
   ]
  },
  {
   "cell_type": "markdown",
   "metadata": {},
   "source": [
    "There really has been a considerable decline of rice production in this district. This may be true for other districts also. "
   ]
  },
  {
   "cell_type": "markdown",
   "metadata": {},
   "source": [
    "### Amritsar"
   ]
  },
  {
   "cell_type": "code",
   "execution_count": null,
   "metadata": {},
   "outputs": [],
   "source": [
    "df_pj_am = df_pj_rice.loc[df['District'] == 'AMRITSAR']\n",
    "\n",
    "alt.Chart(df_pj_am).mark_line().encode(\n",
    "    x='Year',\n",
    "    y=('Production')\n",
    ").properties(\n",
    "    title='Rice production, in tonnes, Amritsar, Punjab from 1997-2020')"
   ]
  },
  {
   "cell_type": "markdown",
   "metadata": {},
   "source": [
    "![](amritsar.png)"
   ]
  },
  {
   "cell_type": "markdown",
   "metadata": {},
   "source": [
    "### JALANDHAR"
   ]
  },
  {
   "cell_type": "markdown",
   "metadata": {},
   "source": [
    "A marked decline here as well. "
   ]
  },
  {
   "cell_type": "code",
   "execution_count": null,
   "metadata": {},
   "outputs": [],
   "source": [
    "df_pj_ja = df_pj_rice.loc[df['District'] == 'JALANDHAR']\n",
    "\n",
    "alt.Chart(df_pj_ja).mark_line().encode(\n",
    "    x='Year',\n",
    "    y=('Production')\n",
    ").properties(\n",
    "    title='Rice production, in tonnes, Jalandhar, Punjab from 1997-2020')"
   ]
  },
  {
   "cell_type": "markdown",
   "metadata": {},
   "source": [
    "![](jalandhar.png)"
   ]
  },
  {
   "cell_type": "markdown",
   "metadata": {},
   "source": [
    "### SANGRUR"
   ]
  },
  {
   "cell_type": "code",
   "execution_count": null,
   "metadata": {},
   "outputs": [],
   "source": [
    "df_pj_sa = df_pj_rice.loc[df['District'] == 'SANGRUR']\n",
    "\n",
    "alt.Chart(df_pj_sa).mark_line().encode(\n",
    "    x='Year',\n",
    "    y=('Production')\n",
    ").properties(\n",
    "    title='Rice production, in tonnes, Sangrur, Punjab from 1997-2020')"
   ]
  },
  {
   "cell_type": "markdown",
   "metadata": {},
   "source": [
    "![](sangrur.png)"
   ]
  },
  {
   "cell_type": "markdown",
   "metadata": {},
   "source": [
    "### FARIDKOT"
   ]
  },
  {
   "cell_type": "code",
   "execution_count": null,
   "metadata": {},
   "outputs": [],
   "source": [
    "df_pj_far = df_pj_rice.loc[df['District'] == 'FARIDKOT']\n",
    "\n",
    "alt.Chart(df_pj_far).mark_line().encode(\n",
    "    x='Year',\n",
    "    y=('Production')\n",
    ").properties(\n",
    "    title='Rice production, in tonnes, Faridkot, Punjab from 1997-2020')"
   ]
  },
  {
   "cell_type": "markdown",
   "metadata": {},
   "source": [
    "![](faridkot.png)"
   ]
  },
  {
   "cell_type": "markdown",
   "metadata": {},
   "source": [
    "### LUDHIANA"
   ]
  },
  {
   "cell_type": "code",
   "execution_count": null,
   "metadata": {},
   "outputs": [],
   "source": [
    "df_pj_lud = df_pj_rice.loc[df['District'] == 'LUDHIANA']\n",
    "\n",
    "alt.Chart(df_pj_lud).mark_line().encode(\n",
    "    x='Year',\n",
    "    y=('Production')\n",
    ").properties(\n",
    "    title='Rice production in tonnes, Ludhiana, Punjab from 1997-2020')"
   ]
  },
  {
   "cell_type": "markdown",
   "metadata": {},
   "source": [
    "![](ludhiana.png)"
   ]
  },
  {
   "cell_type": "markdown",
   "metadata": {},
   "source": [
    "The district of Ludhiana does not fall in this trend as dramatically as the other districts. Yet, the production has fluctuated over time. "
   ]
  },
  {
   "cell_type": "markdown",
   "metadata": {},
   "source": [
    "### BATHINDA"
   ]
  },
  {
   "cell_type": "code",
   "execution_count": null,
   "metadata": {},
   "outputs": [],
   "source": [
    "df_pj_bat = df_pj_rice.loc[df['District'] == 'BATHINDA']\n",
    "\n",
    "alt.Chart(df_pj_bat).mark_line().encode(\n",
    "    x='Year',\n",
    "    y=('Production')\n",
    ").properties(\n",
    "    title='Rice production, in tonnes, in Bathinda, Punjab from 1997-2020')"
   ]
  },
  {
   "cell_type": "markdown",
   "metadata": {},
   "source": [
    "![](bathinda.png)"
   ]
  },
  {
   "cell_type": "markdown",
   "metadata": {},
   "source": [
    "Bathinda seems similar to Ludhiana. "
   ]
  },
  {
   "cell_type": "markdown",
   "metadata": {},
   "source": [
    "### FATEHGARH SAHIB"
   ]
  },
  {
   "cell_type": "code",
   "execution_count": null,
   "metadata": {},
   "outputs": [],
   "source": [
    "df_pj_fs = df_pj_rice.loc[df['District'] == 'FATEHGARH SAHIB']\n",
    "\n",
    "alt.Chart(df_pj_fs).mark_line().encode(\n",
    "    x='Year',\n",
    "    y=('Production')\n",
    ").properties(\n",
    "    title='Rice production, in tonnes, in Fatehgarh Sahib, Punjab from 1997-2020')"
   ]
  },
  {
   "cell_type": "markdown",
   "metadata": {},
   "source": [
    "![](fatehgarh.png)"
   ]
  },
  {
   "cell_type": "markdown",
   "metadata": {},
   "source": [
    "### HOSHIARPUR"
   ]
  },
  {
   "cell_type": "code",
   "execution_count": null,
   "metadata": {},
   "outputs": [],
   "source": [
    "df_pj_hos = df_pj_rice.loc[df['District'] == 'HOSHIARPUR']\n",
    "\n",
    "alt.Chart(df_pj_hos).mark_line().encode(\n",
    "    x='Year',\n",
    "    y=('Production')\n",
    ").properties(\n",
    "    title='Rice production, in tonnes, in Hoshiarpur, Punjab from 1997-2020')"
   ]
  },
  {
   "cell_type": "markdown",
   "metadata": {},
   "source": [
    "![](hoshiarpur.png)"
   ]
  },
  {
   "cell_type": "markdown",
   "metadata": {},
   "source": [
    "### KAPURTHALA"
   ]
  },
  {
   "cell_type": "code",
   "execution_count": null,
   "metadata": {},
   "outputs": [],
   "source": [
    "df_pj_kap = df_pj_rice.loc[df['District'] == 'KAPURTHALA']\n",
    "\n",
    "alt.Chart(df_pj_kap).mark_line().encode(\n",
    "    x='Year',\n",
    "    y=('Production')\n",
    ").properties(\n",
    "    title='Rice production, in tonnes, in Kapurthala, Punjab from 1997-2020')"
   ]
  },
  {
   "cell_type": "markdown",
   "metadata": {},
   "source": [
    "![](kapurthala.png)"
   ]
  },
  {
   "cell_type": "markdown",
   "metadata": {},
   "source": [
    "### MOGA"
   ]
  },
  {
   "cell_type": "code",
   "execution_count": null,
   "metadata": {},
   "outputs": [],
   "source": [
    "df_pj_mog = df_pj_rice.loc[df['District'] == 'MOGA']\n",
    "\n",
    "alt.Chart(df_pj_mog).mark_line().encode(\n",
    "    x='Year',\n",
    "    y=('Production')\n",
    ").properties(\n",
    "    title='Rice production, in tonnes, in Moga, Punjab from 1997-2020')"
   ]
  },
  {
   "cell_type": "markdown",
   "metadata": {},
   "source": [
    "![](moga.png)"
   ]
  },
  {
   "cell_type": "markdown",
   "metadata": {},
   "source": [
    "### MUKTSAR"
   ]
  },
  {
   "cell_type": "code",
   "execution_count": null,
   "metadata": {},
   "outputs": [],
   "source": [
    "df_pj_muk = df_pj_rice.loc[df['District'] == 'MUKTSAR']\n",
    "\n",
    "alt.Chart(df_pj_muk).mark_line().encode(\n",
    "    x='Year',\n",
    "    y=('Production')\n",
    ").properties(\n",
    "    title='Rice production, in tonnes, in Muktsar, Punjab from 1997-2020')"
   ]
  },
  {
   "cell_type": "markdown",
   "metadata": {},
   "source": [
    "![](muktsar.png)"
   ]
  },
  {
   "cell_type": "markdown",
   "metadata": {},
   "source": [
    "### NAWANSHAHR"
   ]
  },
  {
   "cell_type": "code",
   "execution_count": null,
   "metadata": {},
   "outputs": [],
   "source": [
    "df_pj_naw = df_pj_rice.loc[df['District'] == 'NAWANSHAHR']\n",
    "\n",
    "alt.Chart(df_pj_naw).mark_line().encode(\n",
    "    x='Year',\n",
    "    y=('Production')\n",
    ").properties(\n",
    "    title='Rice production, in tonnes, in Nawanshahr, Punjab from 1997-2020')"
   ]
  },
  {
   "cell_type": "markdown",
   "metadata": {},
   "source": [
    "![](nawanshahr.png)"
   ]
  },
  {
   "cell_type": "markdown",
   "metadata": {},
   "source": [
    "### RUPNAGAR"
   ]
  },
  {
   "cell_type": "code",
   "execution_count": null,
   "metadata": {},
   "outputs": [],
   "source": [
    "df_pj_rup = df_pj_rice.loc[df['District'] == 'RUPNAGAR']\n",
    "\n",
    "alt.Chart(df_pj_rup).mark_line().encode(\n",
    "    x='Year',\n",
    "    y=('Production')\n",
    ").properties(\n",
    "    title='Rice production, in tonnes, in Rupnagar, Punjab from 1997-2020')"
   ]
  },
  {
   "cell_type": "markdown",
   "metadata": {},
   "source": [
    "![](rupnagar.png)"
   ]
  },
  {
   "cell_type": "markdown",
   "metadata": {},
   "source": [
    "### GURDASPUR"
   ]
  },
  {
   "cell_type": "code",
   "execution_count": null,
   "metadata": {},
   "outputs": [],
   "source": [
    "df_pj_gur = df_pj_rice.loc[df['District'] == 'GURDASPUR']\n",
    "\n",
    "alt.Chart(df_pj_gur).mark_line().encode(\n",
    "    x='Year',\n",
    "    y=('Production')\n",
    ").properties(\n",
    "    title='Rice production, in tonnes, in Gurdaspur, Punjab from 1997-2020')"
   ]
  },
  {
   "cell_type": "markdown",
   "metadata": {},
   "source": [
    "![](gurdaspur.png)"
   ]
  },
  {
   "cell_type": "markdown",
   "metadata": {},
   "source": [
    "### TARN TARAN"
   ]
  },
  {
   "cell_type": "code",
   "execution_count": null,
   "metadata": {},
   "outputs": [],
   "source": [
    "df_pj_tt = df_pj_rice.loc[df['District'] == 'TARN TARAN']\n",
    "\n",
    "alt.Chart(df_pj_tt).mark_line().encode(\n",
    "    x='Year',\n",
    "    y=('Production')\n",
    ").properties(\n",
    "    title='Rice production, in tonnes, in Tarn Taran, Punjab from 1997-2020')"
   ]
  },
  {
   "cell_type": "markdown",
   "metadata": {},
   "source": [
    "![](tarn.png)"
   ]
  },
  {
   "cell_type": "markdown",
   "metadata": {},
   "source": [
    "### BARNALA"
   ]
  },
  {
   "cell_type": "code",
   "execution_count": null,
   "metadata": {},
   "outputs": [],
   "source": [
    "df_pj_bar = df_pj_rice.loc[df['District'] == 'BARNALA']\n",
    "\n",
    "alt.Chart(df_pj_bar).mark_line().encode(\n",
    "    x='Year',\n",
    "    y=('Production')\n",
    ").properties(\n",
    "    title='Rice production, in tonnes, in Barnala, Punjab from 1997-2020')"
   ]
  },
  {
   "cell_type": "markdown",
   "metadata": {},
   "source": [
    "![](barnala.png)"
   ]
  },
  {
   "cell_type": "markdown",
   "metadata": {},
   "source": [
    "### FAZILKA"
   ]
  },
  {
   "cell_type": "code",
   "execution_count": null,
   "metadata": {},
   "outputs": [],
   "source": [
    "df_pj_faz = df_pj_rice.loc[df['District'] == 'FAZILKA']\n",
    "\n",
    "alt.Chart(df_pj_faz).mark_line().encode(\n",
    "    x='Year',\n",
    "    y=('Production')\n",
    ").properties(\n",
    "    title='Rice production, in tonnes, in Fazilka, Punjab from 1997-2020')"
   ]
  },
  {
   "cell_type": "markdown",
   "metadata": {},
   "source": [
    "![](fazilka.png)"
   ]
  },
  {
   "cell_type": "markdown",
   "metadata": {},
   "source": [
    "### PATHANKOT "
   ]
  },
  {
   "cell_type": "code",
   "execution_count": null,
   "metadata": {},
   "outputs": [],
   "source": [
    "df_pj_pat = df_pj_rice.loc[df['District'] == 'PATHANKOT']\n",
    "\n",
    "alt.Chart(df_pj_pat).mark_line().encode(\n",
    "    x='Year',\n",
    "    y=('Production')\n",
    ").properties(\n",
    "    title='Rice production, in tonnes, in Pathankot, Punjab from 1997-2020')"
   ]
  },
  {
   "cell_type": "markdown",
   "metadata": {},
   "source": [
    "![](pathankot.png)"
   ]
  },
  {
   "cell_type": "markdown",
   "metadata": {},
   "source": [
    "### S"
   ]
  },
  {
   "cell_type": "markdown",
   "metadata": {},
   "source": [
    "It is not known which district this represents. It is only stated as 'S'. Here are a [list of districts in Punjab](https://nriol.com/india-statistics/punjab/districts.asp). It seems like this 'S' can be either Sahibzada Ajit Singh Nagar, or Mansa. Since it begins with an 'S', I am guessing it is the former, but for now, let us leave it at S. Except for one district, every other district of Punjab has been represented by this data.  "
   ]
  },
  {
   "cell_type": "code",
   "execution_count": null,
   "metadata": {},
   "outputs": [],
   "source": [
    "df_pj_s = df_pj_rice.loc[df['District'] == 'S']\n",
    "\n",
    "alt.Chart(df_pj_s).mark_line().encode(\n",
    "    x='Year',\n",
    "    y=('Production')\n",
    ").properties(\n",
    "    title='Rice production, in tonnes, in S, Punjab from 1997-2020')"
   ]
  },
  {
   "cell_type": "markdown",
   "metadata": {},
   "source": [
    "![](s.png)"
   ]
  },
  {
   "cell_type": "markdown",
   "metadata": {},
   "source": [
    "Except for the districts of Fazilka, Hoshiarpur and Bathinda, the other districts of Punjab are showing moderate to steep decline in rice production over the past 5-10 years, especially. This seems to correspond with the earlier hypothesis of the diversification of the crops in Punjab. "
   ]
  },
  {
   "cell_type": "markdown",
   "metadata": {},
   "source": [
    "Now, I wish to compare the trajectories of the various crops grown in Punjab with the other crops. For this, I would need to use groupby to select the various parameters and then use Altair to create line charts. \n"
   ]
  },
  {
   "cell_type": "markdown",
   "metadata": {},
   "source": [
    "## Comparing the production of rice in Punjab over time with other crops"
   ]
  },
  {
   "cell_type": "code",
   "execution_count": null,
   "metadata": {},
   "outputs": [],
   "source": [
    "# subset for Punjab and Rice\n",
    "rice = production_all[\n",
    "    (production_all['State'] == 'Punjab') &\n",
    "    (production_all['Crop'] == 'Rice') \n",
    "].reset_index()"
   ]
  },
  {
   "cell_type": "code",
   "execution_count": null,
   "metadata": {},
   "outputs": [],
   "source": [
    "rice.head(10)"
   ]
  },
  {
   "cell_type": "code",
   "execution_count": null,
   "metadata": {},
   "outputs": [],
   "source": [
    "rice.to_csv('Ricepunjab.csv')"
   ]
  },
  {
   "cell_type": "code",
   "execution_count": null,
   "metadata": {},
   "outputs": [],
   "source": [
    "##Subset for Punjab and Wheat\n",
    "wheat = production_all[\n",
    "    (production_all['State'] == 'Punjab') &\n",
    "    (production_all['Crop'] == 'Wheat') \n",
    "].reset_index()\n",
    "\n",
    "wheat.to_csv('wheatpj.csv')\n"
   ]
  },
  {
   "cell_type": "code",
   "execution_count": null,
   "metadata": {},
   "outputs": [],
   "source": [
    "wheat.head(50)"
   ]
  },
  {
   "cell_type": "code",
   "execution_count": null,
   "metadata": {},
   "outputs": [],
   "source": [
    "##Subset for Punjab and Wheat\n",
    "bajra = production_all[\n",
    "    (production_all['State'] == 'Punjab') &\n",
    "    (production_all['Crop'] == 'Bajra') \n",
    "].reset_index()\n",
    "bajra.to_csv('bajrapj.csv') "
   ]
  },
  {
   "cell_type": "code",
   "execution_count": null,
   "metadata": {},
   "outputs": [],
   "source": [
    "bajra.head(50)"
   ]
  },
  {
   "cell_type": "code",
   "execution_count": null,
   "metadata": {},
   "outputs": [],
   "source": [
    "wheat_production_list = list(wheat[\"Production\"])\n",
    "print(wheat_production_list)"
   ]
  },
  {
   "cell_type": "code",
   "execution_count": null,
   "metadata": {},
   "outputs": [],
   "source": [
    "rice_production_list = list(rice[\"Production\"])\n",
    "print(rice_production_list)"
   ]
  },
  {
   "cell_type": "code",
   "execution_count": null,
   "metadata": {},
   "outputs": [],
   "source": [
    "bajra_production_list = list(bajra[\"Production\"])\n",
    "print(bajra_production_list)"
   ]
  },
  {
   "cell_type": "markdown",
   "metadata": {},
   "source": [
    "I have already checked and seen that for all three crop csvs, the years column starts with 1997-98. "
   ]
  },
  {
   "cell_type": "code",
   "execution_count": null,
   "metadata": {},
   "outputs": [],
   "source": [
    "years_list = list(wheat[\"Year\"])\n",
    "print(years_list)"
   ]
  },
  {
   "cell_type": "markdown",
   "metadata": {},
   "source": [
    "## Finding mean values of all the three crops' production over the years"
   ]
  },
  {
   "cell_type": "markdown",
   "metadata": {},
   "source": [
    "To find the mean value, I will use numpy, and convert the following lists above to numpy arrays. "
   ]
  },
  {
   "cell_type": "code",
   "execution_count": null,
   "metadata": {},
   "outputs": [],
   "source": [
    "wheat_array = np.array(wheat_production_list, dtype = int)\n",
    "print(wheat_array)"
   ]
  },
  {
   "cell_type": "code",
   "execution_count": null,
   "metadata": {},
   "outputs": [],
   "source": [
    "rice_array = np.array(rice_production_list, dtype = int)\n",
    "print(rice_array)"
   ]
  },
  {
   "cell_type": "code",
   "execution_count": null,
   "metadata": {},
   "outputs": [],
   "source": [
    "bajra_array = np.array(bajra_production_list, dtype = int)\n",
    "print(bajra_array)"
   ]
  },
  {
   "cell_type": "markdown",
   "metadata": {},
   "source": [
    "Using np.mean(), I will explore this data. "
   ]
  },
  {
   "cell_type": "markdown",
   "metadata": {},
   "source": [
    "#### Mean"
   ]
  },
  {
   "cell_type": "code",
   "execution_count": null,
   "metadata": {},
   "outputs": [],
   "source": [
    "## Wheat\n",
    "wheat_mean = np.mean(wheat_array)\n",
    "print(wheat_mean)"
   ]
  },
  {
   "cell_type": "code",
   "execution_count": null,
   "metadata": {},
   "outputs": [],
   "source": [
    "#Rice\n",
    "rice_mean = np.mean(rice_array)\n",
    "print(rice_mean)"
   ]
  },
  {
   "cell_type": "code",
   "execution_count": null,
   "metadata": {},
   "outputs": [],
   "source": [
    "#Bajra\n",
    "bajra_mean = np.mean(bajra_array)\n",
    "print(bajra_mean)"
   ]
  },
  {
   "cell_type": "markdown",
   "metadata": {},
   "source": [
    "Even though Punjab it is a leadeing rice-growing state, it is evident from the mean values that the production of wheat is higher. To check this, lets use np.sum() just to verify."
   ]
  },
  {
   "cell_type": "code",
   "execution_count": null,
   "metadata": {},
   "outputs": [],
   "source": [
    "rice_sum = np.sum(rice_array)\n",
    "wheat_sum = np.sum(wheat_array)\n",
    "print(rice_sum)\n",
    "print(wheat_sum)\n"
   ]
  },
  {
   "cell_type": "code",
   "execution_count": null,
   "metadata": {},
   "outputs": [],
   "source": [
    "difference = wheat_sum - rice_sum\n",
    "print(difference)"
   ]
  },
  {
   "cell_type": "markdown",
   "metadata": {},
   "source": [
    "It is clear that the tonnes of wheat produced in the state since 1997, with 121328000 more tonnes of wheat produced over rice over this time period. "
   ]
  },
  {
   "cell_type": "markdown",
   "metadata": {},
   "source": [
    "### Minimum and maximum values"
   ]
  },
  {
   "cell_type": "code",
   "execution_count": null,
   "metadata": {},
   "outputs": [],
   "source": [
    "##Minimum and maxmimum amount of rice produced since 1997 "
   ]
  },
  {
   "cell_type": "code",
   "execution_count": null,
   "metadata": {},
   "outputs": [],
   "source": [
    "rice_min = np.amin(rice_array)\n",
    "print(rice_min)"
   ]
  },
  {
   "cell_type": "code",
   "execution_count": null,
   "metadata": {},
   "outputs": [],
   "source": [
    "rice_max = np.amax(rice_array)\n",
    "print(rice_max)"
   ]
  },
  {
   "cell_type": "code",
   "execution_count": null,
   "metadata": {},
   "outputs": [],
   "source": [
    "difference_rice = rice_max - rice_min\n",
    "print(difference_rice)"
   ]
  },
  {
   "cell_type": "markdown",
   "metadata": {},
   "source": [
    "Rice production in Punjab fluctuates, as the difference between max and min production values is a large 5478000. "
   ]
  },
  {
   "cell_type": "code",
   "execution_count": null,
   "metadata": {},
   "outputs": [],
   "source": [
    "(difference_rice/rice_mean)*100"
   ]
  },
  {
   "cell_type": "markdown",
   "metadata": {},
   "source": [
    "This value is more than half of the value of the mean value of production. "
   ]
  },
  {
   "cell_type": "markdown",
   "metadata": {},
   "source": [
    "For wheat, the same calculations:"
   ]
  },
  {
   "cell_type": "code",
   "execution_count": null,
   "metadata": {},
   "outputs": [],
   "source": [
    "wheat_min = np.amin(wheat_array)\n",
    "print(wheat_min)\n",
    "wheat_max = np.amax(wheat_array)\n",
    "print(wheat_max)\n",
    "difference_wheat = wheat_max - wheat_min\n",
    "print(difference_wheat)\n",
    "(difference_wheat/wheat_mean)*100"
   ]
  },
  {
   "cell_type": "markdown",
   "metadata": {},
   "source": [
    "It seems like wheat follows a similar pattern, but its production seems to fluctuate less than that of rice. "
   ]
  },
  {
   "cell_type": "markdown",
   "metadata": {},
   "source": [
    "For bajra, the same calculations:"
   ]
  },
  {
   "cell_type": "code",
   "execution_count": null,
   "metadata": {},
   "outputs": [],
   "source": [
    "bajra_min = np.amin(bajra_array)\n",
    "print(bajra_min)\n",
    "bajra_max = np.amax(bajra_array)\n",
    "print(bajra_max)\n",
    "difference_bajra = bajra_max - bajra_min\n",
    "print(difference_bajra)\n",
    "(difference_bajra/bajra_mean)*100"
   ]
  },
  {
   "cell_type": "markdown",
   "metadata": {},
   "source": [
    "Here, it seems like the production of bajra in the state has fluctuated immensely over the years. Lets plot the production of the three crops over the same time period in one line graph, using matplotlib. "
   ]
  },
  {
   "cell_type": "markdown",
   "metadata": {},
   "source": [
    "### Crop production of rice and wheat over the years "
   ]
  },
  {
   "cell_type": "code",
   "execution_count": null,
   "metadata": {},
   "outputs": [],
   "source": [
    "from matplotlib import pyplot as plt"
   ]
  },
  {
   "cell_type": "code",
   "execution_count": null,
   "metadata": {},
   "outputs": [],
   "source": [
    "plt.plot(years_list, rice_array)\n",
    "plt.plot(years_list, wheat_array)\n",
    "plt.legend([\"Rice\", \"Wheat\"])\n",
    "plt.xlabel('Years')\n",
    "plt.ylabel('Production in metric tonnes')\n",
    "plt.title('Rice and wheat production in Punjab over the years')\n",
    "plt.show()"
   ]
  },
  {
   "cell_type": "markdown",
   "metadata": {},
   "source": [
    "The production of wheat and rice in Punjab, which seems to peak between 2015-2020, has been declining over the past few years.  "
   ]
  },
  {
   "cell_type": "markdown",
   "metadata": {},
   "source": [
    "The rise in the past 10 years or so in the production of rice can be linked to the higher levels of stubble burning also, though not directly so. This is because [as per this article]('https://www.hindustantimes.com/india-news/why-stubble-burning-in-haryana-and-punjab-has-intensified-in-last-10-years/story-cZG40Ey3gHIZKbtS7LjpRN.html') higher levels of farm mechanizations and increase in landholdings, especially under paddy, has led to the rise of stubble burning. This has had serious consequences on the air pollution levels east of Punjab, an effect clearly seen in Delhi NCR. Even so, this year, Punjab recorded the highest levels of stubble burning, [as per this article]('https://theprint.in/agriculture/no-other-option-as-its-fields-turn-black-skies-smoky-why-punjab-wont-stop-burning-stubble/1194030/'), and the factors of increasing pollution can be said to be indirectly linked to higher levels of production of paddy crops. "
   ]
  },
  {
   "cell_type": "markdown",
   "metadata": {},
   "source": [
    "## Exploring the trends of other crops in Punjab"
   ]
  },
  {
   "cell_type": "code",
   "execution_count": null,
   "metadata": {},
   "outputs": [],
   "source": [
    "production_all.head(10)\n"
   ]
  },
  {
   "cell_type": "code",
   "execution_count": null,
   "metadata": {},
   "outputs": [],
   "source": [
    "pj  = df.loc[(df['State'] == 'Punjab')].reset_index(drop=True)\n",
    "pj.head(10)"
   ]
  },
  {
   "cell_type": "code",
   "execution_count": null,
   "metadata": {},
   "outputs": [],
   "source": [
    "##production_all = df.groupby(['State', 'Crop', 'Year', 'Season']).sum()[['Production']].reset_index()\n",
    "\n",
    "pj_production = pj.groupby(['Crop', 'Year']).sum()[['Production']].reset_index()\n",
    "pj_production.head(10)"
   ]
  },
  {
   "cell_type": "code",
   "execution_count": null,
   "metadata": {},
   "outputs": [],
   "source": [
    "pj_production.Crop.unique()"
   ]
  },
  {
   "cell_type": "markdown",
   "metadata": {},
   "source": [
    "### Plotting the line graphs of crops v production over the years "
   ]
  },
  {
   "cell_type": "code",
   "execution_count": null,
   "metadata": {},
   "outputs": [],
   "source": [
    "##Arhar/Tur\n",
    "artur = pj_production[pj_production['Crop'] == 'Arhar/Tur']\n",
    "artur.head(5)\n"
   ]
  },
  {
   "cell_type": "code",
   "execution_count": null,
   "metadata": {},
   "outputs": [],
   "source": [
    "alt.Chart(artur).mark_line().encode(\n",
    "    x='Year',\n",
    "    y=('Production')\n",
    ").properties(\n",
    "    title='Arhar/Tur production in Punjab from 1997-2020')"
   ]
  },
  {
   "cell_type": "markdown",
   "metadata": {},
   "source": [
    "![](arhartur.png)"
   ]
  },
  {
   "cell_type": "markdown",
   "metadata": {},
   "source": [
    "There has been a massive decline in arhar/tur crop. This is also called pigeon peas and is a legume. "
   ]
  },
  {
   "cell_type": "code",
   "execution_count": null,
   "metadata": {},
   "outputs": [],
   "source": [
    "##Barley\n",
    "barley = pj_production[pj_production['Crop'] == 'Barley']\n",
    "barley.head(5)"
   ]
  },
  {
   "cell_type": "code",
   "execution_count": null,
   "metadata": {},
   "outputs": [],
   "source": [
    "alt.Chart(barley).mark_line().encode(\n",
    "    x='Year',\n",
    "    y=('Production')\n",
    ").properties(\n",
    "    title='Barley production in Punjab from 1997-2020')"
   ]
  },
  {
   "cell_type": "markdown",
   "metadata": {},
   "source": [
    "![](barley.png)"
   ]
  },
  {
   "cell_type": "markdown",
   "metadata": {},
   "source": [
    "Similarly with barley. "
   ]
  },
  {
   "cell_type": "code",
   "execution_count": null,
   "metadata": {},
   "outputs": [],
   "source": [
    "##Cotton(lint)\n",
    "cotton = pj_production[pj_production['Crop'] == 'Cotton(lint)']\n",
    "cotton.head(5)"
   ]
  },
  {
   "cell_type": "code",
   "execution_count": null,
   "metadata": {},
   "outputs": [],
   "source": [
    "alt.Chart(cotton).mark_line().encode(\n",
    "    x='Year',\n",
    "    y=('Production')\n",
    ").properties(\n",
    "    title='Cotton(lint) production in Punjab from 1997-2020')"
   ]
  },
  {
   "cell_type": "markdown",
   "metadata": {},
   "source": [
    "![](cotton.png)"
   ]
  },
  {
   "cell_type": "code",
   "execution_count": null,
   "metadata": {},
   "outputs": [],
   "source": [
    "##Gram\n",
    "gram = pj_production[pj_production['Crop'] == 'Gram']\n",
    "gram.head(5)"
   ]
  },
  {
   "cell_type": "code",
   "execution_count": null,
   "metadata": {},
   "outputs": [],
   "source": [
    "alt.Chart(gram).mark_line().encode(\n",
    "    x='Year',\n",
    "    y=('Production')\n",
    " \n",
    ").properties(\n",
    "    title='Gram production in Punjab from 1997-2020')"
   ]
  },
  {
   "cell_type": "markdown",
   "metadata": {},
   "source": [
    "![](gram.png)"
   ]
  },
  {
   "cell_type": "code",
   "execution_count": null,
   "metadata": {},
   "outputs": [],
   "source": [
    "##Groundnut\n",
    "gnut = pj_production[pj_production['Crop'] == 'Groundnut']\n",
    "gnut.head(5)"
   ]
  },
  {
   "cell_type": "code",
   "execution_count": null,
   "metadata": {},
   "outputs": [],
   "source": [
    "alt.Chart(gnut).mark_line().encode(\n",
    "    x='Year',\n",
    "    y=('Production')\n",
    ").properties(\n",
    "    title='Groundnut production in Punjab from 1997-2020')"
   ]
  },
  {
   "cell_type": "markdown",
   "metadata": {},
   "source": [
    "![](groundnut.png)"
   ]
  },
  {
   "cell_type": "code",
   "execution_count": null,
   "metadata": {},
   "outputs": [],
   "source": [
    "##Guar seeds \n",
    "guar = pj_production[pj_production['Crop'] == 'Guar seed']\n",
    "guar.head(5)\n"
   ]
  },
  {
   "cell_type": "code",
   "execution_count": null,
   "metadata": {},
   "outputs": [],
   "source": [
    "alt.Chart(guar).mark_line().encode(\n",
    "    x='Year',\n",
    "    y=('Production')\n",
    ").properties(\n",
    "    title='Guar seed production in Punjab from 1997-2020')"
   ]
  },
  {
   "cell_type": "markdown",
   "metadata": {},
   "source": [
    "![](guar%20seed.png)"
   ]
  },
  {
   "cell_type": "code",
   "execution_count": null,
   "metadata": {},
   "outputs": [],
   "source": [
    "##Jowar \n",
    "jowar = pj_production[pj_production['Crop'] == 'Jowar']\n",
    "jowar.head(20)"
   ]
  },
  {
   "cell_type": "code",
   "execution_count": null,
   "metadata": {},
   "outputs": [],
   "source": [
    "alt.Chart(jowar).mark_line().encode(\n",
    "    x='Year',\n",
    "    y=('Production')\n",
    ").properties(\n",
    "    title='Jowar production in Punjab from 1997-2020')"
   ]
  },
  {
   "cell_type": "markdown",
   "metadata": {},
   "source": [
    "Jowar data seems flawed. After checking, it seems like jowar was produced only from 2006-2007, and 100 tonnes each time.  "
   ]
  },
  {
   "cell_type": "code",
   "execution_count": null,
   "metadata": {},
   "outputs": [],
   "source": [
    "##Linseed\n",
    "linseed = pj_production[pj_production['Crop'] == 'Linseed']\n",
    "linseed.head(5)"
   ]
  },
  {
   "cell_type": "code",
   "execution_count": null,
   "metadata": {},
   "outputs": [],
   "source": [
    "alt.Chart(linseed).mark_line().encode(\n",
    "    x='Year',\n",
    "    y=('Production')\n",
    ").properties(\n",
    "    title='Linseed production in Punjab from 1997-2020')"
   ]
  },
  {
   "cell_type": "markdown",
   "metadata": {},
   "source": [
    "![](linseed.png)"
   ]
  },
  {
   "cell_type": "markdown",
   "metadata": {},
   "source": [
    "Linseed prodcuction ended in 2006. "
   ]
  },
  {
   "cell_type": "code",
   "execution_count": null,
   "metadata": {},
   "outputs": [],
   "source": [
    "##Maize\n",
    "maize = pj_production[pj_production['Crop'] == 'Maize']\n",
    "maize.head(5)"
   ]
  },
  {
   "cell_type": "code",
   "execution_count": null,
   "metadata": {},
   "outputs": [],
   "source": [
    "alt.Chart(maize).mark_line().encode(\n",
    "    x='Year',\n",
    "    y=('Production')\n",
    ").properties(\n",
    "    title='Maize production in Punjab from 1997-2020')"
   ]
  },
  {
   "cell_type": "markdown",
   "metadata": {},
   "source": [
    "![](maize.png)"
   ]
  },
  {
   "cell_type": "code",
   "execution_count": null,
   "metadata": {},
   "outputs": [],
   "source": [
    "#Masoor\n",
    "masoor = pj_production[pj_production['Crop'] == 'Masoor']\n",
    "masoor.head(5)\n"
   ]
  },
  {
   "cell_type": "code",
   "execution_count": null,
   "metadata": {},
   "outputs": [],
   "source": [
    "alt.Chart(masoor).mark_line().encode(\n",
    "    x='Year',\n",
    "    y=('Production')\n",
    ").properties(\n",
    "    title='Masoor production in Punjab from 1997-2020')"
   ]
  },
  {
   "cell_type": "markdown",
   "metadata": {},
   "source": [
    "![](masoor.png)"
   ]
  },
  {
   "cell_type": "markdown",
   "metadata": {},
   "source": [
    "Masoor is a dal or a legume crop. "
   ]
  },
  {
   "cell_type": "code",
   "execution_count": null,
   "metadata": {},
   "outputs": [],
   "source": [
    "moong = pj_production[pj_production['Crop'] == 'Moong(Green Gram)']\n",
    "moong.head(5)"
   ]
  },
  {
   "cell_type": "code",
   "execution_count": null,
   "metadata": {},
   "outputs": [],
   "source": [
    "alt.Chart(moong).mark_line().encode(\n",
    "    x='Year',\n",
    "    y=('Production')\n",
    ").properties(\n",
    "    title='Moong (green gram) production in Punjab from 1997-2020')"
   ]
  },
  {
   "cell_type": "markdown",
   "metadata": {},
   "source": [
    "![](moong.png)"
   ]
  },
  {
   "cell_type": "markdown",
   "metadata": {},
   "source": [
    "Moong production seems to be reviving. "
   ]
  },
  {
   "cell_type": "code",
   "execution_count": null,
   "metadata": {},
   "outputs": [],
   "source": [
    "#Moth\n",
    "moth = pj_production[pj_production['Crop'] == 'Moth']\n",
    "moth.head(20)\n"
   ]
  },
  {
   "cell_type": "code",
   "execution_count": null,
   "metadata": {},
   "outputs": [],
   "source": [
    "alt.Chart(moth).mark_line().encode(\n",
    "    x='Year',\n",
    "    y=('Production')\n",
    ").properties(\n",
    "    title='Moth production in Punjab from 1997-2020')"
   ]
  },
  {
   "cell_type": "markdown",
   "metadata": {},
   "source": [
    "![](moth.png)"
   ]
  },
  {
   "cell_type": "markdown",
   "metadata": {},
   "source": [
    "Moth was grown only from 2000-2006. "
   ]
  },
  {
   "cell_type": "code",
   "execution_count": null,
   "metadata": {},
   "outputs": [],
   "source": [
    "#Other Rabi Pulses - rabi is the winter cropping season\n",
    "rabi = pj_production[pj_production['Crop'] == 'Other Rabi pulses']\n",
    "rabi.head(5)"
   ]
  },
  {
   "cell_type": "markdown",
   "metadata": {},
   "source": [
    "Only 2000 year has this dataset recorded. "
   ]
  },
  {
   "cell_type": "code",
   "execution_count": null,
   "metadata": {},
   "outputs": [],
   "source": [
    "#Peas and beans\n",
    "pb = pj_production[pj_production['Crop'] == 'Peas & beans (Pulses)']\n",
    "pb.head(5)"
   ]
  },
  {
   "cell_type": "code",
   "execution_count": null,
   "metadata": {},
   "outputs": [],
   "source": [
    "alt.Chart(pb).mark_line().encode(\n",
    "    x='Year',\n",
    "    y=('Production')\n",
    ").properties(\n",
    "    title='Peas and beans production in Punjab from 1997-2020')"
   ]
  },
  {
   "cell_type": "markdown",
   "metadata": {},
   "source": [
    "![](peas%20and%20beans.png)"
   ]
  },
  {
   "cell_type": "code",
   "execution_count": null,
   "metadata": {},
   "outputs": [],
   "source": [
    "#Rapeseed and mustard\n",
    "rm = pj_production[pj_production['Crop'] == 'Rapeseed &Mustard']\n",
    "rm.head(5)"
   ]
  },
  {
   "cell_type": "code",
   "execution_count": null,
   "metadata": {},
   "outputs": [],
   "source": [
    "alt.Chart(rm).mark_line().encode(\n",
    "    x='Year',\n",
    "    y=('Production')\n",
    ").properties(\n",
    "    title='Rapeseed & mustard production in Punjab from 1997-2020')"
   ]
  },
  {
   "cell_type": "markdown",
   "metadata": {},
   "source": [
    "![](rapeseed%20and%20mustard.png)"
   ]
  },
  {
   "cell_type": "code",
   "execution_count": null,
   "metadata": {},
   "outputs": [],
   "source": [
    "#Sesamum\n",
    "ses = pj_production[pj_production['Crop'] == 'Sesamum']\n",
    "ses.head(5)"
   ]
  },
  {
   "cell_type": "code",
   "execution_count": null,
   "metadata": {},
   "outputs": [],
   "source": [
    "alt.Chart(ses).mark_line().encode(\n",
    "    x='Year',\n",
    "    y=('Production')\n",
    ").properties(\n",
    "    title='Sesamum production in Punjab from 1997-2020')"
   ]
  },
  {
   "cell_type": "markdown",
   "metadata": {},
   "source": [
    "![](sesamum.png)"
   ]
  },
  {
   "cell_type": "code",
   "execution_count": null,
   "metadata": {},
   "outputs": [],
   "source": [
    "##Sugarcane\n",
    "sugarcane = pj_production[pj_production['Crop'] == 'Sugarcane']\n",
    "sugarcane.head(5)"
   ]
  },
  {
   "cell_type": "code",
   "execution_count": null,
   "metadata": {},
   "outputs": [],
   "source": [
    "alt.Chart(sugarcane).mark_line().encode(\n",
    "    x='Year',\n",
    "    y=('Production')\n",
    ").properties(\n",
    "    title='Sugarcane production in Punjab from 1997-2020')"
   ]
  },
  {
   "cell_type": "markdown",
   "metadata": {},
   "source": [
    "![](sugarcane.png)"
   ]
  },
  {
   "cell_type": "code",
   "execution_count": null,
   "metadata": {},
   "outputs": [],
   "source": [
    "##Sunflower\n",
    "sunflower = pj_production[pj_production['Crop'] == 'Sunflower']\n",
    "sunflower.head(5)"
   ]
  },
  {
   "cell_type": "markdown",
   "metadata": {},
   "source": [
    "This is an incomplete dataset. "
   ]
  },
  {
   "cell_type": "code",
   "execution_count": null,
   "metadata": {},
   "outputs": [],
   "source": [
    "alt.Chart(sunflower).mark_line().encode(\n",
    "    x='Year',\n",
    "    y=('Production')\n",
    ").properties(\n",
    "    title='Sunflower production in Punjab from 1997-2020')"
   ]
  },
  {
   "cell_type": "markdown",
   "metadata": {},
   "source": [
    "![](sunflower.png)"
   ]
  },
  {
   "cell_type": "code",
   "execution_count": null,
   "metadata": {},
   "outputs": [],
   "source": [
    "##Urad dal\n",
    "urad = pj_production[pj_production['Crop'] == 'Urad']\n",
    "urad.head(5)\n"
   ]
  },
  {
   "cell_type": "markdown",
   "metadata": {},
   "source": [
    "Certain years' data is missing from this list. "
   ]
  },
  {
   "cell_type": "code",
   "execution_count": null,
   "metadata": {},
   "outputs": [],
   "source": [
    "alt.Chart(urad).mark_line().encode(\n",
    "    x='Year',\n",
    "    y=('Production')\n",
    ").properties(\n",
    "    title='Urad production in Punjab from 1997-2020')"
   ]
  },
  {
   "cell_type": "markdown",
   "metadata": {},
   "source": [
    "![](urad.png)"
   ]
  },
  {
   "cell_type": "code",
   "execution_count": null,
   "metadata": {},
   "outputs": [],
   "source": [
    "##other oilseeds \n",
    "oilseeds = pj_production[pj_production['Crop'] == 'other oilseeds']\n",
    "oilseeds.head(5)"
   ]
  },
  {
   "cell_type": "markdown",
   "metadata": {},
   "source": [
    "Incomplete data, only recorded for 2019. "
   ]
  },
  {
   "cell_type": "markdown",
   "metadata": {},
   "source": [
    "## Conclusion\n",
    "Between 2015-2020, we see a declining production of various crops, especially the major ones: rice and wheat. Since the trajectory of rice and wheat production fluctuates a lot, this could be a temporary slow down before it picks up and exceeds previous years'. \n",
    "\n",
    "#### Rice\n",
    "\n",
    "Even though most districts in Punjab are witnessing declining production of rice, its cumulative production value has only increased with time, with a slight decline occuring from 2017 onwards. \n",
    "\n",
    "The increase in the cultivation of paddy over the decades has had serious environmental effects. Seen in relation with the production of other crop types, it is evident that over the years Punjab farmers shifted away from more diverse crop production to wheat/rice. News articles also suggest that increase of landholding sizes, farm mechanizations, etc, (there could be other factors, such as the fact that the government provides minimum support prices for rice and wheat) have led to a monoculture-type trend in Punjab. This began with the Green Revolution when genetically modified seeds for rice and other crops were introduced in the state. We see today how this decades long practice of cultivating paddy has contributed to the declining ground water tables (as paddy is a water intensive crop) to increase in stubble burning, which directly impacts the air quality of the northern plains (though, this is not the only contributing factor of the increasing air pollution, especially in a densely populated city like Delhi with millions of cars, dust, construction work, industrial output, etc). \n",
    "We see a sharp decline in the cultivation and production of other crops over the decades, such as: arahar/tur, barley, cotton, gram, groundnut, guar seed, linseed, maize (this one has been declining steadly but not as sharply as others), masoor, moong (saw a sharp decline, and its production has increased sharply since 2016), moth, peas & beans, rapeseed and mustard (slight decline over the past decade or so), sesamum, sugarcane (like moong, its production declined sharply and revived from 2008 onwards - it is not on a slow decline, like rice and wheat), sunflower, and urad.\n",
    "There are a few unique cases, as mentioned, where the production levels declined or tanked in the noughts, and is now reviving: moong, rapeseed and mustard, sugarcane. \n",
    " "
   ]
  }
 ],
 "metadata": {
  "kernelspec": {
   "display_name": "Python 3.10.1 64-bit",
   "language": "python",
   "name": "python3"
  },
  "language_info": {
   "codemirror_mode": {
    "name": "ipython",
    "version": 3
   },
   "file_extension": ".py",
   "mimetype": "text/x-python",
   "name": "python",
   "nbconvert_exporter": "python",
   "pygments_lexer": "ipython3",
   "version": "3.10.1"
  },
  "orig_nbformat": 4,
  "vscode": {
   "interpreter": {
    "hash": "aee8b7b246df8f9039afb4144a1f6fd8d2ca17a180786b69acc140d282b71a49"
   }
  }
 },
 "nbformat": 4,
 "nbformat_minor": 2
}
